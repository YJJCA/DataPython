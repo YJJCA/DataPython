{
 "cells": [
  {
   "cell_type": "code",
   "execution_count": 40,
   "metadata": {},
   "outputs": [],
   "source": [
    "import datetime\n",
    "import numpy as np\n",
    "import pandas as pd\n",
    "import plotly.graph_objects as go\n",
    "from ipywidgets import widgets"
   ]
  },
  {
   "cell_type": "markdown",
   "metadata": {},
   "source": [
    " Import the data‘Flights dataset.csv’"
   ]
  },
  {
   "cell_type": "code",
   "execution_count": 41,
   "metadata": {},
   "outputs": [],
   "source": [
    "df = pd.read_csv( 'Flights dataset.csv')"
   ]
  },
  {
   "cell_type": "markdown",
   "metadata": {},
   "source": [
    "Set the range of days in December"
   ]
  },
  {
   "cell_type": "code",
   "execution_count": 42,
   "metadata": {},
   "outputs": [],
   "source": [
    "day_of_month = widgets.IntSlider(\n",
    "    value=1.0,\n",
    "    min=1.0,\n",
    "    max=31.0,\n",
    "    step=1.0,\n",
    "    description='Day:',\n",
    "    continuous_update=False\n",
    ")"
   ]
  },
  {
   "cell_type": "markdown",
   "metadata": {},
   "source": [
    "Set option box"
   ]
  },
  {
   "cell_type": "code",
   "execution_count": 43,
   "metadata": {},
   "outputs": [],
   "source": [
    "use_date = widgets.Checkbox(\n",
    "    description='December 2009: ',\n",
    "    value=True,\n",
    ")"
   ]
  },
  {
   "cell_type": "raw",
   "metadata": {},
   "source": [
    "set container of date"
   ]
  },
  {
   "cell_type": "code",
   "execution_count": 44,
   "metadata": {},
   "outputs": [],
   "source": [
    "container = widgets.HBox(children=[use_date, day_of_month])"
   ]
  },
  {
   "cell_type": "markdown",
   "metadata": {},
   "source": [
    "Set the drop-down box about the origin"
   ]
  },
  {
   "cell_type": "code",
   "execution_count": 45,
   "metadata": {},
   "outputs": [],
   "source": [
    "origin = widgets.Dropdown(\n",
    "    options=list(df['ORIGIN'].unique()),\n",
    "    value='ATL',\n",
    "    description='Origin Airport:',\n",
    ")"
   ]
  },
  {
   "cell_type": "markdown",
   "metadata": {},
   "source": [
    "set trace1 for Cancelled Rate and set trace1 for Departure Delay Rate"
   ]
  },
  {
   "cell_type": "code",
   "execution_count": 46,
   "metadata": {},
   "outputs": [],
   "source": [
    "dff=df.groupby('CARRIER').CANCELLED.mean().round(2)\n",
    "trace1 = go.Scatter(x=dff.index,y=dff.values, name='Cancelled Rate')\n",
    "\n",
    "df['DEP_DELAY'] = np.where(df['DEP_DELAY']>0,1,0)\n",
    "dff2=df.groupby('CARRIER').DEP_DELAY.mean().round(2)\n",
    "\n",
    "trace2 = go.Scatter(x=dff2.index,y=dff2.values, name='Departure Delay Rate')\n",
    "g = go.FigureWidget(data=[trace1, trace2],\n",
    "                    layout=go.Layout(\n",
    "                        title=dict(\n",
    "                            text='Cancelled Rate & Departure Delay Rate of U.S. flights in December 2009',\n",
    "                            y=0.85,\n",
    "                            x=0.435,\n",
    "                            xanchor= 'center',\n",
    "                            yanchor= 'top'),\n",
    "                        barmode='overlay'\n",
    "                    ))"
   ]
  },
  {
   "cell_type": "markdown",
   "metadata": {},
   "source": [
    "Define response function and use observe function to control the properties.\n",
    "When the value of these properties changes, the response function will be recalled\n",
    "and a set of data will be imported as the response variable."
   ]
  },
  {
   "cell_type": "code",
   "execution_count": 47,
   "metadata": {},
   "outputs": [],
   "source": [
    "def validate():\n",
    "    if origin.value in df['ORIGIN'].unique():\n",
    "        return True\n",
    "    else:\n",
    "        return False\n",
    "\n",
    "\n",
    "def response(change):\n",
    "    if validate():\n",
    "        if use_date.value:\n",
    "            filter_list = [i and j for i, j in\n",
    "                           zip(df['DAY_OF_MONTH'] == day_of_month.value,\n",
    "                               df['ORIGIN'] == origin.value)]\n",
    "            temp_df = df[filter_list]\n",
    "        else:\n",
    "            filter_list = [i for i in df['ORIGIN'] == origin.value]\n",
    "            temp_df = df[filter_list]\n",
    "        x1 = temp_df.groupby('CARRIER').CANCELLED.mean().round(2).index\n",
    "        y1 = temp_df.groupby('CARRIER').CANCELLED.mean().round(2).values\n",
    "        temp_df['DEP_DELAY'] = np.where(temp_df['DEP_DELAY']>0,1,0)\n",
    "        x2 = temp_df.groupby('CARRIER').DEP_DELAY.mean().round(2).index\n",
    "        y2 = temp_df.groupby('CARRIER').DEP_DELAY.mean().round(2).values\n",
    "        with g.batch_update():\n",
    "            g.data[0].x = x1\n",
    "            g.data[0].y = y1\n",
    "            g.data[1].x = x2\n",
    "            g.data[1].y = y2\n",
    "            g.layout.xaxis.title = 'CARRIER'\n",
    "            g.layout.yaxis.title = 'RATE'\n",
    "\n",
    "origin.observe(response, names=\"value\")\n",
    "day_of_month.observe(response, names=\"value\")\n",
    "use_date.observe(response, names=\"value\")"
   ]
  },
  {
   "cell_type": "markdown",
   "metadata": {},
   "source": [
    "Show the final interactive diagram"
   ]
  },
  {
   "cell_type": "code",
   "execution_count": 48,
   "metadata": {},
   "outputs": [
    {
     "data": {
      "application/vnd.jupyter.widget-view+json": {
       "model_id": "8a76e54d51844bbd9dc29d6a4a41718b",
       "version_major": 2,
       "version_minor": 0
      },
      "text/plain": [
       "VBox(children=(HBox(children=(Checkbox(value=True, description='December 2009: '), IntSlider(value=1, continuo…"
      ]
     },
     "metadata": {},
     "output_type": "display_data"
    }
   ],
   "source": [
    "container2 = widgets.HBox([origin])\n",
    "widgets.VBox([container,\n",
    "              container2,\n",
    "              g])"
   ]
  },
  {
   "cell_type": "code",
   "execution_count": null,
   "metadata": {},
   "outputs": [],
   "source": []
  }
 ],
 "metadata": {
  "kernelspec": {
   "display_name": "Python 3",
   "language": "python",
   "name": "python3"
  },
  "language_info": {
   "codemirror_mode": {
    "name": "ipython",
    "version": 3
   },
   "file_extension": ".py",
   "mimetype": "text/x-python",
   "name": "python",
   "nbconvert_exporter": "python",
   "pygments_lexer": "ipython3",
   "version": "3.8.5"
  }
 },
 "nbformat": 4,
 "nbformat_minor": 4
}
