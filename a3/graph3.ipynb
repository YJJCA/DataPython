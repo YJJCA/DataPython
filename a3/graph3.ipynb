{
 "cells": [
  {
   "cell_type": "code",
   "execution_count": 4,
   "metadata": {},
   "outputs": [
    {
     "data": {
      "application/vnd.plotly.v1+json": {
       "config": {
        "plotlyServerURL": "https://plot.ly"
       },
       "data": [
        {
         "marker": {
          "size": [
           190,
           1236,
           1972,
           813,
           641,
           1121,
           920,
           551
          ],
          "sizemode": "area",
          "sizeref": 5
         },
         "mode": "markers",
         "name": "AA",
         "text": [
          "AUS",
          "ELP",
          "PHX",
          "DFW",
          "DFW",
          "DFW",
          "MIA",
          "DFW"
         ],
         "type": "scatter",
         "x": [
          38,
          148,
          226,
          114,
          89,
          139,
          122,
          74
         ],
         "y": [
          622,
          391,
          288,
          268,
          252,
          249,
          209,
          196
         ]
        },
        {
         "marker": {
          "size": [
           349,
           501
          ],
          "sizemode": "area",
          "sizeref": 5
         },
         "mode": "markers",
         "name": "NW",
         "text": [
          "MSY",
          "LGA"
         ],
         "type": "scatter",
         "x": [
          49,
          89
         ],
         "y": [
          347,
          244
         ]
        },
        {
         "marker": {
          "size": [],
          "sizemode": "area",
          "sizeref": 5
         },
         "mode": "markers",
         "name": "FL",
         "text": [],
         "type": "scatter",
         "x": [],
         "y": []
        },
        {
         "marker": {
          "size": [],
          "sizemode": "area",
          "sizeref": 5
         },
         "mode": "markers",
         "name": "MQ",
         "text": [],
         "type": "scatter",
         "x": [],
         "y": []
        },
        {
         "marker": {
          "size": [
           398
          ],
          "sizemode": "area",
          "sizeref": 5
         },
         "mode": "markers",
         "name": "9E",
         "text": [
          "AVP"
         ],
         "type": "scatter",
         "x": [
          73
         ],
         "y": [
          337
         ]
        },
        {
         "marker": {
          "size": [
           2454,
           1379
          ],
          "sizemode": "area",
          "sizeref": 5
         },
         "mode": "markers",
         "name": "CO",
         "text": [
          "EWR",
          "LAX"
         ],
         "type": "scatter",
         "x": [
          369,
          180
         ],
         "y": [
          196,
          184
         ]
        },
        {
         "marker": {
          "size": [],
          "sizemode": "area",
          "sizeref": 5
         },
         "mode": "markers",
         "name": "OO",
         "text": [],
         "type": "scatter",
         "x": [],
         "y": []
        },
        {
         "marker": {
          "size": [
           590
          ],
          "sizemode": "area",
          "sizeref": 5
         },
         "mode": "markers",
         "name": "DL",
         "text": [
          "MDW"
         ],
         "type": "scatter",
         "x": [
          88
         ],
         "y": [
          335
         ]
        },
        {
         "marker": {
          "size": [],
          "sizemode": "area",
          "sizeref": 5
         },
         "mode": "markers",
         "name": "AS",
         "text": [],
         "type": "scatter",
         "x": [],
         "y": []
        },
        {
         "marker": {
          "size": [
           992,
           646
          ],
          "sizemode": "area",
          "sizeref": 5
         },
         "mode": "markers",
         "name": "US",
         "text": [
          "FLL",
          "ALB"
         ],
         "type": "scatter",
         "x": [
          132,
          101
         ],
         "y": [
          440,
          418
         ]
        },
        {
         "marker": {
          "size": [
           967
          ],
          "sizemode": "area",
          "sizeref": 5
         },
         "mode": "markers",
         "name": "UA",
         "text": [
          "SFO"
         ],
         "type": "scatter",
         "x": [
          115
         ],
         "y": [
          239
         ]
        },
        {
         "marker": {
          "size": [
           431,
           834
          ],
          "sizemode": "area",
          "sizeref": 5
         },
         "mode": "markers",
         "name": "OH",
         "text": [
          "RDU",
          "LGA"
         ],
         "type": "scatter",
         "x": [
          62,
          124
         ],
         "y": [
          223,
          186
         ]
        },
        {
         "marker": {
          "size": [
           668
          ],
          "sizemode": "area",
          "sizeref": 5
         },
         "mode": "markers",
         "name": "XE",
         "text": [
          "STL"
         ],
         "type": "scatter",
         "x": [
          151
         ],
         "y": [
          283
         ]
        },
        {
         "marker": {
          "size": [],
          "sizemode": "area",
          "sizeref": 5
         },
         "mode": "markers",
         "name": "F9",
         "text": [],
         "type": "scatter",
         "x": [],
         "y": []
        },
        {
         "marker": {
          "size": [
           599
          ],
          "sizemode": "area",
          "sizeref": 5
         },
         "mode": "markers",
         "name": "YV",
         "text": [
          "CLT"
         ],
         "type": "scatter",
         "x": [
          85
         ],
         "y": [
          227
         ]
        },
        {
         "marker": {
          "size": [
           321
          ],
          "sizemode": "area",
          "sizeref": 5
         },
         "mode": "markers",
         "name": "EV",
         "text": [
          "SDF"
         ],
         "type": "scatter",
         "x": [
          56
         ],
         "y": [
          257
         ]
        },
        {
         "marker": {
          "size": [],
          "sizemode": "area",
          "sizeref": 5
         },
         "mode": "markers",
         "name": "HA",
         "text": [],
         "type": "scatter",
         "x": [],
         "y": []
        },
        {
         "marker": {
          "size": [],
          "sizemode": "area",
          "sizeref": 5
         },
         "mode": "markers",
         "name": "B6",
         "text": [],
         "type": "scatter",
         "x": [],
         "y": []
        },
        {
         "marker": {
          "size": [
           276,
           276,
           781
          ],
          "sizemode": "area",
          "sizeref": 5
         },
         "mode": "markers",
         "name": "WN",
         "text": [
          "HRL",
          "HOU",
          "HOU"
         ],
         "type": "scatter",
         "x": [
          52,
          55,
          111
         ],
         "y": [
          360,
          255,
          240
         ]
        }
       ],
       "frames": [
        {
         "data": [
          {
           "marker": {
            "size": [
             190,
             1236,
             1972,
             813,
             641,
             1121,
             920,
             551
            ],
            "sizemode": "area",
            "sizeref": 5
           },
           "mode": "markers",
           "name": "AA",
           "text": [
            "AUS",
            "ELP",
            "PHX",
            "DFW",
            "DFW",
            "DFW",
            "MIA",
            "DFW"
           ],
           "type": "scatter",
           "x": [
            38,
            148,
            226,
            114,
            89,
            139,
            122,
            74
           ],
           "y": [
            622,
            391,
            288,
            268,
            252,
            249,
            209,
            196
           ]
          },
          {
           "marker": {
            "size": [
             349,
             501
            ],
            "sizemode": "area",
            "sizeref": 5
           },
           "mode": "markers",
           "name": "NW",
           "text": [
            "MSY",
            "LGA"
           ],
           "type": "scatter",
           "x": [
            49,
            89
           ],
           "y": [
            347,
            244
           ]
          },
          {
           "marker": {
            "size": [],
            "sizemode": "area",
            "sizeref": 5
           },
           "mode": "markers",
           "name": "FL",
           "text": [],
           "type": "scatter",
           "x": [],
           "y": []
          },
          {
           "marker": {
            "size": [],
            "sizemode": "area",
            "sizeref": 5
           },
           "mode": "markers",
           "name": "MQ",
           "text": [],
           "type": "scatter",
           "x": [],
           "y": []
          },
          {
           "marker": {
            "size": [
             398
            ],
            "sizemode": "area",
            "sizeref": 5
           },
           "mode": "markers",
           "name": "9E",
           "text": [
            "AVP"
           ],
           "type": "scatter",
           "x": [
            73
           ],
           "y": [
            337
           ]
          },
          {
           "marker": {
            "size": [
             2454,
             1379
            ],
            "sizemode": "area",
            "sizeref": 5
           },
           "mode": "markers",
           "name": "CO",
           "text": [
            "EWR",
            "LAX"
           ],
           "type": "scatter",
           "x": [
            369,
            180
           ],
           "y": [
            196,
            184
           ]
          },
          {
           "marker": {
            "size": [],
            "sizemode": "area",
            "sizeref": 5
           },
           "mode": "markers",
           "name": "OO",
           "text": [],
           "type": "scatter",
           "x": [],
           "y": []
          },
          {
           "marker": {
            "size": [
             590
            ],
            "sizemode": "area",
            "sizeref": 5
           },
           "mode": "markers",
           "name": "DL",
           "text": [
            "MDW"
           ],
           "type": "scatter",
           "x": [
            88
           ],
           "y": [
            335
           ]
          },
          {
           "marker": {
            "size": [],
            "sizemode": "area",
            "sizeref": 5
           },
           "mode": "markers",
           "name": "AS",
           "text": [],
           "type": "scatter",
           "x": [],
           "y": []
          },
          {
           "marker": {
            "size": [
             992,
             646
            ],
            "sizemode": "area",
            "sizeref": 5
           },
           "mode": "markers",
           "name": "US",
           "text": [
            "FLL",
            "ALB"
           ],
           "type": "scatter",
           "x": [
            132,
            101
           ],
           "y": [
            440,
            418
           ]
          },
          {
           "marker": {
            "size": [
             967
            ],
            "sizemode": "area",
            "sizeref": 5
           },
           "mode": "markers",
           "name": "UA",
           "text": [
            "SFO"
           ],
           "type": "scatter",
           "x": [
            115
           ],
           "y": [
            239
           ]
          },
          {
           "marker": {
            "size": [
             431,
             834
            ],
            "sizemode": "area",
            "sizeref": 5
           },
           "mode": "markers",
           "name": "OH",
           "text": [
            "RDU",
            "LGA"
           ],
           "type": "scatter",
           "x": [
            62,
            124
           ],
           "y": [
            223,
            186
           ]
          },
          {
           "marker": {
            "size": [
             668
            ],
            "sizemode": "area",
            "sizeref": 5
           },
           "mode": "markers",
           "name": "XE",
           "text": [
            "STL"
           ],
           "type": "scatter",
           "x": [
            151
           ],
           "y": [
            283
           ]
          },
          {
           "marker": {
            "size": [],
            "sizemode": "area",
            "sizeref": 5
           },
           "mode": "markers",
           "name": "F9",
           "text": [],
           "type": "scatter",
           "x": [],
           "y": []
          },
          {
           "marker": {
            "size": [
             599
            ],
            "sizemode": "area",
            "sizeref": 5
           },
           "mode": "markers",
           "name": "YV",
           "text": [
            "CLT"
           ],
           "type": "scatter",
           "x": [
            85
           ],
           "y": [
            227
           ]
          },
          {
           "marker": {
            "size": [
             321
            ],
            "sizemode": "area",
            "sizeref": 5
           },
           "mode": "markers",
           "name": "EV",
           "text": [
            "SDF"
           ],
           "type": "scatter",
           "x": [
            56
           ],
           "y": [
            257
           ]
          },
          {
           "marker": {
            "size": [],
            "sizemode": "area",
            "sizeref": 5
           },
           "mode": "markers",
           "name": "HA",
           "text": [],
           "type": "scatter",
           "x": [],
           "y": []
          },
          {
           "marker": {
            "size": [],
            "sizemode": "area",
            "sizeref": 5
           },
           "mode": "markers",
           "name": "B6",
           "text": [],
           "type": "scatter",
           "x": [],
           "y": []
          },
          {
           "marker": {
            "size": [
             276,
             276,
             781
            ],
            "sizemode": "area",
            "sizeref": 5
           },
           "mode": "markers",
           "name": "WN",
           "text": [
            "HRL",
            "HOU",
            "HOU"
           ],
           "type": "scatter",
           "x": [
            52,
            55,
            111
           ],
           "y": [
            360,
            255,
            240
           ]
          }
         ],
         "name": "1"
        },
        {
         "data": [
          {
           "marker": {
            "size": [
             224,
             1660,
             1045,
             1231,
             432,
             1372
            ],
            "sizemode": "area",
            "sizeref": 5
           },
           "mode": "markers",
           "name": "AA",
           "text": [
            "DFW",
            "SEA",
            "SJU",
            "DFW",
            "DFW",
            "DFW"
           ],
           "type": "scatter",
           "x": [
            47,
            192,
            145,
            181,
            60,
            184
           ],
           "y": [
            257,
            233,
            216,
            214,
            209,
            185
           ]
          },
          {
           "marker": {
            "size": [],
            "sizemode": "area",
            "sizeref": 5
           },
           "mode": "markers",
           "name": "NW",
           "text": [],
           "type": "scatter",
           "x": [],
           "y": []
          },
          {
           "marker": {
            "size": [
             535,
             361,
             272
            ],
            "sizemode": "area",
            "sizeref": 5
           },
           "mode": "markers",
           "name": "FL",
           "text": [
            "BKG",
            "CLT",
            "ATL"
           ],
           "type": "scatter",
           "x": [
            73,
            59,
            57
           ],
           "y": [
            335,
            327,
            225
           ]
          },
          {
           "marker": {
            "size": [
             482,
             444
            ],
            "sizemode": "area",
            "sizeref": 5
           },
           "mode": "markers",
           "name": "MQ",
           "text": [
            "BRO",
            "CRW"
           ],
           "type": "scatter",
           "x": [
            76,
            71
           ],
           "y": [
            347,
            312
           ]
          },
          {
           "marker": {
            "size": [
             342,
             634,
             133
            ],
            "sizemode": "area",
            "sizeref": 5
           },
           "mode": "markers",
           "name": "9E",
           "text": [
            "TUL",
            "MEM",
            "CAK"
           ],
           "type": "scatter",
           "x": [
            61,
            80,
            31
           ],
           "y": [
            341,
            261,
            231
           ]
          },
          {
           "marker": {
            "size": [
             861
            ],
            "sizemode": "area",
            "sizeref": 5
           },
           "mode": "markers",
           "name": "CO",
           "text": [
            "DEN"
           ],
           "type": "scatter",
           "x": [
            109
           ],
           "y": [
            481
           ]
          },
          {
           "marker": {
            "size": [
             451
            ],
            "sizemode": "area",
            "sizeref": 5
           },
           "mode": "markers",
           "name": "OO",
           "text": [
            "TUS"
           ],
           "type": "scatter",
           "x": [
            68
           ],
           "y": [
            287
           ]
          },
          {
           "marker": {
            "size": [
             215
            ],
            "sizemode": "area",
            "sizeref": 5
           },
           "mode": "markers",
           "name": "DL",
           "text": [
            "SAV"
           ],
           "type": "scatter",
           "x": [
            55
           ],
           "y": [
            230
           ]
          },
          {
           "marker": {
            "size": [
             1533,
             549
            ],
            "sizemode": "area",
            "sizeref": 5
           },
           "mode": "markers",
           "name": "AS",
           "text": [
            "FAI",
            "OTZ"
           ],
           "type": "scatter",
           "x": [
            204,
            77
           ],
           "y": [
            412,
            265
           ]
          },
          {
           "marker": {
            "size": [
             1788,
             304,
             2279
            ],
            "sizemode": "area",
            "sizeref": 5
           },
           "mode": "markers",
           "name": "US",
           "text": [
            "TPA",
            "SAN",
            "CLT"
           ],
           "type": "scatter",
           "x": [
            248,
            52,
            293
           ],
           "y": [
            336,
            285,
            268
           ]
          },
          {
           "marker": {
            "size": [
             612
            ],
            "sizemode": "area",
            "sizeref": 5
           },
           "mode": "markers",
           "name": "UA",
           "text": [
            "DCA"
           ],
           "type": "scatter",
           "x": [
            88
           ],
           "y": [
            233
           ]
          },
          {
           "marker": {
            "size": [
             932
            ],
            "sizemode": "area",
            "sizeref": 5
           },
           "mode": "markers",
           "name": "OH",
           "text": [
            "CVG"
           ],
           "type": "scatter",
           "x": [
            134
           ],
           "y": [
            199
           ]
          },
          {
           "marker": {
            "size": [],
            "sizemode": "area",
            "sizeref": 5
           },
           "mode": "markers",
           "name": "XE",
           "text": [],
           "type": "scatter",
           "x": [],
           "y": []
          },
          {
           "marker": {
            "size": [
             1506
            ],
            "sizemode": "area",
            "sizeref": 5
           },
           "mode": "markers",
           "name": "F9",
           "text": [
            "DEN"
           ],
           "type": "scatter",
           "x": [
            181
           ],
           "y": [
            319
           ]
          },
          {
           "marker": {
            "size": [
             224,
             599,
             666
            ],
            "sizemode": "area",
            "sizeref": 5
           },
           "mode": "markers",
           "name": "YV",
           "text": [
            "TVC",
            "CLT",
            "ORD"
           ],
           "type": "scatter",
           "x": [
            57,
            89,
            102
           ],
           "y": [
            433,
            268,
            198
           ]
          },
          {
           "marker": {
            "size": [
             393,
             366,
             171,
             151,
             147,
             134,
             106,
             341,
             331,
             143,
             357,
             317,
             106,
             443,
             366,
             164,
             143,
             152,
             215,
             147,
             146,
             331
            ],
            "sizemode": "area",
            "sizeref": 5
           },
           "mode": "markers",
           "name": "EV",
           "text": [
            "FLL",
            "DAB",
            "ATL",
            "HSV",
            "MGM",
            "ATL",
            "ATL",
            "JAN",
            "FAY",
            "AGS",
            "ROA",
            "MYR",
            "CHA",
            "MLB",
            "DAB",
            "AVL",
            "AGS",
            "TYS",
            "SAV",
            "MGM",
            "ABY",
            "FAY"
           ],
           "type": "scatter",
           "x": [
            64,
            63,
            33,
            51,
            41,
            27,
            23,
            55,
            80,
            50,
            73,
            78,
            48,
            100,
            98,
            42,
            34,
            38,
            68,
            39,
            43,
            94
           ],
           "y": [
            366,
            320,
            285,
            266,
            265,
            263,
            257,
            237,
            236,
            235,
            233,
            231,
            230,
            229,
            224,
            219,
            206,
            197,
            193,
            186,
            185,
            183
           ]
          },
          {
           "marker": {
            "size": [],
            "sizemode": "area",
            "sizeref": 5
           },
           "mode": "markers",
           "name": "HA",
           "text": [],
           "type": "scatter",
           "x": [],
           "y": []
          },
          {
           "marker": {
            "size": [
             944,
             1504
            ],
            "sizemode": "area",
            "sizeref": 5
           },
           "mode": "markers",
           "name": "B6",
           "text": [
            "MCO",
            "AUS"
           ],
           "type": "scatter",
           "x": [
            115,
            212
           ],
           "y": [
            258,
            249
           ]
          },
          {
           "marker": {
            "size": [
             602,
             680,
             587,
             461
            ],
            "sizemode": "area",
            "sizeref": 5
           },
           "mode": "markers",
           "name": "WN",
           "text": [
            "DEN",
            "MSP",
            "RDU",
            "DAL"
           ],
           "type": "scatter",
           "x": [
            88,
            101,
            99,
            62
           ],
           "y": [
            291,
            223,
            212,
            197
           ]
          }
         ],
         "name": "2"
        },
        {
         "data": [
          {
           "marker": {
            "size": [
             1576,
             1097,
             1045
            ],
            "sizemode": "area",
            "sizeref": 5
           },
           "mode": "markers",
           "name": "AA",
           "text": [
            "PHL",
            "LGA",
            "MIA"
           ],
           "type": "scatter",
           "x": [
            206,
            170,
            124
           ],
           "y": [
            352,
            332,
            231
           ]
          },
          {
           "marker": {
            "size": [],
            "sizemode": "area",
            "sizeref": 5
           },
           "mode": "markers",
           "name": "NW",
           "text": [],
           "type": "scatter",
           "x": [],
           "y": []
          },
          {
           "marker": {
            "size": [],
            "sizemode": "area",
            "sizeref": 5
           },
           "mode": "markers",
           "name": "FL",
           "text": [],
           "type": "scatter",
           "x": [],
           "y": []
          },
          {
           "marker": {
            "size": [
             812,
             922,
             67,
             412
            ],
            "sizemode": "area",
            "sizeref": 5
           },
           "mode": "markers",
           "name": "MQ",
           "text": [
            "CVG",
            "CAE",
            "MKE",
            "PIT"
           ],
           "type": "scatter",
           "x": [
            144,
            161,
            24,
            70
           ],
           "y": [
            981,
            790,
            542,
            344
           ]
          },
          {
           "marker": {
            "size": [
             285
            ],
            "sizemode": "area",
            "sizeref": 5
           },
           "mode": "markers",
           "name": "9E",
           "text": [
            "MEM"
           ],
           "type": "scatter",
           "x": [
            51
           ],
           "y": [
            227
           ]
          },
          {
           "marker": {
            "size": [],
            "sizemode": "area",
            "sizeref": 5
           },
           "mode": "markers",
           "name": "CO",
           "text": [],
           "type": "scatter",
           "x": [],
           "y": []
          },
          {
           "marker": {
            "size": [],
            "sizemode": "area",
            "sizeref": 5
           },
           "mode": "markers",
           "name": "OO",
           "text": [],
           "type": "scatter",
           "x": [],
           "y": []
          },
          {
           "marker": {
            "size": [],
            "sizemode": "area",
            "sizeref": 5
           },
           "mode": "markers",
           "name": "DL",
           "text": [],
           "type": "scatter",
           "x": [],
           "y": []
          },
          {
           "marker": {
            "size": [
             2777
            ],
            "sizemode": "area",
            "sizeref": 5
           },
           "mode": "markers",
           "name": "AS",
           "text": [
            "ANC"
           ],
           "type": "scatter",
           "x": [
            402
           ],
           "y": [
            195
           ]
          },
          {
           "marker": {
            "size": [
             304
            ],
            "sizemode": "area",
            "sizeref": 5
           },
           "mode": "markers",
           "name": "US",
           "text": [
            "SAN"
           ],
           "type": "scatter",
           "x": [
            51
           ],
           "y": [
            373
           ]
          },
          {
           "marker": {
            "size": [
             1024,
             1721
            ],
            "sizemode": "area",
            "sizeref": 5
           },
           "mode": "markers",
           "name": "UA",
           "text": [
            "DEN",
            "SEA"
           ],
           "type": "scatter",
           "x": [
            137,
            202
           ],
           "y": [
            206,
            195
           ]
          },
          {
           "marker": {
            "size": [
             740,
             289
            ],
            "sizemode": "area",
            "sizeref": 5
           },
           "mode": "markers",
           "name": "OH",
           "text": [
            "ORD",
            "ORF"
           ],
           "type": "scatter",
           "x": [
            100,
            51
           ],
           "y": [
            276,
            217
           ]
          },
          {
           "marker": {
            "size": [],
            "sizemode": "area",
            "sizeref": 5
           },
           "mode": "markers",
           "name": "XE",
           "text": [],
           "type": "scatter",
           "x": [],
           "y": []
          },
          {
           "marker": {
            "size": [],
            "sizemode": "area",
            "sizeref": 5
           },
           "mode": "markers",
           "name": "F9",
           "text": [],
           "type": "scatter",
           "x": [],
           "y": []
          },
          {
           "marker": {
            "size": [],
            "sizemode": "area",
            "sizeref": 5
           },
           "mode": "markers",
           "name": "YV",
           "text": [],
           "type": "scatter",
           "x": [],
           "y": []
          },
          {
           "marker": {
            "size": [
             147,
             214,
             164
            ],
            "sizemode": "area",
            "sizeref": 5
           },
           "mode": "markers",
           "name": "EV",
           "text": [
            "MGM",
            "BNA",
            "AVL"
           ],
           "type": "scatter",
           "x": [
            37,
            47,
            36
           ],
           "y": [
            199,
            189,
            186
           ]
          },
          {
           "marker": {
            "size": [],
            "sizemode": "area",
            "sizeref": 5
           },
           "mode": "markers",
           "name": "HA",
           "text": [],
           "type": "scatter",
           "x": [],
           "y": []
          },
          {
           "marker": {
            "size": [
             1076
            ],
            "sizemode": "area",
            "sizeref": 5
           },
           "mode": "markers",
           "name": "B6",
           "text": [
            "LGA"
           ],
           "type": "scatter",
           "x": [
            166
           ],
           "y": [
            273
           ]
          },
          {
           "marker": {
            "size": [
             373,
             451,
             1073
            ],
            "sizemode": "area",
            "sizeref": 5
           },
           "mode": "markers",
           "name": "WN",
           "text": [
            "SMF",
            "LAX",
            "ALB"
           ],
           "type": "scatter",
           "x": [
            59,
            62,
            196
           ],
           "y": [
            193,
            189,
            184
           ]
          }
         ],
         "name": "3"
        },
        {
         "data": [
          {
           "marker": {
            "size": [
             2486,
             1723,
             2585,
             190
            ],
            "sizemode": "area",
            "sizeref": 5
           },
           "mode": "markers",
           "name": "AA",
           "text": [
            "OGG",
            "SAN",
            "MIA",
            "AUS"
           ],
           "type": "scatter",
           "x": [
            280,
            212,
            345,
            42
           ],
           "y": [
            986,
            323,
            257,
            237
           ]
          },
          {
           "marker": {
            "size": [
             680
            ],
            "sizemode": "area",
            "sizeref": 5
           },
           "mode": "markers",
           "name": "NW",
           "text": [
            "DEN"
           ],
           "type": "scatter",
           "x": [
            105
           ],
           "y": [
            358
           ]
          },
          {
           "marker": {
            "size": [],
            "sizemode": "area",
            "sizeref": 5
           },
           "mode": "markers",
           "name": "FL",
           "text": [],
           "type": "scatter",
           "x": [],
           "y": []
          },
          {
           "marker": {
            "size": [
             190
            ],
            "sizemode": "area",
            "sizeref": 5
           },
           "mode": "markers",
           "name": "MQ",
           "text": [
            "SHV"
           ],
           "type": "scatter",
           "x": [
            38
           ],
           "y": [
            572
           ]
          },
          {
           "marker": {
            "size": [
             559,
             491,
             695
            ],
            "sizemode": "area",
            "sizeref": 5
           },
           "mode": "markers",
           "name": "9E",
           "text": [
            "MSN",
            "FNT",
            "MSP"
           ],
           "type": "scatter",
           "x": [
            85,
            79,
            102
           ],
           "y": [
            515,
            262,
            215
           ]
          },
          {
           "marker": {
            "size": [
             965,
             965,
             191,
             1569,
             1379
            ],
            "sizemode": "area",
            "sizeref": 5
           },
           "mode": "markers",
           "name": "CO",
           "text": [
            "FLL",
            "IAH",
            "SAT",
            "SAT",
            "LAX"
           ],
           "type": "scatter",
           "x": [
            153,
            111,
            33,
            180,
            155
           ],
           "y": [
            264,
            230,
            208,
            199,
            193
           ]
          },
          {
           "marker": {
            "size": [],
            "sizemode": "area",
            "sizeref": 5
           },
           "mode": "markers",
           "name": "OO",
           "text": [],
           "type": "scatter",
           "x": [],
           "y": []
          },
          {
           "marker": {
            "size": [
             595,
             321,
             215
            ],
            "sizemode": "area",
            "sizeref": 5
           },
           "mode": "markers",
           "name": "DL",
           "text": [
            "MIA",
            "SDF",
            "SAV"
           ],
           "type": "scatter",
           "x": [
            84,
            58,
            36
           ],
           "y": [
            230,
            219,
            207
           ]
          },
          {
           "marker": {
            "size": [],
            "sizemode": "area",
            "sizeref": 5
           },
           "mode": "markers",
           "name": "AS",
           "text": [],
           "type": "scatter",
           "x": [],
           "y": []
          },
          {
           "marker": {
            "size": [
             575,
             481
            ],
            "sizemode": "area",
            "sizeref": 5
           },
           "mode": "markers",
           "name": "US",
           "text": [
            "STL",
            "ABE"
           ],
           "type": "scatter",
           "x": [
            87,
            86
           ],
           "y": [
            413,
            377
           ]
          },
          {
           "marker": {
            "size": [
             2288
            ],
            "sizemode": "area",
            "sizeref": 5
           },
           "mode": "markers",
           "name": "UA",
           "text": [
            "LAX"
           ],
           "type": "scatter",
           "x": [
            249
           ],
           "y": [
            192
           ]
          },
          {
           "marker": {
            "size": [],
            "sizemode": "area",
            "sizeref": 5
           },
           "mode": "markers",
           "name": "OH",
           "text": [],
           "type": "scatter",
           "x": [],
           "y": []
          },
          {
           "marker": {
            "size": [],
            "sizemode": "area",
            "sizeref": 5
           },
           "mode": "markers",
           "name": "XE",
           "text": [],
           "type": "scatter",
           "x": [],
           "y": []
          },
          {
           "marker": {
            "size": [
             1476
            ],
            "sizemode": "area",
            "sizeref": 5
           },
           "mode": "markers",
           "name": "F9",
           "text": [
            "DCA"
           ],
           "type": "scatter",
           "x": [
            204
           ],
           "y": [
            260
           ]
          },
          {
           "marker": {
            "size": [
             229
            ],
            "sizemode": "area",
            "sizeref": 5
           },
           "mode": "markers",
           "name": "YV",
           "text": [
            "LGA"
           ],
           "type": "scatter",
           "x": [
            53
           ],
           "y": [
            188
           ]
          },
          {
           "marker": {
            "size": [
             781,
             247
            ],
            "sizemode": "area",
            "sizeref": 5
           },
           "mode": "markers",
           "name": "EV",
           "text": [
            "ICT",
            "PFN"
           ],
           "type": "scatter",
           "x": [
            96,
            40
           ],
           "y": [
            280,
            204
           ]
          },
          {
           "marker": {
            "size": [
             2762,
             2762,
             2762
            ],
            "sizemode": "area",
            "sizeref": 5
           },
           "mode": "markers",
           "name": "HA",
           "text": [
            "LAS",
            "LAS",
            "HNL"
           ],
           "type": "scatter",
           "x": [
            365,
            373,
            301
           ],
           "y": [
            261,
            238,
            210
           ]
          },
          {
           "marker": {
            "size": [
             1033,
             944
            ],
            "sizemode": "area",
            "sizeref": 5
           },
           "mode": "markers",
           "name": "B6",
           "text": [
            "ROC",
            "MCO"
           ],
           "type": "scatter",
           "x": [
            170,
            108
           ],
           "y": [
            429,
            265
           ]
          },
          {
           "marker": {
            "size": [
             507,
             273,
             758,
             443,
             562,
             239,
             325,
             714,
             347,
             236,
             584,
             562
            ],
            "sizemode": "area",
            "sizeref": 5
           },
           "mode": "markers",
           "name": "WN",
           "text": [
            "SLC",
            "HRL",
            "AMA",
            "BNA",
            "DAL",
            "HOU",
            "PHX",
            "ELP",
            "ELP",
            "LAS",
            "ELP",
            "DAL"
           ],
           "type": "scatter",
           "x": [
            69,
            50,
            121,
            61,
            83,
            37,
            52,
            104,
            61,
            45,
            97,
            97
           ],
           "y": [
            266,
            263,
            239,
            221,
            214,
            209,
            209,
            199,
            198,
            195,
            187,
            184
           ]
          }
         ],
         "name": "4"
        },
        {
         "data": [
          {
           "marker": {
            "size": [
             3784,
             2504,
             2556,
             2342,
             2175,
             1829,
             1086
            ],
            "sizemode": "area",
            "sizeref": 5
           },
           "mode": "markers",
           "name": "AA",
           "text": [
            "HNL",
            "KOA",
            "LAX",
            "MIA",
            "MIA",
            "SJC",
            "EWR"
           ],
           "type": "scatter",
           "x": [
            396,
            286,
            330,
            327,
            312,
            210,
            210
           ],
           "y": [
            945,
            815,
            346,
            265,
            209,
            207,
            203
           ]
          },
          {
           "marker": {
            "size": [],
            "sizemode": "area",
            "sizeref": 5
           },
           "mode": "markers",
           "name": "NW",
           "text": [],
           "type": "scatter",
           "x": [],
           "y": []
          },
          {
           "marker": {
            "size": [],
            "sizemode": "area",
            "sizeref": 5
           },
           "mode": "markers",
           "name": "FL",
           "text": [],
           "type": "scatter",
           "x": [],
           "y": []
          },
          {
           "marker": {
            "size": [
             383,
             187,
             491,
             399
            ],
            "sizemode": "area",
            "sizeref": 5
           },
           "mode": "markers",
           "name": "MQ",
           "text": [
            "BTR",
            "BOS",
            "MEM",
            "DCA"
           ],
           "type": "scatter",
           "x": [
            66,
            60,
            88,
            57
           ],
           "y": [
            403,
            313,
            240,
            234
           ]
          },
          {
           "marker": {
            "size": [
             443
            ],
            "sizemode": "area",
            "sizeref": 5
           },
           "mode": "markers",
           "name": "9E",
           "text": [
            "TYS"
           ],
           "type": "scatter",
           "x": [
            68
           ],
           "y": [
            221
           ]
          },
          {
           "marker": {
            "size": [
             643,
             191,
             964,
             1605,
             1235
            ],
            "sizemode": "area",
            "sizeref": 5
           },
           "mode": "markers",
           "name": "CO",
           "text": [
            "MCI",
            "SAT",
            "MIA",
            "DEN",
            "BWI"
           ],
           "type": "scatter",
           "x": [
            97,
            38,
            144,
            197,
            187
           ],
           "y": [
            262,
            250,
            198,
            190,
            184
           ]
          },
          {
           "marker": {
            "size": [
             575
            ],
            "sizemode": "area",
            "sizeref": 5
           },
           "mode": "markers",
           "name": "OO",
           "text": [
            "MFR"
           ],
           "type": "scatter",
           "x": [
            78
           ],
           "y": [
            329
           ]
          },
          {
           "marker": {
            "size": [
             879
            ],
            "sizemode": "area",
            "sizeref": 5
           },
           "mode": "markers",
           "name": "DL",
           "text": [
            "RSW"
           ],
           "type": "scatter",
           "x": [
            118
           ],
           "y": [
            270
           ]
          },
          {
           "marker": {
            "size": [],
            "sizemode": "area",
            "sizeref": 5
           },
           "mode": "markers",
           "name": "AS",
           "text": [],
           "type": "scatter",
           "x": [],
           "y": []
          },
          {
           "marker": {
            "size": [
             575,
             508
            ],
            "sizemode": "area",
            "sizeref": 5
           },
           "mode": "markers",
           "name": "US",
           "text": [
            "STL",
            "CLT"
           ],
           "type": "scatter",
           "x": [
            86,
            91
           ],
           "y": [
            238,
            198
           ]
          },
          {
           "marker": {
            "size": [],
            "sizemode": "area",
            "sizeref": 5
           },
           "mode": "markers",
           "name": "UA",
           "text": [],
           "type": "scatter",
           "x": [],
           "y": []
          },
          {
           "marker": {
            "size": [
             399
            ],
            "sizemode": "area",
            "sizeref": 5
           },
           "mode": "markers",
           "name": "OH",
           "text": [
            "DCA"
           ],
           "type": "scatter",
           "x": [
            78
           ],
           "y": [
            196
           ]
          },
          {
           "marker": {
            "size": [
             201,
             262,
             748,
             143
            ],
            "sizemode": "area",
            "sizeref": 5
           },
           "mode": "markers",
           "name": "XE",
           "text": [
            "CRP",
            "MLU",
            "EWR",
            "ALB"
           ],
           "type": "scatter",
           "x": [
            39,
            44,
            120,
            52
           ],
           "y": [
            275,
            208,
            192,
            185
           ]
          },
          {
           "marker": {
            "size": [],
            "sizemode": "area",
            "sizeref": 5
           },
           "mode": "markers",
           "name": "F9",
           "text": [],
           "type": "scatter",
           "x": [],
           "y": []
          },
          {
           "marker": {
            "size": [
             137,
             419,
             475
            ],
            "sizemode": "area",
            "sizeref": 5
           },
           "mode": "markers",
           "name": "YV",
           "text": [
            "GRR",
            "IAD",
            "TYS"
           ],
           "type": "scatter",
           "x": [
            31,
            74,
            81
           ],
           "y": [
            357,
            314,
            223
           ]
          },
          {
           "marker": {
            "size": [
             784,
             363,
             448
            ],
            "sizemode": "area",
            "sizeref": 5
           },
           "mode": "markers",
           "name": "EV",
           "text": [
            "SWF",
            "CRW",
            "MLU"
           ],
           "type": "scatter",
           "x": [
            111,
            60,
            60
           ],
           "y": [
            234,
            189,
            186
           ]
          },
          {
           "marker": {
            "size": [
             2409
            ],
            "sizemode": "area",
            "sizeref": 5
           },
           "mode": "markers",
           "name": "HA",
           "text": [
            "HNL"
           ],
           "type": "scatter",
           "x": [
            280
           ],
           "y": [
            200
           ]
          },
          {
           "marker": {
            "size": [
             474
            ],
            "sizemode": "area",
            "sizeref": 5
           },
           "mode": "markers",
           "name": "B6",
           "text": [
            "RIC"
           ],
           "type": "scatter",
           "x": [
            64
           ],
           "y": [
            362
           ]
          },
          {
           "marker": {
            "size": [
             810,
             370,
             925,
             447,
             336,
             1142
            ],
            "sizemode": "area",
            "sizeref": 5
           },
           "mode": "markers",
           "name": "WN",
           "text": [
            "IAD",
            "BWI",
            "BWI",
            "SAN",
            "BWI",
            "MHT"
           ],
           "type": "scatter",
           "x": [
            125,
            57,
            129,
            76,
            63,
            185
           ],
           "y": [
            363,
            360,
            270,
            219,
            218,
            201
           ]
          }
         ],
         "name": "5"
        },
        {
         "data": [
          {
           "marker": {
            "size": [
             175,
             920,
             813,
             595
            ],
            "sizemode": "area",
            "sizeref": 5
           },
           "mode": "markers",
           "name": "AA",
           "text": [
            "OKC",
            "MIA",
            "DFW",
            "MIA"
           ],
           "type": "scatter",
           "x": [
            38,
            109,
            136,
            85
           ],
           "y": [
            417,
            225,
            214,
            187
           ]
          },
          {
           "marker": {
            "size": [
             957,
             627,
             1124
            ],
            "sizemode": "area",
            "sizeref": 5
           },
           "mode": "markers",
           "name": "NW",
           "text": [
            "MCO",
            "CMH",
            "BOS"
           ],
           "type": "scatter",
           "x": [
            122,
            94,
            177
           ],
           "y": [
            421,
            210,
            188
           ]
          },
          {
           "marker": {
            "size": [
             925
            ],
            "sizemode": "area",
            "sizeref": 5
           },
           "mode": "markers",
           "name": "FL",
           "text": [
            "BWI"
           ],
           "type": "scatter",
           "x": [
            143
           ],
           "y": [
            303
           ]
          },
          {
           "marker": {
            "size": [
             247,
             599
            ],
            "sizemode": "area",
            "sizeref": 5
           },
           "mode": "markers",
           "name": "MQ",
           "text": [
            "HOU",
            "CLT"
           ],
           "type": "scatter",
           "x": [
            51,
            102
           ],
           "y": [
            346,
            190
           ]
          },
          {
           "marker": {
            "size": [
             536
            ],
            "sizemode": "area",
            "sizeref": 5
           },
           "mode": "markers",
           "name": "9E",
           "text": [
            "DTW"
           ],
           "type": "scatter",
           "x": [
            67
           ],
           "y": [
            233
           ]
          },
          {
           "marker": {
            "size": [
             2454
            ],
            "sizemode": "area",
            "sizeref": 5
           },
           "mode": "markers",
           "name": "CO",
           "text": [
            "EWR"
           ],
           "type": "scatter",
           "x": [
            370
           ],
           "y": [
            270
           ]
          },
          {
           "marker": {
            "size": [
             387,
             200,
             558,
             341,
             421,
             455
            ],
            "sizemode": "area",
            "sizeref": 5
           },
           "mode": "markers",
           "name": "OO",
           "text": [
            "BIL",
            "EKO",
            "SLC",
            "ATL",
            "PSP",
            "BIL"
           ],
           "type": "scatter",
           "x": [
            62,
            41,
            90,
            61,
            80,
            77
           ],
           "y": [
            291,
            278,
            204,
            194,
            193,
            193
           ]
          },
          {
           "marker": {
            "size": [
             689,
             749,
             590
            ],
            "sizemode": "area",
            "sizeref": 5
           },
           "mode": "markers",
           "name": "DL",
           "text": [
            "SEA",
            "ROC",
            "LAX"
           ],
           "type": "scatter",
           "x": [
            89,
            121,
            80
           ],
           "y": [
            508,
            358,
            242
           ]
          },
          {
           "marker": {
            "size": [],
            "sizemode": "area",
            "sizeref": 5
           },
           "mode": "markers",
           "name": "AS",
           "text": [],
           "type": "scatter",
           "x": [],
           "y": []
          },
          {
           "marker": {
            "size": [],
            "sizemode": "area",
            "sizeref": 5
           },
           "mode": "markers",
           "name": "US",
           "text": [],
           "type": "scatter",
           "x": [],
           "y": []
          },
          {
           "marker": {
            "size": [
             602,
             804,
             967,
             1452,
             680
            ],
            "sizemode": "area",
            "sizeref": 5
           },
           "mode": "markers",
           "name": "UA",
           "text": [
            "PHX",
            "DEN",
            "DEN",
            "DEN",
            "DEN"
           ],
           "type": "scatter",
           "x": [
            76,
            132,
            151,
            155,
            83
           ],
           "y": [
            399,
            307,
            218,
            201,
            190
           ]
          },
          {
           "marker": {
            "size": [],
            "sizemode": "area",
            "sizeref": 5
           },
           "mode": "markers",
           "name": "OH",
           "text": [],
           "type": "scatter",
           "x": [],
           "y": []
          },
          {
           "marker": {
            "size": [
             288,
             192
            ],
            "sizemode": "area",
            "sizeref": 5
           },
           "mode": "markers",
           "name": "XE",
           "text": [
            "IAD",
            "SHV"
           ],
           "type": "scatter",
           "x": [
            50,
            51
           ],
           "y": [
            263,
            198
           ]
          },
          {
           "marker": {
            "size": [],
            "sizemode": "area",
            "sizeref": 5
           },
           "mode": "markers",
           "name": "F9",
           "text": [],
           "type": "scatter",
           "x": [],
           "y": []
          },
          {
           "marker": {
            "size": [
             1199
            ],
            "sizemode": "area",
            "sizeref": 5
           },
           "mode": "markers",
           "name": "YV",
           "text": [
            "DEN"
           ],
           "type": "scatter",
           "x": [
            138
           ],
           "y": [
            194
           ]
          },
          {
           "marker": {
            "size": [
             399,
             852,
             813
            ],
            "sizemode": "area",
            "sizeref": 5
           },
           "mode": "markers",
           "name": "EV",
           "text": [
            "OAJ",
            "ALB",
            "ATL"
           ],
           "type": "scatter",
           "x": [
            78,
            138,
            125
           ],
           "y": [
            440,
            376,
            234
           ]
          },
          {
           "marker": {
            "size": [],
            "sizemode": "area",
            "sizeref": 5
           },
           "mode": "markers",
           "name": "HA",
           "text": [],
           "type": "scatter",
           "x": [],
           "y": []
          },
          {
           "marker": {
            "size": [
             187
            ],
            "sizemode": "area",
            "sizeref": 5
           },
           "mode": "markers",
           "name": "B6",
           "text": [
            "JFK"
           ],
           "type": "scatter",
           "x": [
            38
           ],
           "y": [
            209
           ]
          },
          {
           "marker": {
            "size": [
             794
            ],
            "sizemode": "area",
            "sizeref": 5
           },
           "mode": "markers",
           "name": "WN",
           "text": [
            "DEN"
           ],
           "type": "scatter",
           "x": [
            102
           ],
           "y": [
            185
           ]
          }
         ],
         "name": "6"
        },
        {
         "data": [
          {
           "marker": {
            "size": [
             597,
             3784,
             802,
             2342
            ],
            "sizemode": "area",
            "sizeref": 5
           },
           "mode": "markers",
           "name": "AA",
           "text": [
            "BHM",
            "HNL",
            "ORD",
            "LAX"
           ],
           "type": "scatter",
           "x": [
            109,
            366,
            132,
            226
           ],
           "y": [
            622,
            237,
            200,
            191
           ]
          },
          {
           "marker": {
            "size": [
             1750,
             1750,
             930
            ],
            "sizemode": "area",
            "sizeref": 5
           },
           "mode": "markers",
           "name": "NW",
           "text": [
            "LAS",
            "DTW",
            "CLT"
           ],
           "type": "scatter",
           "x": [
            182,
            282,
            144
           ],
           "y": [
            304,
            300,
            197
           ]
          },
          {
           "marker": {
            "size": [],
            "sizemode": "area",
            "sizeref": 5
           },
           "mode": "markers",
           "name": "FL",
           "text": [],
           "type": "scatter",
           "x": [],
           "y": []
          },
          {
           "marker": {
            "size": [
             282,
             304,
             267
            ],
            "sizemode": "area",
            "sizeref": 5
           },
           "mode": "markers",
           "name": "MQ",
           "text": [
            "LBB",
            "DFW",
            "LAX"
           ],
           "type": "scatter",
           "x": [
            52,
            41,
            52
           ],
           "y": [
            228,
            220,
            189
           ]
          },
          {
           "marker": {
            "size": [
             207,
             74,
             695,
             750,
             113
            ],
            "sizemode": "area",
            "sizeref": 5
           },
           "mode": "markers",
           "name": "9E",
           "text": [
            "TVC",
            "DTW",
            "BNA",
            "DTW",
            "DTW"
           ],
           "type": "scatter",
           "x": [
            41,
            18,
            112,
            91,
            29
           ],
           "y": [
            353,
            265,
            265,
            264,
            204
           ]
          },
          {
           "marker": {
            "size": [],
            "sizemode": "area",
            "sizeref": 5
           },
           "mode": "markers",
           "name": "CO",
           "text": [],
           "type": "scatter",
           "x": [],
           "y": []
          },
          {
           "marker": {
            "size": [
             260,
             436,
             315,
             1482
            ],
            "sizemode": "area",
            "sizeref": 5
           },
           "mode": "markers",
           "name": "OO",
           "text": [
            "RKS",
            "SLC",
            "LMT",
            "SFO"
           ],
           "type": "scatter",
           "x": [
            68,
            59,
            62,
            166
           ],
           "y": [
            359,
            341,
            265,
            195
           ]
          },
          {
           "marker": {
            "size": [
             356,
             2454,
             756
            ],
            "sizemode": "area",
            "sizeref": 5
           },
           "mode": "markers",
           "name": "DL",
           "text": [
            "RDU",
            "PDX",
            "MCO"
           ],
           "type": "scatter",
           "x": [
            63,
            275,
            108
           ],
           "y": [
            378,
            289,
            192
           ]
          },
          {
           "marker": {
            "size": [],
            "sizemode": "area",
            "sizeref": 5
           },
           "mode": "markers",
           "name": "AS",
           "text": [],
           "type": "scatter",
           "x": [],
           "y": []
          },
          {
           "marker": {
            "size": [
             2176,
             1013,
             2401
            ],
            "sizemode": "area",
            "sizeref": 5
           },
           "mode": "markers",
           "name": "US",
           "text": [
            "PHL",
            "MIA",
            "PHL"
           ],
           "type": "scatter",
           "x": [
            337,
            132,
            374
           ],
           "y": [
            261,
            223,
            197
           ]
          },
          {
           "marker": {
            "size": [
             589,
             337,
             1005
            ],
            "sizemode": "area",
            "sizeref": 5
           },
           "mode": "markers",
           "name": "UA",
           "text": [
            "DEN",
            "SFO",
            "ORD"
           ],
           "type": "scatter",
           "x": [
            77,
            47,
            138
           ],
           "y": [
            236,
            213,
            203
           ]
          },
          {
           "marker": {
            "size": [
             625
            ],
            "sizemode": "area",
            "sizeref": 5
           },
           "mode": "markers",
           "name": "OH",
           "text": [
            "DTW"
           ],
           "type": "scatter",
           "x": [
            114
           ],
           "y": [
            207
           ]
          },
          {
           "marker": {
            "size": [
             253
            ],
            "sizemode": "area",
            "sizeref": 5
           },
           "mode": "markers",
           "name": "XE",
           "text": [
            "BTR"
           ],
           "type": "scatter",
           "x": [
            64
           ],
           "y": [
            194
           ]
          },
          {
           "marker": {
            "size": [],
            "sizemode": "area",
            "sizeref": 5
           },
           "mode": "markers",
           "name": "F9",
           "text": [],
           "type": "scatter",
           "x": [],
           "y": []
          },
          {
           "marker": {
            "size": [
             1149,
             509,
             110,
             1149,
             1149
            ],
            "sizemode": "area",
            "sizeref": 5
           },
           "mode": "markers",
           "name": "YV",
           "text": [
            "DSM",
            "SBP",
            "PHX",
            "PHX",
            "PHX"
           ],
           "type": "scatter",
           "x": [
            203,
            74,
            29,
            130,
            134
           ],
           "y": [
            324,
            243,
            225,
            220,
            206
           ]
          },
          {
           "marker": {
            "size": [
             781,
             366,
             259,
             508,
             443,
             300
            ],
            "sizemode": "area",
            "sizeref": 5
           },
           "mode": "markers",
           "name": "EV",
           "text": [
            "ICT",
            "DAB",
            "CHS",
            "FWA",
            "MLB",
            "ATL"
           ],
           "type": "scatter",
           "x": [
            91,
            64,
            54,
            78,
            67,
            42
           ],
           "y": [
            330,
            300,
            237,
            235,
            214,
            198
           ]
          },
          {
           "marker": {
            "size": [],
            "sizemode": "area",
            "sizeref": 5
           },
           "mode": "markers",
           "name": "HA",
           "text": [],
           "type": "scatter",
           "x": [],
           "y": []
          },
          {
           "marker": {
            "size": [
             2446,
             846
            ],
            "sizemode": "area",
            "sizeref": 5
           },
           "mode": "markers",
           "name": "B6",
           "text": [
            "SAN",
            "LGB"
           ],
           "type": "scatter",
           "x": [
            266,
            145
           ],
           "y": [
            406,
            205
           ]
          },
          {
           "marker": {
            "size": [
             488,
             335,
             437,
             414,
             417,
             646,
             229
            ],
            "sizemode": "area",
            "sizeref": 5
           },
           "mode": "markers",
           "name": "WN",
           "text": [
            "SAN",
            "RNO",
            "MSY",
            "SFO",
            "SAN",
            "PHX",
            "DTW"
           ],
           "type": "scatter",
           "x": [
            86,
            52,
            70,
            69,
            74,
            110,
            48
           ],
           "y": [
            271,
            269,
            251,
            234,
            202,
            198,
            185
           ]
          }
         ],
         "name": "7"
        },
        {
         "data": [
          {
           "marker": {
            "size": [
             1437,
             929,
             1231
            ],
            "sizemode": "area",
            "sizeref": 5
           },
           "mode": "markers",
           "name": "AA",
           "text": [
            "ORD",
            "DFW",
            "BUR"
           ],
           "type": "scatter",
           "x": [
            211,
            104,
            130
           ],
           "y": [
            300,
            268,
            189
           ]
          },
          {
           "marker": {
            "size": [
             393,
             1426
            ],
            "sizemode": "area",
            "sizeref": 5
           },
           "mode": "markers",
           "name": "NW",
           "text": [
            "MSP",
            "PDX"
           ],
           "type": "scatter",
           "x": [
            63,
            166
           ],
           "y": [
            845,
            364
           ]
          },
          {
           "marker": {
            "size": [],
            "sizemode": "area",
            "sizeref": 5
           },
           "mode": "markers",
           "name": "FL",
           "text": [],
           "type": "scatter",
           "x": [],
           "y": []
          },
          {
           "marker": {
            "size": [
             364,
             158
            ],
            "sizemode": "area",
            "sizeref": 5
           },
           "mode": "markers",
           "name": "MQ",
           "text": [
            "SGF",
            "ABI"
           ],
           "type": "scatter",
           "x": [
            72,
            37
           ],
           "y": [
            254,
            232
           ]
          },
          {
           "marker": {
            "size": [
             258,
             583,
             538
            ],
            "sizemode": "area",
            "sizeref": 5
           },
           "mode": "markers",
           "name": "9E",
           "text": [
            "MEM",
            "DTW",
            "OMA"
           ],
           "type": "scatter",
           "x": [
            53,
            96,
            86
           ],
           "y": [
            306,
            206,
            184
           ]
          },
          {
           "marker": {
            "size": [
             925,
             1874,
             2433,
             1379,
             925
            ],
            "sizemode": "area",
            "sizeref": 5
           },
           "mode": "markers",
           "name": "CO",
           "text": [
            "ORD",
            "SEA",
            "PDX",
            "IAH",
            "ORD"
           ],
           "type": "scatter",
           "x": [
            137,
            201,
            298,
            206,
            158
           ],
           "y": [
            452,
            374,
            340,
            218,
            184
           ]
          },
          {
           "marker": {
            "size": [
             589,
             911,
             588,
             1249,
             130,
             192,
             130,
             911,
             493,
             438,
             1261,
             738,
             462,
             483,
             911,
             1013,
             826,
             409
            ],
            "sizemode": "area",
            "sizeref": 5
           },
           "mode": "markers",
           "name": "OO",
           "text": [
            "DEN",
            "ORD",
            "ORD",
            "ORD",
            "ORD",
            "RNO",
            "PIA",
            "COS",
            "ABQ",
            "ORD",
            "MEM",
            "ORD",
            "ORD",
            "FSD",
            "COS",
            "BNA",
            "MSN",
            "ORD"
           ],
           "type": "scatter",
           "x": [
            96,
            124,
            96,
            179,
            35,
            47,
            26,
            112,
            83,
            76,
            191,
            103,
            76,
            83,
            104,
            166,
            131,
            71
           ],
           "y": [
            311,
            283,
            279,
            262,
            251,
            249,
            232,
            229,
            229,
            228,
            216,
            215,
            211,
            208,
            206,
            202,
            189,
            184
           ]
          },
          {
           "marker": {
            "size": [
             689,
             270,
             606,
             403
            ],
            "sizemode": "area",
            "sizeref": 5
           },
           "mode": "markers",
           "name": "DL",
           "text": [
            "SEA",
            "JAX",
            "ORD",
            "MCO"
           ],
           "type": "scatter",
           "x": [
            88,
            58,
            93,
            89
           ],
           "y": [
            453,
            327,
            228,
            206
           ]
          },
          {
           "marker": {
            "size": [],
            "sizemode": "area",
            "sizeref": 5
           },
           "mode": "markers",
           "name": "AS",
           "text": [],
           "type": "scatter",
           "x": [],
           "y": []
          },
          {
           "marker": {
            "size": [
             651,
             227
            ],
            "sizemode": "area",
            "sizeref": 5
           },
           "mode": "markers",
           "name": "US",
           "text": [
            "SFO",
            "CLT"
           ],
           "type": "scatter",
           "x": [
            82,
            61
           ],
           "y": [
            269,
            196
           ]
          },
          {
           "marker": {
            "size": [
             2288,
             867,
             1781
            ],
            "sizemode": "area",
            "sizeref": 5
           },
           "mode": "markers",
           "name": "UA",
           "text": [
            "IAD",
            "ORD",
            "ORD"
           ],
           "type": "scatter",
           "x": [
            324,
            106,
            241
           ],
           "y": [
            352,
            315,
            215
           ]
          },
          {
           "marker": {
            "size": [],
            "sizemode": "area",
            "sizeref": 5
           },
           "mode": "markers",
           "name": "OH",
           "text": [],
           "type": "scatter",
           "x": [],
           "y": []
          },
          {
           "marker": {
            "size": [
             1034
            ],
            "sizemode": "area",
            "sizeref": 5
           },
           "mode": "markers",
           "name": "XE",
           "text": [
            "MSP"
           ],
           "type": "scatter",
           "x": [
            144
           ],
           "y": [
            453
           ]
          },
          {
           "marker": {
            "size": [
             895
            ],
            "sizemode": "area",
            "sizeref": 5
           },
           "mode": "markers",
           "name": "F9",
           "text": [
            "MKE"
           ],
           "type": "scatter",
           "x": [
            126
           ],
           "y": [
            276
           ]
          },
          {
           "marker": {
            "size": [
             843
            ],
            "sizemode": "area",
            "sizeref": 5
           },
           "mode": "markers",
           "name": "YV",
           "text": [
            "ORD"
           ],
           "type": "scatter",
           "x": [
            101
           ],
           "y": [
            226
           ]
          },
          {
           "marker": {
            "size": [
             321,
             321,
             191,
             264
            ],
            "sizemode": "area",
            "sizeref": 5
           },
           "mode": "markers",
           "name": "EV",
           "text": [
            "SDF",
            "ATL",
            "ATL",
            "VPS"
           ],
           "type": "scatter",
           "x": [
            62,
            59,
            32,
            51
           ],
           "y": [
            237,
            205,
            194,
            185
           ]
          },
          {
           "marker": {
            "size": [
             2409
            ],
            "sizemode": "area",
            "sizeref": 5
           },
           "mode": "markers",
           "name": "HA",
           "text": [
            "HNL"
           ],
           "type": "scatter",
           "x": [
            256
           ],
           "y": [
            191
           ]
          },
          {
           "marker": {
            "size": [
             1735,
             867,
             1065,
             740
            ],
            "sizemode": "area",
            "sizeref": 5
           },
           "mode": "markers",
           "name": "B6",
           "text": [
            "ORD",
            "ORD",
            "FLL",
            "ORD"
           ],
           "type": "scatter",
           "x": [
            273,
            102,
            141,
            94
           ],
           "y": [
            288,
            242,
            216,
            212
           ]
          },
          {
           "marker": {
            "size": [
             349,
             1751,
             405,
             349,
             989,
             2279,
             159,
             495,
             162,
             349,
             668,
             323,
             405,
             1751,
             967,
             271,
             680,
             303,
             1489,
             630,
             423,
             861
            ],
            "sizemode": "area",
            "sizeref": 5
           },
           "mode": "markers",
           "name": "WN",
           "text": [
            "MSP",
            "MDW",
            "MDW",
            "DEN",
            "MDW",
            "MHT",
            "BWI",
            "SDF",
            "IND",
            "MSP",
            "MDW",
            "SDF",
            "MDW",
            "MDW",
            "MCI",
            "MDW",
            "MSP",
            "HOU",
            "OAK",
            "PDX",
            "MDW",
            "PHL"
           ],
           "type": "scatter",
           "x": [
            62,
            278,
            69,
            57,
            130,
            366,
            35,
            67,
            45,
            84,
            90,
            58,
            75,
            269,
            118,
            52,
            106,
            41,
            178,
            78,
            73,
            125
           ],
           "y": [
            302,
            275,
            232,
            230,
            224,
            210,
            210,
            209,
            207,
            202,
            199,
            199,
            196,
            195,
            195,
            194,
            191,
            190,
            189,
            188,
            187,
            185
           ]
          }
         ],
         "name": "8"
        },
        {
         "data": [
          {
           "marker": {
            "size": [
             868,
             852,
             1235,
             719,
             258
            ],
            "sizemode": "area",
            "sizeref": 5
           },
           "mode": "markers",
           "name": "AA",
           "text": [
            "PHX",
            "MSP",
            "LAX",
            "STL",
            "STL"
           ],
           "type": "scatter",
           "x": [
            96,
            129,
            134,
            76,
            51
           ],
           "y": [
            271,
            246,
            197,
            187,
            183
           ]
          },
          {
           "marker": {
            "size": [
             609,
             1399,
             529,
             980,
             449,
             1085,
             297
            ],
            "sizemode": "area",
            "sizeref": 5
           },
           "mode": "markers",
           "name": "NW",
           "text": [
            "MHT",
            "SEA",
            "ORF",
            "PHL",
            "MSP",
            "DTW",
            "MSP"
           ],
           "type": "scatter",
           "x": [
            102,
            164,
            107,
            142,
            67,
            150,
            53
           ],
           "y": [
            548,
            470,
            337,
            283,
            274,
            197,
            184
           ]
          },
          {
           "marker": {
            "size": [],
            "sizemode": "area",
            "sizeref": 5
           },
           "mode": "markers",
           "name": "FL",
           "text": [],
           "type": "scatter",
           "x": [],
           "y": []
          },
          {
           "marker": {
            "size": [
             304,
             296,
             113,
             135,
             1118,
             642,
             925,
             837,
             174,
             403
            ],
            "sizemode": "area",
            "sizeref": 5
           },
           "mode": "markers",
           "name": "MQ",
           "text": [
            "LIT",
            "CMH",
            "SPS",
            "ORD",
            "ORD",
            "ORD",
            "IAH",
            "MSY",
            "ORD",
            "TLH"
           ],
           "type": "scatter",
           "x": [
            65,
            57,
            28,
            34,
            171,
            83,
            128,
            127,
            32,
            60
           ],
           "y": [
            714,
            650,
            325,
            241,
            231,
            218,
            207,
            207,
            195,
            194
           ]
          },
          {
           "marker": {
            "size": [
             386,
             606
            ],
            "sizemode": "area",
            "sizeref": 5
           },
           "mode": "markers",
           "name": "9E",
           "text": [
            "BIS",
            "ORD"
           ],
           "type": "scatter",
           "x": [
            65,
            82
           ],
           "y": [
            279,
            232
           ]
          },
          {
           "marker": {
            "size": [
             200
            ],
            "sizemode": "area",
            "sizeref": 5
           },
           "mode": "markers",
           "name": "CO",
           "text": [
            "BOS"
           ],
           "type": "scatter",
           "x": [
            54
           ],
           "y": [
            266
           ]
          },
          {
           "marker": {
            "size": [
             230,
             221,
             264,
             318,
             589,
             738,
             895
            ],
            "sizemode": "area",
            "sizeref": 5
           },
           "mode": "markers",
           "name": "OO",
           "text": [
            "CVG",
            "CVG",
            "CVG",
            "CVG",
            "LGB",
            "HPN",
            "DEN"
           ],
           "type": "scatter",
           "x": [
            47,
            39,
            48,
            55,
            86,
            126,
            106
           ],
           "y": [
            282,
            276,
            261,
            245,
            225,
            184,
            183
           ]
          },
          {
           "marker": {
            "size": [
             391,
             547,
             1968,
             332
            ],
            "sizemode": "area",
            "sizeref": 5
           },
           "mode": "markers",
           "name": "DL",
           "text": [
            "DEN",
            "DCA",
            "SLC",
            "MEM"
           ],
           "type": "scatter",
           "x": [
            74,
            102,
            217,
            59
           ],
           "y": [
            346,
            299,
            212,
            189
           ]
          },
          {
           "marker": {
            "size": [
             571,
             95
            ],
            "sizemode": "area",
            "sizeref": 5
           },
           "mode": "markers",
           "name": "AS",
           "text": [
            "JNU",
            "SIT"
           ],
           "type": "scatter",
           "x": [
            87,
            25
           ],
           "y": [
            545,
            533
           ]
          },
          {
           "marker": {
            "size": [],
            "sizemode": "area",
            "sizeref": 5
           },
           "mode": "markers",
           "name": "US",
           "text": [],
           "type": "scatter",
           "x": [],
           "y": []
          },
          {
           "marker": {
            "size": [
             2586,
             1589
            ],
            "sizemode": "area",
            "sizeref": 5
           },
           "mode": "markers",
           "name": "UA",
           "text": [
            "JFK",
            "MSP"
           ],
           "type": "scatter",
           "x": [
            370,
            232
           ],
           "y": [
            214,
            203
           ]
          },
          {
           "marker": {
            "size": [
             1107,
             340,
             306,
             766
            ],
            "sizemode": "area",
            "sizeref": 5
           },
           "mode": "markers",
           "name": "OH",
           "text": [
            "LGA",
            "PIT",
            "DTW",
            "JFK"
           ],
           "type": "scatter",
           "x": [
            167,
            41,
            63,
            158
           ],
           "y": [
            259,
            229,
            202,
            191
           ]
          },
          {
           "marker": {
            "size": [
             1034
            ],
            "sizemode": "area",
            "sizeref": 5
           },
           "mode": "markers",
           "name": "XE",
           "text": [
            "MSP"
           ],
           "type": "scatter",
           "x": [
            146
           ],
           "y": [
            265
           ]
          },
          {
           "marker": {
            "size": [],
            "sizemode": "area",
            "sizeref": 5
           },
           "mode": "markers",
           "name": "F9",
           "text": [],
           "type": "scatter",
           "x": [],
           "y": []
          },
          {
           "marker": {
            "size": [
             693,
             137,
             137,
             491,
             296,
             491,
             235,
             491
            ],
            "sizemode": "area",
            "sizeref": 5
           },
           "mode": "markers",
           "name": "YV",
           "text": [
            "ORD",
            "GRR",
            "ORD",
            "MEM",
            "SYR",
            "MEM",
            "ORD",
            "ORD"
           ],
           "type": "scatter",
           "x": [
            121,
            34,
            31,
            93,
            57,
            87,
            52,
            82
           ],
           "y": [
            270,
            221,
            212,
            207,
            203,
            195,
            193,
            188
           ]
          },
          {
           "marker": {
            "size": [
             303,
             106
            ],
            "sizemode": "area",
            "sizeref": 5
           },
           "mode": "markers",
           "name": "EV",
           "text": [
            "LEX",
            "CHA"
           ],
           "type": "scatter",
           "x": [
            57,
            32
           ],
           "y": [
            347,
            278
           ]
          },
          {
           "marker": {
            "size": [],
            "sizemode": "area",
            "sizeref": 5
           },
           "mode": "markers",
           "name": "HA",
           "text": [],
           "type": "scatter",
           "x": [],
           "y": []
          },
          {
           "marker": {
            "size": [
             1041,
             541
            ],
            "sizemode": "area",
            "sizeref": 5
           },
           "mode": "markers",
           "name": "B6",
           "text": [
            "SRQ",
            "JFK"
           ],
           "type": "scatter",
           "x": [
            147,
            113
           ],
           "y": [
            277,
            193
           ]
          },
          {
           "marker": {
            "size": [
             468,
             1444,
             1121,
             725,
             1521,
             759,
             570,
             668,
             402,
             1521,
             423,
             725,
             577,
             717,
             682,
             307,
             307,
             647,
             1036,
             632,
             842,
             417
            ],
            "sizemode": "area",
            "sizeref": 5
           },
           "mode": "markers",
           "name": "WN",
           "text": [
            "MDW",
            "MDW",
            "MDW",
            "MDW",
            "LAS",
            "HOU",
            "MDW",
            "MDW",
            "MDW",
            "MDW",
            "OMA",
            "MDW",
            "MDW",
            "MDW",
            "BHM",
            "MDW",
            "MDW",
            "SMF",
            "MDW",
            "MDW",
            "BWI",
            "SAN"
           ],
           "type": "scatter",
           "x": [
            62,
            238,
            187,
            83,
            174,
            134,
            81,
            78,
            55,
            234,
            95,
            84,
            74,
            78,
            80,
            48,
            49,
            87,
            166,
            80,
            138,
            62
           ],
           "y": [
            299,
            296,
            291,
            278,
            262,
            259,
            259,
            254,
            253,
            238,
            234,
            228,
            226,
            224,
            219,
            214,
            211,
            210,
            210,
            204,
            191,
            189
           ]
          }
         ],
         "name": "9"
        },
        {
         "data": [
          {
           "marker": {
            "size": [
             929,
             3711,
             2611,
             3711,
             2342,
             1593,
             2486,
             1197,
             1593
            ],
            "sizemode": "area",
            "sizeref": 5
           },
           "mode": "markers",
           "name": "AA",
           "text": [
            "TPA",
            "DFW",
            "BOS",
            "OGG",
            "LAX",
            "STL",
            "LAX",
            "MIA",
            "LAX"
           ],
           "type": "scatter",
           "x": [
            150,
            499,
            372,
            388,
            244,
            230,
            338,
            163,
            165
           ],
           "y": [
            582,
            314,
            245,
            236,
            219,
            211,
            201,
            197,
            194
           ]
          },
          {
           "marker": {
            "size": [
             1979,
             610,
             457
            ],
            "sizemode": "area",
            "sizeref": 5
           },
           "mode": "markers",
           "name": "NW",
           "text": [
            "LAX",
            "MEM",
            "DTW"
           ],
           "type": "scatter",
           "x": [
            207,
            79,
            78
           ],
           "y": [
            245,
            206,
            186
           ]
          },
          {
           "marker": {
            "size": [
             403
            ],
            "sizemode": "area",
            "sizeref": 5
           },
           "mode": "markers",
           "name": "FL",
           "text": [
            "MCO"
           ],
           "type": "scatter",
           "x": [
            64
           ],
           "y": [
            184
           ]
          },
          {
           "marker": {
            "size": [
             931,
             215,
             109,
             1021,
             1021,
             235
            ],
            "sizemode": "area",
            "sizeref": 5
           },
           "mode": "markers",
           "name": "MQ",
           "text": [
            "GRR",
            "ORD",
            "SAN",
            "IND",
            "MIA",
            "ORD"
           ],
           "type": "scatter",
           "x": [
            161,
            43,
            24,
            132,
            150,
            52
           ],
           "y": [
            596,
            230,
            225,
            213,
            211,
            184
           ]
          },
          {
           "marker": {
            "size": [],
            "sizemode": "area",
            "sizeref": 5
           },
           "mode": "markers",
           "name": "9E",
           "text": [],
           "type": "scatter",
           "x": [],
           "y": []
          },
          {
           "marker": {
            "size": [
             1076
            ],
            "sizemode": "area",
            "sizeref": 5
           },
           "mode": "markers",
           "name": "CO",
           "text": [
            "DTW"
           ],
           "type": "scatter",
           "x": [
            164
           ],
           "y": [
            229
           ]
          },
          {
           "marker": {
            "size": [
             109,
             738,
             264,
             250,
             240,
             451,
             451,
             438
            ],
            "sizemode": "area",
            "sizeref": 5
           },
           "mode": "markers",
           "name": "OO",
           "text": [
            "MSN",
            "HPN",
            "ORD",
            "SFO",
            "LMT",
            "SFO",
            "SFO",
            "ORD"
           ],
           "type": "scatter",
           "x": [
            26,
            126,
            39,
            53,
            61,
            61,
            61,
            74
           ],
           "y": [
            488,
            478,
            360,
            237,
            216,
            207,
            193,
            190
           ]
          },
          {
           "marker": {
            "size": [
             259,
             406,
             906,
             761,
             1947
            ],
            "sizemode": "area",
            "sizeref": 5
           },
           "mode": "markers",
           "name": "DL",
           "text": [
            "CHS",
            "TPA",
            "MSP",
            "LGA",
            "ATL"
           ],
           "type": "scatter",
           "x": [
            48,
            68,
            123,
            174,
            287
           ],
           "y": [
            615,
            224,
            207,
            201,
            191
           ]
          },
          {
           "marker": {
            "size": [],
            "sizemode": "area",
            "sizeref": 5
           },
           "mode": "markers",
           "name": "AS",
           "text": [],
           "type": "scatter",
           "x": [],
           "y": []
          },
          {
           "marker": {
            "size": [
             678
            ],
            "sizemode": "area",
            "sizeref": 5
           },
           "mode": "markers",
           "name": "US",
           "text": [
            "PHL"
           ],
           "type": "scatter",
           "x": [
            132
           ],
           "y": [
            221
           ]
          },
          {
           "marker": {
            "size": [],
            "sizemode": "area",
            "sizeref": 5
           },
           "mode": "markers",
           "name": "UA",
           "text": [],
           "type": "scatter",
           "x": [],
           "y": []
          },
          {
           "marker": {
            "size": [],
            "sizemode": "area",
            "sizeref": 5
           },
           "mode": "markers",
           "name": "OH",
           "text": [],
           "type": "scatter",
           "x": [],
           "y": []
          },
          {
           "marker": {
            "size": [
             429,
             487,
             214
            ],
            "sizemode": "area",
            "sizeref": 5
           },
           "mode": "markers",
           "name": "XE",
           "text": [
            "GPT",
            "EWR",
            "GRR"
           ],
           "type": "scatter",
           "x": [
            63,
            97,
            39
           ],
           "y": [
            516,
            253,
            198
           ]
          },
          {
           "marker": {
            "size": [],
            "sizemode": "area",
            "sizeref": 5
           },
           "mode": "markers",
           "name": "F9",
           "text": [],
           "type": "scatter",
           "x": [],
           "y": []
          },
          {
           "marker": {
            "size": [],
            "sizemode": "area",
            "sizeref": 5
           },
           "mode": "markers",
           "name": "YV",
           "text": [],
           "type": "scatter",
           "x": [],
           "y": []
          },
          {
           "marker": {
            "size": [
             377,
             533
            ],
            "sizemode": "area",
            "sizeref": 5
           },
           "mode": "markers",
           "name": "EV",
           "text": [
            "ILM",
            "ATL"
           ],
           "type": "scatter",
           "x": [
            72,
            67
           ],
           "y": [
            290,
            188
           ]
          },
          {
           "marker": {
            "size": [
             102
            ],
            "sizemode": "area",
            "sizeref": 5
           },
           "mode": "markers",
           "name": "HA",
           "text": [
            "LIH"
           ],
           "type": "scatter",
           "x": [
            19
           ],
           "y": [
            218
           ]
          },
          {
           "marker": {
            "size": [],
            "sizemode": "area",
            "sizeref": 5
           },
           "mode": "markers",
           "name": "B6",
           "text": [],
           "type": "scatter",
           "x": [],
           "y": []
          },
          {
           "marker": {
            "size": [
             337,
             651,
             338
            ],
            "sizemode": "area",
            "sizeref": 5
           },
           "mode": "markers",
           "name": "WN",
           "text": [
            "SFO",
            "SFO",
            "PHX"
           ],
           "type": "scatter",
           "x": [
            52,
            87,
            56
           ],
           "y": [
            282,
            190,
            185
           ]
          }
         ],
         "name": "10"
        },
        {
         "data": [
          {
           "marker": {
            "size": [
             175,
             2175,
             1464
            ],
            "sizemode": "area",
            "sizeref": 5
           },
           "mode": "markers",
           "name": "AA",
           "text": [
            "OKC",
            "MIA",
            "DFW"
           ],
           "type": "scatter",
           "x": [
            32,
            303,
            217
           ],
           "y": [
            286,
            252,
            204
           ]
          },
          {
           "marker": {
            "size": [],
            "sizemode": "area",
            "sizeref": 5
           },
           "mode": "markers",
           "name": "NW",
           "text": [],
           "type": "scatter",
           "x": [],
           "y": []
          },
          {
           "marker": {
            "size": [
             828
            ],
            "sizemode": "area",
            "sizeref": 5
           },
           "mode": "markers",
           "name": "FL",
           "text": [
            "IND"
           ],
           "type": "scatter",
           "x": [
            111
           ],
           "y": [
            295
           ]
          },
          {
           "marker": {
            "size": [
             223,
             522
            ],
            "sizemode": "area",
            "sizeref": 5
           },
           "mode": "markers",
           "name": "MQ",
           "text": [
            "FNT",
            "XNA"
           ],
           "type": "scatter",
           "x": [
            45,
            69
           ],
           "y": [
            453,
            184
           ]
          },
          {
           "marker": {
            "size": [
             312,
             431
            ],
            "sizemode": "area",
            "sizeref": 5
           },
           "mode": "markers",
           "name": "9E",
           "text": [
            "MSN",
            "DTW"
           ],
           "type": "scatter",
           "x": [
            45,
            80
           ],
           "y": [
            305,
            214
           ]
          },
          {
           "marker": {
            "size": [
             938
            ],
            "sizemode": "area",
            "sizeref": 5
           },
           "mode": "markers",
           "name": "CO",
           "text": [
            "MCO"
           ],
           "type": "scatter",
           "x": [
            123
           ],
           "y": [
            231
           ]
          },
          {
           "marker": {
            "size": [
             526,
             751,
             196,
             546,
             436
            ],
            "sizemode": "area",
            "sizeref": 5
           },
           "mode": "markers",
           "name": "OO",
           "text": [
            "RDM",
            "SFO",
            "ORD",
            "SLC",
            "MSO"
           ],
           "type": "scatter",
           "x": [
            71,
            85,
            39,
            73,
            62
           ],
           "y": [
            264,
            253,
            248,
            190,
            190
           ]
          },
          {
           "marker": {
            "size": [
             761,
             813
            ],
            "sizemode": "area",
            "sizeref": 5
           },
           "mode": "markers",
           "name": "DL",
           "text": [
            "LGA",
            "ATL"
           ],
           "type": "scatter",
           "x": [
            129,
            139
           ],
           "y": [
            309,
            194
           ]
          },
          {
           "marker": {
            "size": [
             1533
            ],
            "sizemode": "area",
            "sizeref": 5
           },
           "mode": "markers",
           "name": "AS",
           "text": [
            "FAI"
           ],
           "type": "scatter",
           "x": [
            172
           ],
           "y": [
            682
           ]
          },
          {
           "marker": {
            "size": [
             651,
             650
            ],
            "sizemode": "area",
            "sizeref": 5
           },
           "mode": "markers",
           "name": "US",
           "text": [
            "MSY",
            "CLT"
           ],
           "type": "scatter",
           "x": [
            78,
            93
           ],
           "y": [
            487,
            245
           ]
          },
          {
           "marker": {
            "size": [
             2338,
             412
            ],
            "sizemode": "area",
            "sizeref": 5
           },
           "mode": "markers",
           "name": "UA",
           "text": [
            "OGG",
            "ORD"
           ],
           "type": "scatter",
           "x": [
            247,
            54
           ],
           "y": [
            233,
            186
           ]
          },
          {
           "marker": {
            "size": [
             288,
             834
            ],
            "sizemode": "area",
            "sizeref": 5
           },
           "mode": "markers",
           "name": "OH",
           "text": [
            "RIC",
            "LGA"
           ],
           "type": "scatter",
           "x": [
            79,
            144
           ],
           "y": [
            206,
            191
           ]
          },
          {
           "marker": {
            "size": [
             429,
             748,
             562
            ],
            "sizemode": "area",
            "sizeref": 5
           },
           "mode": "markers",
           "name": "XE",
           "text": [
            "MAF",
            "EWR",
            "BHM"
           ],
           "type": "scatter",
           "x": [
            67,
            161,
            118
           ],
           "y": [
            439,
            241,
            225
           ]
          },
          {
           "marker": {
            "size": [],
            "sizemode": "area",
            "sizeref": 5
           },
           "mode": "markers",
           "name": "F9",
           "text": [],
           "type": "scatter",
           "x": [],
           "y": []
          },
          {
           "marker": {
            "size": [],
            "sizemode": "area",
            "sizeref": 5
           },
           "mode": "markers",
           "name": "YV",
           "text": [],
           "type": "scatter",
           "x": [],
           "y": []
          },
          {
           "marker": {
            "size": [
             761
            ],
            "sizemode": "area",
            "sizeref": 5
           },
           "mode": "markers",
           "name": "EV",
           "text": [
            "OKC"
           ],
           "type": "scatter",
           "x": [
            84
           ],
           "y": [
            250
           ]
          },
          {
           "marker": {
            "size": [
             163
            ],
            "sizemode": "area",
            "sizeref": 5
           },
           "mode": "markers",
           "name": "HA",
           "text": [
            "KOA"
           ],
           "type": "scatter",
           "x": [
            29
           ],
           "y": [
            191
           ]
          },
          {
           "marker": {
            "size": [
             1597,
             1249
            ],
            "sizemode": "area",
            "sizeref": 5
           },
           "mode": "markers",
           "name": "B6",
           "text": [
            "SJU",
            "BOS"
           ],
           "type": "scatter",
           "x": [
            246,
            206
           ],
           "y": [
            234,
            219
           ]
          },
          {
           "marker": {
            "size": [],
            "sizemode": "area",
            "sizeref": 5
           },
           "mode": "markers",
           "name": "WN",
           "text": [],
           "type": "scatter",
           "x": [],
           "y": []
          }
         ],
         "name": "11"
        },
        {
         "data": [
          {
           "marker": {
            "size": [
             2556,
             1126,
             1197
            ],
            "sizemode": "area",
            "sizeref": 5
           },
           "mode": "markers",
           "name": "AA",
           "text": [
            "HNL",
            "PSP",
            "MIA"
           ],
           "type": "scatter",
           "x": [
            269,
            137,
            163
           ],
           "y": [
            288,
            248,
            197
           ]
          },
          {
           "marker": {
            "size": [
             288,
             1589
            ],
            "sizemode": "area",
            "sizeref": 5
           },
           "mode": "markers",
           "name": "NW",
           "text": [
            "GRB",
            "MSP"
           ],
           "type": "scatter",
           "x": [
            46,
            235
           ],
           "y": [
            322,
            187
           ]
          },
          {
           "marker": {
            "size": [],
            "sizemode": "area",
            "sizeref": 5
           },
           "mode": "markers",
           "name": "FL",
           "text": [],
           "type": "scatter",
           "x": [],
           "y": []
          },
          {
           "marker": {
            "size": [
             109
            ],
            "sizemode": "area",
            "sizeref": 5
           },
           "mode": "markers",
           "name": "MQ",
           "text": [
            "MSN"
           ],
           "type": "scatter",
           "x": [
            42
           ],
           "y": [
            393
           ]
          },
          {
           "marker": {
            "size": [
             120
            ],
            "sizemode": "area",
            "sizeref": 5
           },
           "mode": "markers",
           "name": "9E",
           "text": [
            "DTW"
           ],
           "type": "scatter",
           "x": [
            23
           ],
           "y": [
            270
           ]
          },
          {
           "marker": {
            "size": [
             1208,
             925,
             1303
            ],
            "sizemode": "area",
            "sizeref": 5
           },
           "mode": "markers",
           "name": "CO",
           "text": [
            "DCA",
            "ORD",
            "IAH"
           ],
           "type": "scatter",
           "x": [
            198,
            146,
            202
           ],
           "y": [
            698,
            329,
            230
           ]
          },
          {
           "marker": {
            "size": [
             191,
             834,
             135,
             550,
             155,
             250
            ],
            "sizemode": "area",
            "sizeref": 5
           },
           "mode": "markers",
           "name": "OO",
           "text": [
            "SBP",
            "PDX",
            "SMX",
            "SFO",
            "SBP",
            "SFO"
           ],
           "type": "scatter",
           "x": [
            68,
            112,
            33,
            81,
            36,
            57
           ],
           "y": [
            334,
            313,
            300,
            295,
            227,
            187
           ]
          },
          {
           "marker": {
            "size": [
             2248,
             950,
             2586
            ],
            "sizemode": "area",
            "sizeref": 5
           },
           "mode": "markers",
           "name": "DL",
           "text": [
            "LAS",
            "MCO",
            "JFK"
           ],
           "type": "scatter",
           "x": [
            246,
            122,
            396
           ],
           "y": [
            296,
            266,
            219
           ]
          },
          {
           "marker": {
            "size": [
             679,
             571
            ],
            "sizemode": "area",
            "sizeref": 5
           },
           "mode": "markers",
           "name": "AS",
           "text": [
            "SFO",
            "ANC"
           ],
           "type": "scatter",
           "x": [
            96,
            75
           ],
           "y": [
            303,
            202
           ]
          },
          {
           "marker": {
            "size": [
             336,
             2378
            ],
            "sizemode": "area",
            "sizeref": 5
           },
           "mode": "markers",
           "name": "US",
           "text": [
            "RDU",
            "SEA"
           ],
           "type": "scatter",
           "x": [
            53,
            252
           ],
           "y": [
            260,
            231
           ]
          },
          {
           "marker": {
            "size": [
             679,
             853
            ],
            "sizemode": "area",
            "sizeref": 5
           },
           "mode": "markers",
           "name": "UA",
           "text": [
            "SEA",
            "SAN"
           ],
           "type": "scatter",
           "x": [
            107,
            103
           ],
           "y": [
            380,
            228
           ]
          },
          {
           "marker": {
            "size": [
             533
            ],
            "sizemode": "area",
            "sizeref": 5
           },
           "mode": "markers",
           "name": "OH",
           "text": [
            "ATL"
           ],
           "type": "scatter",
           "x": [
            79
           ],
           "y": [
            211
           ]
          },
          {
           "marker": {
            "size": [
             469
            ],
            "sizemode": "area",
            "sizeref": 5
           },
           "mode": "markers",
           "name": "XE",
           "text": [
            "MEM"
           ],
           "type": "scatter",
           "x": [
            97
           ],
           "y": [
            243
           ]
          },
          {
           "marker": {
            "size": [],
            "sizemode": "area",
            "sizeref": 5
           },
           "mode": "markers",
           "name": "F9",
           "text": [],
           "type": "scatter",
           "x": [],
           "y": []
          },
          {
           "marker": {
            "size": [],
            "sizemode": "area",
            "sizeref": 5
           },
           "mode": "markers",
           "name": "YV",
           "text": [],
           "type": "scatter",
           "x": [],
           "y": []
          },
          {
           "marker": {
            "size": [
             377,
             363,
             508
            ],
            "sizemode": "area",
            "sizeref": 5
           },
           "mode": "markers",
           "name": "EV",
           "text": [
            "ILM",
            "CRW",
            "ATL"
           ],
           "type": "scatter",
           "x": [
            75,
            72,
            70
           ],
           "y": [
            232,
            218,
            195
           ]
          },
          {
           "marker": {
            "size": [],
            "sizemode": "area",
            "sizeref": 5
           },
           "mode": "markers",
           "name": "HA",
           "text": [],
           "type": "scatter",
           "x": [],
           "y": []
          },
          {
           "marker": {
            "size": [
             972
            ],
            "sizemode": "area",
            "sizeref": 5
           },
           "mode": "markers",
           "name": "B6",
           "text": [
            "HPN"
           ],
           "type": "scatter",
           "x": [
            148
           ],
           "y": [
            183
           ]
          },
          {
           "marker": {
            "size": [],
            "sizemode": "area",
            "sizeref": 5
           },
           "mode": "markers",
           "name": "WN",
           "text": [],
           "type": "scatter",
           "x": [],
           "y": []
          }
         ],
         "name": "12"
        },
        {
         "data": [
          {
           "marker": {
            "size": [
             1158,
             2342,
             597,
             1745,
             2586,
             929,
             1005,
             964
            ],
            "sizemode": "area",
            "sizeref": 5
           },
           "mode": "markers",
           "name": "AA",
           "text": [
            "RIC",
            "MIA",
            "BHM",
            "ORD",
            "JFK",
            "TPA",
            "JFK",
            "MIA"
           ],
           "type": "scatter",
           "x": [
            180,
            321,
            94,
            258,
            392,
            138,
            162,
            141
           ],
           "y": [
            625,
            580,
            300,
            281,
            242,
            233,
            218,
            199
           ]
          },
          {
           "marker": {
            "size": [
             1300,
             1307,
             1300,
             860
            ],
            "sizemode": "area",
            "sizeref": 5
           },
           "mode": "markers",
           "name": "NW",
           "text": [
            "LAS",
            "TPA",
            "MSP",
            "MEM"
           ],
           "type": "scatter",
           "x": [
            154,
            182,
            186,
            111
           ],
           "y": [
            908,
            404,
            286,
            204
           ]
          },
          {
           "marker": {
            "size": [],
            "sizemode": "area",
            "sizeref": 5
           },
           "mode": "markers",
           "name": "FL",
           "text": [],
           "type": "scatter",
           "x": [],
           "y": []
          },
          {
           "marker": {
            "size": [
             213
            ],
            "sizemode": "area",
            "sizeref": 5
           },
           "mode": "markers",
           "name": "MQ",
           "text": [
            "JFK"
           ],
           "type": "scatter",
           "x": [
            52
           ],
           "y": [
            188
           ]
          },
          {
           "marker": {
            "size": [
             382,
             243,
             689
            ],
            "sizemode": "area",
            "sizeref": 5
           },
           "mode": "markers",
           "name": "9E",
           "text": [
            "ROA",
            "SGF",
            "ATL"
           ],
           "type": "scatter",
           "x": [
            65,
            50,
            107
           ],
           "y": [
            362,
            314,
            201
           ]
          },
          {
           "marker": {
            "size": [
             719
            ],
            "sizemode": "area",
            "sizeref": 5
           },
           "mode": "markers",
           "name": "CO",
           "text": [
            "EWR"
           ],
           "type": "scatter",
           "x": [
            124
           ],
           "y": [
            202
           ]
          },
          {
           "marker": {
            "size": [
             861,
             142,
             387,
             1123
            ],
            "sizemode": "area",
            "sizeref": 5
           },
           "mode": "markers",
           "name": "OO",
           "text": [
            "DEN",
            "HDN",
            "SLC",
            "DEN"
           ],
           "type": "scatter",
           "x": [
            123,
            27,
            66,
            120
           ],
           "y": [
            306,
            287,
            264,
            244
           ]
          },
          {
           "marker": {
            "size": [
             2421,
             2994,
             950,
             1864,
             576,
             1069,
             761,
             576
            ],
            "sizemode": "area",
            "sizeref": 5
           },
           "mode": "markers",
           "name": "DL",
           "text": [
            "SEA",
            "SLC",
            "MCO",
            "BWI",
            "BWI",
            "JFK",
            "ATL",
            "ATL"
           ],
           "type": "scatter",
           "x": [
            250,
            399,
            113,
            292,
            103,
            168,
            94,
            73
           ],
           "y": [
            355,
            349,
            292,
            222,
            213,
            197,
            192,
            185
           ]
          },
          {
           "marker": {
            "size": [],
            "sizemode": "area",
            "sizeref": 5
           },
           "mode": "markers",
           "name": "AS",
           "text": [],
           "type": "scatter",
           "x": [],
           "y": []
          },
          {
           "marker": {
            "size": [
             2378,
             1440,
             1440
            ],
            "sizemode": "area",
            "sizeref": 5
           },
           "mode": "markers",
           "name": "US",
           "text": [
            "SEA",
            "ORD",
            "ORD"
           ],
           "type": "scatter",
           "x": [
            246,
            243,
            221
           ],
           "y": [
            341,
            295,
            241
           ]
          },
          {
           "marker": {
            "size": [
             2615,
             2288,
             1290
            ],
            "sizemode": "area",
            "sizeref": 5
           },
           "mode": "markers",
           "name": "UA",
           "text": [
            "LAX",
            "IAD",
            "PIT"
           ],
           "type": "scatter",
           "x": [
            333,
            343,
            206
           ],
           "y": [
            197,
            190,
            183
           ]
          },
          {
           "marker": {
            "size": [
             507,
             83,
             320,
             507,
             892,
             740,
             508
            ],
            "sizemode": "area",
            "sizeref": 5
           },
           "mode": "markers",
           "name": "OH",
           "text": [
            "CVG",
            "SDF",
            "MEM",
            "PHL",
            "JFK",
            "JFK",
            "DTW"
           ],
           "type": "scatter",
           "x": [
            83,
            22,
            55,
            103,
            151,
            132,
            85
           ],
           "y": [
            320,
            257,
            244,
            235,
            233,
            211,
            193
           ]
          },
          {
           "marker": {
            "size": [
             1092,
             1092,
             487,
             872
            ],
            "sizemode": "area",
            "sizeref": 5
           },
           "mode": "markers",
           "name": "XE",
           "text": [
            "EWR",
            "EWR",
            "EWR",
            "EWR"
           ],
           "type": "scatter",
           "x": [
            228,
            196,
            92,
            158
           ],
           "y": [
            289,
            223,
            200,
            195
           ]
          },
          {
           "marker": {
            "size": [],
            "sizemode": "area",
            "sizeref": 5
           },
           "mode": "markers",
           "name": "F9",
           "text": [],
           "type": "scatter",
           "x": [],
           "y": []
          },
          {
           "marker": {
            "size": [
             213
            ],
            "sizemode": "area",
            "sizeref": 5
           },
           "mode": "markers",
           "name": "YV",
           "text": [
            "CLT"
           ],
           "type": "scatter",
           "x": [
            40
           ],
           "y": [
            211
           ]
          },
          {
           "marker": {
            "size": [
             151,
             147,
             952,
             331,
             321,
             147,
             83,
             83,
             208
            ],
            "sizemode": "area",
            "sizeref": 5
           },
           "mode": "markers",
           "name": "EV",
           "text": [
            "ATL",
            "MGM",
            "MHT",
            "FAY",
            "ATL",
            "MGM",
            "CSG",
            "ATL",
            "VLD"
           ],
           "type": "scatter",
           "x": [
            37,
            34,
            171,
            87,
            61,
            31,
            21,
            30,
            54
           ],
           "y": [
            338,
            320,
            284,
            256,
            211,
            204,
            203,
            199,
            188
           ]
          },
          {
           "marker": {
            "size": [],
            "sizemode": "area",
            "sizeref": 5
           },
           "mode": "markers",
           "name": "HA",
           "text": [],
           "type": "scatter",
           "x": [],
           "y": []
          },
          {
           "marker": {
            "size": [],
            "sizemode": "area",
            "sizeref": 5
           },
           "mode": "markers",
           "name": "B6",
           "text": [],
           "type": "scatter",
           "x": [],
           "y": []
          },
          {
           "marker": {
            "size": [
             727,
             666
            ],
            "sizemode": "area",
            "sizeref": 5
           },
           "mode": "markers",
           "name": "WN",
           "text": [
            "SDF",
            "JAN"
           ],
           "type": "scatter",
           "x": [
            105,
            86
           ],
           "y": [
            288,
            194
           ]
          }
         ],
         "name": "13"
        },
        {
         "data": [
          {
           "marker": {
            "size": [
             920,
             1217,
             813
            ],
            "sizemode": "area",
            "sizeref": 5
           },
           "mode": "markers",
           "name": "AA",
           "text": [
            "DCA",
            "BWI",
            "DFW"
           ],
           "type": "scatter",
           "x": [
            135,
            187,
            117
           ],
           "y": [
            299,
            249,
            214
           ]
          },
          {
           "marker": {
            "size": [
             405,
             963,
             1979,
             440
            ],
            "sizemode": "area",
            "sizeref": 5
           },
           "mode": "markers",
           "name": "NW",
           "text": [
            "DCA",
            "MEM",
            "DTW",
            "STL"
           ],
           "type": "scatter",
           "x": [
            77,
            120,
            270,
            62
           ],
           "y": [
            224,
            207,
            198,
            193
           ]
          },
          {
           "marker": {
            "size": [
             860,
             297
            ],
            "sizemode": "area",
            "sizeref": 5
           },
           "mode": "markers",
           "name": "FL",
           "text": [
            "MKE",
            "MSP"
           ],
           "type": "scatter",
           "x": [
            92,
            52
           ],
           "y": [
            228,
            207
           ]
          },
          {
           "marker": {
            "size": [
             109,
             177,
             408,
             612,
             213,
             227
            ],
            "sizemode": "area",
            "sizeref": 5
           },
           "mode": "markers",
           "name": "MQ",
           "text": [
            "MSN",
            "IND",
            "DFW",
            "RDU",
            "CWA",
            "DCA"
           ],
           "type": "scatter",
           "x": [
            35,
            44,
            56,
            94,
            49,
            53
           ],
           "y": [
            277,
            253,
            211,
            210,
            191,
            185
           ]
          },
          {
           "marker": {
            "size": [
             189,
             423,
             128,
             128,
             381,
             296
            ],
            "sizemode": "area",
            "sizeref": 5
           },
           "mode": "markers",
           "name": "9E",
           "text": [
            "JAN",
            "MEM",
            "DTW",
            "FWA",
            "IND",
            "DTW"
           ],
           "type": "scatter",
           "x": [
            44,
            71,
            66,
            28,
            71,
            46
           ],
           "y": [
            318,
            272,
            246,
            232,
            228,
            203
           ]
          },
          {
           "marker": {
            "size": [
             1208,
             745,
             1222
            ],
            "sizemode": "area",
            "sizeref": 5
           },
           "mode": "markers",
           "name": "CO",
           "text": [
            "IAH",
            "EWR",
            "IAH"
           ],
           "type": "scatter",
           "x": [
            131,
            132,
            170
           ],
           "y": [
            243,
            236,
            189
           ]
          },
          {
           "marker": {
            "size": [
             423,
             421,
             589
            ],
            "sizemode": "area",
            "sizeref": 5
           },
           "mode": "markers",
           "name": "OO",
           "text": [
            "LNK",
            "PSP",
            "ATL"
           ],
           "type": "scatter",
           "x": [
            70,
            64,
            92
           ],
           "y": [
            275,
            214,
            188
           ]
          },
          {
           "marker": {
            "size": [
             606,
             445,
             761,
             356,
             227,
             594,
             547,
             425
            ],
            "sizemode": "area",
            "sizeref": 5
           },
           "mode": "markers",
           "name": "DL",
           "text": [
            "ORD",
            "SRQ",
            "LGA",
            "ATL",
            "CLT",
            "ATL",
            "ATL",
            "ATL"
           ],
           "type": "scatter",
           "x": [
            93,
            80,
            122,
            60,
            49,
            81,
            75,
            75
           ],
           "y": [
            720,
            611,
            287,
            279,
            247,
            236,
            204,
            189
           ]
          },
          {
           "marker": {
            "size": [
             978
            ],
            "sizemode": "area",
            "sizeref": 5
           },
           "mode": "markers",
           "name": "AS",
           "text": [
            "SNA"
           ],
           "type": "scatter",
           "x": [
            166
           ],
           "y": [
            323
           ]
          },
          {
           "marker": {
            "size": [
             338
            ],
            "sizemode": "area",
            "sizeref": 5
           },
           "mode": "markers",
           "name": "US",
           "text": [
            "SNA"
           ],
           "type": "scatter",
           "x": [
            55
           ],
           "y": [
            223
           ]
          },
          {
           "marker": {
            "size": [
             472,
             2419
            ],
            "sizemode": "area",
            "sizeref": 5
           },
           "mode": "markers",
           "name": "UA",
           "text": [
            "OMA",
            "SFO"
           ],
           "type": "scatter",
           "x": [
            77,
            257
           ],
           "y": [
            333,
            188
           ]
          },
          {
           "marker": {
            "size": [
             548,
             1417,
             399
            ],
            "sizemode": "area",
            "sizeref": 5
           },
           "mode": "markers",
           "name": "OH",
           "text": [
            "BDL",
            "IAH",
            "DCA"
           ],
           "type": "scatter",
           "x": [
            107,
            175,
            70
           ],
           "y": [
            237,
            226,
            199
           ]
          },
          {
           "marker": {
            "size": [
             469,
             878,
             802,
             594,
             446,
             725,
             745,
             487,
             427,
             1190,
             192,
             984
            ],
            "sizemode": "area",
            "sizeref": 5
           },
           "mode": "markers",
           "name": "XE",
           "text": [
            "MEM",
            "CAE",
            "IAH",
            "GSP",
            "GSO",
            "EWR",
            "ATL",
            "EWR",
            "MOB",
            "IAH",
            "SHV",
            "MKE"
           ],
           "type": "scatter",
           "x": [
            84,
            141,
            98,
            85,
            67,
            137,
            98,
            98,
            75,
            133,
            46,
            162
           ],
           "y": [
            502,
            370,
            364,
            308,
            247,
            236,
            224,
            217,
            209,
            201,
            194,
            188
           ]
          },
          {
           "marker": {
            "size": [],
            "sizemode": "area",
            "sizeref": 5
           },
           "mode": "markers",
           "name": "F9",
           "text": [],
           "type": "scatter",
           "x": [],
           "y": []
          },
          {
           "marker": {
            "size": [],
            "sizemode": "area",
            "sizeref": 5
           },
           "mode": "markers",
           "name": "YV",
           "text": [],
           "type": "scatter",
           "x": [],
           "y": []
          },
          {
           "marker": {
            "size": [
             363,
             106,
             143,
             516,
             331,
             303,
             191,
             247,
             215,
             164,
             449,
             377,
             223,
             106,
             761,
             377,
             453,
             508,
             449,
             164,
             508,
             446
            ],
            "sizemode": "area",
            "sizeref": 5
           },
           "mode": "markers",
           "name": "EV",
           "text": [
            "ATL",
            "CHA",
            "ATL",
            "ORF",
            "ATL",
            "LEX",
            "CAE",
            "PFN",
            "SAV",
            "AVL",
            "BTR",
            "ILM",
            "TLH",
            "ATL",
            "OKC",
            "ILM",
            "LIT",
            "FWA",
            "ATL",
            "AVL",
            "PHF",
            "CMH"
           ],
           "type": "scatter",
           "x": [
            53,
            27,
            29,
            101,
            47,
            56,
            59,
            45,
            61,
            37,
            68,
            69,
            49,
            29,
            102,
            88,
            65,
            89,
            74,
            42,
            93,
            84
           ],
           "y": [
            278,
            275,
            245,
            226,
            225,
            222,
            210,
            209,
            206,
            202,
            201,
            200,
            200,
            195,
            188,
            188,
            187,
            186,
            186,
            185,
            185,
            183
           ]
          },
          {
           "marker": {
            "size": [],
            "sizemode": "area",
            "sizeref": 5
           },
           "mode": "markers",
           "name": "HA",
           "text": [],
           "type": "scatter",
           "x": [],
           "y": []
          },
          {
           "marker": {
            "size": [],
            "sizemode": "area",
            "sizeref": 5
           },
           "mode": "markers",
           "name": "B6",
           "text": [],
           "type": "scatter",
           "x": [],
           "y": []
          },
          {
           "marker": {
            "size": [
             611,
             1040,
             1844,
             668,
             303,
             162,
             251
            ],
            "sizemode": "area",
            "sizeref": 5
           },
           "mode": "markers",
           "name": "WN",
           "text": [
            "MDW",
            "SAT",
            "MDW",
            "MDW",
            "HOU",
            "MDW",
            "MDW"
           ],
           "type": "scatter",
           "x": [
            81,
            125,
            267,
            86,
            42,
            32,
            53
           ],
           "y": [
            253,
            213,
            212,
            200,
            198,
            188,
            183
           ]
          }
         ],
         "name": "14"
        },
        {
         "data": [
          {
           "marker": {
            "size": [
             1721,
             1745,
             1197,
             1471,
             920,
             1593,
             920
            ],
            "sizemode": "area",
            "sizeref": 5
           },
           "mode": "markers",
           "name": "AA",
           "text": [
            "SEA",
            "LAX",
            "ORD",
            "BDL",
            "DCA",
            "LAX",
            "MIA"
           ],
           "type": "scatter",
           "x": [
            177,
            210,
            151,
            243,
            139,
            189,
            118
           ],
           "y": [
            264,
            256,
            228,
            227,
            214,
            213,
            196
           ]
          },
          {
           "marker": {
            "size": [
             228
            ],
            "sizemode": "area",
            "sizeref": 5
           },
           "mode": "markers",
           "name": "NW",
           "text": [
            "MSP"
           ],
           "type": "scatter",
           "x": [
            35
           ],
           "y": [
            210
           ]
          },
          {
           "marker": {
            "size": [
             692
            ],
            "sizemode": "area",
            "sizeref": 5
           },
           "mode": "markers",
           "name": "FL",
           "text": [
            "MCI"
           ],
           "type": "scatter",
           "x": [
            96
           ],
           "y": [
            361
           ]
          },
          {
           "marker": {
            "size": [
             482,
             473,
             247
            ],
            "sizemode": "area",
            "sizeref": 5
           },
           "mode": "markers",
           "name": "MQ",
           "text": [
            "BRO",
            "BUF",
            "HOU"
           ],
           "type": "scatter",
           "x": [
            74,
            90,
            40
           ],
           "y": [
            312,
            290,
            193
           ]
          },
          {
           "marker": {
            "size": [
             355
            ],
            "sizemode": "area",
            "sizeref": 5
           },
           "mode": "markers",
           "name": "9E",
           "text": [
            "PNS"
           ],
           "type": "scatter",
           "x": [
            65
           ],
           "y": [
            395
           ]
          },
          {
           "marker": {
            "size": [
             643
            ],
            "sizemode": "area",
            "sizeref": 5
           },
           "mode": "markers",
           "name": "CO",
           "text": [
            "MCI"
           ],
           "type": "scatter",
           "x": [
            107
           ],
           "y": [
            298
           ]
          },
          {
           "marker": {
            "size": [
             86
            ],
            "sizemode": "area",
            "sizeref": 5
           },
           "mode": "markers",
           "name": "OO",
           "text": [
            "SMF"
           ],
           "type": "scatter",
           "x": [
            29
           ],
           "y": [
            286
           ]
          },
          {
           "marker": {
            "size": [
             546,
             692,
             906,
             732
            ],
            "sizemode": "area",
            "sizeref": 5
           },
           "mode": "markers",
           "name": "DL",
           "text": [
            "GEG",
            "MCI",
            "MSP",
            "DFW"
           ],
           "type": "scatter",
           "x": [
            72,
            96,
            107,
            99
           ],
           "y": [
            674,
            535,
            460,
            323
           ]
          },
          {
           "marker": {
            "size": [
             1216
            ],
            "sizemode": "area",
            "sizeref": 5
           },
           "mode": "markers",
           "name": "AS",
           "text": [
            "TUS"
           ],
           "type": "scatter",
           "x": [
            172
           ],
           "y": [
            213
           ]
          },
          {
           "marker": {
            "size": [
             1916,
             468,
             678
            ],
            "sizemode": "area",
            "sizeref": 5
           },
           "mode": "markers",
           "name": "US",
           "text": [
            "LAS",
            "CLT",
            "PHL"
           ],
           "type": "scatter",
           "x": [
            220,
            71,
            119
           ],
           "y": [
            314,
            226,
            191
           ]
          },
          {
           "marker": {
            "size": [
             403,
             2398,
             2367,
             2367
            ],
            "sizemode": "area",
            "sizeref": 5
           },
           "mode": "markers",
           "name": "UA",
           "text": [
            "MCI",
            "SFO",
            "SFO",
            "KOA"
           ],
           "type": "scatter",
           "x": [
            58,
            321,
            304,
            311
           ],
           "y": [
            416,
            315,
            296,
            265
           ]
          },
          {
           "marker": {
            "size": [],
            "sizemode": "area",
            "sizeref": 5
           },
           "mode": "markers",
           "name": "OH",
           "text": [],
           "type": "scatter",
           "x": [],
           "y": []
          },
          {
           "marker": {
            "size": [],
            "sizemode": "area",
            "sizeref": 5
           },
           "mode": "markers",
           "name": "XE",
           "text": [],
           "type": "scatter",
           "x": [],
           "y": []
          },
          {
           "marker": {
            "size": [],
            "sizemode": "area",
            "sizeref": 5
           },
           "mode": "markers",
           "name": "F9",
           "text": [],
           "type": "scatter",
           "x": [],
           "y": []
          },
          {
           "marker": {
            "size": [
             401
            ],
            "sizemode": "area",
            "sizeref": 5
           },
           "mode": "markers",
           "name": "YV",
           "text": [
            "IAD"
           ],
           "type": "scatter",
           "x": [
            63
           ],
           "y": [
            246
           ]
          },
          {
           "marker": {
            "size": [
             357,
             393,
             164
            ],
            "sizemode": "area",
            "sizeref": 5
           },
           "mode": "markers",
           "name": "EV",
           "text": [
            "ROA",
            "FLL",
            "AVL"
           ],
           "type": "scatter",
           "x": [
            68,
            59,
            36
           ],
           "y": [
            243,
            202,
            194
           ]
          },
          {
           "marker": {
            "size": [],
            "sizemode": "area",
            "sizeref": 5
           },
           "mode": "markers",
           "name": "HA",
           "text": [],
           "type": "scatter",
           "x": [],
           "y": []
          },
          {
           "marker": {
            "size": [
             728,
             288
            ],
            "sizemode": "area",
            "sizeref": 5
           },
           "mode": "markers",
           "name": "B6",
           "text": [
            "CLT",
            "RIC"
           ],
           "type": "scatter",
           "x": [
            87,
            47
           ],
           "y": [
            309,
            187
           ]
          },
          {
           "marker": {
            "size": [],
            "sizemode": "area",
            "sizeref": 5
           },
           "mode": "markers",
           "name": "WN",
           "text": [],
           "type": "scatter",
           "x": [],
           "y": []
          }
         ],
         "name": "15"
        },
        {
         "data": [
          {
           "marker": {
            "size": [
             1464,
             1464,
             1205,
             1235,
             1055,
             432,
             432
            ],
            "sizemode": "area",
            "sizeref": 5
           },
           "mode": "markers",
           "name": "AA",
           "text": [
            "DFW",
            "SFO",
            "SNA",
            "LAX",
            "LAS",
            "DFW",
            "MEM"
           ],
           "type": "scatter",
           "x": [
            196,
            174,
            149,
            156,
            127,
            58,
            64
           ],
           "y": [
            389,
            370,
            342,
            266,
            218,
            202,
            191
           ]
          },
          {
           "marker": {
            "size": [
             1536,
             1536
            ],
            "sizemode": "area",
            "sizeref": 5
           },
           "mode": "markers",
           "name": "NW",
           "text": [
            "MSP",
            "LAX"
           ],
           "type": "scatter",
           "x": [
            209,
            180
           ],
           "y": [
            214,
            200
           ]
          },
          {
           "marker": {
            "size": [
             483
            ],
            "sizemode": "area",
            "sizeref": 5
           },
           "mode": "markers",
           "name": "FL",
           "text": [
            "STL"
           ],
           "type": "scatter",
           "x": [
            69
           ],
           "y": [
            601
           ]
          },
          {
           "marker": {
            "size": [
             438,
             316,
             399,
             482,
             522,
             364
            ],
            "sizemode": "area",
            "sizeref": 5
           },
           "mode": "markers",
           "name": "MQ",
           "text": [
            "SGF",
            "CLE",
            "DCA",
            "BRO",
            "XNA",
            "SGF"
           ],
           "type": "scatter",
           "x": [
            66,
            63,
            56,
            66,
            68,
            58
           ],
           "y": [
            767,
            406,
            365,
            303,
            283,
            185
           ]
          },
          {
           "marker": {
            "size": [
             342,
             271
            ],
            "sizemode": "area",
            "sizeref": 5
           },
           "mode": "markers",
           "name": "9E",
           "text": [
            "TYS",
            "MEM"
           ],
           "type": "scatter",
           "x": [
            60,
            42
           ],
           "y": [
            305,
            191
           ]
          },
          {
           "marker": {
            "size": [
             1825,
             2454
            ],
            "sizemode": "area",
            "sizeref": 5
           },
           "mode": "markers",
           "name": "CO",
           "text": [
            "LAS",
            "EWR"
           ],
           "type": "scatter",
           "x": [
            198,
            319
           ],
           "y": [
            616,
            209
           ]
          },
          {
           "marker": {
            "size": [
             631,
             522
            ],
            "sizemode": "area",
            "sizeref": 5
           },
           "mode": "markers",
           "name": "OO",
           "text": [
            "AVP",
            "SFO"
           ],
           "type": "scatter",
           "x": [
            115,
            67
           ],
           "y": [
            428,
            215
           ]
          },
          {
           "marker": {
            "size": [
             1947,
             749
            ],
            "sizemode": "area",
            "sizeref": 5
           },
           "mode": "markers",
           "name": "DL",
           "text": [
            "LAX",
            "ROC"
           ],
           "type": "scatter",
           "x": [
            224,
            103
           ],
           "y": [
            278,
            255
           ]
          },
          {
           "marker": {
            "size": [
             183
            ],
            "sizemode": "area",
            "sizeref": 5
           },
           "mode": "markers",
           "name": "AS",
           "text": [
            "OTZ"
           ],
           "type": "scatter",
           "x": [
            30
           ],
           "y": [
            216
           ]
          },
          {
           "marker": {
            "size": [
             1020
            ],
            "sizemode": "area",
            "sizeref": 5
           },
           "mode": "markers",
           "name": "US",
           "text": [
            "GEG"
           ],
           "type": "scatter",
           "x": [
            128
           ],
           "y": [
            236
           ]
          },
          {
           "marker": {
            "size": [],
            "sizemode": "area",
            "sizeref": 5
           },
           "mode": "markers",
           "name": "UA",
           "text": [],
           "type": "scatter",
           "x": [],
           "y": []
          },
          {
           "marker": {
            "size": [],
            "sizemode": "area",
            "sizeref": 5
           },
           "mode": "markers",
           "name": "OH",
           "text": [],
           "type": "scatter",
           "x": [],
           "y": []
          },
          {
           "marker": {
            "size": [
             725,
             351,
             929
            ],
            "sizemode": "area",
            "sizeref": 5
           },
           "mode": "markers",
           "name": "XE",
           "text": [
            "MKE",
            "JAN",
            "DAY"
           ],
           "type": "scatter",
           "x": [
            92,
            54,
            143
           ],
           "y": [
            257,
            228,
            220
           ]
          },
          {
           "marker": {
            "size": [
             1460
            ],
            "sizemode": "area",
            "sizeref": 5
           },
           "mode": "markers",
           "name": "F9",
           "text": [
            "PHX"
           ],
           "type": "scatter",
           "x": [
            163
           ],
           "y": [
            212
           ]
          },
          {
           "marker": {
            "size": [
             693
            ],
            "sizemode": "area",
            "sizeref": 5
           },
           "mode": "markers",
           "name": "YV",
           "text": [
            "OKC"
           ],
           "type": "scatter",
           "x": [
            96
           ],
           "y": [
            333
           ]
          },
          {
           "marker": {
            "size": [
             152
            ],
            "sizemode": "area",
            "sizeref": 5
           },
           "mode": "markers",
           "name": "EV",
           "text": [
            "TYS"
           ],
           "type": "scatter",
           "x": [
            32
           ],
           "y": [
            187
           ]
          },
          {
           "marker": {
            "size": [],
            "sizemode": "area",
            "sizeref": 5
           },
           "mode": "markers",
           "name": "HA",
           "text": [],
           "type": "scatter",
           "x": [],
           "y": []
          },
          {
           "marker": {
            "size": [],
            "sizemode": "area",
            "sizeref": 5
           },
           "mode": "markers",
           "name": "B6",
           "text": [],
           "type": "scatter",
           "x": [],
           "y": []
          },
          {
           "marker": {
            "size": [],
            "sizemode": "area",
            "sizeref": 5
           },
           "mode": "markers",
           "name": "WN",
           "text": [],
           "type": "scatter",
           "x": [],
           "y": []
          }
         ],
         "name": "16"
        },
        {
         "data": [
          {
           "marker": {
            "size": [
             1471,
             2586
            ],
            "sizemode": "area",
            "sizeref": 5
           },
           "mode": "markers",
           "name": "AA",
           "text": [
            "BDL",
            "SFO"
           ],
           "type": "scatter",
           "x": [
            208,
            280
           ],
           "y": [
            322,
            318
           ]
          },
          {
           "marker": {
            "size": [
             223,
             1536
            ],
            "sizemode": "area",
            "sizeref": 5
           },
           "mode": "markers",
           "name": "NW",
           "text": [
            "FAR",
            "LAX"
           ],
           "type": "scatter",
           "x": [
            36,
            191
           ],
           "y": [
            272,
            205
           ]
          },
          {
           "marker": {
            "size": [],
            "sizemode": "area",
            "sizeref": 5
           },
           "mode": "markers",
           "name": "FL",
           "text": [],
           "type": "scatter",
           "x": [],
           "y": []
          },
          {
           "marker": {
            "size": [
             285
            ],
            "sizemode": "area",
            "sizeref": 5
           },
           "mode": "markers",
           "name": "MQ",
           "text": [
            "AEX"
           ],
           "type": "scatter",
           "x": [
            52
           ],
           "y": [
            357
           ]
          },
          {
           "marker": {
            "size": [],
            "sizemode": "area",
            "sizeref": 5
           },
           "mode": "markers",
           "name": "9E",
           "text": [],
           "type": "scatter",
           "x": [],
           "y": []
          },
          {
           "marker": {
            "size": [
             938,
             305,
             861
            ],
            "sizemode": "area",
            "sizeref": 5
           },
           "mode": "markers",
           "name": "CO",
           "text": [
            "EWR",
            "IAH",
            "IAH"
           ],
           "type": "scatter",
           "x": [
            137,
            50,
            122
           ],
           "y": [
            325,
            205,
            184
           ]
          },
          {
           "marker": {
            "size": [],
            "sizemode": "area",
            "sizeref": 5
           },
           "mode": "markers",
           "name": "OO",
           "text": [],
           "type": "scatter",
           "x": [],
           "y": []
          },
          {
           "marker": {
            "size": [
             2586,
             859,
             302
            ],
            "sizemode": "area",
            "sizeref": 5
           },
           "mode": "markers",
           "name": "DL",
           "text": [
            "SFO",
            "ATL",
            "MOB"
           ],
           "type": "scatter",
           "x": [
            279,
            113,
            45
           ],
           "y": [
            214,
            197,
            186
           ]
          },
          {
           "marker": {
            "size": [
             866,
             2562,
             1216,
             909,
             909
            ],
            "sizemode": "area",
            "sizeref": 5
           },
           "mode": "markers",
           "name": "AS",
           "text": [
            "LAS",
            "OGG",
            "SEA",
            "SEA",
            "JNU"
           ],
           "type": "scatter",
           "x": [
            137,
            265,
            147,
            126,
            131
           ],
           "y": [
            392,
            328,
            270,
            209,
            189
           ]
          },
          {
           "marker": {
            "size": [
             481,
             647,
             1576
            ],
            "sizemode": "area",
            "sizeref": 5
           },
           "mode": "markers",
           "name": "US",
           "text": [
            "ABE",
            "SMF",
            "SJU"
           ],
           "type": "scatter",
           "x": [
            75,
            84,
            215
           ],
           "y": [
            290,
            217,
            188
           ]
          },
          {
           "marker": {
            "size": [
             2419,
             2457
            ],
            "sizemode": "area",
            "sizeref": 5
           },
           "mode": "markers",
           "name": "UA",
           "text": [
            "IAD",
            "BWI"
           ],
           "type": "scatter",
           "x": [
            332,
            332
           ],
           "y": [
            249,
            237
           ]
          },
          {
           "marker": {
            "size": [],
            "sizemode": "area",
            "sizeref": 5
           },
           "mode": "markers",
           "name": "OH",
           "text": [],
           "type": "scatter",
           "x": [],
           "y": []
          },
          {
           "marker": {
            "size": [
             725
            ],
            "sizemode": "area",
            "sizeref": 5
           },
           "mode": "markers",
           "name": "XE",
           "text": [
            "MKE"
           ],
           "type": "scatter",
           "x": [
            89
           ],
           "y": [
            290
           ]
          },
          {
           "marker": {
            "size": [],
            "sizemode": "area",
            "sizeref": 5
           },
           "mode": "markers",
           "name": "F9",
           "text": [],
           "type": "scatter",
           "x": [],
           "y": []
          },
          {
           "marker": {
            "size": [],
            "sizemode": "area",
            "sizeref": 5
           },
           "mode": "markers",
           "name": "YV",
           "text": [],
           "type": "scatter",
           "x": [],
           "y": []
          },
          {
           "marker": {
            "size": [
             508,
             302,
             457
            ],
            "sizemode": "area",
            "sizeref": 5
           },
           "mode": "markers",
           "name": "EV",
           "text": [
            "FWA",
            "MOB",
            "CHO"
           ],
           "type": "scatter",
           "x": [
            78,
            45,
            71
           ],
           "y": [
            300,
            214,
            208
           ]
          },
          {
           "marker": {
            "size": [],
            "sizemode": "area",
            "sizeref": 5
           },
           "mode": "markers",
           "name": "HA",
           "text": [],
           "type": "scatter",
           "x": [],
           "y": []
          },
          {
           "marker": {
            "size": [
             2569,
             209,
             228
            ],
            "sizemode": "area",
            "sizeref": 5
           },
           "mode": "markers",
           "name": "B6",
           "text": [
            "SJC",
            "JFK",
            "JFK"
           ],
           "type": "scatter",
           "x": [
            295,
            48,
            47
           ],
           "y": [
            405,
            228,
            186
           ]
          },
          {
           "marker": {
            "size": [
             1524,
             178
            ],
            "sizemode": "area",
            "sizeref": 5
           },
           "mode": "markers",
           "name": "WN",
           "text": [
            "MKE",
            "FLL"
           ],
           "type": "scatter",
           "x": [
            208,
            30
           ],
           "y": [
            383,
            189
           ]
          }
         ],
         "name": "17"
        },
        {
         "data": [
          {
           "marker": {
            "size": [
             2398,
             1372,
             1242,
             946
            ],
            "sizemode": "area",
            "sizeref": 5
           },
           "mode": "markers",
           "name": "AA",
           "text": [
            "SFO",
            "DFW",
            "LAX",
            "BWI"
           ],
           "type": "scatter",
           "x": [
            357,
            166,
            148,
            185
           ],
           "y": [
            487,
            235,
            224,
            213
           ]
          },
          {
           "marker": {
            "size": [
             334
            ],
            "sizemode": "area",
            "sizeref": 5
           },
           "mode": "markers",
           "name": "NW",
           "text": [
            "ORD"
           ],
           "type": "scatter",
           "x": [
            54
           ],
           "y": [
            382
           ]
          },
          {
           "marker": {
            "size": [
             1747,
             1524,
             895,
             925,
             906
            ],
            "sizemode": "area",
            "sizeref": 5
           },
           "mode": "markers",
           "name": "FL",
           "text": [
            "LAS",
            "LAS",
            "MKE",
            "FLL",
            "ATL"
           ],
           "type": "scatter",
           "x": [
            209,
            190,
            121,
            113,
            116
           ],
           "y": [
            1088,
            678,
            276,
            211,
            208
           ]
          },
          {
           "marker": {
            "size": [
             304,
             174,
             624,
             1021,
             209
            ],
            "sizemode": "area",
            "sizeref": 5
           },
           "mode": "markers",
           "name": "MQ",
           "text": [
            "LIT",
            "ORD",
            "DSM",
            "IND",
            "FAT"
           ],
           "type": "scatter",
           "x": [
            57,
            31,
            104,
            153,
            49
           ],
           "y": [
            311,
            278,
            253,
            232,
            201
           ]
          },
          {
           "marker": {
            "size": [
             652,
             258,
             231
            ],
            "sizemode": "area",
            "sizeref": 5
           },
           "mode": "markers",
           "name": "9E",
           "text": [
            "MEM",
            "MEM",
            "DTW"
           ],
           "type": "scatter",
           "x": [
            82,
            48,
            45
           ],
           "y": [
            222,
            217,
            186
           ]
          },
          {
           "marker": {
            "size": [
             1609,
             745
            ],
            "sizemode": "area",
            "sizeref": 5
           },
           "mode": "markers",
           "name": "CO",
           "text": [
            "SMF",
            "EWR"
           ],
           "type": "scatter",
           "x": [
            185,
            120
           ],
           "y": [
            638,
            238
           ]
          },
          {
           "marker": {
            "size": [
             412,
             438,
             313,
             129,
             313,
             606,
             925
            ],
            "sizemode": "area",
            "sizeref": 5
           },
           "mode": "markers",
           "name": "OO",
           "text": [
            "SFO",
            "ORD",
            "GCC",
            "PDX",
            "DEN",
            "ORD",
            "ORD"
           ],
           "type": "scatter",
           "x": [
            110,
            67,
            62,
            39,
            68,
            93,
            127
           ],
           "y": [
            221,
            216,
            216,
            216,
            204,
            192,
            186
           ]
          },
          {
           "marker": {
            "size": [
             665,
             547,
             547,
             547,
             581,
             761,
             756
            ],
            "sizemode": "area",
            "sizeref": 5
           },
           "mode": "markers",
           "name": "DL",
           "text": [
            "PHL",
            "DCA",
            "ATL",
            "DCA",
            "ATL",
            "ATL",
            "MCO"
           ],
           "type": "scatter",
           "x": [
            104,
            87,
            70,
            93,
            88,
            92,
            94
           ],
           "y": [
            479,
            390,
            350,
            189,
            189,
            186,
            186
           ]
          },
          {
           "marker": {
            "size": [
             954
            ],
            "sizemode": "area",
            "sizeref": 5
           },
           "mode": "markers",
           "name": "AS",
           "text": [
            "LAX"
           ],
           "type": "scatter",
           "x": [
            141
           ],
           "y": [
            226
           ]
          },
          {
           "marker": {
            "size": [
             1013,
             329
            ],
            "sizemode": "area",
            "sizeref": 5
           },
           "mode": "markers",
           "name": "US",
           "text": [
            "MIA",
            "CLT"
           ],
           "type": "scatter",
           "x": [
            126,
            57
           ],
           "y": [
            246,
            206
           ]
          },
          {
           "marker": {
            "size": [
             1012,
             1726,
             2288,
             1721,
             589,
             967
            ],
            "sizemode": "area",
            "sizeref": 5
           },
           "mode": "markers",
           "name": "UA",
           "text": [
            "ORD",
            "SNA",
            "IAD",
            "SEA",
            "ORD",
            "SFO"
           ],
           "type": "scatter",
           "x": [
            130,
            214,
            285,
            206,
            86,
            117
           ],
           "y": [
            314,
            259,
            239,
            218,
            203,
            190
           ]
          },
          {
           "marker": {
            "size": [
             812,
             411
            ],
            "sizemode": "area",
            "sizeref": 5
           },
           "mode": "markers",
           "name": "OH",
           "text": [
            "DFW",
            "DCA"
           ],
           "type": "scatter",
           "x": [
            88,
            71
           ],
           "y": [
            583,
            301
           ]
          },
          {
           "marker": {
            "size": [],
            "sizemode": "area",
            "sizeref": 5
           },
           "mode": "markers",
           "name": "XE",
           "text": [],
           "type": "scatter",
           "x": [],
           "y": []
          },
          {
           "marker": {
            "size": [],
            "sizemode": "area",
            "sizeref": 5
           },
           "mode": "markers",
           "name": "F9",
           "text": [],
           "type": "scatter",
           "x": [],
           "y": []
          },
          {
           "marker": {
            "size": [
             462,
             344,
             130
            ],
            "sizemode": "area",
            "sizeref": 5
           },
           "mode": "markers",
           "name": "YV",
           "text": [
            "FSD",
            "ORD",
            "RDU"
           ],
           "type": "scatter",
           "x": [
            74,
            57,
            40
           ],
           "y": [
            249,
            212,
            184
           ]
          },
          {
           "marker": {
            "size": [
             306,
             481,
             143,
             191,
             247,
             247,
             554,
             449,
             449,
             433,
             306,
             554,
             191,
             669,
             152,
             106,
             191,
             528,
             273,
             449,
             147,
             453,
             389,
             321,
             247,
             674,
             303,
             321,
             302,
             453,
             526,
             143,
             191,
             448,
             526,
             147,
             147,
             302,
             317,
             247
            ],
            "sizemode": "area",
            "sizeref": 5
           },
           "mode": "markers",
           "name": "EV",
           "text": [
            "GSO",
            "RIC",
            "ATL",
            "ATL",
            "PFN",
            "ATL",
            "CLE",
            "BTR",
            "BTR",
            "ATL",
            "GSO",
            "ATL",
            "CAE",
            "MKE",
            "TYS",
            "ATL",
            "ATL",
            "CAK",
            "ATL",
            "ATL",
            "MGM",
            "LIT",
            "LYH",
            "SDF",
            "ATL",
            "ATL",
            "LEX",
            "ATL",
            "MOB",
            "ATL",
            "PIT",
            "ATL",
            "CAE",
            "MLU",
            "ATL",
            "ATL",
            "MGM",
            "MOB",
            "MYR",
            "PFN"
           ],
           "type": "scatter",
           "x": [
            54,
            90,
            44,
            32,
            48,
            45,
            102,
            61,
            63,
            60,
            67,
            73,
            53,
            102,
            43,
            23,
            37,
            99,
            39,
            71,
            32,
            66,
            78,
            81,
            46,
            104,
            63,
            49,
            52,
            71,
            94,
            31,
            56,
            63,
            66,
            30,
            31,
            44,
            63,
            60
           ],
           "y": [
            351,
            335,
            335,
            332,
            322,
            314,
            307,
            298,
            294,
            286,
            285,
            283,
            269,
            268,
            267,
            264,
            251,
            245,
            244,
            238,
            233,
            232,
            231,
            229,
            226,
            226,
            222,
            216,
            205,
            204,
            202,
            200,
            199,
            197,
            194,
            191,
            191,
            189,
            185,
            183
           ]
          },
          {
           "marker": {
            "size": [
             102
            ],
            "sizemode": "area",
            "sizeref": 5
           },
           "mode": "markers",
           "name": "HA",
           "text": [
            "LIH"
           ],
           "type": "scatter",
           "x": [
            23
           ],
           "y": [
            212
           ]
          },
          {
           "marker": {
            "size": [
             846,
             1576,
             1121,
             228,
             324
            ],
            "sizemode": "area",
            "sizeref": 5
           },
           "mode": "markers",
           "name": "B6",
           "text": [
            "LGB",
            "BQN",
            "MCO",
            "IAD",
            "LGB"
           ],
           "type": "scatter",
           "x": [
            123,
            220,
            133,
            48,
            53
           ],
           "y": [
            262,
            258,
            225,
            198,
            189
           ]
          },
          {
           "marker": {
            "size": [
             328,
             377,
             580,
             1137,
             737,
             588
            ],
            "sizemode": "area",
            "sizeref": 5
           },
           "mode": "markers",
           "name": "WN",
           "text": [
            "BWI",
            "BWI",
            "ABQ",
            "PVD",
            "BWI",
            "BNA"
           ],
           "type": "scatter",
           "x": [
            47,
            57,
            77,
            202,
            107,
            86
           ],
           "y": [
            341,
            286,
            225,
            224,
            219,
            206
           ]
          }
         ],
         "name": "18"
        },
        {
         "data": [
          {
           "marker": {
            "size": [
             1972,
             597,
             2175,
             1464,
             193,
             193
            ],
            "sizemode": "area",
            "sizeref": 5
           },
           "mode": "markers",
           "name": "AA",
           "text": [
            "PHX",
            "BHM",
            "MIA",
            "DFW",
            "MCO",
            "MIA"
           ],
           "type": "scatter",
           "x": [
            219,
            94,
            299,
            189,
            38,
            37
           ],
           "y": [
            1278,
            1271,
            242,
            240,
            188,
            184
           ]
          },
          {
           "marker": {
            "size": [
             2518
            ],
            "sizemode": "area",
            "sizeref": 5
           },
           "mode": "markers",
           "name": "NW",
           "text": [
            "MSP"
           ],
           "type": "scatter",
           "x": [
            333
           ],
           "y": [
            193
           ]
          },
          {
           "marker": {
            "size": [],
            "sizemode": "area",
            "sizeref": 5
           },
           "mode": "markers",
           "name": "FL",
           "text": [],
           "type": "scatter",
           "x": [],
           "y": []
          },
          {
           "marker": {
            "size": [],
            "sizemode": "area",
            "sizeref": 5
           },
           "mode": "markers",
           "name": "MQ",
           "text": [],
           "type": "scatter",
           "x": [],
           "y": []
          },
          {
           "marker": {
            "size": [
             120
            ],
            "sizemode": "area",
            "sizeref": 5
           },
           "mode": "markers",
           "name": "9E",
           "text": [
            "DTW"
           ],
           "type": "scatter",
           "x": [
            33
           ],
           "y": [
            188
           ]
          },
          {
           "marker": {
            "size": [
             1222,
             1086,
             861,
             927,
             1303,
             1024,
             2454,
             1449,
             1449,
             965
            ],
            "sizemode": "area",
            "sizeref": 5
           },
           "mode": "markers",
           "name": "CO",
           "text": [
            "LAS",
            "EWR",
            "IAH",
            "CLE",
            "SAN",
            "EWR",
            "EWR",
            "SEA",
            "ANC",
            "IAH"
           ],
           "type": "scatter",
           "x": [
            148,
            184,
            123,
            136,
            166,
            160,
            312,
            194,
            181,
            113
           ],
           "y": [
            808,
            261,
            260,
            258,
            223,
            218,
            215,
            212,
            193,
            186
           ]
          },
          {
           "marker": {
            "size": [
             911,
             997,
             501,
             554,
             129
            ],
            "sizemode": "area",
            "sizeref": 5
           },
           "mode": "markers",
           "name": "OO",
           "text": [
            "COS",
            "EUG",
            "FAT",
            "CLE",
            "SEA"
           ],
           "type": "scatter",
           "x": [
            128,
            117,
            77,
            89,
            35
           ],
           "y": [
            584,
            513,
            298,
            234,
            200
           ]
          },
          {
           "marker": {
            "size": [
             879,
             422,
             515,
             366,
             1887
            ],
            "sizemode": "area",
            "sizeref": 5
           },
           "mode": "markers",
           "name": "DL",
           "text": [
            "CVG",
            "RNO",
            "RSW",
            "DAB",
            "TPA"
           ],
           "type": "scatter",
           "x": [
            133,
            132,
            89,
            59,
            264
           ],
           "y": [
            413,
            263,
            218,
            212,
            187
           ]
          },
          {
           "marker": {
            "size": [],
            "sizemode": "area",
            "sizeref": 5
           },
           "mode": "markers",
           "name": "AS",
           "text": [],
           "type": "scatter",
           "x": [],
           "y": []
          },
          {
           "marker": {
            "size": [],
            "sizemode": "area",
            "sizeref": 5
           },
           "mode": "markers",
           "name": "US",
           "text": [],
           "type": "scatter",
           "x": [],
           "y": []
          },
          {
           "marker": {
            "size": [
             2556,
             1721
            ],
            "sizemode": "area",
            "sizeref": 5
           },
           "mode": "markers",
           "name": "UA",
           "text": [
            "LAX",
            "ORD"
           ],
           "type": "scatter",
           "x": [
            334,
            250
           ],
           "y": [
            304,
            203
           ]
          },
          {
           "marker": {
            "size": [
             651,
             306,
             95
            ],
            "sizemode": "area",
            "sizeref": 5
           },
           "mode": "markers",
           "name": "OH",
           "text": [
            "DTW",
            "GSO",
            "CLE"
           ],
           "type": "scatter",
           "x": [
            95,
            61,
            27
           ],
           "y": [
            286,
            215,
            188
           ]
          },
          {
           "marker": {
            "size": [
             1201
            ],
            "sizemode": "area",
            "sizeref": 5
           },
           "mode": "markers",
           "name": "XE",
           "text": [
            "CLE"
           ],
           "type": "scatter",
           "x": [
            162
           ],
           "y": [
            222
           ]
          },
          {
           "marker": {
            "size": [],
            "sizemode": "area",
            "sizeref": 5
           },
           "mode": "markers",
           "name": "F9",
           "text": [],
           "type": "scatter",
           "x": [],
           "y": []
          },
          {
           "marker": {
            "size": [
             163,
             163,
             351,
             577,
             174,
             174
            ],
            "sizemode": "area",
            "sizeref": 5
           },
           "mode": "markers",
           "name": "YV",
           "text": [
            "HNL",
            "KOA",
            "DRO",
            "ORD",
            "ORD",
            "GRB"
           ],
           "type": "scatter",
           "x": [
            28,
            28,
            76,
            78,
            32,
            39
           ],
           "y": [
            450,
            445,
            273,
            266,
            217,
            212
           ]
          },
          {
           "marker": {
            "size": [
             331,
             508,
             164
            ],
            "sizemode": "area",
            "sizeref": 5
           },
           "mode": "markers",
           "name": "EV",
           "text": [
            "FAY",
            "FWA",
            "AVL"
           ],
           "type": "scatter",
           "x": [
            68,
            90,
            39
           ],
           "y": [
            298,
            276,
            228
           ]
          },
          {
           "marker": {
            "size": [],
            "sizemode": "area",
            "sizeref": 5
           },
           "mode": "markers",
           "name": "HA",
           "text": [],
           "type": "scatter",
           "x": [],
           "y": []
          },
          {
           "marker": {
            "size": [
             2465,
             1597,
             2586
            ],
            "sizemode": "area",
            "sizeref": 5
           },
           "mode": "markers",
           "name": "B6",
           "text": [
            "BUR",
            "SJU",
            "SFO"
           ],
           "type": "scatter",
           "x": [
            294,
            259,
            301
           ],
           "y": [
            255,
            241,
            198
           ]
          },
          {
           "marker": {
            "size": [
             1910,
             133,
             989,
             267
            ],
            "sizemode": "area",
            "sizeref": 5
           },
           "mode": "markers",
           "name": "WN",
           "text": [
            "PIT",
            "RSW",
            "MCO",
            "PHL"
           ],
           "type": "scatter",
           "x": [
            248,
            30,
            141,
            65
           ],
           "y": [
            198,
            192,
            188,
            187
           ]
          }
         ],
         "name": "19"
        },
        {
         "data": [
          {
           "marker": {
            "size": [
             551,
             1249,
             1213,
             1571,
             2288,
             719,
             1045,
             762,
             595,
             1197,
             1097,
             861,
             595,
             1438
            ],
            "sizemode": "area",
            "sizeref": 5
           },
           "mode": "markers",
           "name": "AA",
           "text": [
            "ELP",
            "SLC",
            "ORF",
            "SJU",
            "LAX",
            "EWR",
            "SJU",
            "DFW",
            "MIA",
            "MIA",
            "MIA",
            "DFW",
            "MIA",
            "SJC"
           ],
           "type": "scatter",
           "x": [
            77,
            151,
            168,
            206,
            251,
            115,
            142,
            103,
            85,
            175,
            136,
            122,
            90,
            173
           ],
           "y": [
            575,
            508,
            473,
            456,
            378,
            317,
            296,
            294,
            280,
            259,
            205,
            204,
            202,
            187
           ]
          },
          {
           "marker": {
            "size": [
             386,
             991,
             1127
            ],
            "sizemode": "area",
            "sizeref": 5
           },
           "mode": "markers",
           "name": "NW",
           "text": [
            "BIS",
            "SLC",
            "DTW"
           ],
           "type": "scatter",
           "x": [
            57,
            121,
            150
           ],
           "y": [
            429,
            283,
            203
           ]
          },
          {
           "marker": {
            "size": [
             508,
             828,
             930,
             665,
             738,
             581,
             576,
             634,
             842
            ],
            "sizemode": "area",
            "sizeref": 5
           },
           "mode": "markers",
           "name": "FL",
           "text": [
            "PHF",
            "IND",
            "RSW",
            "ATL",
            "MKE",
            "ATL",
            "ATL",
            "MKE",
            "BWI"
           ],
           "type": "scatter",
           "x": [
            79,
            103,
            122,
            92,
            100,
            81,
            81,
            86,
            121
           ],
           "y": [
            372,
            339,
            331,
            289,
            250,
            211,
            203,
            192,
            184
           ]
          },
          {
           "marker": {
            "size": [
             213,
             122,
             399,
             826,
             235,
             650,
             122
            ],
            "sizemode": "area",
            "sizeref": 5
           },
           "mode": "markers",
           "name": "MQ",
           "text": [
            "DCA",
            "AZO",
            "DCA",
            "RIC",
            "ORD",
            "MIA",
            "AZO"
           ],
           "type": "scatter",
           "x": [
            48,
            33,
            67,
            142,
            40,
            96,
            29
           ],
           "y": [
            337,
            327,
            257,
            245,
            223,
            210,
            198
           ]
          },
          {
           "marker": {
            "size": [
             545,
             197
            ],
            "sizemode": "area",
            "sizeref": 5
           },
           "mode": "markers",
           "name": "9E",
           "text": [
            "MSP",
            "FSD"
           ],
           "type": "scatter",
           "x": [
            75,
            40
           ],
           "y": [
            219,
            210
           ]
          },
          {
           "marker": {
            "size": [
             1379,
             1379,
             404,
             1825,
             1825,
             1597,
             927,
             1086,
             1400
            ],
            "sizemode": "area",
            "sizeref": 5
           },
           "mode": "markers",
           "name": "CO",
           "text": [
            "IAH",
            "LAX",
            "CLE",
            "PDX",
            "IAH",
            "BOS",
            "CLE",
            "EWR",
            "EWR"
           ],
           "type": "scatter",
           "x": [
            185,
            147,
            69,
            219,
            241,
            209,
            130,
            163,
            196
           ],
           "y": [
            337,
            322,
            317,
            295,
            293,
            255,
            248,
            246,
            213
           ]
          },
          {
           "marker": {
            "size": [
             725,
             690,
             1195,
             436,
             1195,
             200,
             235
            ],
            "sizemode": "area",
            "sizeref": 5
           },
           "mode": "markers",
           "name": "OO",
           "text": [
            "EWR",
            "PHL",
            "SLC",
            "MSO",
            "SLC",
            "EKO",
            "DTW"
           ],
           "type": "scatter",
           "x": [
            108,
            103,
            143,
            64,
            141,
            48,
            49
           ],
           "y": [
            269,
            266,
            226,
            210,
            199,
            192,
            188
           ]
          },
          {
           "marker": {
            "size": [
             445
            ],
            "sizemode": "area",
            "sizeref": 5
           },
           "mode": "markers",
           "name": "DL",
           "text": [
            "SRQ"
           ],
           "type": "scatter",
           "x": [
            81
           ],
           "y": [
            256
           ]
          },
          {
           "marker": {
            "size": [
             160
            ],
            "sizemode": "area",
            "sizeref": 5
           },
           "mode": "markers",
           "name": "AS",
           "text": [
            "CDV"
           ],
           "type": "scatter",
           "x": [
            38
           ],
           "y": [
            192
           ]
          },
          {
           "marker": {
            "size": [
             290,
             742,
             267,
             1576,
             4678,
             413,
             1774
            ],
            "sizemode": "area",
            "sizeref": 5
           },
           "mode": "markers",
           "name": "US",
           "text": [
            "PHL",
            "JAX",
            "PIT",
            "SJU",
            "CLT",
            "CLT",
            "CLT"
           ],
           "type": "scatter",
           "x": [
            51,
            98,
            42,
            226,
            636,
            57,
            244
           ],
           "y": [
            339,
            292,
            253,
            218,
            198,
            188,
            186
           ]
          },
          {
           "marker": {
            "size": [
             1846,
             910,
             4184,
             4184,
             1062,
             1452,
             867,
             1781,
             589,
             849,
             1745
            ],
            "sizemode": "area",
            "sizeref": 5
           },
           "mode": "markers",
           "name": "UA",
           "text": [
            "ORD",
            "DEN",
            "OGG",
            "ORD",
            "MSY",
            "DEN",
            "ORD",
            "ORD",
            "ORD",
            "ORD",
            "ORD"
           ],
           "type": "scatter",
           "x": [
            258,
            132,
            451,
            531,
            147,
            166,
            115,
            244,
            76,
            108,
            241
           ],
           "y": [
            303,
            274,
            270,
            266,
            252,
            227,
            204,
            197,
            194,
            187,
            186
           ]
          },
          {
           "marker": {
            "size": [
             696,
             696,
             445,
             821,
             445
            ],
            "sizemode": "area",
            "sizeref": 5
           },
           "mode": "markers",
           "name": "OH",
           "text": [
            "ATL",
            "HOU",
            "SRQ",
            "ATL",
            "ATL"
           ],
           "type": "scatter",
           "x": [
            103,
            94,
            71,
            131,
            53
           ],
           "y": [
            215,
            203,
            196,
            195,
            190
           ]
          },
          {
           "marker": {
            "size": [
             753,
             622,
             1157,
             446
            ],
            "sizemode": "area",
            "sizeref": 5
           },
           "mode": "markers",
           "name": "XE",
           "text": [
            "JAX",
            "MSP",
            "IAH",
            "EWR"
           ],
           "type": "scatter",
           "x": [
            106,
            85,
            146,
            68
           ],
           "y": [
            385,
            255,
            214,
            185
           ]
          },
          {
           "marker": {
            "size": [],
            "sizemode": "area",
            "sizeref": 5
           },
           "mode": "markers",
           "name": "F9",
           "text": [],
           "type": "scatter",
           "x": [],
           "y": []
          },
          {
           "marker": {
            "size": [
             598
            ],
            "sizemode": "area",
            "sizeref": 5
           },
           "mode": "markers",
           "name": "YV",
           "text": [
            "MRY"
           ],
           "type": "scatter",
           "x": [
            80
           ],
           "y": [
            308
           ]
          },
          {
           "marker": {
            "size": [
             134,
             152
            ],
            "sizemode": "area",
            "sizeref": 5
           },
           "mode": "markers",
           "name": "EV",
           "text": [
            "ATL",
            "TYS"
           ],
           "type": "scatter",
           "x": [
            29,
            33
           ],
           "y": [
            237,
            215
           ]
          },
          {
           "marker": {
            "size": [
             100
            ],
            "sizemode": "area",
            "sizeref": 5
           },
           "mode": "markers",
           "name": "HA",
           "text": [
            "OGG"
           ],
           "type": "scatter",
           "x": [
            19
           ],
           "y": [
            227
           ]
          },
          {
           "marker": {
            "size": [
             740,
             1249,
             1068,
             1028,
             1028,
             264,
             264,
             938,
             1028,
             1069,
             829,
             944,
             1074,
             2381,
             1053,
             1069,
             267,
             1065,
             1121,
             267,
             938,
             541,
             1011,
             1005,
             2693,
             1005,
             1098,
             2576,
             1428,
             1428,
             301,
             301
            ],
            "sizemode": "area",
            "sizeref": 5
           },
           "mode": "markers",
           "name": "B6",
           "text": [
            "ORD",
            "RSW",
            "EWR",
            "PBI",
            "PBI",
            "JFK",
            "ROC",
            "MCO",
            "JFK",
            "FLL",
            "JAX",
            "JFK",
            "RSW",
            "BOS",
            "MCO",
            "JFK",
            "JFK",
            "EWR",
            "BOS",
            "BTV",
            "EWR",
            "JFK",
            "MCO",
            "TPA",
            "OAK",
            "JFK",
            "FLL",
            "JFK",
            "HOU",
            "JFK",
            "JFK",
            "BUF"
           ],
           "type": "scatter",
           "x": [
            101,
            150,
            152,
            117,
            128,
            49,
            55,
            112,
            156,
            131,
            98,
            136,
            129,
            319,
            126,
            169,
            46,
            158,
            175,
            56,
            130,
            82,
            127,
            118,
            302,
            140,
            135,
            357,
            168,
            197,
            59,
            60
           ],
           "y": [
            337,
            295,
            278,
            276,
            273,
            269,
            264,
            260,
            259,
            258,
            251,
            249,
            238,
            227,
            221,
            221,
            220,
            217,
            215,
            215,
            214,
            208,
            205,
            204,
            201,
            198,
            194,
            194,
            193,
            193,
            192,
            190
           ]
          },
          {
           "marker": {
            "size": [
             756,
             495,
             842,
             336,
             588,
             611,
             370,
             1797,
             1137,
             937,
             1521,
             668,
             377,
             967,
             210,
             861,
             395,
             550,
             328,
             370,
             437,
             992,
             328,
             342,
             967,
             737,
             787,
             423,
             238,
             288,
             283,
             377,
             405,
             251,
             742,
             925,
             668,
             1557,
             813,
             612,
             377,
             861,
             862,
             737,
             220,
             668,
             1050,
             290,
             967,
             328,
             668,
             283,
             159,
             328,
             443,
             336,
             283
            ],
            "sizemode": "area",
            "sizeref": 5
           },
           "mode": "markers",
           "name": "WN",
           "text": [
            "BNA",
            "BWI",
            "BWI",
            "PHL",
            "BWI",
            "BWI",
            "BWI",
            "BNA",
            "PVD",
            "MDW",
            "MDW",
            "PHL",
            "BWI",
            "MCI",
            "BWI",
            "BOS",
            "MDW",
            "MCO",
            "BWI",
            "BWI",
            "MSY",
            "PHL",
            "PVD",
            "STL",
            "BWI",
            "BWI",
            "BWI",
            "OMA",
            "PHL",
            "BWI",
            "BWI",
            "BWI",
            "MDW",
            "MDW",
            "PHL",
            "FLL",
            "MDW",
            "PHL",
            "STL",
            "BNA",
            "BWI",
            "PHL",
            "DEN",
            "BWI",
            "BWI",
            "MDW",
            "BDL",
            "PHL",
            "MCI",
            "PVD",
            "MDW",
            "BDL",
            "BWI",
            "BWI",
            "RDU",
            "BWI",
            "BWI"
           ],
           "type": "scatter",
           "x": [
            104,
            88,
            137,
            59,
            89,
            98,
            59,
            257,
            190,
            120,
            216,
            97,
            60,
            123,
            38,
            126,
            52,
            95,
            53,
            59,
            65,
            156,
            63,
            59,
            149,
            117,
            122,
            63,
            43,
            48,
            50,
            59,
            65,
            45,
            115,
            127,
            126,
            219,
            109,
            76,
            63,
            137,
            136,
            113,
            44,
            84,
            167,
            53,
            122,
            65,
            91,
            51,
            30,
            51,
            78,
            59,
            53
           ],
           "y": [
            324,
            277,
            277,
            264,
            260,
            259,
            258,
            256,
            251,
            251,
            251,
            246,
            243,
            237,
            236,
            235,
            235,
            232,
            232,
            229,
            228,
            226,
            224,
            223,
            223,
            220,
            217,
            216,
            216,
            211,
            211,
            210,
            207,
            207,
            204,
            203,
            200,
            199,
            199,
            197,
            195,
            195,
            194,
            193,
            193,
            193,
            192,
            189,
            189,
            188,
            188,
            188,
            188,
            187,
            186,
            185,
            183
           ]
          }
         ],
         "name": "20"
        },
        {
         "data": [
          {
           "marker": {
            "size": [
             740,
             2585,
             2446
            ],
            "sizemode": "area",
            "sizeref": 5
           },
           "mode": "markers",
           "name": "AA",
           "text": [
            "JFK",
            "MIA",
            "JFK"
           ],
           "type": "scatter",
           "x": [
            121,
            352,
            351
           ],
           "y": [
            309,
            215,
            208
           ]
          },
          {
           "marker": {
            "size": [
             508,
             501,
             1011,
             1087,
             1979,
             1127,
             349,
             2603,
             1035
            ],
            "sizemode": "area",
            "sizeref": 5
           },
           "mode": "markers",
           "name": "NW",
           "text": [
            "JFK",
            "DTW",
            "TPA",
            "PBI",
            "LAX",
            "DTW",
            "MDW",
            "PDX",
            "PBI"
           ],
           "type": "scatter",
           "x": [
            100,
            67,
            128,
            155,
            216,
            149,
            66,
            333,
            128
           ],
           "y": [
            813,
            455,
            388,
            341,
            259,
            216,
            195,
            187,
            184
           ]
          },
          {
           "marker": {
            "size": [
             1756,
             634,
             930,
             1035,
             761,
             828
            ],
            "sizemode": "area",
            "sizeref": 5
           },
           "mode": "markers",
           "name": "FL",
           "text": [
            "MKE",
            "DCA",
            "CMH",
            "MDW",
            "LGA",
            "MCO"
           ],
           "type": "scatter",
           "x": [
            257,
            104,
            136,
            132,
            115,
            119
           ],
           "y": [
            330,
            291,
            269,
            268,
            253,
            251
           ]
          },
          {
           "marker": {
            "size": [
             308,
             227,
             308,
             235
            ],
            "sizemode": "area",
            "sizeref": 5
           },
           "mode": "markers",
           "name": "MQ",
           "text": [
            "SJC",
            "RDU",
            "LAX",
            "DTW"
           ],
           "type": "scatter",
           "x": [
            52,
            38,
            52,
            54
           ],
           "y": [
            313,
            304,
            294,
            213
           ]
          },
          {
           "marker": {
            "size": [
             749,
             207,
             297
            ],
            "sizemode": "area",
            "sizeref": 5
           },
           "mode": "markers",
           "name": "9E",
           "text": [
            "ROC",
            "TVC",
            "MEM"
           ],
           "type": "scatter",
           "x": [
            99,
            37,
            49
           ],
           "y": [
            525,
            221,
            198
           ]
          },
          {
           "marker": {
            "size": [
             1874,
             1347
            ],
            "sizemode": "area",
            "sizeref": 5
           },
           "mode": "markers",
           "name": "CO",
           "text": [
            "IAH",
            "IAH"
           ],
           "type": "scatter",
           "x": [
            252,
            207
           ],
           "y": [
            215,
            190
           ]
          },
          {
           "marker": {
            "size": [
             501,
             649,
             329,
             86,
             200,
             329,
             326,
             751,
             86,
             751,
             329,
             462,
             86
            ],
            "sizemode": "area",
            "sizeref": 5
           },
           "mode": "markers",
           "name": "OO",
           "text": [
            "FAT",
            "BOI",
            "MFR",
            "SMF",
            "SLC",
            "MFR",
            "SFO",
            "TUS",
            "SFO",
            "SFO",
            "SFO",
            "SFO",
            "SFO"
           ],
           "type": "scatter",
           "x": [
            69,
            79,
            74,
            32,
            44,
            72,
            51,
            129,
            24,
            92,
            58,
            73,
            22
           ],
           "y": [
            350,
            323,
            297,
            270,
            268,
            261,
            254,
            225,
            224,
            218,
            196,
            184,
            184
           ]
          },
          {
           "marker": {
            "size": [
             481,
             859,
             2217,
             2105
            ],
            "sizemode": "area",
            "sizeref": 5
           },
           "mode": "markers",
           "name": "DL",
           "text": [
            "RIC",
            "BDL",
            "MCO",
            "BOS"
           ],
           "type": "scatter",
           "x": [
            78,
            118,
            331,
            300
           ],
           "y": [
            523,
            364,
            292,
            252
           ]
          },
          {
           "marker": {
            "size": [],
            "sizemode": "area",
            "sizeref": 5
           },
           "mode": "markers",
           "name": "AS",
           "text": [],
           "type": "scatter",
           "x": [],
           "y": []
          },
          {
           "marker": {
            "size": [
             599,
             290,
             2378,
             992,
             980,
             1557,
             2176,
             920,
             678,
             1774,
             634,
             448,
             602,
             130,
             468,
             920,
             2378,
             1576,
             678,
             1302,
             861,
             336,
             665
            ],
            "sizemode": "area",
            "sizeref": 5
           },
           "mode": "markers",
           "name": "US",
           "text": [
            "ORD",
            "PHL",
            "SEA",
            "PHL",
            "MSP",
            "PHL",
            "LAS",
            "PHL",
            "ORD",
            "CLT",
            "JAX",
            "PHL",
            "PHX",
            "RDU",
            "MCO",
            "TPA",
            "PHL",
            "SJU",
            "ORD",
            "DFW",
            "PHL",
            "RDU",
            "ATL"
           ],
           "type": "scatter",
           "x": [
            74,
            46,
            258,
            139,
            113,
            268,
            234,
            137,
            88,
            260,
            88,
            73,
            75,
            32,
            81,
            115,
            321,
            217,
            83,
            176,
            123,
            58,
            121
           ],
           "y": [
            642,
            342,
            324,
            312,
            286,
            260,
            234,
            230,
            230,
            229,
            228,
            228,
            227,
            217,
            216,
            211,
            204,
            202,
            198,
            198,
            193,
            191,
            187
           ]
          },
          {
           "marker": {
            "size": [
             1726,
             413,
             224,
             337
            ],
            "sizemode": "area",
            "sizeref": 5
           },
           "mode": "markers",
           "name": "UA",
           "text": [
            "ORD",
            "IAD",
            "RDU",
            "SFO"
           ],
           "type": "scatter",
           "x": [
            252,
            65,
            39,
            54
           ],
           "y": [
            306,
            236,
            191,
            189
           ]
          },
          {
           "marker": {
            "size": [
             485,
             431,
             166,
             166,
             1107,
             750,
             411,
             1417,
             651,
             860
            ],
            "sizemode": "area",
            "sizeref": 5
           },
           "mode": "markers",
           "name": "OH",
           "text": [
            "CVG",
            "RDU",
            "DAY",
            "DTW",
            "MCI",
            "BGR",
            "CVG",
            "JFK",
            "OMA",
            "DCA"
           ],
           "type": "scatter",
           "x": [
            59,
            83,
            60,
            36,
            125,
            170,
            59,
            207,
            87,
            140
           ],
           "y": [
            330,
            323,
            280,
            253,
            246,
            242,
            227,
            204,
            201,
            196
           ]
          },
          {
           "marker": {
            "size": [
             199,
             719,
             301,
             251,
             143,
             282,
             1133
            ],
            "sizemode": "area",
            "sizeref": 5
           },
           "mode": "markers",
           "name": "XE",
           "text": [
            "DCA",
            "ORD",
            "RAP",
            "DEN",
            "EWR",
            "EWR",
            "EWR"
           ],
           "type": "scatter",
           "x": [
            46,
            93,
            50,
            45,
            35,
            50,
            183
           ],
           "y": [
            280,
            270,
            238,
            218,
            198,
            192,
            190
           ]
          },
          {
           "marker": {
            "size": [
             1524
            ],
            "sizemode": "area",
            "sizeref": 5
           },
           "mode": "markers",
           "name": "F9",
           "text": [
            "MKE"
           ],
           "type": "scatter",
           "x": [
            222
           ],
           "y": [
            468
           ]
          },
          {
           "marker": {
            "size": [
             321,
             236,
             284,
             236,
             351,
             351
            ],
            "sizemode": "area",
            "sizeref": 5
           },
           "mode": "markers",
           "name": "YV",
           "text": [
            "IAD",
            "LAS",
            "BUF",
            "LAX",
            "PHX",
            "DRO"
           ],
           "type": "scatter",
           "x": [
            52,
            48,
            44,
            41,
            77,
            88
           ],
           "y": [
            327,
            292,
            289,
            279,
            202,
            189
           ]
          },
          {
           "marker": {
            "size": [
             646,
             363,
             208,
             317,
             152
            ],
            "sizemode": "area",
            "sizeref": 5
           },
           "mode": "markers",
           "name": "EV",
           "text": [
            "EYW",
            "CRW",
            "ATL",
            "MYR",
            "ATL"
           ],
           "type": "scatter",
           "x": [
            97,
            57,
            34,
            57,
            28
           ],
           "y": [
            267,
            238,
            214,
            199,
            184
           ]
          },
          {
           "marker": {
            "size": [],
            "sizemode": "area",
            "sizeref": 5
           },
           "mode": "markers",
           "name": "HA",
           "text": [],
           "type": "scatter",
           "x": [],
           "y": []
          },
          {
           "marker": {
            "size": [
             1121,
             1121,
             1024,
             1068,
             1024,
             1069,
             1005,
             1028,
             950,
             1035,
             2408,
             938,
             1024,
             944,
             1674,
             1674,
             2576
            ],
            "sizemode": "area",
            "sizeref": 5
           },
           "mode": "markers",
           "name": "B6",
           "text": [
            "MCO",
            "BOS",
            "EWR",
            "RSW",
            "EWR",
            "JFK",
            "TPA",
            "PBI",
            "LGA",
            "PBI",
            "IAD",
            "EWR",
            "PBI",
            "MCO",
            "BOS",
            "SJU",
            "OAK"
           ],
           "type": "scatter",
           "x": [
            137,
            159,
            151,
            135,
            141,
            159,
            121,
            120,
            144,
            124,
            335,
            130,
            146,
            110,
            211,
            222,
            297
           ],
           "y": [
            389,
            389,
            379,
            354,
            251,
            249,
            240,
            228,
            227,
            225,
            221,
            219,
            218,
            208,
            206,
            201,
            183
           ]
          },
          {
           "marker": {
            "size": [
             862,
             1363,
             414,
             377,
             1235
            ],
            "sizemode": "area",
            "sizeref": 5
           },
           "mode": "markers",
           "name": "WN",
           "text": [
            "DEN",
            "LAX",
            "SFO",
            "BWI",
            "HOU"
           ],
           "type": "scatter",
           "x": [
            129,
            158,
            58,
            63,
            192
           ],
           "y": [
            232,
            221,
            214,
            197,
            196
           ]
          }
         ],
         "name": "21"
        },
        {
         "data": [
          {
           "marker": {
            "size": [
             1431,
             2586,
             1235,
             1013,
             1013,
             2398,
             2398,
             1086
            ],
            "sizemode": "area",
            "sizeref": 5
           },
           "mode": "markers",
           "name": "AA",
           "text": [
            "SMF",
            "JFK",
            "DFW",
            "MIA",
            "PHL",
            "HNL",
            "SFO",
            "EWR"
           ],
           "type": "scatter",
           "x": [
            174,
            321,
            170,
            125,
            137,
            299,
            291,
            141
           ],
           "y": [
            746,
            305,
            261,
            257,
            241,
            220,
            209,
            203
           ]
          },
          {
           "marker": {
            "size": [
             1589,
             860,
             297,
             963,
             1979,
             614,
             991,
             1307,
             1310
            ],
            "sizemode": "area",
            "sizeref": 5
           },
           "mode": "markers",
           "name": "NW",
           "text": [
            "MSP",
            "MIA",
            "MSP",
            "MEM",
            "DTW",
            "DTW",
            "SLC",
            "TPA",
            "MCO"
           ],
           "type": "scatter",
           "x": [
            210,
            128,
            48,
            122,
            266,
            76,
            123,
            173,
            177
           ],
           "y": [
            563,
            434,
            261,
            241,
            221,
            221,
            196,
            187,
            184
           ]
          },
          {
           "marker": {
            "size": [
             545
            ],
            "sizemode": "area",
            "sizeref": 5
           },
           "mode": "markers",
           "name": "FL",
           "text": [
            "PBI"
           ],
           "type": "scatter",
           "x": [
            80
           ],
           "y": [
            245
           ]
          },
          {
           "marker": {
            "size": [
             522,
             264,
             303,
             588,
             316,
             693,
             1118,
             158,
             268,
             522,
             438,
             286,
             296,
             316,
             223,
             299
            ],
            "sizemode": "area",
            "sizeref": 5
           },
           "mode": "markers",
           "name": "MQ",
           "text": [
            "ORD",
            "ORD",
            "ORD",
            "ORD",
            "ORD",
            "ORD",
            "ABQ",
            "ABI",
            "ORD",
            "ORD",
            "ORD",
            "SDF",
            "ORD",
            "ORD",
            "ORD",
            "ORD"
           ],
           "type": "scatter",
           "x": [
            85,
            42,
            48,
            96,
            47,
            109,
            151,
            48,
            50,
            86,
            73,
            64,
            47,
            43,
            35,
            60
           ],
           "y": [
            393,
            345,
            333,
            299,
            294,
            270,
            269,
            258,
            231,
            223,
            218,
            213,
            205,
            190,
            190,
            184
           ]
          },
          {
           "marker": {
            "size": [
             508
            ],
            "sizemode": "area",
            "sizeref": 5
           },
           "mode": "markers",
           "name": "9E",
           "text": [
            "GSP"
           ],
           "type": "scatter",
           "x": [
            81
           ],
           "y": [
            186
           ]
          },
          {
           "marker": {
            "size": [
             861,
             1091,
             1091
            ],
            "sizemode": "area",
            "sizeref": 5
           },
           "mode": "markers",
           "name": "CO",
           "text": [
            "DEN",
            "CLE",
            "IAH"
           ],
           "type": "scatter",
           "x": [
            120,
            152,
            134
           ],
           "y": [
            357,
            350,
            347
           ]
          },
          {
           "marker": {
            "size": [
             174,
             616,
             588,
             416,
             387,
             588,
             391,
             67,
             438,
             261,
             677,
             536,
             416,
             839,
             637,
             839
            ],
            "sizemode": "area",
            "sizeref": 5
           },
           "mode": "markers",
           "name": "OO",
           "text": [
            "ORD",
            "XNA",
            "ORD",
            "ORD",
            "BIL",
            "ICT",
            "DEN",
            "ORD",
            "ORD",
            "RKS",
            "LAX",
            "ORD",
            "ORD",
            "OMA",
            "DEN",
            "SLC"
           ],
           "type": "scatter",
           "x": [
            30,
            98,
            94,
            68,
            70,
            78,
            54,
            27,
            66,
            57,
            80,
            70,
            59,
            124,
            82,
            117
           ],
           "y": [
            239,
            237,
            227,
            224,
            223,
            220,
            212,
            200,
            200,
            198,
            192,
            190,
            187,
            187,
            184,
            183
           ]
          },
          {
           "marker": {
            "size": [
             1173,
             1180,
             1180
            ],
            "sizemode": "area",
            "sizeref": 5
           },
           "mode": "markers",
           "name": "DL",
           "text": [
            "FLL",
            "BDL",
            "RSW"
           ],
           "type": "scatter",
           "x": [
            138,
            169,
            145
           ],
           "y": [
            273,
            193,
            189
           ]
          },
          {
           "marker": {
            "size": [],
            "sizemode": "area",
            "sizeref": 5
           },
           "mode": "markers",
           "name": "AS",
           "text": [],
           "type": "scatter",
           "x": [],
           "y": []
          },
          {
           "marker": {
            "size": [
             2125,
             599,
             1557,
             678
            ],
            "sizemode": "area",
            "sizeref": 5
           },
           "mode": "markers",
           "name": "US",
           "text": [
            "LAX",
            "ORD",
            "DEN",
            "ORD"
           ],
           "type": "scatter",
           "x": [
            231,
            79,
            189,
            93
           ],
           "y": [
            307,
            241,
            232,
            184
           ]
          },
          {
           "marker": {
            "size": [
             2419,
             1440,
             1721,
             334,
             412,
             472,
             612,
             2288
            ],
            "sizemode": "area",
            "sizeref": 5
           },
           "mode": "markers",
           "name": "UA",
           "text": [
            "IAD",
            "PHX",
            "ORD",
            "ORD",
            "PIT",
            "OMA",
            "ORD",
            "LAX"
           ],
           "type": "scatter",
           "x": [
            311,
            166,
            229,
            64,
            85,
            71,
            75,
            243
           ],
           "y": [
            403,
            378,
            268,
            224,
            216,
            215,
            205,
            190
           ]
          },
          {
           "marker": {
            "size": [
             589,
             98
            ],
            "sizemode": "area",
            "sizeref": 5
           },
           "mode": "markers",
           "name": "OH",
           "text": [
            "CVG",
            "CVG"
           ],
           "type": "scatter",
           "x": [
            90,
            25
           ],
           "y": [
            234,
            228
           ]
          },
          {
           "marker": {
            "size": [
             278,
             475,
             487,
             719,
             199,
             199,
             409,
             1117
            ],
            "sizemode": "area",
            "sizeref": 5
           },
           "mode": "markers",
           "name": "XE",
           "text": [
            "RIC",
            "ORD",
            "EWR",
            "EWR",
            "EWR",
            "EWR",
            "ORD",
            "PIT"
           ],
           "type": "scatter",
           "x": [
            56,
            65,
            90,
            125,
            39,
            43,
            62,
            173
           ],
           "y": [
            312,
            290,
            289,
            289,
            230,
            227,
            209,
            186
           ]
          },
          {
           "marker": {
            "size": [
             1460
            ],
            "sizemode": "area",
            "sizeref": 5
           },
           "mode": "markers",
           "name": "F9",
           "text": [
            "PHX"
           ],
           "type": "scatter",
           "x": [
            165
           ],
           "y": [
            185
           ]
          },
          {
           "marker": {
            "size": [
             261,
             351,
             351,
             1263,
             551,
             296,
             196,
             316,
             185,
             978
            ],
            "sizemode": "area",
            "sizeref": 5
           },
           "mode": "markers",
           "name": "YV",
           "text": [
            "PSP",
            "DRO",
            "PHX",
            "PHX",
            "COS",
            "SYR",
            "ORD",
            "ORD",
            "CLT",
            "ORD"
           ],
           "type": "scatter",
           "x": [
            43,
            65,
            50,
            153,
            87,
            48,
            40,
            47,
            32,
            138
           ],
           "y": [
            313,
            312,
            302,
            301,
            290,
            246,
            212,
            210,
            193,
            183
           ]
          },
          {
           "marker": {
            "size": [],
            "sizemode": "area",
            "sizeref": 5
           },
           "mode": "markers",
           "name": "EV",
           "text": [],
           "type": "scatter",
           "x": [],
           "y": []
          },
          {
           "marker": {
            "size": [],
            "sizemode": "area",
            "sizeref": 5
           },
           "mode": "markers",
           "name": "HA",
           "text": [],
           "type": "scatter",
           "x": [],
           "y": []
          },
          {
           "marker": {
            "size": [
             846
            ],
            "sizemode": "area",
            "sizeref": 5
           },
           "mode": "markers",
           "name": "B6",
           "text": [
            "LGB"
           ],
           "type": "scatter",
           "x": [
            144
           ],
           "y": [
            234
           ]
          },
          {
           "marker": {
            "size": [
             397,
             281,
             281,
             888
            ],
            "sizemode": "area",
            "sizeref": 5
           },
           "mode": "markers",
           "name": "WN",
           "text": [
            "LAS",
            "BUF",
            "BWI",
            "JAN"
           ],
           "type": "scatter",
           "x": [
            69,
            45,
            49,
            116
           ],
           "y": [
            211,
            211,
            210,
            192
           ]
          }
         ],
         "name": "22"
        },
        {
         "data": [
          {
           "marker": {
            "size": [
             2586,
             1235,
             733,
             1235
            ],
            "sizemode": "area",
            "sizeref": 5
           },
           "mode": "markers",
           "name": "AA",
           "text": [
            "JFK",
            "DFW",
            "LGA",
            "LAX"
           ],
           "type": "scatter",
           "x": [
            337,
            161,
            121,
            145
           ],
           "y": [
            298,
            199,
            196,
            185
           ]
          },
          {
           "marker": {
            "size": [
             1034,
             1307
            ],
            "sizemode": "area",
            "sizeref": 5
           },
           "mode": "markers",
           "name": "NW",
           "text": [
            "IAH",
            "TPA"
           ],
           "type": "scatter",
           "x": [
            137,
            175
           ],
           "y": [
            503,
            201
           ]
          },
          {
           "marker": {
            "size": [
             1756
            ],
            "sizemode": "area",
            "sizeref": 5
           },
           "mode": "markers",
           "name": "FL",
           "text": [
            "MKE"
           ],
           "type": "scatter",
           "x": [
            240
           ],
           "y": [
            311
           ]
          },
          {
           "marker": {
            "size": [
             911,
             134,
             647,
             223,
             286,
             134,
             264,
             948,
             116,
             139,
             922,
             109,
             122,
             693,
             215
            ],
            "sizemode": "area",
            "sizeref": 5
           },
           "mode": "markers",
           "name": "MQ",
           "text": [
            "MIA",
            "MQT",
            "ORD",
            "FNT",
            "SDF",
            "GRB",
            "CVG",
            "CVG",
            "ORD",
            "MLI",
            "CAE",
            "ORD",
            "AZO",
            "OKC",
            "LSE"
           ],
           "type": "scatter",
           "x": [
            132,
            30,
            87,
            45,
            54,
            24,
            43,
            140,
            27,
            27,
            150,
            41,
            48,
            99,
            47
           ],
           "y": [
            404,
            324,
            301,
            285,
            269,
            263,
            255,
            238,
            235,
            223,
            222,
            213,
            210,
            192,
            191
           ]
          },
          {
           "marker": {
            "size": [
             157,
             469
            ],
            "sizemode": "area",
            "sizeref": 5
           },
           "mode": "markers",
           "name": "9E",
           "text": [
            "SBN",
            "MEM"
           ],
           "type": "scatter",
           "x": [
            28,
            78
           ],
           "y": [
            365,
            187
           ]
          },
          {
           "marker": {
            "size": [
             861,
             861,
             719
            ],
            "sizemode": "area",
            "sizeref": 5
           },
           "mode": "markers",
           "name": "CO",
           "text": [
            "DEN",
            "IAH",
            "ORD"
           ],
           "type": "scatter",
           "x": [
            117,
            127,
            99
           ],
           "y": [
            405,
            270,
            186
           ]
          },
          {
           "marker": {
            "size": [
             463,
             462,
             423,
             753,
             423,
             776,
             794,
             349,
             793,
             679,
             419,
             1024,
             692,
             175,
             125,
             251,
             423,
             850,
             125,
             196,
             174,
             1013,
             1069,
             594,
             416,
             624,
             557,
             313,
             563,
             174,
             1236,
             916,
             391,
             391,
             491,
             109,
             563,
             525,
             911,
             826,
             1041,
             130
            ],
            "sizemode": "area",
            "sizeref": 5
           },
           "mode": "markers",
           "name": "OO",
           "text": [
            "GTF",
            "FSD",
            "LNK",
            "DEN",
            "DEN",
            "PSP",
            "DEN",
            "DEN",
            "DEN",
            "DEN",
            "DEN",
            "DEN",
            "CID",
            "SLC",
            "DEN",
            "DEN",
            "DEN",
            "DEN",
            "ASE",
            "ORD",
            "ORD",
            "ASE",
            "DEN",
            "DEN",
            "ORD",
            "DEN",
            "ORD",
            "GCC",
            "DEN",
            "ORD",
            "ORD",
            "DEN",
            "DEN",
            "DEN",
            "ORD",
            "LAX",
            "DEN",
            "DEN",
            "ORD",
            "MSN",
            "ORD",
            "ORD"
           ],
           "type": "scatter",
           "x": [
            74,
            72,
            76,
            116,
            62,
            114,
            113,
            48,
            106,
            110,
            57,
            155,
            115,
            49,
            26,
            46,
            62,
            114,
            30,
            44,
            27,
            139,
            128,
            90,
            61,
            93,
            95,
            87,
            69,
            41,
            172,
            122,
            64,
            60,
            85,
            30,
            78,
            80,
            130,
            127,
            165,
            32
           ],
           "y": [
            730,
            368,
            345,
            343,
            334,
            303,
            292,
            292,
            284,
            283,
            277,
            270,
            263,
            259,
            251,
            246,
            239,
            239,
            235,
            233,
            232,
            230,
            227,
            225,
            222,
            220,
            219,
            216,
            210,
            209,
            207,
            203,
            199,
            199,
            199,
            198,
            193,
            192,
            192,
            188,
            186,
            185
           ]
          },
          {
           "marker": {
            "size": [
             745,
             187,
             761,
             1050,
             760,
             1185
            ],
            "sizemode": "area",
            "sizeref": 5
           },
           "mode": "markers",
           "name": "DL",
           "text": [
            "EWR",
            "BOS",
            "LGA",
            "MCO",
            "JFK",
            "COS"
           ],
           "type": "scatter",
           "x": [
            109,
            40,
            112,
            138,
            107,
            139
           ],
           "y": [
            457,
            373,
            285,
            234,
            234,
            193
           ]
          },
          {
           "marker": {
            "size": [],
            "sizemode": "area",
            "sizeref": 5
           },
           "mode": "markers",
           "name": "AS",
           "text": [],
           "type": "scatter",
           "x": [],
           "y": []
          },
          {
           "marker": {
            "size": [
             2521
            ],
            "sizemode": "area",
            "sizeref": 5
           },
           "mode": "markers",
           "name": "US",
           "text": [
            "SFO"
           ],
           "type": "scatter",
           "x": [
            291
           ],
           "y": [
            265
           ]
          },
          {
           "marker": {
            "size": [
             853,
             846,
             1491,
             602,
             967,
             783,
             142,
             888,
             2556,
             629,
             641,
             948,
             236
            ],
            "sizemode": "area",
            "sizeref": 5
           },
           "mode": "markers",
           "name": "UA",
           "text": [
            "SAN",
            "DEN",
            "DEN",
            "DEN",
            "DEN",
            "ORD",
            "DEN",
            "DEN",
            "LAX",
            "DEN",
            "DEN",
            "DEN",
            "LAX"
           ],
           "type": "scatter",
           "x": [
            114,
            110,
            170,
            83,
            133,
            96,
            31,
            112,
            321,
            87,
            93,
            131,
            43
           ],
           "y": [
            413,
            285,
            278,
            240,
            233,
            216,
            214,
            213,
            212,
            202,
            196,
            193,
            187
           ]
          },
          {
           "marker": {
            "size": [
             740,
             94,
             1417,
             145,
             445,
             541,
             213,
             229
            ],
            "sizemode": "area",
            "sizeref": 5
           },
           "mode": "markers",
           "name": "OH",
           "text": [
            "JFK",
            "PHL",
            "JFK",
            "JFK",
            "SRQ",
            "CLT",
            "DCA",
            "DTW"
           ],
           "type": "scatter",
           "x": [
            125,
            40,
            235,
            29,
            74,
            77,
            55,
            43
           ],
           "y": [
            257,
            251,
            209,
            205,
            200,
            200,
            190,
            184
           ]
          },
          {
           "marker": {
            "size": [
             72,
             719
            ],
            "sizemode": "area",
            "sizeref": 5
           },
           "mode": "markers",
           "name": "XE",
           "text": [
            "DEN",
            "EWR"
           ],
           "type": "scatter",
           "x": [
            21,
            124
           ],
           "y": [
            304,
            186
           ]
          },
          {
           "marker": {
            "size": [
             967,
             967,
             629,
             1199
            ],
            "sizemode": "area",
            "sizeref": 5
           },
           "mode": "markers",
           "name": "F9",
           "text": [
            "SFO",
            "DEN",
            "DEN",
            "DEN"
           ],
           "type": "scatter",
           "x": [
            150,
            125,
            82,
            142
           ],
           "y": [
            307,
            268,
            220,
            184
           ]
          },
          {
           "marker": {
            "size": [
             693,
             177,
             595,
             109,
             177,
             599,
             102,
             595,
             163
            ],
            "sizemode": "area",
            "sizeref": 5
           },
           "mode": "markers",
           "name": "YV",
           "text": [
            "ORD",
            "IND",
            "IAD",
            "ORD",
            "ORD",
            "ORD",
            "LIH",
            "HSV",
            "HNL"
           ],
           "type": "scatter",
           "x": [
            115,
            55,
            94,
            33,
            35,
            82,
            22,
            84,
            24
           ],
           "y": [
            271,
            228,
            201,
            198,
            195,
            191,
            188,
            187,
            185
           ]
          },
          {
           "marker": {
            "size": [
             852,
             317,
             551
            ],
            "sizemode": "area",
            "sizeref": 5
           },
           "mode": "markers",
           "name": "EV",
           "text": [
            "ALB",
            "MYR",
            "ATL"
           ],
           "type": "scatter",
           "x": [
            138,
            54,
            93
           ],
           "y": [
            409,
            212,
            200
           ]
          },
          {
           "marker": {
            "size": [],
            "sizemode": "area",
            "sizeref": 5
           },
           "mode": "markers",
           "name": "HA",
           "text": [],
           "type": "scatter",
           "x": [],
           "y": []
          },
          {
           "marker": {
            "size": [
             867,
             740,
             1735
            ],
            "sizemode": "area",
            "sizeref": 5
           },
           "mode": "markers",
           "name": "B6",
           "text": [
            "ORD",
            "JFK",
            "ORD"
           ],
           "type": "scatter",
           "x": [
            110,
            130,
            222
           ],
           "y": [
            240,
            229,
            205
           ]
          },
          {
           "marker": {
            "size": [
             223,
             655,
             680
            ],
            "sizemode": "area",
            "sizeref": 5
           },
           "mode": "markers",
           "name": "WN",
           "text": [
            "ABQ",
            "MCO",
            "MSP"
           ],
           "type": "scatter",
           "x": [
            33,
            88,
            109
           ],
           "y": [
            250,
            239,
            191
           ]
          }
         ],
         "name": "23"
        },
        {
         "data": [
          {
           "marker": {
            "size": [
             597,
             2556,
             1235,
             1205,
             2556,
             193,
             193
            ],
            "sizemode": "area",
            "sizeref": 5
           },
           "mode": "markers",
           "name": "AA",
           "text": [
            "BHM",
            "LAX",
            "LAX",
            "DFW",
            "LAX",
            "MIA",
            "MCO"
           ],
           "type": "scatter",
           "x": [
            93,
            328,
            188,
            177,
            325,
            39,
            38
           ],
           "y": [
            468,
            272,
            254,
            239,
            214,
            202,
            201
           ]
          },
          {
           "marker": {
            "size": [
             1426,
             1076,
             987
            ],
            "sizemode": "area",
            "sizeref": 5
           },
           "mode": "markers",
           "name": "NW",
           "text": [
            "PDX",
            "IAH",
            "DFW"
           ],
           "type": "scatter",
           "x": [
            172,
            121,
            123
           ],
           "y": [
            682,
            680,
            197
           ]
          },
          {
           "marker": {
            "size": [],
            "sizemode": "area",
            "sizeref": 5
           },
           "mode": "markers",
           "name": "FL",
           "text": [],
           "type": "scatter",
           "x": [],
           "y": []
          },
          {
           "marker": {
            "size": [
             785,
             361,
             296,
             109,
             157,
             607,
             236,
             383
            ],
            "sizemode": "area",
            "sizeref": 5
           },
           "mode": "markers",
           "name": "MQ",
           "text": [
            "LEX",
            "CMH",
            "CMH",
            "MSN",
            "FWA",
            "SYR",
            "MQT",
            "BTR"
           ],
           "type": "scatter",
           "x": [
            130,
            56,
            50,
            30,
            28,
            110,
            43,
            81
           ],
           "y": [
            1019,
            470,
            423,
            405,
            324,
            257,
            218,
            186
           ]
          },
          {
           "marker": {
            "size": [],
            "sizemode": "area",
            "sizeref": 5
           },
           "mode": "markers",
           "name": "9E",
           "text": [],
           "type": "scatter",
           "x": [],
           "y": []
          },
          {
           "marker": {
            "size": [
             1091
            ],
            "sizemode": "area",
            "sizeref": 5
           },
           "mode": "markers",
           "name": "CO",
           "text": [
            "IAH"
           ],
           "type": "scatter",
           "x": [
            125
           ],
           "y": [
            238
           ]
          },
          {
           "marker": {
            "size": [
             826,
             1235,
             776,
             911,
             1211,
             313,
             753,
             588,
             770,
             793,
             125,
             130,
             737
            ],
            "sizemode": "area",
            "sizeref": 5
           },
           "mode": "markers",
           "name": "OO",
           "text": [
            "DEN",
            "DFW",
            "PSP",
            "COS",
            "SAT",
            "DEN",
            "FCA",
            "ICT",
            "DEN",
            "DEN",
            "ASE",
            "PIA",
            "LAX"
           ],
           "type": "scatter",
           "x": [
            106,
            179,
            98,
            119,
            168,
            84,
            92,
            76,
            112,
            116,
            31,
            27,
            97
           ],
           "y": [
            418,
            406,
            379,
            312,
            301,
            297,
            284,
            279,
            273,
            257,
            206,
            204,
            188
           ]
          },
          {
           "marker": {
            "size": [
             732,
             481
            ],
            "sizemode": "area",
            "sizeref": 5
           },
           "mode": "markers",
           "name": "DL",
           "text": [
            "DFW",
            "RIC"
           ],
           "type": "scatter",
           "x": [
            86,
            88
           ],
           "y": [
            449,
            265
           ]
          },
          {
           "marker": {
            "size": [],
            "sizemode": "area",
            "sizeref": 5
           },
           "mode": "markers",
           "name": "AS",
           "text": [],
           "type": "scatter",
           "x": [],
           "y": []
          },
          {
           "marker": {
            "size": [],
            "sizemode": "area",
            "sizeref": 5
           },
           "mode": "markers",
           "name": "US",
           "text": [],
           "type": "scatter",
           "x": [],
           "y": []
          },
          {
           "marker": {
            "size": [
             639,
             794
            ],
            "sizemode": "area",
            "sizeref": 5
           },
           "mode": "markers",
           "name": "UA",
           "text": [
            "DEN",
            "SAT"
           ],
           "type": "scatter",
           "x": [
            85,
            119
           ],
           "y": [
            212,
            200
           ]
          },
          {
           "marker": {
            "size": [
             166,
             651
            ],
            "sizemode": "area",
            "sizeref": 5
           },
           "mode": "markers",
           "name": "OH",
           "text": [
            "DTW",
            "OMA"
           ],
           "type": "scatter",
           "x": [
            43,
            105
           ],
           "y": [
            419,
            274
           ]
          },
          {
           "marker": {
            "size": [
             489,
             489,
             780,
             301
            ],
            "sizemode": "area",
            "sizeref": 5
           },
           "mode": "markers",
           "name": "XE",
           "text": [
            "PNS",
            "IAH",
            "RAP",
            "DEN"
           ],
           "type": "scatter",
           "x": [
            81,
            66,
            117,
            50
           ],
           "y": [
            243,
            221,
            201,
            190
           ]
          },
          {
           "marker": {
            "size": [
             680
            ],
            "sizemode": "area",
            "sizeref": 5
           },
           "mode": "markers",
           "name": "F9",
           "text": [
            "DEN"
           ],
           "type": "scatter",
           "x": [
            95
           ],
           "y": [
            374
           ]
          },
          {
           "marker": {
            "size": [
             872
            ],
            "sizemode": "area",
            "sizeref": 5
           },
           "mode": "markers",
           "name": "YV",
           "text": [
            "PHX"
           ],
           "type": "scatter",
           "x": [
            101
           ],
           "y": [
            194
           ]
          },
          {
           "marker": {
            "size": [
             780
            ],
            "sizemode": "area",
            "sizeref": 5
           },
           "mode": "markers",
           "name": "EV",
           "text": [
            "HPN"
           ],
           "type": "scatter",
           "x": [
            119
           ],
           "y": [
            285
           ]
          },
          {
           "marker": {
            "size": [],
            "sizemode": "area",
            "sizeref": 5
           },
           "mode": "markers",
           "name": "HA",
           "text": [],
           "type": "scatter",
           "x": [],
           "y": []
          },
          {
           "marker": {
            "size": [
             301,
             1226,
             993
            ],
            "sizemode": "area",
            "sizeref": 5
           },
           "mode": "markers",
           "name": "B6",
           "text": [
            "BUF",
            "AUS",
            "MCO"
           ],
           "type": "scatter",
           "x": [
            60,
            185,
            154
           ],
           "y": [
            296,
            251,
            237
           ]
          },
          {
           "marker": {
            "size": [],
            "sizemode": "area",
            "sizeref": 5
           },
           "mode": "markers",
           "name": "WN",
           "text": [],
           "type": "scatter",
           "x": [],
           "y": []
          }
         ],
         "name": "24"
        },
        {
         "data": [
          {
           "marker": {
            "size": [
             733,
             1562,
             719,
             2585,
             1616,
             597,
             1562,
             641,
             1438,
             2175,
             1345,
             2175,
             1438,
             1055,
             1440,
             448
            ],
            "sizemode": "area",
            "sizeref": 5
           },
           "mode": "markers",
           "name": "AA",
           "text": [
            "SDF",
            "DFW",
            "EWR",
            "MIA",
            "DFW",
            "BHM",
            "BOS",
            "DEN",
            "DFW",
            "LAS",
            "DFW",
            "LAS",
            "SJC",
            "DFW",
            "PHX",
            "MSY"
           ],
           "type": "scatter",
           "x": [
            123,
            174,
            118,
            349,
            212,
            115,
            224,
            81,
            206,
            223,
            201,
            230,
            175,
            157,
            176,
            75
           ],
           "y": [
            522,
            296,
            278,
            251,
            240,
            233,
            231,
            214,
            211,
            205,
            203,
            203,
            202,
            199,
            187,
            186
           ]
          },
          {
           "marker": {
            "size": [
             408,
             231
            ],
            "sizemode": "area",
            "sizeref": 5
           },
           "mode": "markers",
           "name": "NW",
           "text": [
            "BWI",
            "IND"
           ],
           "type": "scatter",
           "x": [
            68,
            41
           ],
           "y": [
            909,
            325
           ]
          },
          {
           "marker": {
            "size": [],
            "sizemode": "area",
            "sizeref": 5
           },
           "mode": "markers",
           "name": "FL",
           "text": [],
           "type": "scatter",
           "x": [],
           "y": []
          },
          {
           "marker": {
            "size": [
             394,
             1021,
             140,
             685,
             812,
             158,
             772,
             304
            ],
            "sizemode": "area",
            "sizeref": 5
           },
           "mode": "markers",
           "name": "MQ",
           "text": [
            "LRD",
            "CLE",
            "GGG",
            "CID",
            "CVG",
            "ABI",
            "TYS",
            "LIT"
           ],
           "type": "scatter",
           "x": [
            54,
            154,
            31,
            118,
            140,
            31,
            140,
            62
           ],
           "y": [
            827,
            340,
            307,
            273,
            214,
            210,
            207,
            191
           ]
          },
          {
           "marker": {
            "size": [
             668,
             280,
             453
            ],
            "sizemode": "area",
            "sizeref": 5
           },
           "mode": "markers",
           "name": "9E",
           "text": [
            "PWM",
            "MEM",
            "MEM"
           ],
           "type": "scatter",
           "x": [
            97,
            47,
            84
           ],
           "y": [
            546,
            233,
            200
           ]
          },
          {
           "marker": {
            "size": [
             2161
            ],
            "sizemode": "area",
            "sizeref": 5
           },
           "mode": "markers",
           "name": "CO",
           "text": [
            "SFO"
           ],
           "type": "scatter",
           "x": [
            260
           ],
           "y": [
            416
           ]
          },
          {
           "marker": {
            "size": [
             264,
             116,
             925,
             588,
             157,
             472
            ],
            "sizemode": "area",
            "sizeref": 5
           },
           "mode": "markers",
           "name": "OO",
           "text": [
            "ORD",
            "RDM",
            "ORD",
            "ORD",
            "ORD",
            "DEN"
           ],
           "type": "scatter",
           "x": [
            49,
            30,
            143,
            83,
            35,
            69
           ],
           "y": [
            514,
            282,
            227,
            204,
            188,
            186
           ]
          },
          {
           "marker": {
            "size": [
             732
            ],
            "sizemode": "area",
            "sizeref": 5
           },
           "mode": "markers",
           "name": "DL",
           "text": [
            "DFW"
           ],
           "type": "scatter",
           "x": [
            91
           ],
           "y": [
            228
           ]
          },
          {
           "marker": {
            "size": [],
            "sizemode": "area",
            "sizeref": 5
           },
           "mode": "markers",
           "name": "AS",
           "text": [],
           "type": "scatter",
           "x": [],
           "y": []
          },
          {
           "marker": {
            "size": [
             2176,
             868
            ],
            "sizemode": "area",
            "sizeref": 5
           },
           "mode": "markers",
           "name": "US",
           "text": [
            "PHL",
            "DFW"
           ],
           "type": "scatter",
           "x": [
            265,
            137
           ],
           "y": [
            221,
            198
           ]
          },
          {
           "marker": {
            "size": [
             2338,
             2338,
             337,
             533,
             679
            ],
            "sizemode": "area",
            "sizeref": 5
           },
           "mode": "markers",
           "name": "UA",
           "text": [
            "SFO",
            "OGG",
            "LAX",
            "MCI",
            "SEA"
           ],
           "type": "scatter",
           "x": [
            335,
            240,
            52,
            82,
            100
           ],
           "y": [
            306,
            254,
            244,
            205,
            202
           ]
          },
          {
           "marker": {
            "size": [
             229
            ],
            "sizemode": "area",
            "sizeref": 5
           },
           "mode": "markers",
           "name": "OH",
           "text": [
            "DTW"
           ],
           "type": "scatter",
           "x": [
            55
           ],
           "y": [
            185
           ]
          },
          {
           "marker": {
            "size": [],
            "sizemode": "area",
            "sizeref": 5
           },
           "mode": "markers",
           "name": "XE",
           "text": [],
           "type": "scatter",
           "x": [],
           "y": []
          },
          {
           "marker": {
            "size": [
             641,
             629
            ],
            "sizemode": "area",
            "sizeref": 5
           },
           "mode": "markers",
           "name": "F9",
           "text": [
            "DFW",
            "DEN"
           ],
           "type": "scatter",
           "x": [
            98,
            86
           ],
           "y": [
            276,
            258
           ]
          },
          {
           "marker": {
            "size": [
             512,
             1263,
             512,
             226,
             213,
             109
            ],
            "sizemode": "area",
            "sizeref": 5
           },
           "mode": "markers",
           "name": "YV",
           "text": [
            "MEM",
            "MEM",
            "CLT",
            "SNA",
            "SAV",
            "ORD"
           ],
           "type": "scatter",
           "x": [
            76,
            208,
            82,
            44,
            80,
            30
           ],
           "y": [
            298,
            263,
            263,
            242,
            217,
            186
           ]
          },
          {
           "marker": {
            "size": [
             563,
             528,
             136
            ],
            "sizemode": "area",
            "sizeref": 5
           },
           "mode": "markers",
           "name": "EV",
           "text": [
            "SGF",
            "CAK",
            "FWA"
           ],
           "type": "scatter",
           "x": [
            80,
            89,
            30
           ],
           "y": [
            368,
            364,
            224
           ]
          },
          {
           "marker": {
            "size": [],
            "sizemode": "area",
            "sizeref": 5
           },
           "mode": "markers",
           "name": "HA",
           "text": [],
           "type": "scatter",
           "x": [],
           "y": []
          },
          {
           "marker": {
            "size": [
             187
            ],
            "sizemode": "area",
            "sizeref": 5
           },
           "mode": "markers",
           "name": "B6",
           "text": [
            "BOS"
           ],
           "type": "scatter",
           "x": [
            52
           ],
           "y": [
            438
           ]
          },
          {
           "marker": {
            "size": [
             833,
             920,
             462
            ],
            "sizemode": "area",
            "sizeref": 5
           },
           "mode": "markers",
           "name": "WN",
           "text": [
            "OKC",
            "PHL",
            "STL"
           ],
           "type": "scatter",
           "x": [
            126,
            144,
            73
           ],
           "y": [
            190,
            188,
            187
           ]
          }
         ],
         "name": "25"
        },
        {
         "data": [
          {
           "marker": {
            "size": [
             1120,
             861,
             2446,
             2446,
             448,
             237,
             1258,
             1660,
             837,
             700,
             1107,
             700,
             1721,
             719,
             1440,
             2342,
             1236,
             1235,
             2585
            ],
            "sizemode": "area",
            "sizeref": 5
           },
           "mode": "markers",
           "name": "AA",
           "text": [
            "RSW",
            "DAY",
            "SAN",
            "JFK",
            "DFW",
            "TUL",
            "MIA",
            "SEA",
            "MSY",
            "MIA",
            "MIA",
            "RDU",
            "ORD",
            "ORD",
            "PHX",
            "MIA",
            "ORD",
            "DFW",
            "MIA"
           ],
           "type": "scatter",
           "x": [
            151,
            142,
            303,
            309,
            61,
            48,
            162,
            209,
            104,
            97,
            127,
            99,
            215,
            93,
            185,
            317,
            162,
            177,
            339
           ],
           "y": [
            852,
            489,
            339,
            324,
            253,
            245,
            240,
            236,
            231,
            227,
            226,
            225,
            225,
            215,
            204,
            191,
            191,
            190,
            188
           ]
          },
          {
           "marker": {
            "size": [
             1979,
             651,
             386
            ],
            "sizemode": "area",
            "sizeref": 5
           },
           "mode": "markers",
           "name": "NW",
           "text": [
            "DTW",
            "DTW",
            "MSP"
           ],
           "type": "scatter",
           "x": [
            252,
            96,
            56
           ],
           "y": [
            703,
            679,
            259
           ]
          },
          {
           "marker": {
            "size": [
             425,
             895,
             445,
             641
            ],
            "sizemode": "area",
            "sizeref": 5
           },
           "mode": "markers",
           "name": "FL",
           "text": [
            "MSY",
            "MKE",
            "SRQ",
            "MKE"
           ],
           "type": "scatter",
           "x": [
            61,
            128,
            78,
            93
           ],
           "y": [
            412,
            371,
            242,
            228
           ]
          },
          {
           "marker": {
            "size": [
             281,
             296,
             738,
             309,
             282,
             316,
             1213,
             673,
             647,
             772,
             622,
             1213,
             130
            ],
            "sizemode": "area",
            "sizeref": 5
           },
           "mode": "markers",
           "name": "MQ",
           "text": [
            "XNA",
            "ORD",
            "ORD",
            "MAF",
            "LBB",
            "ORD",
            "ORF",
            "DFW",
            "ORD",
            "GJT",
            "ORD",
            "DFW",
            "ORD"
           ],
           "type": "scatter",
           "x": [
            52,
            47,
            107,
            49,
            48,
            45,
            196,
            89,
            95,
            102,
            87,
            135,
            31
           ],
           "y": [
            454,
            383,
            288,
            266,
            257,
            223,
            222,
            204,
            201,
            201,
            185,
            184,
            183
           ]
          },
          {
           "marker": {
            "size": [
             541,
             749
            ],
            "sizemode": "area",
            "sizeref": 5
           },
           "mode": "markers",
           "name": "9E",
           "text": [
            "DLH",
            "ROC"
           ],
           "type": "scatter",
           "x": [
            85,
            111
           ],
           "y": [
            312,
            213
           ]
          },
          {
           "marker": {
            "size": [
             925,
             1024,
             3904,
             853,
             853,
             2433
            ],
            "sizemode": "area",
            "sizeref": 5
           },
           "mode": "markers",
           "name": "CO",
           "text": [
            "ORD",
            "PBI",
            "HNL",
            "IAH",
            "MCO",
            "SNA"
           ],
           "type": "scatter",
           "x": [
            133,
            151,
            390,
            95,
            125,
            274
           ],
           "y": [
            417,
            317,
            237,
            228,
            208,
            190
           ]
          },
          {
           "marker": {
            "size": [
             109,
             431,
             1187,
             563,
             125,
             563,
             174,
             130,
             925,
             964,
             264,
             72,
             599,
             391,
             221,
             1156,
             1013,
             313,
             397,
             692,
             751,
             196
            ],
            "sizemode": "area",
            "sizeref": 5
           },
           "mode": "markers",
           "name": "OO",
           "text": [
            "ORD",
            "PIT",
            "OKC",
            "ELP",
            "ASE",
            "DEN",
            "ORD",
            "PIA",
            "ORD",
            "MFR",
            "CVG",
            "DEN",
            "SFO",
            "DEN",
            "CVG",
            "SLC",
            "ASE",
            "GCC",
            "ORD",
            "CID",
            "DEN",
            "CID"
           ],
           "type": "scatter",
           "x": [
            33,
            65,
            164,
            86,
            28,
            79,
            34,
            43,
            130,
            127,
            54,
            16,
            80,
            63,
            34,
            149,
            132,
            73,
            58,
            102,
            100,
            40
           ],
           "y": [
            557,
            510,
            372,
            322,
            308,
            301,
            295,
            293,
            276,
            263,
            255,
            239,
            231,
            227,
            222,
            214,
            203,
            202,
            194,
            191,
            190,
            185
           ]
          },
          {
           "marker": {
            "size": [
             1199,
             533,
             745,
             761
            ],
            "sizemode": "area",
            "sizeref": 5
           },
           "mode": "markers",
           "name": "DL",
           "text": [
            "DEN",
            "IAD",
            "EWR",
            "LGA"
           ],
           "type": "scatter",
           "x": [
            141,
            82,
            120,
            121
           ],
           "y": [
            584,
            461,
            195,
            184
           ]
          },
          {
           "marker": {
            "size": [],
            "sizemode": "area",
            "sizeref": 5
           },
           "mode": "markers",
           "name": "AS",
           "text": [],
           "type": "scatter",
           "x": [],
           "y": []
          },
          {
           "marker": {
            "size": [
             4678,
             4678,
             1337
            ],
            "sizemode": "area",
            "sizeref": 5
           },
           "mode": "markers",
           "name": "US",
           "text": [
            "CLT",
            "HNL",
            "CLT"
           ],
           "type": "scatter",
           "x": [
            621,
            489,
            184
           ],
           "y": [
            339,
            250,
            200
           ]
          },
          {
           "marker": {
            "size": [
             802,
             612,
             403,
             954,
             837,
             472,
             235,
             473,
             1846,
             528,
             867,
             622,
             888,
             1545,
             412,
             1506,
             137
            ],
            "sizemode": "area",
            "sizeref": 5
           },
           "mode": "markers",
           "name": "UA",
           "text": [
            "DFW",
            "ORD",
            "ORD",
            "MSY",
            "ORD",
            "OMA",
            "ORD",
            "ORD",
            "ORD",
            "ORD",
            "ORD",
            "ORD",
            "ORD",
            "DEN",
            "ORD",
            "DEN",
            "ORD"
           ],
           "type": "scatter",
           "x": [
            99,
            86,
            62,
            107,
            115,
            67,
            48,
            61,
            217,
            66,
            116,
            92,
            119,
            174,
            56,
            169,
            32
           ],
           "y": [
            598,
            369,
            327,
            312,
            304,
            301,
            252,
            249,
            220,
            220,
            213,
            203,
            201,
            196,
            194,
            190,
            185
           ]
          },
          {
           "marker": {
            "size": [
             306
            ],
            "sizemode": "area",
            "sizeref": 5
           },
           "mode": "markers",
           "name": "OH",
           "text": [
            "GSO"
           ],
           "type": "scatter",
           "x": [
            54
           ],
           "y": [
            198
           ]
          },
          {
           "marker": {
            "size": [
             773,
             1069,
             487,
             169,
             266,
             282,
             209,
             143,
             529
            ],
            "sizemode": "area",
            "sizeref": 5
           },
           "mode": "markers",
           "name": "XE",
           "text": [
            "SAV",
            "EWR",
            "EWR",
            "EWR",
            "EWR",
            "EWR",
            "EWR",
            "EWR",
            "EWR"
           ],
           "type": "scatter",
           "x": [
            155,
            170,
            77,
            35,
            46,
            44,
            37,
            34,
            86
           ],
           "y": [
            321,
            292,
            289,
            233,
            223,
            208,
            198,
            196,
            185
           ]
          },
          {
           "marker": {
            "size": [
             649
            ],
            "sizemode": "area",
            "sizeref": 5
           },
           "mode": "markers",
           "name": "F9",
           "text": [
            "BOI"
           ],
           "type": "scatter",
           "x": [
            85
           ],
           "y": [
            544
           ]
          },
          {
           "marker": {
            "size": [
             666,
             1136,
             72,
             462,
             72,
             483,
             1136
            ],
            "sizemode": "area",
            "sizeref": 5
           },
           "mode": "markers",
           "name": "YV",
           "text": [
            "ORD",
            "OKC",
            "DEN",
            "ORD",
            "COS",
            "FSD",
            "IAD"
           ],
           "type": "scatter",
           "x": [
            97,
            124,
            23,
            71,
            19,
            71,
            167
           ],
           "y": [
            379,
            335,
            303,
            299,
            272,
            218,
            192
           ]
          },
          {
           "marker": {
            "size": [],
            "sizemode": "area",
            "sizeref": 5
           },
           "mode": "markers",
           "name": "EV",
           "text": [],
           "type": "scatter",
           "x": [],
           "y": []
          },
          {
           "marker": {
            "size": [],
            "sizemode": "area",
            "sizeref": 5
           },
           "mode": "markers",
           "name": "HA",
           "text": [],
           "type": "scatter",
           "x": [],
           "y": []
          },
          {
           "marker": {
            "size": [
             740,
             944,
             944,
             228,
             187,
             1182,
             1074,
             1028,
             740,
             274,
             209,
             944,
             264,
             267,
             944,
             1069
            ],
            "sizemode": "area",
            "sizeref": 5
           },
           "mode": "markers",
           "name": "B6",
           "text": [
            "ORD",
            "JFK",
            "JFK",
            "JFK",
            "JFK",
            "JFK",
            "JFK",
            "JFK",
            "JFK",
            "JFK",
            "JFK",
            "MCO",
            "JFK",
            "JFK",
            "JFK",
            "JFK"
           ],
           "type": "scatter",
           "x": [
            97,
            140,
            149,
            46,
            40,
            189,
            168,
            155,
            114,
            41,
            43,
            111,
            44,
            40,
            152,
            159
           ],
           "y": [
            414,
            313,
            312,
            293,
            284,
            267,
            262,
            225,
            221,
            220,
            213,
            193,
            190,
            189,
            189,
            185
           ]
          },
          {
           "marker": {
            "size": [
             478,
             323,
             391,
             861,
             861,
             254,
             842
            ],
            "sizemode": "area",
            "sizeref": 5
           },
           "mode": "markers",
           "name": "WN",
           "text": [
            "BHM",
            "SDF",
            "DEN",
            "PHL",
            "PHL",
            "SDF",
            "TPA"
           ],
           "type": "scatter",
           "x": [
            66,
            53,
            61,
            136,
            142,
            47,
            101
           ],
           "y": [
            248,
            246,
            226,
            212,
            198,
            197,
            193
           ]
          }
         ],
         "name": "26"
        },
        {
         "data": [
          {
           "marker": {
            "size": [
             1846,
             1745,
             1652,
             1189,
             920,
             2475,
             867,
             919,
             175,
             867
            ],
            "sizemode": "area",
            "sizeref": 5
           },
           "mode": "markers",
           "name": "AA",
           "text": [
            "SFO",
            "ORD",
            "PSP",
            "ONT",
            "MIA",
            "JFK",
            "ORD",
            "JAX",
            "OKC",
            "BOS"
           ],
           "type": "scatter",
           "x": [
            216,
            220,
            208,
            136,
            126,
            313,
            105,
            143,
            36,
            127
           ],
           "y": [
            547,
            428,
            301,
            284,
            269,
            251,
            244,
            238,
            198,
            191
           ]
          },
          {
           "marker": {
            "size": [
             1085,
             1085,
             656,
             610,
             1124,
             528,
             683
            ],
            "sizemode": "area",
            "sizeref": 5
           },
           "mode": "markers",
           "name": "NW",
           "text": [
            "RSW",
            "RSW",
            "MEM",
            "DTW",
            "BOS",
            "DTW",
            "MEM"
           ],
           "type": "scatter",
           "x": [
            145,
            138,
            84,
            88,
            151,
            81,
            81
           ],
           "y": [
            1096,
            954,
            699,
            229,
            215,
            188,
            185
           ]
          },
          {
           "marker": {
            "size": [
             515,
             930
            ],
            "sizemode": "area",
            "sizeref": 5
           },
           "mode": "markers",
           "name": "FL",
           "text": [
            "RSW",
            "CMH"
           ],
           "type": "scatter",
           "x": [
            86,
            136
           ],
           "y": [
            708,
            331
           ]
          },
          {
           "marker": {
            "size": [
             622,
             299,
             135,
             130,
             1118,
             174,
             309,
             185,
             177,
             116,
             268,
             624,
             673
            ],
            "sizemode": "area",
            "sizeref": 5
           },
           "mode": "markers",
           "name": "MQ",
           "text": [
            "MGM",
            "DSM",
            "CMI",
            "PIA",
            "ORD",
            "GRB",
            "MAF",
            "BOS",
            "ORD",
            "BMI",
            "ORD",
            "DSM",
            "PIA"
           ],
           "type": "scatter",
           "x": [
            104,
            54,
            42,
            35,
            143,
            42,
            46,
            43,
            33,
            32,
            44,
            97,
            106
           ],
           "y": [
            476,
            364,
            298,
            278,
            271,
            248,
            233,
            218,
            217,
            212,
            211,
            206,
            186
           ]
          },
          {
           "marker": {
            "size": [
             432,
             296,
             207,
             652
            ],
            "sizemode": "area",
            "sizeref": 5
           },
           "mode": "markers",
           "name": "9E",
           "text": [
            "OKC",
            "DTW",
            "TVC",
            "MEM"
           ],
           "type": "scatter",
           "x": [
            63,
            46,
            39,
            83
           ],
           "y": [
            923,
            644,
            194,
            189
           ]
          },
          {
           "marker": {
            "size": [
             1222,
             1379,
             986,
             895
            ],
            "sizemode": "area",
            "sizeref": 5
           },
           "mode": "markers",
           "name": "CO",
           "text": [
            "LAS",
            "LAX",
            "CMH",
            "CLE"
           ],
           "type": "scatter",
           "x": [
            143,
            149,
            150,
            129
           ],
           "y": [
            207,
            205,
            201,
            193
           ]
          },
          {
           "marker": {
            "size": [
             397,
             397,
             552,
             599,
             1041,
             317,
             326,
             403,
             205,
             1013,
             1499,
             363,
             599,
             1013,
             585
            ],
            "sizemode": "area",
            "sizeref": 5
           },
           "mode": "markers",
           "name": "OO",
           "text": [
            "DLH",
            "ORD",
            "ORD",
            "SLC",
            "SAT",
            "STL",
            "SFO",
            "ORD",
            "JAC",
            "ASE",
            "SFO",
            "SFO",
            "SFO",
            "ORD",
            "TUL"
           ],
           "type": "scatter",
           "x": [
            64,
            63,
            70,
            93,
            145,
            50,
            51,
            63,
            36,
            152,
            179,
            58,
            78,
            136,
            91
           ],
           "y": [
            500,
            484,
            302,
            275,
            270,
            219,
            209,
            206,
            200,
            199,
            196,
            190,
            190,
            187,
            186
           ]
          },
          {
           "marker": {
            "size": [
             732,
             788,
             761
            ],
            "sizemode": "area",
            "sizeref": 5
           },
           "mode": "markers",
           "name": "DL",
           "text": [
            "DFW",
            "MSP",
            "LGA"
           ],
           "type": "scatter",
           "x": [
            100,
            100,
            122
           ],
           "y": [
            498,
            411,
            185
           ]
          },
          {
           "marker": {
            "size": [],
            "sizemode": "area",
            "sizeref": 5
           },
           "mode": "markers",
           "name": "AS",
           "text": [],
           "type": "scatter",
           "x": [],
           "y": []
          },
          {
           "marker": {
            "size": [],
            "sizemode": "area",
            "sizeref": 5
           },
           "mode": "markers",
           "name": "US",
           "text": [],
           "type": "scatter",
           "x": [],
           "y": []
          },
          {
           "marker": {
            "size": [
             1545,
             2504,
             1440,
             528,
             337,
             2504
            ],
            "sizemode": "area",
            "sizeref": 5
           },
           "mode": "markers",
           "name": "UA",
           "text": [
            "MCO",
            "LAX",
            "ORD",
            "ROC",
            "SFO",
            "KOA"
           ],
           "type": "scatter",
           "x": [
            212,
            324,
            176,
            80,
            54,
            281
           ],
           "y": [
            233,
            228,
            200,
            194,
            190,
            188
           ]
          },
          {
           "marker": {
            "size": [
             390,
             1107
            ],
            "sizemode": "area",
            "sizeref": 5
           },
           "mode": "markers",
           "name": "OH",
           "text": [
            "CVG",
            "MCI"
           ],
           "type": "scatter",
           "x": [
            62,
            131
           ],
           "y": [
            231,
            208
           ]
          },
          {
           "marker": {
            "size": [
             668,
             519,
             438,
             308,
             838,
             192,
             487
            ],
            "sizemode": "area",
            "sizeref": 5
           },
           "mode": "markers",
           "name": "XE",
           "text": [
            "STL",
            "AMA",
            "XNA",
            "BRO",
            "GSP",
            "IAH",
            "DTW"
           ],
           "type": "scatter",
           "x": [
            108,
            71,
            75,
            47,
            148,
            32,
            73
           ],
           "y": [
            456,
            295,
            268,
            216,
            198,
            196,
            183
           ]
          },
          {
           "marker": {
            "size": [],
            "sizemode": "area",
            "sizeref": 5
           },
           "mode": "markers",
           "name": "F9",
           "text": [],
           "type": "scatter",
           "x": [],
           "y": []
          },
          {
           "marker": {
            "size": [
             666,
             179,
             978,
             666,
             843,
             775,
             666,
             235,
             826,
             515,
             717,
             599,
             773,
             344,
             693,
             693,
             599
            ],
            "sizemode": "area",
            "sizeref": 5
           },
           "mode": "markers",
           "name": "YV",
           "text": [
            "CAE",
            "ORD",
            "ORD",
            "ORD",
            "ORD",
            "AUS",
            "ORD",
            "DTW",
            "DEN",
            "SAV",
            "ORF",
            "ORD",
            "ORD",
            "CAK",
            "OKC",
            "ORD",
            "ORD"
           ],
           "type": "scatter",
           "x": [
            99,
            38,
            134,
            88,
            105,
            110,
            89,
            47,
            108,
            75,
            109,
            82,
            95,
            66,
            108,
            98,
            76
           ],
           "y": [
            345,
            285,
            273,
            266,
            263,
            262,
            261,
            255,
            224,
            223,
            219,
            210,
            207,
            202,
            191,
            189,
            189
           ]
          },
          {
           "marker": {
            "size": [
             852,
             528,
             508,
             528,
             781
            ],
            "sizemode": "area",
            "sizeref": 5
           },
           "mode": "markers",
           "name": "EV",
           "text": [
            "ALB",
            "CAK",
            "ATL",
            "ATL",
            "ATL"
           ],
           "type": "scatter",
           "x": [
            149,
            80,
            77,
            68,
            113
           ],
           "y": [
            452,
            347,
            284,
            256,
            243
           ]
          },
          {
           "marker": {
            "size": [
             2677
            ],
            "sizemode": "area",
            "sizeref": 5
           },
           "mode": "markers",
           "name": "HA",
           "text": [
            "SEA"
           ],
           "type": "scatter",
           "x": [
            333
           ],
           "y": [
            298
           ]
          },
          {
           "marker": {
            "size": [
             938,
             938,
             631,
             1011
            ],
            "sizemode": "area",
            "sizeref": 5
           },
           "mode": "markers",
           "name": "B6",
           "text": [
            "EWR",
            "MCO",
            "FLL",
            "MCO"
           ],
           "type": "scatter",
           "x": [
            147,
            119,
            97,
            116
           ],
           "y": [
            258,
            257,
            253,
            248
           ]
          },
          {
           "marker": {
            "size": [],
            "sizemode": "area",
            "sizeref": 5
           },
           "mode": "markers",
           "name": "WN",
           "text": [],
           "type": "scatter",
           "x": [],
           "y": []
          }
         ],
         "name": "27"
        },
        {
         "data": [
          {
           "marker": {
            "size": [
             1162,
             732,
             1045,
             720,
             1235,
             748,
             748,
             247
            ],
            "sizemode": "area",
            "sizeref": 5
           },
           "mode": "markers",
           "name": "AA",
           "text": [
            "JAC",
            "ATL",
            "MIA",
            "EGE",
            "DFW",
            "EGE",
            "LAX",
            "SAT"
           ],
           "type": "scatter",
           "x": [
            140,
            116,
            123,
            101,
            165,
            106,
            101,
            43
           ],
           "y": [
            439,
            343,
            297,
            280,
            238,
            229,
            205,
            201
           ]
          },
          {
           "marker": {
            "size": [
             1034,
             1127
            ],
            "sizemode": "area",
            "sizeref": 5
           },
           "mode": "markers",
           "name": "NW",
           "text": [
            "IAH",
            "DTW"
           ],
           "type": "scatter",
           "x": [
            137,
            146
           ],
           "y": [
            489,
            226
           ]
          },
          {
           "marker": {
            "size": [
             432,
             1182
            ],
            "sizemode": "area",
            "sizeref": 5
           },
           "mode": "markers",
           "name": "FL",
           "text": [
            "DAY",
            "FLL"
           ],
           "type": "scatter",
           "x": [
            63,
            174
           ],
           "y": [
            355,
            198
           ]
          },
          {
           "marker": {
            "size": [
             693,
             859,
             130,
             281,
             282
            ],
            "sizemode": "area",
            "sizeref": 5
           },
           "mode": "markers",
           "name": "MQ",
           "text": [
            "OKC",
            "DFW",
            "PIA",
            "DFW",
            "LBB"
           ],
           "type": "scatter",
           "x": [
            96,
            104,
            39,
            41,
            45
           ],
           "y": [
            310,
            241,
            227,
            210,
            200
           ]
          },
          {
           "marker": {
            "size": [
             353,
             417
            ],
            "sizemode": "area",
            "sizeref": 5
           },
           "mode": "markers",
           "name": "9E",
           "text": [
            "DTW",
            "MEM"
           ],
           "type": "scatter",
           "x": [
            52,
            59
           ],
           "y": [
            205,
            184
           ]
          },
          {
           "marker": {
            "size": [],
            "sizemode": "area",
            "sizeref": 5
           },
           "mode": "markers",
           "name": "CO",
           "text": [],
           "type": "scatter",
           "x": [],
           "y": []
          },
          {
           "marker": {
            "size": [
             397,
             192,
             403,
             1187
            ],
            "sizemode": "area",
            "sizeref": 5
           },
           "mode": "markers",
           "name": "OO",
           "text": [
            "DLH",
            "SFO",
            "MCI",
            "OKC"
           ],
           "type": "scatter",
           "x": [
            64,
            35,
            72,
            170
           ],
           "y": [
            254,
            203,
            186,
            186
           ]
          },
          {
           "marker": {
            "size": [
             732,
             813
            ],
            "sizemode": "area",
            "sizeref": 5
           },
           "mode": "markers",
           "name": "DL",
           "text": [
            "DFW",
            "AUS"
           ],
           "type": "scatter",
           "x": [
            89,
            101
           ],
           "y": [
            526,
            249
           ]
          },
          {
           "marker": {
            "size": [
             933,
             1476,
             569,
             95
            ],
            "sizemode": "area",
            "sizeref": 5
           },
           "mode": "markers",
           "name": "AS",
           "text": [
            "SAN",
            "AUS",
            "SJC",
            "JNU"
           ],
           "type": "scatter",
           "x": [
            131,
            212,
            90,
            22
           ],
           "y": [
            261,
            258,
            239,
            202
           ]
          },
          {
           "marker": {
            "size": [],
            "sizemode": "area",
            "sizeref": 5
           },
           "mode": "markers",
           "name": "US",
           "text": [],
           "type": "scatter",
           "x": [],
           "y": []
          },
          {
           "marker": {
            "size": [
             550,
             846,
             1012
            ],
            "sizemode": "area",
            "sizeref": 5
           },
           "mode": "markers",
           "name": "UA",
           "text": [
            "PDX",
            "SNA",
            "ORD"
           ],
           "type": "scatter",
           "x": [
            71,
            104,
            117
           ],
           "y": [
            584,
            296,
            193
           ]
          },
          {
           "marker": {
            "size": [
             382,
             585,
             752,
             184,
             445,
             98,
             229,
             145,
             414
            ],
            "sizemode": "area",
            "sizeref": 5
           },
           "mode": "markers",
           "name": "OH",
           "text": [
            "JFK",
            "LGA",
            "BOS",
            "BWI",
            "ATL",
            "CVG",
            "DTW",
            "JFK",
            "DCA"
           ],
           "type": "scatter",
           "x": [
            75,
            94,
            129,
            55,
            64,
            34,
            46,
            25,
            78
           ],
           "y": [
            264,
            255,
            255,
            255,
            230,
            206,
            201,
            200,
            186
           ]
          },
          {
           "marker": {
            "size": [
             871,
             197,
             251,
             644,
             689,
             878,
             1008
            ],
            "sizemode": "area",
            "sizeref": 5
           },
           "mode": "markers",
           "name": "XE",
           "text": [
            "CVG",
            "MTJ",
            "DEN",
            "EWR",
            "IAH",
            "CAE",
            "MSP"
           ],
           "type": "scatter",
           "x": [
            133,
            34,
            39,
            104,
            89,
            148,
            124
           ],
           "y": [
            368,
            282,
            276,
            239,
            233,
            230,
            228
           ]
          },
          {
           "marker": {
            "size": [],
            "sizemode": "area",
            "sizeref": 5
           },
           "mode": "markers",
           "name": "F9",
           "text": [],
           "type": "scatter",
           "x": [],
           "y": []
          },
          {
           "marker": {
            "size": [
             224,
             160,
             160,
             551,
             160,
             160,
             196,
             401,
             160
            ],
            "sizemode": "area",
            "sizeref": 5
           },
           "mode": "markers",
           "name": "YV",
           "text": [
            "TVC",
            "ORD",
            "ATW",
            "COS",
            "ORD",
            "ATW",
            "CID",
            "IAD",
            "YUM"
           ],
           "type": "scatter",
           "x": [
            44,
            36,
            33,
            98,
            39,
            36,
            40,
            60,
            29
           ],
           "y": [
            463,
            245,
            244,
            241,
            239,
            219,
            216,
            202,
            189
           ]
          },
          {
           "marker": {
            "size": [
             533
            ],
            "sizemode": "area",
            "sizeref": 5
           },
           "mode": "markers",
           "name": "EV",
           "text": [
            "BMI"
           ],
           "type": "scatter",
           "x": [
            74
           ],
           "y": [
            426
           ]
          },
          {
           "marker": {
            "size": [],
            "sizemode": "area",
            "sizeref": 5
           },
           "mode": "markers",
           "name": "HA",
           "text": [],
           "type": "scatter",
           "x": [],
           "y": []
          },
          {
           "marker": {
            "size": [
             1597,
             740,
             846,
             740
            ],
            "sizemode": "area",
            "sizeref": 5
           },
           "mode": "markers",
           "name": "B6",
           "text": [
            "SJU",
            "ORD",
            "LGB",
            "ORD"
           ],
           "type": "scatter",
           "x": [
            214,
            107,
            120,
            97
           ],
           "y": [
            302,
            284,
            229,
            208
           ]
          },
          {
           "marker": {
            "size": [
             281,
             883,
             1050,
             587,
             1111
            ],
            "sizemode": "area",
            "sizeref": 5
           },
           "mode": "markers",
           "name": "WN",
           "text": [
            "BUF",
            "BWI",
            "BDL",
            "TPA",
            "BDL"
           ],
           "type": "scatter",
           "x": [
            47,
            122,
            157,
            85,
            159
           ],
           "y": [
            271,
            269,
            217,
            208,
            208
           ]
          }
         ],
         "name": "28"
        },
        {
         "data": [
          {
           "marker": {
            "size": [],
            "sizemode": "area",
            "sizeref": 5
           },
           "mode": "markers",
           "name": "AA",
           "text": [],
           "type": "scatter",
           "x": [],
           "y": []
          },
          {
           "marker": {
            "size": [
             288,
             957,
             393,
             235,
             2603
            ],
            "sizemode": "area",
            "sizeref": 5
           },
           "mode": "markers",
           "name": "NW",
           "text": [
            "GRB",
            "MCO",
            "MCI",
            "ORD",
            "PDX"
           ],
           "type": "scatter",
           "x": [
            45,
            123,
            60,
            47,
            373
           ],
           "y": [
            546,
            284,
            281,
            211,
            187
           ]
          },
          {
           "marker": {
            "size": [],
            "sizemode": "area",
            "sizeref": 5
           },
           "mode": "markers",
           "name": "FL",
           "text": [],
           "type": "scatter",
           "x": [],
           "y": []
          },
          {
           "marker": {
            "size": [
             626,
             308,
             181,
             812
            ],
            "sizemode": "area",
            "sizeref": 5
           },
           "mode": "markers",
           "name": "MQ",
           "text": [
            "DFW",
            "SJC",
            "DFW",
            "DFW"
           ],
           "type": "scatter",
           "x": [
            85,
            50,
            29,
            100
           ],
           "y": [
            240,
            202,
            186,
            185
           ]
          },
          {
           "marker": {
            "size": [
             314
            ],
            "sizemode": "area",
            "sizeref": 5
           },
           "mode": "markers",
           "name": "9E",
           "text": [
            "BMI"
           ],
           "type": "scatter",
           "x": [
            67
           ],
           "y": [
            224
           ]
          },
          {
           "marker": {
            "size": [
             1379
            ],
            "sizemode": "area",
            "sizeref": 5
           },
           "mode": "markers",
           "name": "CO",
           "text": [
            "IAH"
           ],
           "type": "scatter",
           "x": [
            195
           ],
           "y": [
            187
           ]
          },
          {
           "marker": {
            "size": [
             826,
             150,
             964,
             161,
             422,
             563,
             525,
             223,
             601
            ],
            "sizemode": "area",
            "sizeref": 5
           },
           "mode": "markers",
           "name": "OO",
           "text": [
            "MSN",
            "SLC",
            "MFR",
            "SLC",
            "SLC",
            "DEN",
            "DEN",
            "SLC",
            "SLC"
           ],
           "type": "scatter",
           "x": [
            124,
            42,
            119,
            36,
            68,
            85,
            70,
            50,
            77
           ],
           "y": [
            507,
            315,
            264,
            246,
            218,
            217,
            203,
            202,
            201
           ]
          },
          {
           "marker": {
            "size": [
             516,
             594,
             2504,
             595,
             446
            ],
            "sizemode": "area",
            "sizeref": 5
           },
           "mode": "markers",
           "name": "DL",
           "text": [
            "ORF",
            "DTW",
            "LAX",
            "ATL",
            "CMH"
           ],
           "type": "scatter",
           "x": [
            89,
            99,
            328,
            94,
            68
           ],
           "y": [
            559,
            468,
            205,
            191,
            189
           ]
          },
          {
           "marker": {
            "size": [],
            "sizemode": "area",
            "sizeref": 5
           },
           "mode": "markers",
           "name": "AS",
           "text": [],
           "type": "scatter",
           "x": [],
           "y": []
          },
          {
           "marker": {
            "size": [
             1276
            ],
            "sizemode": "area",
            "sizeref": 5
           },
           "mode": "markers",
           "name": "US",
           "text": [
            "PHX"
           ],
           "type": "scatter",
           "x": [
            153
           ],
           "y": [
            302
           ]
          },
          {
           "marker": {
            "size": [
             2398,
             2398,
             719
            ],
            "sizemode": "area",
            "sizeref": 5
           },
           "mode": "markers",
           "name": "UA",
           "text": [
            "HNL",
            "SFO",
            "EWR"
           ],
           "type": "scatter",
           "x": [
            282,
            326,
            116
           ],
           "y": [
            535,
            396,
            296
           ]
          },
          {
           "marker": {
            "size": [
             740,
             213,
             740,
             750,
             213
            ],
            "sizemode": "area",
            "sizeref": 5
           },
           "mode": "markers",
           "name": "OH",
           "text": [
            "ORD",
            "DCA",
            "JFK",
            "BGR",
            "JFK"
           ],
           "type": "scatter",
           "x": [
            109,
            48,
            129,
            124,
            46
           ],
           "y": [
            344,
            311,
            248,
            220,
            189
           ]
          },
          {
           "marker": {
            "size": [
             569,
             748,
             657,
             427,
             562,
             209,
             772
            ],
            "sizemode": "area",
            "sizeref": 5
           },
           "mode": "markers",
           "name": "XE",
           "text": [
            "EWR",
            "EWR",
            "BNA",
            "MOB",
            "BHM",
            "EWR",
            "IAH"
           ],
           "type": "scatter",
           "x": [
            101,
            119,
            112,
            69,
            100,
            43,
            86
           ],
           "y": [
            370,
            346,
            296,
            222,
            221,
            219,
            192
           ]
          },
          {
           "marker": {
            "size": [],
            "sizemode": "area",
            "sizeref": 5
           },
           "mode": "markers",
           "name": "F9",
           "text": [],
           "type": "scatter",
           "x": [],
           "y": []
          },
          {
           "marker": {
            "size": [
             455,
             872,
             455
            ],
            "sizemode": "area",
            "sizeref": 5
           },
           "mode": "markers",
           "name": "YV",
           "text": [
            "PHX",
            "AUS",
            "SBA"
           ],
           "type": "scatter",
           "x": [
            117,
            132,
            93
           ],
           "y": [
            284,
            281,
            257
           ]
          },
          {
           "marker": {
            "size": [
             303
            ],
            "sizemode": "area",
            "sizeref": 5
           },
           "mode": "markers",
           "name": "EV",
           "text": [
            "LEX"
           ],
           "type": "scatter",
           "x": [
            50
           ],
           "y": [
            208
           ]
          },
          {
           "marker": {
            "size": [],
            "sizemode": "area",
            "sizeref": 5
           },
           "mode": "markers",
           "name": "HA",
           "text": [],
           "type": "scatter",
           "x": [],
           "y": []
          },
          {
           "marker": {
            "size": [
             1074,
             340,
             829,
             938
            ],
            "sizemode": "area",
            "sizeref": 5
           },
           "mode": "markers",
           "name": "B6",
           "text": [
            "JFK",
            "PIT",
            "JFK",
            "EWR"
           ],
           "type": "scatter",
           "x": [
            157,
            64,
            121,
            128
           ],
           "y": [
            225,
            217,
            200,
            184
           ]
          },
          {
           "marker": {
            "size": [
             689,
             507,
             861,
             347,
             861,
             276
            ],
            "sizemode": "area",
            "sizeref": 5
           },
           "mode": "markers",
           "name": "WN",
           "text": [
            "SLC",
            "PHX",
            "BOS",
            "ELP",
            "BOS",
            "HRL"
           ],
           "type": "scatter",
           "x": [
            99,
            80,
            135,
            59,
            137,
            43
           ],
           "y": [
            268,
            253,
            249,
            247,
            218,
            196
           ]
          }
         ],
         "name": "29"
        },
        {
         "data": [
          {
           "marker": {
            "size": [
             1012,
             2342,
             403,
             867
            ],
            "sizemode": "area",
            "sizeref": 5
           },
           "mode": "markers",
           "name": "AA",
           "text": [
            "TPA",
            "LAX",
            "MCI",
            "BOS"
           ],
           "type": "scatter",
           "x": [
            129,
            251,
            62,
            138
           ],
           "y": [
            762,
            311,
            300,
            215
           ]
          },
          {
           "marker": {
            "size": [
             1023,
             501,
             405,
             4502
            ],
            "sizemode": "area",
            "sizeref": 5
           },
           "mode": "markers",
           "name": "NW",
           "text": [
            "SRQ",
            "RDU",
            "DCA",
            "ATL"
           ],
           "type": "scatter",
           "x": [
            133,
            93,
            74,
            614
           ],
           "y": [
            941,
            599,
            456,
            440
           ]
          },
          {
           "marker": {
            "size": [
             406
            ],
            "sizemode": "area",
            "sizeref": 5
           },
           "mode": "markers",
           "name": "FL",
           "text": [
            "DAY"
           ],
           "type": "scatter",
           "x": [
            61
           ],
           "y": [
            269
           ]
          },
          {
           "marker": {
            "size": [
             522
            ],
            "sizemode": "area",
            "sizeref": 5
           },
           "mode": "markers",
           "name": "MQ",
           "text": [
            "XNA"
           ],
           "type": "scatter",
           "x": [
            78
           ],
           "y": [
            430
           ]
          },
          {
           "marker": {
            "size": [
             790,
             668
            ],
            "sizemode": "area",
            "sizeref": 5
           },
           "mode": "markers",
           "name": "9E",
           "text": [
            "TUL",
            "PWM"
           ],
           "type": "scatter",
           "x": [
            108,
            105
           ],
           "y": [
            397,
            184
           ]
          },
          {
           "marker": {
            "size": [
             861,
             1608,
             1201,
             1400,
             1608,
             1201,
             1585
            ],
            "sizemode": "area",
            "sizeref": 5
           },
           "mode": "markers",
           "name": "CO",
           "text": [
            "DEN",
            "SJU",
            "CLE",
            "IAH",
            "SJU",
            "DEN",
            "BQN"
           ],
           "type": "scatter",
           "x": [
            119,
            230,
            169,
            163,
            233,
            141,
            226
           ],
           "y": [
            525,
            499,
            325,
            297,
            294,
            281,
            189
           ]
          },
          {
           "marker": {
            "size": [
             212,
             423,
             72,
             174,
             349,
             431
            ],
            "sizemode": "area",
            "sizeref": 5
           },
           "mode": "markers",
           "name": "OO",
           "text": [
            "GJT",
            "DEN",
            "COS",
            "ORD",
            "ABQ",
            "PIT"
           ],
           "type": "scatter",
           "x": [
            39,
            57,
            27,
            34,
            51,
            74
           ],
           "y": [
            321,
            290,
            275,
            254,
            218,
            214
           ]
          },
          {
           "marker": {
            "size": [
             406,
             1599,
             1449
            ],
            "sizemode": "area",
            "sizeref": 5
           },
           "mode": "markers",
           "name": "DL",
           "text": [
            "TPA",
            "STT",
            "SLC"
           ],
           "type": "scatter",
           "x": [
            62,
            220,
            173
           ],
           "y": [
            552,
            303,
            205
           ]
          },
          {
           "marker": {
            "size": [
             2311
            ],
            "sizemode": "area",
            "sizeref": 5
           },
           "mode": "markers",
           "name": "AS",
           "text": [
            "DCA"
           ],
           "type": "scatter",
           "x": [
            320
           ],
           "y": [
            431
           ]
          },
          {
           "marker": {
            "size": [],
            "sizemode": "area",
            "sizeref": 5
           },
           "mode": "markers",
           "name": "US",
           "text": [],
           "type": "scatter",
           "x": [],
           "y": []
          },
          {
           "marker": {
            "size": [
             888,
             967,
             2704
            ],
            "sizemode": "area",
            "sizeref": 5
           },
           "mode": "markers",
           "name": "UA",
           "text": [
            "DEN",
            "DEN",
            "BOS"
           ],
           "type": "scatter",
           "x": [
            109,
            150,
            355
           ],
           "y": [
            200,
            187,
            183
           ]
          },
          {
           "marker": {
            "size": [
             223,
             692,
             445,
             1113
            ],
            "sizemode": "area",
            "sizeref": 5
           },
           "mode": "markers",
           "name": "OH",
           "text": [
            "TLH",
            "ATL",
            "SRQ",
            "MCI"
           ],
           "type": "scatter",
           "x": [
            43,
            111,
            69,
            132
           ],
           "y": [
            238,
            224,
            201,
            183
           ]
          },
          {
           "marker": {
            "size": [
             562,
             817,
             253
            ],
            "sizemode": "area",
            "sizeref": 5
           },
           "mode": "markers",
           "name": "XE",
           "text": [
            "BHM",
            "JAX",
            "IAH"
           ],
           "type": "scatter",
           "x": [
            92,
            145,
            37
           ],
           "y": [
            540,
            329,
            205
           ]
          },
          {
           "marker": {
            "size": [],
            "sizemode": "area",
            "sizeref": 5
           },
           "mode": "markers",
           "name": "F9",
           "text": [],
           "type": "scatter",
           "x": [],
           "y": []
          },
          {
           "marker": {
            "size": [
             109,
             666
            ],
            "sizemode": "area",
            "sizeref": 5
           },
           "mode": "markers",
           "name": "YV",
           "text": [
            "MSN",
            "ORD"
           ],
           "type": "scatter",
           "x": [
            38,
            96
           ],
           "y": [
            329,
            198
           ]
          },
          {
           "marker": {
            "size": [
             146
            ],
            "sizemode": "area",
            "sizeref": 5
           },
           "mode": "markers",
           "name": "EV",
           "text": [
            "ABY"
           ],
           "type": "scatter",
           "x": [
            32
           ],
           "y": [
            205
           ]
          },
          {
           "marker": {
            "size": [
             2762,
             2762
            ],
            "sizemode": "area",
            "sizeref": 5
           },
           "mode": "markers",
           "name": "HA",
           "text": [
            "LAS",
            "HNL"
           ],
           "type": "scatter",
           "x": [
            377,
            311
           ],
           "y": [
            442,
            408
           ]
          },
          {
           "marker": {
            "size": [
             1189,
             2153,
             944,
             1076,
             944
            ],
            "sizemode": "area",
            "sizeref": 5
           },
           "mode": "markers",
           "name": "B6",
           "text": [
            "MCO",
            "PHX",
            "MCO",
            "LGA",
            "MCO"
           ],
           "type": "scatter",
           "x": [
            139,
            249,
            116,
            160,
            125
           ],
           "y": [
            283,
            272,
            262,
            242,
            235
           ]
          },
          {
           "marker": {
            "size": [
             181
            ],
            "sizemode": "area",
            "sizeref": 5
           },
           "mode": "markers",
           "name": "WN",
           "text": [
            "OKC"
           ],
           "type": "scatter",
           "x": [
            39
           ],
           "y": [
            201
           ]
          }
         ],
         "name": "30"
        },
        {
         "data": [
          {
           "marker": {
            "size": [
             2486,
             583,
             919,
             1464,
             1389,
             1045,
             1440
            ],
            "sizemode": "area",
            "sizeref": 5
           },
           "mode": "markers",
           "name": "AA",
           "text": [
            "OGG",
            "OMA",
            "JAX",
            "SFO",
            "LGA",
            "MIA",
            "ORD"
           ],
           "type": "scatter",
           "x": [
            271,
            95,
            145,
            168,
            210,
            116,
            194
           ],
           "y": [
            619,
            334,
            318,
            257,
            243,
            230,
            229
           ]
          },
          {
           "marker": {
            "size": [
             405,
             627
            ],
            "sizemode": "area",
            "sizeref": 5
           },
           "mode": "markers",
           "name": "NW",
           "text": [
            "DCA",
            "MSP"
           ],
           "type": "scatter",
           "x": [
            73,
            89
           ],
           "y": [
            278,
            238
           ]
          },
          {
           "marker": {
            "size": [],
            "sizemode": "area",
            "sizeref": 5
           },
           "mode": "markers",
           "name": "FL",
           "text": [],
           "type": "scatter",
           "x": [],
           "y": []
          },
          {
           "marker": {
            "size": [
             164,
             174,
             685,
             304,
             738,
             647,
             303
            ],
            "sizemode": "area",
            "sizeref": 5
           },
           "mode": "markers",
           "name": "MQ",
           "text": [
            "CLL",
            "GRB",
            "DFW",
            "LIT",
            "HPN",
            "ORD",
            "ORD"
           ],
           "type": "scatter",
           "x": [
            34,
            42,
            94,
            62,
            123,
            89,
            45
           ],
           "y": [
            361,
            269,
            259,
            208,
            201,
            193,
            191
           ]
          },
          {
           "marker": {
            "size": [
             332
            ],
            "sizemode": "area",
            "sizeref": 5
           },
           "mode": "markers",
           "name": "9E",
           "text": [
            "MEM"
           ],
           "type": "scatter",
           "x": [
            50
           ],
           "y": [
            201
           ]
          },
          {
           "marker": {
            "size": [
             1597,
             1608,
             2401
            ],
            "sizemode": "area",
            "sizeref": 5
           },
           "mode": "markers",
           "name": "CO",
           "text": [
            "BOS",
            "SJU",
            "EWR"
           ],
           "type": "scatter",
           "x": [
            263,
            230,
            348
           ],
           "y": [
            368,
            237,
            228
           ]
          },
          {
           "marker": {
            "size": [
             1186,
             637,
             463,
             463,
             313,
             716
            ],
            "sizemode": "area",
            "sizeref": 5
           },
           "mode": "markers",
           "name": "OO",
           "text": [
            "BZN",
            "SGF",
            "GTF",
            "SLC",
            "GCC",
            "ORD"
           ],
           "type": "scatter",
           "x": [
            138,
            101,
            66,
            72,
            57,
            109
           ],
           "y": [
            291,
            253,
            220,
            214,
            212,
            196
           ]
          },
          {
           "marker": {
            "size": [
             756,
             756,
             1090,
             1076,
             1449,
             946,
             2475
            ],
            "sizemode": "area",
            "sizeref": 5
           },
           "mode": "markers",
           "name": "DL",
           "text": [
            "CVG",
            "MCO",
            "MIA",
            "FLL",
            "SLC",
            "BOS",
            "LAX"
           ],
           "type": "scatter",
           "x": [
            106,
            106,
            133,
            137,
            172,
            153,
            284
           ],
           "y": [
            517,
            494,
            225,
            221,
            217,
            194,
            186
           ]
          },
          {
           "marker": {
            "size": [
             2496
            ],
            "sizemode": "area",
            "sizeref": 5
           },
           "mode": "markers",
           "name": "AS",
           "text": [
            "BOS"
           ],
           "type": "scatter",
           "x": [
            335
           ],
           "y": [
            330
           ]
          },
          {
           "marker": {
            "size": [
             2378,
             665,
             920,
             665
            ],
            "sizemode": "area",
            "sizeref": 5
           },
           "mode": "markers",
           "name": "US",
           "text": [
            "SEA",
            "PHL",
            "TPA",
            "PHL"
           ],
           "type": "scatter",
           "x": [
            285,
            131,
            103,
            121
           ],
           "y": [
            238,
            215,
            202,
            186
           ]
          },
          {
           "marker": {
            "size": [
             142,
             1721,
             2457,
             1452
            ],
            "sizemode": "area",
            "sizeref": 5
           },
           "mode": "markers",
           "name": "UA",
           "text": [
            "HDN",
            "SEA",
            "BWI",
            "DEN"
           ],
           "type": "scatter",
           "x": [
            29,
            194,
            334,
            158
           ],
           "y": [
            524,
            331,
            239,
            191
           ]
          },
          {
           "marker": {
            "size": [
             187,
             209,
             651,
             187,
             1391
            ],
            "sizemode": "area",
            "sizeref": 5
           },
           "mode": "markers",
           "name": "OH",
           "text": [
            "JFK",
            "JFK",
            "DTW",
            "BOS",
            "DFW"
           ],
           "type": "scatter",
           "x": [
            37,
            45,
            121,
            47,
            185
           ],
           "y": [
            287,
            276,
            267,
            246,
            225
           ]
          },
          {
           "marker": {
            "size": [
             1215,
             194,
             209,
             984,
             542,
             748
            ],
            "sizemode": "area",
            "sizeref": 5
           },
           "mode": "markers",
           "name": "XE",
           "text": [
            "TUL",
            "SYR",
            "EWR",
            "IAH",
            "ICT",
            "EWR"
           ],
           "type": "scatter",
           "x": [
            125,
            40,
            40,
            118,
            81,
            136
           ],
           "y": [
            552,
            263,
            252,
            201,
            190,
            188
           ]
          },
          {
           "marker": {
            "size": [],
            "sizemode": "area",
            "sizeref": 5
           },
           "mode": "markers",
           "name": "F9",
           "text": [],
           "type": "scatter",
           "x": [],
           "y": []
          },
          {
           "marker": {
            "size": [
             717,
             717
            ],
            "sizemode": "area",
            "sizeref": 5
           },
           "mode": "markers",
           "name": "YV",
           "text": [
            "ORD",
            "ORF"
           ],
           "type": "scatter",
           "x": [
            101,
            117
           ],
           "y": [
            216,
            208
           ]
          },
          {
           "marker": {
            "size": [],
            "sizemode": "area",
            "sizeref": 5
           },
           "mode": "markers",
           "name": "EV",
           "text": [],
           "type": "scatter",
           "x": [],
           "y": []
          },
          {
           "marker": {
            "size": [],
            "sizemode": "area",
            "sizeref": 5
           },
           "mode": "markers",
           "name": "HA",
           "text": [],
           "type": "scatter",
           "x": [],
           "y": []
          },
          {
           "marker": {
            "size": [
             1674,
             1028,
             950
            ],
            "sizemode": "area",
            "sizeref": 5
           },
           "mode": "markers",
           "name": "B6",
           "text": [
            "SJU",
            "JFK",
            "MCO"
           ],
           "type": "scatter",
           "x": [
            225,
            165,
            112
           ],
           "y": [
            209,
            202,
            187
           ]
          },
          {
           "marker": {
            "size": [
             1054,
             670,
             989,
             861,
             544
            ],
            "sizemode": "area",
            "sizeref": 5
           },
           "mode": "markers",
           "name": "WN",
           "text": [
            "TPA",
            "BNA",
            "MCO",
            "BOS",
            "MDW"
           ],
           "type": "scatter",
           "x": [
            135,
            122,
            139,
            139,
            79
           ],
           "y": [
            279,
            260,
            216,
            201,
            189
           ]
          }
         ],
         "name": "31"
        }
       ],
       "layout": {
        "hovermode": "closest",
        "sliders": [
         {
          "active": 0,
          "currentvalue": {
           "font": {
            "size": 20
           },
           "prefix": "Date of December:",
           "visible": true,
           "xanchor": "right"
          },
          "len": 0.9,
          "pad": {
           "b": 10,
           "t": 50
          },
          "steps": [
           {
            "args": [
             [
              "1"
             ],
             {
              "frame": {
               "duration": 1200,
               "redraw": false
              },
              "mode": "immediate",
              "transition": {
               "duration": 1200
              }
             }
            ],
            "label": "1",
            "method": "animate"
           },
           {
            "args": [
             [
              "2"
             ],
             {
              "frame": {
               "duration": 1200,
               "redraw": false
              },
              "mode": "immediate",
              "transition": {
               "duration": 1200
              }
             }
            ],
            "label": "2",
            "method": "animate"
           },
           {
            "args": [
             [
              "3"
             ],
             {
              "frame": {
               "duration": 1200,
               "redraw": false
              },
              "mode": "immediate",
              "transition": {
               "duration": 1200
              }
             }
            ],
            "label": "3",
            "method": "animate"
           },
           {
            "args": [
             [
              "4"
             ],
             {
              "frame": {
               "duration": 1200,
               "redraw": false
              },
              "mode": "immediate",
              "transition": {
               "duration": 1200
              }
             }
            ],
            "label": "4",
            "method": "animate"
           },
           {
            "args": [
             [
              "5"
             ],
             {
              "frame": {
               "duration": 1200,
               "redraw": false
              },
              "mode": "immediate",
              "transition": {
               "duration": 1200
              }
             }
            ],
            "label": "5",
            "method": "animate"
           },
           {
            "args": [
             [
              "6"
             ],
             {
              "frame": {
               "duration": 1200,
               "redraw": false
              },
              "mode": "immediate",
              "transition": {
               "duration": 1200
              }
             }
            ],
            "label": "6",
            "method": "animate"
           },
           {
            "args": [
             [
              "7"
             ],
             {
              "frame": {
               "duration": 1200,
               "redraw": false
              },
              "mode": "immediate",
              "transition": {
               "duration": 1200
              }
             }
            ],
            "label": "7",
            "method": "animate"
           },
           {
            "args": [
             [
              "8"
             ],
             {
              "frame": {
               "duration": 1200,
               "redraw": false
              },
              "mode": "immediate",
              "transition": {
               "duration": 1200
              }
             }
            ],
            "label": "8",
            "method": "animate"
           },
           {
            "args": [
             [
              "9"
             ],
             {
              "frame": {
               "duration": 1200,
               "redraw": false
              },
              "mode": "immediate",
              "transition": {
               "duration": 1200
              }
             }
            ],
            "label": "9",
            "method": "animate"
           },
           {
            "args": [
             [
              "10"
             ],
             {
              "frame": {
               "duration": 1200,
               "redraw": false
              },
              "mode": "immediate",
              "transition": {
               "duration": 1200
              }
             }
            ],
            "label": "10",
            "method": "animate"
           },
           {
            "args": [
             [
              "11"
             ],
             {
              "frame": {
               "duration": 1200,
               "redraw": false
              },
              "mode": "immediate",
              "transition": {
               "duration": 1200
              }
             }
            ],
            "label": "11",
            "method": "animate"
           },
           {
            "args": [
             [
              "12"
             ],
             {
              "frame": {
               "duration": 1200,
               "redraw": false
              },
              "mode": "immediate",
              "transition": {
               "duration": 1200
              }
             }
            ],
            "label": "12",
            "method": "animate"
           },
           {
            "args": [
             [
              "13"
             ],
             {
              "frame": {
               "duration": 1200,
               "redraw": false
              },
              "mode": "immediate",
              "transition": {
               "duration": 1200
              }
             }
            ],
            "label": "13",
            "method": "animate"
           },
           {
            "args": [
             [
              "14"
             ],
             {
              "frame": {
               "duration": 1200,
               "redraw": false
              },
              "mode": "immediate",
              "transition": {
               "duration": 1200
              }
             }
            ],
            "label": "14",
            "method": "animate"
           },
           {
            "args": [
             [
              "15"
             ],
             {
              "frame": {
               "duration": 1200,
               "redraw": false
              },
              "mode": "immediate",
              "transition": {
               "duration": 1200
              }
             }
            ],
            "label": "15",
            "method": "animate"
           },
           {
            "args": [
             [
              "16"
             ],
             {
              "frame": {
               "duration": 1200,
               "redraw": false
              },
              "mode": "immediate",
              "transition": {
               "duration": 1200
              }
             }
            ],
            "label": "16",
            "method": "animate"
           },
           {
            "args": [
             [
              "17"
             ],
             {
              "frame": {
               "duration": 1200,
               "redraw": false
              },
              "mode": "immediate",
              "transition": {
               "duration": 1200
              }
             }
            ],
            "label": "17",
            "method": "animate"
           },
           {
            "args": [
             [
              "18"
             ],
             {
              "frame": {
               "duration": 1200,
               "redraw": false
              },
              "mode": "immediate",
              "transition": {
               "duration": 1200
              }
             }
            ],
            "label": "18",
            "method": "animate"
           },
           {
            "args": [
             [
              "19"
             ],
             {
              "frame": {
               "duration": 1200,
               "redraw": false
              },
              "mode": "immediate",
              "transition": {
               "duration": 1200
              }
             }
            ],
            "label": "19",
            "method": "animate"
           },
           {
            "args": [
             [
              "20"
             ],
             {
              "frame": {
               "duration": 1200,
               "redraw": false
              },
              "mode": "immediate",
              "transition": {
               "duration": 1200
              }
             }
            ],
            "label": "20",
            "method": "animate"
           },
           {
            "args": [
             [
              "21"
             ],
             {
              "frame": {
               "duration": 1200,
               "redraw": false
              },
              "mode": "immediate",
              "transition": {
               "duration": 1200
              }
             }
            ],
            "label": "21",
            "method": "animate"
           },
           {
            "args": [
             [
              "22"
             ],
             {
              "frame": {
               "duration": 1200,
               "redraw": false
              },
              "mode": "immediate",
              "transition": {
               "duration": 1200
              }
             }
            ],
            "label": "22",
            "method": "animate"
           },
           {
            "args": [
             [
              "23"
             ],
             {
              "frame": {
               "duration": 1200,
               "redraw": false
              },
              "mode": "immediate",
              "transition": {
               "duration": 1200
              }
             }
            ],
            "label": "23",
            "method": "animate"
           },
           {
            "args": [
             [
              "24"
             ],
             {
              "frame": {
               "duration": 1200,
               "redraw": false
              },
              "mode": "immediate",
              "transition": {
               "duration": 1200
              }
             }
            ],
            "label": "24",
            "method": "animate"
           },
           {
            "args": [
             [
              "25"
             ],
             {
              "frame": {
               "duration": 1200,
               "redraw": false
              },
              "mode": "immediate",
              "transition": {
               "duration": 1200
              }
             }
            ],
            "label": "25",
            "method": "animate"
           },
           {
            "args": [
             [
              "26"
             ],
             {
              "frame": {
               "duration": 1200,
               "redraw": false
              },
              "mode": "immediate",
              "transition": {
               "duration": 1200
              }
             }
            ],
            "label": "26",
            "method": "animate"
           },
           {
            "args": [
             [
              "27"
             ],
             {
              "frame": {
               "duration": 1200,
               "redraw": false
              },
              "mode": "immediate",
              "transition": {
               "duration": 1200
              }
             }
            ],
            "label": "27",
            "method": "animate"
           },
           {
            "args": [
             [
              "28"
             ],
             {
              "frame": {
               "duration": 1200,
               "redraw": false
              },
              "mode": "immediate",
              "transition": {
               "duration": 1200
              }
             }
            ],
            "label": "28",
            "method": "animate"
           },
           {
            "args": [
             [
              "29"
             ],
             {
              "frame": {
               "duration": 1200,
               "redraw": false
              },
              "mode": "immediate",
              "transition": {
               "duration": 1200
              }
             }
            ],
            "label": "29",
            "method": "animate"
           },
           {
            "args": [
             [
              "30"
             ],
             {
              "frame": {
               "duration": 1200,
               "redraw": false
              },
              "mode": "immediate",
              "transition": {
               "duration": 1200
              }
             }
            ],
            "label": "30",
            "method": "animate"
           },
           {
            "args": [
             [
              "31"
             ],
             {
              "frame": {
               "duration": 1200,
               "redraw": false
              },
              "mode": "immediate",
              "transition": {
               "duration": 1200
              }
             }
            ],
            "label": "31",
            "method": "animate"
           }
          ],
          "transition": {
           "duration": 1200,
           "easing": "cubic-in-out"
          },
          "x": 0.1,
          "xanchor": "left",
          "y": 0,
          "yanchor": "top"
         }
        ],
        "template": {
         "data": {
          "bar": [
           {
            "error_x": {
             "color": "#2a3f5f"
            },
            "error_y": {
             "color": "#2a3f5f"
            },
            "marker": {
             "line": {
              "color": "#E5ECF6",
              "width": 0.5
             }
            },
            "type": "bar"
           }
          ],
          "barpolar": [
           {
            "marker": {
             "line": {
              "color": "#E5ECF6",
              "width": 0.5
             }
            },
            "type": "barpolar"
           }
          ],
          "carpet": [
           {
            "aaxis": {
             "endlinecolor": "#2a3f5f",
             "gridcolor": "white",
             "linecolor": "white",
             "minorgridcolor": "white",
             "startlinecolor": "#2a3f5f"
            },
            "baxis": {
             "endlinecolor": "#2a3f5f",
             "gridcolor": "white",
             "linecolor": "white",
             "minorgridcolor": "white",
             "startlinecolor": "#2a3f5f"
            },
            "type": "carpet"
           }
          ],
          "choropleth": [
           {
            "colorbar": {
             "outlinewidth": 0,
             "ticks": ""
            },
            "type": "choropleth"
           }
          ],
          "contour": [
           {
            "colorbar": {
             "outlinewidth": 0,
             "ticks": ""
            },
            "colorscale": [
             [
              0,
              "#0d0887"
             ],
             [
              0.1111111111111111,
              "#46039f"
             ],
             [
              0.2222222222222222,
              "#7201a8"
             ],
             [
              0.3333333333333333,
              "#9c179e"
             ],
             [
              0.4444444444444444,
              "#bd3786"
             ],
             [
              0.5555555555555556,
              "#d8576b"
             ],
             [
              0.6666666666666666,
              "#ed7953"
             ],
             [
              0.7777777777777778,
              "#fb9f3a"
             ],
             [
              0.8888888888888888,
              "#fdca26"
             ],
             [
              1,
              "#f0f921"
             ]
            ],
            "type": "contour"
           }
          ],
          "contourcarpet": [
           {
            "colorbar": {
             "outlinewidth": 0,
             "ticks": ""
            },
            "type": "contourcarpet"
           }
          ],
          "heatmap": [
           {
            "colorbar": {
             "outlinewidth": 0,
             "ticks": ""
            },
            "colorscale": [
             [
              0,
              "#0d0887"
             ],
             [
              0.1111111111111111,
              "#46039f"
             ],
             [
              0.2222222222222222,
              "#7201a8"
             ],
             [
              0.3333333333333333,
              "#9c179e"
             ],
             [
              0.4444444444444444,
              "#bd3786"
             ],
             [
              0.5555555555555556,
              "#d8576b"
             ],
             [
              0.6666666666666666,
              "#ed7953"
             ],
             [
              0.7777777777777778,
              "#fb9f3a"
             ],
             [
              0.8888888888888888,
              "#fdca26"
             ],
             [
              1,
              "#f0f921"
             ]
            ],
            "type": "heatmap"
           }
          ],
          "heatmapgl": [
           {
            "colorbar": {
             "outlinewidth": 0,
             "ticks": ""
            },
            "colorscale": [
             [
              0,
              "#0d0887"
             ],
             [
              0.1111111111111111,
              "#46039f"
             ],
             [
              0.2222222222222222,
              "#7201a8"
             ],
             [
              0.3333333333333333,
              "#9c179e"
             ],
             [
              0.4444444444444444,
              "#bd3786"
             ],
             [
              0.5555555555555556,
              "#d8576b"
             ],
             [
              0.6666666666666666,
              "#ed7953"
             ],
             [
              0.7777777777777778,
              "#fb9f3a"
             ],
             [
              0.8888888888888888,
              "#fdca26"
             ],
             [
              1,
              "#f0f921"
             ]
            ],
            "type": "heatmapgl"
           }
          ],
          "histogram": [
           {
            "marker": {
             "colorbar": {
              "outlinewidth": 0,
              "ticks": ""
             }
            },
            "type": "histogram"
           }
          ],
          "histogram2d": [
           {
            "colorbar": {
             "outlinewidth": 0,
             "ticks": ""
            },
            "colorscale": [
             [
              0,
              "#0d0887"
             ],
             [
              0.1111111111111111,
              "#46039f"
             ],
             [
              0.2222222222222222,
              "#7201a8"
             ],
             [
              0.3333333333333333,
              "#9c179e"
             ],
             [
              0.4444444444444444,
              "#bd3786"
             ],
             [
              0.5555555555555556,
              "#d8576b"
             ],
             [
              0.6666666666666666,
              "#ed7953"
             ],
             [
              0.7777777777777778,
              "#fb9f3a"
             ],
             [
              0.8888888888888888,
              "#fdca26"
             ],
             [
              1,
              "#f0f921"
             ]
            ],
            "type": "histogram2d"
           }
          ],
          "histogram2dcontour": [
           {
            "colorbar": {
             "outlinewidth": 0,
             "ticks": ""
            },
            "colorscale": [
             [
              0,
              "#0d0887"
             ],
             [
              0.1111111111111111,
              "#46039f"
             ],
             [
              0.2222222222222222,
              "#7201a8"
             ],
             [
              0.3333333333333333,
              "#9c179e"
             ],
             [
              0.4444444444444444,
              "#bd3786"
             ],
             [
              0.5555555555555556,
              "#d8576b"
             ],
             [
              0.6666666666666666,
              "#ed7953"
             ],
             [
              0.7777777777777778,
              "#fb9f3a"
             ],
             [
              0.8888888888888888,
              "#fdca26"
             ],
             [
              1,
              "#f0f921"
             ]
            ],
            "type": "histogram2dcontour"
           }
          ],
          "mesh3d": [
           {
            "colorbar": {
             "outlinewidth": 0,
             "ticks": ""
            },
            "type": "mesh3d"
           }
          ],
          "parcoords": [
           {
            "line": {
             "colorbar": {
              "outlinewidth": 0,
              "ticks": ""
             }
            },
            "type": "parcoords"
           }
          ],
          "pie": [
           {
            "automargin": true,
            "type": "pie"
           }
          ],
          "scatter": [
           {
            "marker": {
             "colorbar": {
              "outlinewidth": 0,
              "ticks": ""
             }
            },
            "type": "scatter"
           }
          ],
          "scatter3d": [
           {
            "line": {
             "colorbar": {
              "outlinewidth": 0,
              "ticks": ""
             }
            },
            "marker": {
             "colorbar": {
              "outlinewidth": 0,
              "ticks": ""
             }
            },
            "type": "scatter3d"
           }
          ],
          "scattercarpet": [
           {
            "marker": {
             "colorbar": {
              "outlinewidth": 0,
              "ticks": ""
             }
            },
            "type": "scattercarpet"
           }
          ],
          "scattergeo": [
           {
            "marker": {
             "colorbar": {
              "outlinewidth": 0,
              "ticks": ""
             }
            },
            "type": "scattergeo"
           }
          ],
          "scattergl": [
           {
            "marker": {
             "colorbar": {
              "outlinewidth": 0,
              "ticks": ""
             }
            },
            "type": "scattergl"
           }
          ],
          "scattermapbox": [
           {
            "marker": {
             "colorbar": {
              "outlinewidth": 0,
              "ticks": ""
             }
            },
            "type": "scattermapbox"
           }
          ],
          "scatterpolar": [
           {
            "marker": {
             "colorbar": {
              "outlinewidth": 0,
              "ticks": ""
             }
            },
            "type": "scatterpolar"
           }
          ],
          "scatterpolargl": [
           {
            "marker": {
             "colorbar": {
              "outlinewidth": 0,
              "ticks": ""
             }
            },
            "type": "scatterpolargl"
           }
          ],
          "scatterternary": [
           {
            "marker": {
             "colorbar": {
              "outlinewidth": 0,
              "ticks": ""
             }
            },
            "type": "scatterternary"
           }
          ],
          "surface": [
           {
            "colorbar": {
             "outlinewidth": 0,
             "ticks": ""
            },
            "colorscale": [
             [
              0,
              "#0d0887"
             ],
             [
              0.1111111111111111,
              "#46039f"
             ],
             [
              0.2222222222222222,
              "#7201a8"
             ],
             [
              0.3333333333333333,
              "#9c179e"
             ],
             [
              0.4444444444444444,
              "#bd3786"
             ],
             [
              0.5555555555555556,
              "#d8576b"
             ],
             [
              0.6666666666666666,
              "#ed7953"
             ],
             [
              0.7777777777777778,
              "#fb9f3a"
             ],
             [
              0.8888888888888888,
              "#fdca26"
             ],
             [
              1,
              "#f0f921"
             ]
            ],
            "type": "surface"
           }
          ],
          "table": [
           {
            "cells": {
             "fill": {
              "color": "#EBF0F8"
             },
             "line": {
              "color": "white"
             }
            },
            "header": {
             "fill": {
              "color": "#C8D4E3"
             },
             "line": {
              "color": "white"
             }
            },
            "type": "table"
           }
          ]
         },
         "layout": {
          "annotationdefaults": {
           "arrowcolor": "#2a3f5f",
           "arrowhead": 0,
           "arrowwidth": 1
          },
          "coloraxis": {
           "colorbar": {
            "outlinewidth": 0,
            "ticks": ""
           }
          },
          "colorscale": {
           "diverging": [
            [
             0,
             "#8e0152"
            ],
            [
             0.1,
             "#c51b7d"
            ],
            [
             0.2,
             "#de77ae"
            ],
            [
             0.3,
             "#f1b6da"
            ],
            [
             0.4,
             "#fde0ef"
            ],
            [
             0.5,
             "#f7f7f7"
            ],
            [
             0.6,
             "#e6f5d0"
            ],
            [
             0.7,
             "#b8e186"
            ],
            [
             0.8,
             "#7fbc41"
            ],
            [
             0.9,
             "#4d9221"
            ],
            [
             1,
             "#276419"
            ]
           ],
           "sequential": [
            [
             0,
             "#0d0887"
            ],
            [
             0.1111111111111111,
             "#46039f"
            ],
            [
             0.2222222222222222,
             "#7201a8"
            ],
            [
             0.3333333333333333,
             "#9c179e"
            ],
            [
             0.4444444444444444,
             "#bd3786"
            ],
            [
             0.5555555555555556,
             "#d8576b"
            ],
            [
             0.6666666666666666,
             "#ed7953"
            ],
            [
             0.7777777777777778,
             "#fb9f3a"
            ],
            [
             0.8888888888888888,
             "#fdca26"
            ],
            [
             1,
             "#f0f921"
            ]
           ],
           "sequentialminus": [
            [
             0,
             "#0d0887"
            ],
            [
             0.1111111111111111,
             "#46039f"
            ],
            [
             0.2222222222222222,
             "#7201a8"
            ],
            [
             0.3333333333333333,
             "#9c179e"
            ],
            [
             0.4444444444444444,
             "#bd3786"
            ],
            [
             0.5555555555555556,
             "#d8576b"
            ],
            [
             0.6666666666666666,
             "#ed7953"
            ],
            [
             0.7777777777777778,
             "#fb9f3a"
            ],
            [
             0.8888888888888888,
             "#fdca26"
            ],
            [
             1,
             "#f0f921"
            ]
           ]
          },
          "colorway": [
           "#636efa",
           "#EF553B",
           "#00cc96",
           "#ab63fa",
           "#FFA15A",
           "#19d3f3",
           "#FF6692",
           "#B6E880",
           "#FF97FF",
           "#FECB52"
          ],
          "font": {
           "color": "#2a3f5f"
          },
          "geo": {
           "bgcolor": "white",
           "lakecolor": "white",
           "landcolor": "#E5ECF6",
           "showlakes": true,
           "showland": true,
           "subunitcolor": "white"
          },
          "hoverlabel": {
           "align": "left"
          },
          "hovermode": "closest",
          "mapbox": {
           "style": "light"
          },
          "paper_bgcolor": "white",
          "plot_bgcolor": "#E5ECF6",
          "polar": {
           "angularaxis": {
            "gridcolor": "white",
            "linecolor": "white",
            "ticks": ""
           },
           "bgcolor": "#E5ECF6",
           "radialaxis": {
            "gridcolor": "white",
            "linecolor": "white",
            "ticks": ""
           }
          },
          "scene": {
           "xaxis": {
            "backgroundcolor": "#E5ECF6",
            "gridcolor": "white",
            "gridwidth": 2,
            "linecolor": "white",
            "showbackground": true,
            "ticks": "",
            "zerolinecolor": "white"
           },
           "yaxis": {
            "backgroundcolor": "#E5ECF6",
            "gridcolor": "white",
            "gridwidth": 2,
            "linecolor": "white",
            "showbackground": true,
            "ticks": "",
            "zerolinecolor": "white"
           },
           "zaxis": {
            "backgroundcolor": "#E5ECF6",
            "gridcolor": "white",
            "gridwidth": 2,
            "linecolor": "white",
            "showbackground": true,
            "ticks": "",
            "zerolinecolor": "white"
           }
          },
          "shapedefaults": {
           "line": {
            "color": "#2a3f5f"
           }
          },
          "ternary": {
           "aaxis": {
            "gridcolor": "white",
            "linecolor": "white",
            "ticks": ""
           },
           "baxis": {
            "gridcolor": "white",
            "linecolor": "white",
            "ticks": ""
           },
           "bgcolor": "#E5ECF6",
           "caxis": {
            "gridcolor": "white",
            "linecolor": "white",
            "ticks": ""
           }
          },
          "title": {
           "x": 0.05
          },
          "xaxis": {
           "automargin": true,
           "gridcolor": "white",
           "linecolor": "white",
           "ticks": "",
           "title": {
            "standoff": 15
           },
           "zerolinecolor": "white",
           "zerolinewidth": 2
          },
          "yaxis": {
           "automargin": true,
           "gridcolor": "white",
           "linecolor": "white",
           "ticks": "",
           "title": {
            "standoff": 15
           },
           "zerolinecolor": "white",
           "zerolinewidth": 2
          }
         }
        },
        "title": {
         "text": "Top 2000 Arrive Delayed Flights Causing by Carrier in Decmber 2009",
         "x": 0.5,
         "xanchor": "center",
         "y": 0.9,
         "yanchor": "top"
        },
        "updatemenus": [
         {
          "buttons": [
           {
            "args": [
             null,
             {
              "frame": {
               "duration": 2000,
               "redraw": false
              },
              "fromcurrent": true,
              "transition": {
               "duration": 1200,
               "easing": "quadratic-in-out"
              }
             }
            ],
            "label": "Play",
            "method": "animate"
           },
           {
            "args": [
             [
              null
             ],
             {
              "frame": {
               "duration": 0,
               "redraw": false
              },
              "mode": "immediate",
              "transition": {
               "duration": 0
              }
             }
            ],
            "label": "Pause",
            "method": "animate"
           }
          ],
          "direction": "left",
          "pad": {
           "r": 10,
           "t": 87
          },
          "showactive": false,
          "type": "buttons",
          "x": 0.1,
          "xanchor": "right",
          "y": 0,
          "yanchor": "top"
         }
        ],
        "xaxis": {
         "range": [
          1.1,
          2.9
         ],
         "title": {
          "text": "Time of flight (min)"
         },
         "type": "log"
        },
        "yaxis": {
         "range": [
          2.2,
          3.3
         ],
         "title": {
          "text": "Arrive delay time(min)"
         },
         "type": "log"
        }
       }
      },
      "text/html": [
       "<div>                            <div id=\"7b7cf0c8-577f-4f95-b610-8d1ade74baa8\" class=\"plotly-graph-div\" style=\"height:525px; width:100%;\"></div>            <script type=\"text/javascript\">                require([\"plotly\"], function(Plotly) {                    window.PLOTLYENV=window.PLOTLYENV || {};                                    if (document.getElementById(\"7b7cf0c8-577f-4f95-b610-8d1ade74baa8\")) {                    Plotly.newPlot(                        \"7b7cf0c8-577f-4f95-b610-8d1ade74baa8\",                        [{\"marker\": {\"size\": [190.0, 1236.0, 1972.0, 813.0, 641.0, 1121.0, 920.0, 551.0], \"sizemode\": \"area\", \"sizeref\": 5}, \"mode\": \"markers\", \"name\": \"AA\", \"text\": [\"AUS\", \"ELP\", \"PHX\", \"DFW\", \"DFW\", \"DFW\", \"MIA\", \"DFW\"], \"type\": \"scatter\", \"x\": [38.0, 148.0, 226.0, 114.0, 89.0, 139.0, 122.0, 74.0], \"y\": [622.0, 391.0, 288.0, 268.0, 252.0, 249.0, 209.0, 196.0]}, {\"marker\": {\"size\": [349.0, 501.0], \"sizemode\": \"area\", \"sizeref\": 5}, \"mode\": \"markers\", \"name\": \"NW\", \"text\": [\"MSY\", \"LGA\"], \"type\": \"scatter\", \"x\": [49.0, 89.0], \"y\": [347.0, 244.0]}, {\"marker\": {\"size\": [], \"sizemode\": \"area\", \"sizeref\": 5}, \"mode\": \"markers\", \"name\": \"FL\", \"text\": [], \"type\": \"scatter\", \"x\": [], \"y\": []}, {\"marker\": {\"size\": [], \"sizemode\": \"area\", \"sizeref\": 5}, \"mode\": \"markers\", \"name\": \"MQ\", \"text\": [], \"type\": \"scatter\", \"x\": [], \"y\": []}, {\"marker\": {\"size\": [398.0], \"sizemode\": \"area\", \"sizeref\": 5}, \"mode\": \"markers\", \"name\": \"9E\", \"text\": [\"AVP\"], \"type\": \"scatter\", \"x\": [73.0], \"y\": [337.0]}, {\"marker\": {\"size\": [2454.0, 1379.0], \"sizemode\": \"area\", \"sizeref\": 5}, \"mode\": \"markers\", \"name\": \"CO\", \"text\": [\"EWR\", \"LAX\"], \"type\": \"scatter\", \"x\": [369.0, 180.0], \"y\": [196.0, 184.0]}, {\"marker\": {\"size\": [], \"sizemode\": \"area\", \"sizeref\": 5}, \"mode\": \"markers\", \"name\": \"OO\", \"text\": [], \"type\": \"scatter\", \"x\": [], \"y\": []}, {\"marker\": {\"size\": [590.0], \"sizemode\": \"area\", \"sizeref\": 5}, \"mode\": \"markers\", \"name\": \"DL\", \"text\": [\"MDW\"], \"type\": \"scatter\", \"x\": [88.0], \"y\": [335.0]}, {\"marker\": {\"size\": [], \"sizemode\": \"area\", \"sizeref\": 5}, \"mode\": \"markers\", \"name\": \"AS\", \"text\": [], \"type\": \"scatter\", \"x\": [], \"y\": []}, {\"marker\": {\"size\": [992.0, 646.0], \"sizemode\": \"area\", \"sizeref\": 5}, \"mode\": \"markers\", \"name\": \"US\", \"text\": [\"FLL\", \"ALB\"], \"type\": \"scatter\", \"x\": [132.0, 101.0], \"y\": [440.0, 418.0]}, {\"marker\": {\"size\": [967.0], \"sizemode\": \"area\", \"sizeref\": 5}, \"mode\": \"markers\", \"name\": \"UA\", \"text\": [\"SFO\"], \"type\": \"scatter\", \"x\": [115.0], \"y\": [239.0]}, {\"marker\": {\"size\": [431.0, 834.0], \"sizemode\": \"area\", \"sizeref\": 5}, \"mode\": \"markers\", \"name\": \"OH\", \"text\": [\"RDU\", \"LGA\"], \"type\": \"scatter\", \"x\": [62.0, 124.0], \"y\": [223.0, 186.0]}, {\"marker\": {\"size\": [668.0], \"sizemode\": \"area\", \"sizeref\": 5}, \"mode\": \"markers\", \"name\": \"XE\", \"text\": [\"STL\"], \"type\": \"scatter\", \"x\": [151.0], \"y\": [283.0]}, {\"marker\": {\"size\": [], \"sizemode\": \"area\", \"sizeref\": 5}, \"mode\": \"markers\", \"name\": \"F9\", \"text\": [], \"type\": \"scatter\", \"x\": [], \"y\": []}, {\"marker\": {\"size\": [599.0], \"sizemode\": \"area\", \"sizeref\": 5}, \"mode\": \"markers\", \"name\": \"YV\", \"text\": [\"CLT\"], \"type\": \"scatter\", \"x\": [85.0], \"y\": [227.0]}, {\"marker\": {\"size\": [321.0], \"sizemode\": \"area\", \"sizeref\": 5}, \"mode\": \"markers\", \"name\": \"EV\", \"text\": [\"SDF\"], \"type\": \"scatter\", \"x\": [56.0], \"y\": [257.0]}, {\"marker\": {\"size\": [], \"sizemode\": \"area\", \"sizeref\": 5}, \"mode\": \"markers\", \"name\": \"HA\", \"text\": [], \"type\": \"scatter\", \"x\": [], \"y\": []}, {\"marker\": {\"size\": [], \"sizemode\": \"area\", \"sizeref\": 5}, \"mode\": \"markers\", \"name\": \"B6\", \"text\": [], \"type\": \"scatter\", \"x\": [], \"y\": []}, {\"marker\": {\"size\": [276.0, 276.0, 781.0], \"sizemode\": \"area\", \"sizeref\": 5}, \"mode\": \"markers\", \"name\": \"WN\", \"text\": [\"HRL\", \"HOU\", \"HOU\"], \"type\": \"scatter\", \"x\": [52.0, 55.0, 111.0], \"y\": [360.0, 255.0, 240.0]}],                        {\"hovermode\": \"closest\", \"sliders\": [{\"active\": 0, \"currentvalue\": {\"font\": {\"size\": 20}, \"prefix\": \"Date of December:\", \"visible\": true, \"xanchor\": \"right\"}, \"len\": 0.9, \"pad\": {\"b\": 10, \"t\": 50}, \"steps\": [{\"args\": [[\"1\"], {\"frame\": {\"duration\": 1200, \"redraw\": false}, \"mode\": \"immediate\", \"transition\": {\"duration\": 1200}}], \"label\": \"1\", \"method\": \"animate\"}, {\"args\": [[\"2\"], {\"frame\": {\"duration\": 1200, \"redraw\": false}, \"mode\": \"immediate\", \"transition\": {\"duration\": 1200}}], \"label\": \"2\", \"method\": \"animate\"}, {\"args\": [[\"3\"], {\"frame\": {\"duration\": 1200, \"redraw\": false}, \"mode\": \"immediate\", \"transition\": {\"duration\": 1200}}], \"label\": \"3\", \"method\": \"animate\"}, {\"args\": [[\"4\"], {\"frame\": {\"duration\": 1200, \"redraw\": false}, \"mode\": \"immediate\", \"transition\": {\"duration\": 1200}}], \"label\": \"4\", \"method\": \"animate\"}, {\"args\": [[\"5\"], {\"frame\": {\"duration\": 1200, \"redraw\": false}, \"mode\": \"immediate\", \"transition\": {\"duration\": 1200}}], \"label\": \"5\", \"method\": \"animate\"}, {\"args\": [[\"6\"], {\"frame\": {\"duration\": 1200, \"redraw\": false}, \"mode\": \"immediate\", \"transition\": {\"duration\": 1200}}], \"label\": \"6\", \"method\": \"animate\"}, {\"args\": [[\"7\"], {\"frame\": {\"duration\": 1200, \"redraw\": false}, \"mode\": \"immediate\", \"transition\": {\"duration\": 1200}}], \"label\": \"7\", \"method\": \"animate\"}, {\"args\": [[\"8\"], {\"frame\": {\"duration\": 1200, \"redraw\": false}, \"mode\": \"immediate\", \"transition\": {\"duration\": 1200}}], \"label\": \"8\", \"method\": \"animate\"}, {\"args\": [[\"9\"], {\"frame\": {\"duration\": 1200, \"redraw\": false}, \"mode\": \"immediate\", \"transition\": {\"duration\": 1200}}], \"label\": \"9\", \"method\": \"animate\"}, {\"args\": [[\"10\"], {\"frame\": {\"duration\": 1200, \"redraw\": false}, \"mode\": \"immediate\", \"transition\": {\"duration\": 1200}}], \"label\": \"10\", \"method\": \"animate\"}, {\"args\": [[\"11\"], {\"frame\": {\"duration\": 1200, \"redraw\": false}, \"mode\": \"immediate\", \"transition\": {\"duration\": 1200}}], \"label\": \"11\", \"method\": \"animate\"}, {\"args\": [[\"12\"], {\"frame\": {\"duration\": 1200, \"redraw\": false}, \"mode\": \"immediate\", \"transition\": {\"duration\": 1200}}], \"label\": \"12\", \"method\": \"animate\"}, {\"args\": [[\"13\"], {\"frame\": {\"duration\": 1200, \"redraw\": false}, \"mode\": \"immediate\", \"transition\": {\"duration\": 1200}}], \"label\": \"13\", \"method\": \"animate\"}, {\"args\": [[\"14\"], {\"frame\": {\"duration\": 1200, \"redraw\": false}, \"mode\": \"immediate\", \"transition\": {\"duration\": 1200}}], \"label\": \"14\", \"method\": \"animate\"}, {\"args\": [[\"15\"], {\"frame\": {\"duration\": 1200, \"redraw\": false}, \"mode\": \"immediate\", \"transition\": {\"duration\": 1200}}], \"label\": \"15\", \"method\": \"animate\"}, {\"args\": [[\"16\"], {\"frame\": {\"duration\": 1200, \"redraw\": false}, \"mode\": \"immediate\", \"transition\": {\"duration\": 1200}}], \"label\": \"16\", \"method\": \"animate\"}, {\"args\": [[\"17\"], {\"frame\": {\"duration\": 1200, \"redraw\": false}, \"mode\": \"immediate\", \"transition\": {\"duration\": 1200}}], \"label\": \"17\", \"method\": \"animate\"}, {\"args\": [[\"18\"], {\"frame\": {\"duration\": 1200, \"redraw\": false}, \"mode\": \"immediate\", \"transition\": {\"duration\": 1200}}], \"label\": \"18\", \"method\": \"animate\"}, {\"args\": [[\"19\"], {\"frame\": {\"duration\": 1200, \"redraw\": false}, \"mode\": \"immediate\", \"transition\": {\"duration\": 1200}}], \"label\": \"19\", \"method\": \"animate\"}, {\"args\": [[\"20\"], {\"frame\": {\"duration\": 1200, \"redraw\": false}, \"mode\": \"immediate\", \"transition\": {\"duration\": 1200}}], \"label\": \"20\", \"method\": \"animate\"}, {\"args\": [[\"21\"], {\"frame\": {\"duration\": 1200, \"redraw\": false}, \"mode\": \"immediate\", \"transition\": {\"duration\": 1200}}], \"label\": \"21\", \"method\": \"animate\"}, {\"args\": [[\"22\"], {\"frame\": {\"duration\": 1200, \"redraw\": false}, \"mode\": \"immediate\", \"transition\": {\"duration\": 1200}}], \"label\": \"22\", \"method\": \"animate\"}, {\"args\": [[\"23\"], {\"frame\": {\"duration\": 1200, \"redraw\": false}, \"mode\": \"immediate\", \"transition\": {\"duration\": 1200}}], \"label\": \"23\", \"method\": \"animate\"}, {\"args\": [[\"24\"], {\"frame\": {\"duration\": 1200, \"redraw\": false}, \"mode\": \"immediate\", \"transition\": {\"duration\": 1200}}], \"label\": \"24\", \"method\": \"animate\"}, {\"args\": [[\"25\"], {\"frame\": {\"duration\": 1200, \"redraw\": false}, \"mode\": \"immediate\", \"transition\": {\"duration\": 1200}}], \"label\": \"25\", \"method\": \"animate\"}, {\"args\": [[\"26\"], {\"frame\": {\"duration\": 1200, \"redraw\": false}, \"mode\": \"immediate\", \"transition\": {\"duration\": 1200}}], \"label\": \"26\", \"method\": \"animate\"}, {\"args\": [[\"27\"], {\"frame\": {\"duration\": 1200, \"redraw\": false}, \"mode\": \"immediate\", \"transition\": {\"duration\": 1200}}], \"label\": \"27\", \"method\": \"animate\"}, {\"args\": [[\"28\"], {\"frame\": {\"duration\": 1200, \"redraw\": false}, \"mode\": \"immediate\", \"transition\": {\"duration\": 1200}}], \"label\": \"28\", \"method\": \"animate\"}, {\"args\": [[\"29\"], {\"frame\": {\"duration\": 1200, \"redraw\": false}, \"mode\": \"immediate\", \"transition\": {\"duration\": 1200}}], \"label\": \"29\", \"method\": \"animate\"}, {\"args\": [[\"30\"], {\"frame\": {\"duration\": 1200, \"redraw\": false}, \"mode\": \"immediate\", \"transition\": {\"duration\": 1200}}], \"label\": \"30\", \"method\": \"animate\"}, {\"args\": [[\"31\"], {\"frame\": {\"duration\": 1200, \"redraw\": false}, \"mode\": \"immediate\", \"transition\": {\"duration\": 1200}}], \"label\": \"31\", \"method\": \"animate\"}], \"transition\": {\"duration\": 1200, \"easing\": \"cubic-in-out\"}, \"x\": 0.1, \"xanchor\": \"left\", \"y\": 0, \"yanchor\": \"top\"}], \"template\": {\"data\": {\"bar\": [{\"error_x\": {\"color\": \"#2a3f5f\"}, \"error_y\": {\"color\": \"#2a3f5f\"}, \"marker\": {\"line\": {\"color\": \"#E5ECF6\", \"width\": 0.5}}, \"type\": \"bar\"}], \"barpolar\": [{\"marker\": {\"line\": {\"color\": \"#E5ECF6\", \"width\": 0.5}}, \"type\": \"barpolar\"}], \"carpet\": [{\"aaxis\": {\"endlinecolor\": \"#2a3f5f\", \"gridcolor\": \"white\", \"linecolor\": \"white\", \"minorgridcolor\": \"white\", \"startlinecolor\": \"#2a3f5f\"}, \"baxis\": {\"endlinecolor\": \"#2a3f5f\", \"gridcolor\": \"white\", \"linecolor\": \"white\", \"minorgridcolor\": \"white\", \"startlinecolor\": \"#2a3f5f\"}, \"type\": \"carpet\"}], \"choropleth\": [{\"colorbar\": {\"outlinewidth\": 0, \"ticks\": \"\"}, \"type\": \"choropleth\"}], \"contour\": [{\"colorbar\": {\"outlinewidth\": 0, \"ticks\": \"\"}, \"colorscale\": [[0.0, \"#0d0887\"], [0.1111111111111111, \"#46039f\"], [0.2222222222222222, \"#7201a8\"], [0.3333333333333333, \"#9c179e\"], [0.4444444444444444, \"#bd3786\"], [0.5555555555555556, \"#d8576b\"], [0.6666666666666666, \"#ed7953\"], [0.7777777777777778, \"#fb9f3a\"], [0.8888888888888888, \"#fdca26\"], [1.0, \"#f0f921\"]], \"type\": \"contour\"}], \"contourcarpet\": [{\"colorbar\": {\"outlinewidth\": 0, \"ticks\": \"\"}, \"type\": \"contourcarpet\"}], \"heatmap\": [{\"colorbar\": {\"outlinewidth\": 0, \"ticks\": \"\"}, \"colorscale\": [[0.0, \"#0d0887\"], [0.1111111111111111, \"#46039f\"], [0.2222222222222222, \"#7201a8\"], [0.3333333333333333, \"#9c179e\"], [0.4444444444444444, \"#bd3786\"], [0.5555555555555556, \"#d8576b\"], [0.6666666666666666, \"#ed7953\"], [0.7777777777777778, \"#fb9f3a\"], [0.8888888888888888, \"#fdca26\"], [1.0, \"#f0f921\"]], \"type\": \"heatmap\"}], \"heatmapgl\": [{\"colorbar\": {\"outlinewidth\": 0, \"ticks\": \"\"}, \"colorscale\": [[0.0, \"#0d0887\"], [0.1111111111111111, \"#46039f\"], [0.2222222222222222, \"#7201a8\"], [0.3333333333333333, \"#9c179e\"], [0.4444444444444444, \"#bd3786\"], [0.5555555555555556, \"#d8576b\"], [0.6666666666666666, \"#ed7953\"], [0.7777777777777778, \"#fb9f3a\"], [0.8888888888888888, \"#fdca26\"], [1.0, \"#f0f921\"]], \"type\": \"heatmapgl\"}], \"histogram\": [{\"marker\": {\"colorbar\": {\"outlinewidth\": 0, \"ticks\": \"\"}}, \"type\": \"histogram\"}], \"histogram2d\": [{\"colorbar\": {\"outlinewidth\": 0, \"ticks\": \"\"}, \"colorscale\": [[0.0, \"#0d0887\"], [0.1111111111111111, \"#46039f\"], [0.2222222222222222, \"#7201a8\"], [0.3333333333333333, \"#9c179e\"], [0.4444444444444444, \"#bd3786\"], [0.5555555555555556, \"#d8576b\"], [0.6666666666666666, \"#ed7953\"], [0.7777777777777778, \"#fb9f3a\"], [0.8888888888888888, \"#fdca26\"], [1.0, \"#f0f921\"]], \"type\": \"histogram2d\"}], \"histogram2dcontour\": [{\"colorbar\": {\"outlinewidth\": 0, \"ticks\": \"\"}, \"colorscale\": [[0.0, \"#0d0887\"], [0.1111111111111111, \"#46039f\"], [0.2222222222222222, \"#7201a8\"], [0.3333333333333333, \"#9c179e\"], [0.4444444444444444, \"#bd3786\"], [0.5555555555555556, \"#d8576b\"], [0.6666666666666666, \"#ed7953\"], [0.7777777777777778, \"#fb9f3a\"], [0.8888888888888888, \"#fdca26\"], [1.0, \"#f0f921\"]], \"type\": \"histogram2dcontour\"}], \"mesh3d\": [{\"colorbar\": {\"outlinewidth\": 0, \"ticks\": \"\"}, \"type\": \"mesh3d\"}], \"parcoords\": [{\"line\": {\"colorbar\": {\"outlinewidth\": 0, \"ticks\": \"\"}}, \"type\": \"parcoords\"}], \"pie\": [{\"automargin\": true, \"type\": \"pie\"}], \"scatter\": [{\"marker\": {\"colorbar\": {\"outlinewidth\": 0, \"ticks\": \"\"}}, \"type\": \"scatter\"}], \"scatter3d\": [{\"line\": {\"colorbar\": {\"outlinewidth\": 0, \"ticks\": \"\"}}, \"marker\": {\"colorbar\": {\"outlinewidth\": 0, \"ticks\": \"\"}}, \"type\": \"scatter3d\"}], \"scattercarpet\": [{\"marker\": {\"colorbar\": {\"outlinewidth\": 0, \"ticks\": \"\"}}, \"type\": \"scattercarpet\"}], \"scattergeo\": [{\"marker\": {\"colorbar\": {\"outlinewidth\": 0, \"ticks\": \"\"}}, \"type\": \"scattergeo\"}], \"scattergl\": [{\"marker\": {\"colorbar\": {\"outlinewidth\": 0, \"ticks\": \"\"}}, \"type\": \"scattergl\"}], \"scattermapbox\": [{\"marker\": {\"colorbar\": {\"outlinewidth\": 0, \"ticks\": \"\"}}, \"type\": \"scattermapbox\"}], \"scatterpolar\": [{\"marker\": {\"colorbar\": {\"outlinewidth\": 0, \"ticks\": \"\"}}, \"type\": \"scatterpolar\"}], \"scatterpolargl\": [{\"marker\": {\"colorbar\": {\"outlinewidth\": 0, \"ticks\": \"\"}}, \"type\": \"scatterpolargl\"}], \"scatterternary\": [{\"marker\": {\"colorbar\": {\"outlinewidth\": 0, \"ticks\": \"\"}}, \"type\": \"scatterternary\"}], \"surface\": [{\"colorbar\": {\"outlinewidth\": 0, \"ticks\": \"\"}, \"colorscale\": [[0.0, \"#0d0887\"], [0.1111111111111111, \"#46039f\"], [0.2222222222222222, \"#7201a8\"], [0.3333333333333333, \"#9c179e\"], [0.4444444444444444, \"#bd3786\"], [0.5555555555555556, \"#d8576b\"], [0.6666666666666666, \"#ed7953\"], [0.7777777777777778, \"#fb9f3a\"], [0.8888888888888888, \"#fdca26\"], [1.0, \"#f0f921\"]], \"type\": \"surface\"}], \"table\": [{\"cells\": {\"fill\": {\"color\": \"#EBF0F8\"}, \"line\": {\"color\": \"white\"}}, \"header\": {\"fill\": {\"color\": \"#C8D4E3\"}, \"line\": {\"color\": \"white\"}}, \"type\": \"table\"}]}, \"layout\": {\"annotationdefaults\": {\"arrowcolor\": \"#2a3f5f\", \"arrowhead\": 0, \"arrowwidth\": 1}, \"coloraxis\": {\"colorbar\": {\"outlinewidth\": 0, \"ticks\": \"\"}}, \"colorscale\": {\"diverging\": [[0, \"#8e0152\"], [0.1, \"#c51b7d\"], [0.2, \"#de77ae\"], [0.3, \"#f1b6da\"], [0.4, \"#fde0ef\"], [0.5, \"#f7f7f7\"], [0.6, \"#e6f5d0\"], [0.7, \"#b8e186\"], [0.8, \"#7fbc41\"], [0.9, \"#4d9221\"], [1, \"#276419\"]], \"sequential\": [[0.0, \"#0d0887\"], [0.1111111111111111, \"#46039f\"], [0.2222222222222222, \"#7201a8\"], [0.3333333333333333, \"#9c179e\"], [0.4444444444444444, \"#bd3786\"], [0.5555555555555556, \"#d8576b\"], [0.6666666666666666, \"#ed7953\"], [0.7777777777777778, \"#fb9f3a\"], [0.8888888888888888, \"#fdca26\"], [1.0, \"#f0f921\"]], \"sequentialminus\": [[0.0, \"#0d0887\"], [0.1111111111111111, \"#46039f\"], [0.2222222222222222, \"#7201a8\"], [0.3333333333333333, \"#9c179e\"], [0.4444444444444444, \"#bd3786\"], [0.5555555555555556, \"#d8576b\"], [0.6666666666666666, \"#ed7953\"], [0.7777777777777778, \"#fb9f3a\"], [0.8888888888888888, \"#fdca26\"], [1.0, \"#f0f921\"]]}, \"colorway\": [\"#636efa\", \"#EF553B\", \"#00cc96\", \"#ab63fa\", \"#FFA15A\", \"#19d3f3\", \"#FF6692\", \"#B6E880\", \"#FF97FF\", \"#FECB52\"], \"font\": {\"color\": \"#2a3f5f\"}, \"geo\": {\"bgcolor\": \"white\", \"lakecolor\": \"white\", \"landcolor\": \"#E5ECF6\", \"showlakes\": true, \"showland\": true, \"subunitcolor\": \"white\"}, \"hoverlabel\": {\"align\": \"left\"}, \"hovermode\": \"closest\", \"mapbox\": {\"style\": \"light\"}, \"paper_bgcolor\": \"white\", \"plot_bgcolor\": \"#E5ECF6\", \"polar\": {\"angularaxis\": {\"gridcolor\": \"white\", \"linecolor\": \"white\", \"ticks\": \"\"}, \"bgcolor\": \"#E5ECF6\", \"radialaxis\": {\"gridcolor\": \"white\", \"linecolor\": \"white\", \"ticks\": \"\"}}, \"scene\": {\"xaxis\": {\"backgroundcolor\": \"#E5ECF6\", \"gridcolor\": \"white\", \"gridwidth\": 2, \"linecolor\": \"white\", \"showbackground\": true, \"ticks\": \"\", \"zerolinecolor\": \"white\"}, \"yaxis\": {\"backgroundcolor\": \"#E5ECF6\", \"gridcolor\": \"white\", \"gridwidth\": 2, \"linecolor\": \"white\", \"showbackground\": true, \"ticks\": \"\", \"zerolinecolor\": \"white\"}, \"zaxis\": {\"backgroundcolor\": \"#E5ECF6\", \"gridcolor\": \"white\", \"gridwidth\": 2, \"linecolor\": \"white\", \"showbackground\": true, \"ticks\": \"\", \"zerolinecolor\": \"white\"}}, \"shapedefaults\": {\"line\": {\"color\": \"#2a3f5f\"}}, \"ternary\": {\"aaxis\": {\"gridcolor\": \"white\", \"linecolor\": \"white\", \"ticks\": \"\"}, \"baxis\": {\"gridcolor\": \"white\", \"linecolor\": \"white\", \"ticks\": \"\"}, \"bgcolor\": \"#E5ECF6\", \"caxis\": {\"gridcolor\": \"white\", \"linecolor\": \"white\", \"ticks\": \"\"}}, \"title\": {\"x\": 0.05}, \"xaxis\": {\"automargin\": true, \"gridcolor\": \"white\", \"linecolor\": \"white\", \"ticks\": \"\", \"title\": {\"standoff\": 15}, \"zerolinecolor\": \"white\", \"zerolinewidth\": 2}, \"yaxis\": {\"automargin\": true, \"gridcolor\": \"white\", \"linecolor\": \"white\", \"ticks\": \"\", \"title\": {\"standoff\": 15}, \"zerolinecolor\": \"white\", \"zerolinewidth\": 2}}}, \"title\": {\"text\": \"Top 2000 Arrive Delayed Flights Causing by Carrier in Decmber 2009\", \"x\": 0.5, \"xanchor\": \"center\", \"y\": 0.9, \"yanchor\": \"top\"}, \"updatemenus\": [{\"buttons\": [{\"args\": [null, {\"frame\": {\"duration\": 2000, \"redraw\": false}, \"fromcurrent\": true, \"transition\": {\"duration\": 1200, \"easing\": \"quadratic-in-out\"}}], \"label\": \"Play\", \"method\": \"animate\"}, {\"args\": [[null], {\"frame\": {\"duration\": 0, \"redraw\": false}, \"mode\": \"immediate\", \"transition\": {\"duration\": 0}}], \"label\": \"Pause\", \"method\": \"animate\"}], \"direction\": \"left\", \"pad\": {\"r\": 10, \"t\": 87}, \"showactive\": false, \"type\": \"buttons\", \"x\": 0.1, \"xanchor\": \"right\", \"y\": 0, \"yanchor\": \"top\"}], \"xaxis\": {\"range\": [1.1, 2.9], \"title\": {\"text\": \"Time of flight (min)\"}, \"type\": \"log\"}, \"yaxis\": {\"range\": [2.2, 3.3], \"title\": {\"text\": \"Arrive delay time(min)\"}, \"type\": \"log\"}},                        {\"responsive\": true}                    ).then(function(){\n",
       "                            Plotly.addFrames('7b7cf0c8-577f-4f95-b610-8d1ade74baa8', [{\"data\": [{\"marker\": {\"size\": [190.0, 1236.0, 1972.0, 813.0, 641.0, 1121.0, 920.0, 551.0], \"sizemode\": \"area\", \"sizeref\": 5}, \"mode\": \"markers\", \"name\": \"AA\", \"text\": [\"AUS\", \"ELP\", \"PHX\", \"DFW\", \"DFW\", \"DFW\", \"MIA\", \"DFW\"], \"x\": [38.0, 148.0, 226.0, 114.0, 89.0, 139.0, 122.0, 74.0], \"y\": [622.0, 391.0, 288.0, 268.0, 252.0, 249.0, 209.0, 196.0], \"type\": \"scatter\"}, {\"marker\": {\"size\": [349.0, 501.0], \"sizemode\": \"area\", \"sizeref\": 5}, \"mode\": \"markers\", \"name\": \"NW\", \"text\": [\"MSY\", \"LGA\"], \"x\": [49.0, 89.0], \"y\": [347.0, 244.0], \"type\": \"scatter\"}, {\"marker\": {\"size\": [], \"sizemode\": \"area\", \"sizeref\": 5}, \"mode\": \"markers\", \"name\": \"FL\", \"text\": [], \"x\": [], \"y\": [], \"type\": \"scatter\"}, {\"marker\": {\"size\": [], \"sizemode\": \"area\", \"sizeref\": 5}, \"mode\": \"markers\", \"name\": \"MQ\", \"text\": [], \"x\": [], \"y\": [], \"type\": \"scatter\"}, {\"marker\": {\"size\": [398.0], \"sizemode\": \"area\", \"sizeref\": 5}, \"mode\": \"markers\", \"name\": \"9E\", \"text\": [\"AVP\"], \"x\": [73.0], \"y\": [337.0], \"type\": \"scatter\"}, {\"marker\": {\"size\": [2454.0, 1379.0], \"sizemode\": \"area\", \"sizeref\": 5}, \"mode\": \"markers\", \"name\": \"CO\", \"text\": [\"EWR\", \"LAX\"], \"x\": [369.0, 180.0], \"y\": [196.0, 184.0], \"type\": \"scatter\"}, {\"marker\": {\"size\": [], \"sizemode\": \"area\", \"sizeref\": 5}, \"mode\": \"markers\", \"name\": \"OO\", \"text\": [], \"x\": [], \"y\": [], \"type\": \"scatter\"}, {\"marker\": {\"size\": [590.0], \"sizemode\": \"area\", \"sizeref\": 5}, \"mode\": \"markers\", \"name\": \"DL\", \"text\": [\"MDW\"], \"x\": [88.0], \"y\": [335.0], \"type\": \"scatter\"}, {\"marker\": {\"size\": [], \"sizemode\": \"area\", \"sizeref\": 5}, \"mode\": \"markers\", \"name\": \"AS\", \"text\": [], \"x\": [], \"y\": [], \"type\": \"scatter\"}, {\"marker\": {\"size\": [992.0, 646.0], \"sizemode\": \"area\", \"sizeref\": 5}, \"mode\": \"markers\", \"name\": \"US\", \"text\": [\"FLL\", \"ALB\"], \"x\": [132.0, 101.0], \"y\": [440.0, 418.0], \"type\": \"scatter\"}, {\"marker\": {\"size\": [967.0], \"sizemode\": \"area\", \"sizeref\": 5}, \"mode\": \"markers\", \"name\": \"UA\", \"text\": [\"SFO\"], \"x\": [115.0], \"y\": [239.0], \"type\": \"scatter\"}, {\"marker\": {\"size\": [431.0, 834.0], \"sizemode\": \"area\", \"sizeref\": 5}, \"mode\": \"markers\", \"name\": \"OH\", \"text\": [\"RDU\", \"LGA\"], \"x\": [62.0, 124.0], \"y\": [223.0, 186.0], \"type\": \"scatter\"}, {\"marker\": {\"size\": [668.0], \"sizemode\": \"area\", \"sizeref\": 5}, \"mode\": \"markers\", \"name\": \"XE\", \"text\": [\"STL\"], \"x\": [151.0], \"y\": [283.0], \"type\": \"scatter\"}, {\"marker\": {\"size\": [], \"sizemode\": \"area\", \"sizeref\": 5}, \"mode\": \"markers\", \"name\": \"F9\", \"text\": [], \"x\": [], \"y\": [], \"type\": \"scatter\"}, {\"marker\": {\"size\": [599.0], \"sizemode\": \"area\", \"sizeref\": 5}, \"mode\": \"markers\", \"name\": \"YV\", \"text\": [\"CLT\"], \"x\": [85.0], \"y\": [227.0], \"type\": \"scatter\"}, {\"marker\": {\"size\": [321.0], \"sizemode\": \"area\", \"sizeref\": 5}, \"mode\": \"markers\", \"name\": \"EV\", \"text\": [\"SDF\"], \"x\": [56.0], \"y\": [257.0], \"type\": \"scatter\"}, {\"marker\": {\"size\": [], \"sizemode\": \"area\", \"sizeref\": 5}, \"mode\": \"markers\", \"name\": \"HA\", \"text\": [], \"x\": [], \"y\": [], \"type\": \"scatter\"}, {\"marker\": {\"size\": [], \"sizemode\": \"area\", \"sizeref\": 5}, \"mode\": \"markers\", \"name\": \"B6\", \"text\": [], \"x\": [], \"y\": [], \"type\": \"scatter\"}, {\"marker\": {\"size\": [276.0, 276.0, 781.0], \"sizemode\": \"area\", \"sizeref\": 5}, \"mode\": \"markers\", \"name\": \"WN\", \"text\": [\"HRL\", \"HOU\", \"HOU\"], \"x\": [52.0, 55.0, 111.0], \"y\": [360.0, 255.0, 240.0], \"type\": \"scatter\"}], \"name\": \"1\"}, {\"data\": [{\"marker\": {\"size\": [224.0, 1660.0, 1045.0, 1231.0, 432.0, 1372.0], \"sizemode\": \"area\", \"sizeref\": 5}, \"mode\": \"markers\", \"name\": \"AA\", \"text\": [\"DFW\", \"SEA\", \"SJU\", \"DFW\", \"DFW\", \"DFW\"], \"x\": [47.0, 192.0, 145.0, 181.0, 60.0, 184.0], \"y\": [257.0, 233.0, 216.0, 214.0, 209.0, 185.0], \"type\": \"scatter\"}, {\"marker\": {\"size\": [], \"sizemode\": \"area\", \"sizeref\": 5}, \"mode\": \"markers\", \"name\": \"NW\", \"text\": [], \"x\": [], \"y\": [], \"type\": \"scatter\"}, {\"marker\": {\"size\": [535.0, 361.0, 272.0], \"sizemode\": \"area\", \"sizeref\": 5}, \"mode\": \"markers\", \"name\": \"FL\", \"text\": [\"BKG\", \"CLT\", \"ATL\"], \"x\": [73.0, 59.0, 57.0], \"y\": [335.0, 327.0, 225.0], \"type\": \"scatter\"}, {\"marker\": {\"size\": [482.0, 444.0], \"sizemode\": \"area\", \"sizeref\": 5}, \"mode\": \"markers\", \"name\": \"MQ\", \"text\": [\"BRO\", \"CRW\"], \"x\": [76.0, 71.0], \"y\": [347.0, 312.0], \"type\": \"scatter\"}, {\"marker\": {\"size\": [342.0, 634.0, 133.0], \"sizemode\": \"area\", \"sizeref\": 5}, \"mode\": \"markers\", \"name\": \"9E\", \"text\": [\"TUL\", \"MEM\", \"CAK\"], \"x\": [61.0, 80.0, 31.0], \"y\": [341.0, 261.0, 231.0], \"type\": \"scatter\"}, {\"marker\": {\"size\": [861.0], \"sizemode\": \"area\", \"sizeref\": 5}, \"mode\": \"markers\", \"name\": \"CO\", \"text\": [\"DEN\"], \"x\": [109.0], \"y\": [481.0], \"type\": \"scatter\"}, {\"marker\": {\"size\": [451.0], \"sizemode\": \"area\", \"sizeref\": 5}, \"mode\": \"markers\", \"name\": \"OO\", \"text\": [\"TUS\"], \"x\": [68.0], \"y\": [287.0], \"type\": \"scatter\"}, {\"marker\": {\"size\": [215.0], \"sizemode\": \"area\", \"sizeref\": 5}, \"mode\": \"markers\", \"name\": \"DL\", \"text\": [\"SAV\"], \"x\": [55.0], \"y\": [230.0], \"type\": \"scatter\"}, {\"marker\": {\"size\": [1533.0, 549.0], \"sizemode\": \"area\", \"sizeref\": 5}, \"mode\": \"markers\", \"name\": \"AS\", \"text\": [\"FAI\", \"OTZ\"], \"x\": [204.0, 77.0], \"y\": [412.0, 265.0], \"type\": \"scatter\"}, {\"marker\": {\"size\": [1788.0, 304.0, 2279.0], \"sizemode\": \"area\", \"sizeref\": 5}, \"mode\": \"markers\", \"name\": \"US\", \"text\": [\"TPA\", \"SAN\", \"CLT\"], \"x\": [248.0, 52.0, 293.0], \"y\": [336.0, 285.0, 268.0], \"type\": \"scatter\"}, {\"marker\": {\"size\": [612.0], \"sizemode\": \"area\", \"sizeref\": 5}, \"mode\": \"markers\", \"name\": \"UA\", \"text\": [\"DCA\"], \"x\": [88.0], \"y\": [233.0], \"type\": \"scatter\"}, {\"marker\": {\"size\": [932.0], \"sizemode\": \"area\", \"sizeref\": 5}, \"mode\": \"markers\", \"name\": \"OH\", \"text\": [\"CVG\"], \"x\": [134.0], \"y\": [199.0], \"type\": \"scatter\"}, {\"marker\": {\"size\": [], \"sizemode\": \"area\", \"sizeref\": 5}, \"mode\": \"markers\", \"name\": \"XE\", \"text\": [], \"x\": [], \"y\": [], \"type\": \"scatter\"}, {\"marker\": {\"size\": [1506.0], \"sizemode\": \"area\", \"sizeref\": 5}, \"mode\": \"markers\", \"name\": \"F9\", \"text\": [\"DEN\"], \"x\": [181.0], \"y\": [319.0], \"type\": \"scatter\"}, {\"marker\": {\"size\": [224.0, 599.0, 666.0], \"sizemode\": \"area\", \"sizeref\": 5}, \"mode\": \"markers\", \"name\": \"YV\", \"text\": [\"TVC\", \"CLT\", \"ORD\"], \"x\": [57.0, 89.0, 102.0], \"y\": [433.0, 268.0, 198.0], \"type\": \"scatter\"}, {\"marker\": {\"size\": [393.0, 366.0, 171.0, 151.0, 147.0, 134.0, 106.0, 341.0, 331.0, 143.0, 357.0, 317.0, 106.0, 443.0, 366.0, 164.0, 143.0, 152.0, 215.0, 147.0, 146.0, 331.0], \"sizemode\": \"area\", \"sizeref\": 5}, \"mode\": \"markers\", \"name\": \"EV\", \"text\": [\"FLL\", \"DAB\", \"ATL\", \"HSV\", \"MGM\", \"ATL\", \"ATL\", \"JAN\", \"FAY\", \"AGS\", \"ROA\", \"MYR\", \"CHA\", \"MLB\", \"DAB\", \"AVL\", \"AGS\", \"TYS\", \"SAV\", \"MGM\", \"ABY\", \"FAY\"], \"x\": [64.0, 63.0, 33.0, 51.0, 41.0, 27.0, 23.0, 55.0, 80.0, 50.0, 73.0, 78.0, 48.0, 100.0, 98.0, 42.0, 34.0, 38.0, 68.0, 39.0, 43.0, 94.0], \"y\": [366.0, 320.0, 285.0, 266.0, 265.0, 263.0, 257.0, 237.0, 236.0, 235.0, 233.0, 231.0, 230.0, 229.0, 224.0, 219.0, 206.0, 197.0, 193.0, 186.0, 185.0, 183.0], \"type\": \"scatter\"}, {\"marker\": {\"size\": [], \"sizemode\": \"area\", \"sizeref\": 5}, \"mode\": \"markers\", \"name\": \"HA\", \"text\": [], \"x\": [], \"y\": [], \"type\": \"scatter\"}, {\"marker\": {\"size\": [944.0, 1504.0], \"sizemode\": \"area\", \"sizeref\": 5}, \"mode\": \"markers\", \"name\": \"B6\", \"text\": [\"MCO\", \"AUS\"], \"x\": [115.0, 212.0], \"y\": [258.0, 249.0], \"type\": \"scatter\"}, {\"marker\": {\"size\": [602.0, 680.0, 587.0, 461.0], \"sizemode\": \"area\", \"sizeref\": 5}, \"mode\": \"markers\", \"name\": \"WN\", \"text\": [\"DEN\", \"MSP\", \"RDU\", \"DAL\"], \"x\": [88.0, 101.0, 99.0, 62.0], \"y\": [291.0, 223.0, 212.0, 197.0], \"type\": \"scatter\"}], \"name\": \"2\"}, {\"data\": [{\"marker\": {\"size\": [1576.0, 1097.0, 1045.0], \"sizemode\": \"area\", \"sizeref\": 5}, \"mode\": \"markers\", \"name\": \"AA\", \"text\": [\"PHL\", \"LGA\", \"MIA\"], \"x\": [206.0, 170.0, 124.0], \"y\": [352.0, 332.0, 231.0], \"type\": \"scatter\"}, {\"marker\": {\"size\": [], \"sizemode\": \"area\", \"sizeref\": 5}, \"mode\": \"markers\", \"name\": \"NW\", \"text\": [], \"x\": [], \"y\": [], \"type\": \"scatter\"}, {\"marker\": {\"size\": [], \"sizemode\": \"area\", \"sizeref\": 5}, \"mode\": \"markers\", \"name\": \"FL\", \"text\": [], \"x\": [], \"y\": [], \"type\": \"scatter\"}, {\"marker\": {\"size\": [812.0, 922.0, 67.0, 412.0], \"sizemode\": \"area\", \"sizeref\": 5}, \"mode\": \"markers\", \"name\": \"MQ\", \"text\": [\"CVG\", \"CAE\", \"MKE\", \"PIT\"], \"x\": [144.0, 161.0, 24.0, 70.0], \"y\": [981.0, 790.0, 542.0, 344.0], \"type\": \"scatter\"}, {\"marker\": {\"size\": [285.0], \"sizemode\": \"area\", \"sizeref\": 5}, \"mode\": \"markers\", \"name\": \"9E\", \"text\": [\"MEM\"], \"x\": [51.0], \"y\": [227.0], \"type\": \"scatter\"}, {\"marker\": {\"size\": [], \"sizemode\": \"area\", \"sizeref\": 5}, \"mode\": \"markers\", \"name\": \"CO\", \"text\": [], \"x\": [], \"y\": [], \"type\": \"scatter\"}, {\"marker\": {\"size\": [], \"sizemode\": \"area\", \"sizeref\": 5}, \"mode\": \"markers\", \"name\": \"OO\", \"text\": [], \"x\": [], \"y\": [], \"type\": \"scatter\"}, {\"marker\": {\"size\": [], \"sizemode\": \"area\", \"sizeref\": 5}, \"mode\": \"markers\", \"name\": \"DL\", \"text\": [], \"x\": [], \"y\": [], \"type\": \"scatter\"}, {\"marker\": {\"size\": [2777.0], \"sizemode\": \"area\", \"sizeref\": 5}, \"mode\": \"markers\", \"name\": \"AS\", \"text\": [\"ANC\"], \"x\": [402.0], \"y\": [195.0], \"type\": \"scatter\"}, {\"marker\": {\"size\": [304.0], \"sizemode\": \"area\", \"sizeref\": 5}, \"mode\": \"markers\", \"name\": \"US\", \"text\": [\"SAN\"], \"x\": [51.0], \"y\": [373.0], \"type\": \"scatter\"}, {\"marker\": {\"size\": [1024.0, 1721.0], \"sizemode\": \"area\", \"sizeref\": 5}, \"mode\": \"markers\", \"name\": \"UA\", \"text\": [\"DEN\", \"SEA\"], \"x\": [137.0, 202.0], \"y\": [206.0, 195.0], \"type\": \"scatter\"}, {\"marker\": {\"size\": [740.0, 289.0], \"sizemode\": \"area\", \"sizeref\": 5}, \"mode\": \"markers\", \"name\": \"OH\", \"text\": [\"ORD\", \"ORF\"], \"x\": [100.0, 51.0], \"y\": [276.0, 217.0], \"type\": \"scatter\"}, {\"marker\": {\"size\": [], \"sizemode\": \"area\", \"sizeref\": 5}, \"mode\": \"markers\", \"name\": \"XE\", \"text\": [], \"x\": [], \"y\": [], \"type\": \"scatter\"}, {\"marker\": {\"size\": [], \"sizemode\": \"area\", \"sizeref\": 5}, \"mode\": \"markers\", \"name\": \"F9\", \"text\": [], \"x\": [], \"y\": [], \"type\": \"scatter\"}, {\"marker\": {\"size\": [], \"sizemode\": \"area\", \"sizeref\": 5}, \"mode\": \"markers\", \"name\": \"YV\", \"text\": [], \"x\": [], \"y\": [], \"type\": \"scatter\"}, {\"marker\": {\"size\": [147.0, 214.0, 164.0], \"sizemode\": \"area\", \"sizeref\": 5}, \"mode\": \"markers\", \"name\": \"EV\", \"text\": [\"MGM\", \"BNA\", \"AVL\"], \"x\": [37.0, 47.0, 36.0], \"y\": [199.0, 189.0, 186.0], \"type\": \"scatter\"}, {\"marker\": {\"size\": [], \"sizemode\": \"area\", \"sizeref\": 5}, \"mode\": \"markers\", \"name\": \"HA\", \"text\": [], \"x\": [], \"y\": [], \"type\": \"scatter\"}, {\"marker\": {\"size\": [1076.0], \"sizemode\": \"area\", \"sizeref\": 5}, \"mode\": \"markers\", \"name\": \"B6\", \"text\": [\"LGA\"], \"x\": [166.0], \"y\": [273.0], \"type\": \"scatter\"}, {\"marker\": {\"size\": [373.0, 451.0, 1073.0], \"sizemode\": \"area\", \"sizeref\": 5}, \"mode\": \"markers\", \"name\": \"WN\", \"text\": [\"SMF\", \"LAX\", \"ALB\"], \"x\": [59.0, 62.0, 196.0], \"y\": [193.0, 189.0, 184.0], \"type\": \"scatter\"}], \"name\": \"3\"}, {\"data\": [{\"marker\": {\"size\": [2486.0, 1723.0, 2585.0, 190.0], \"sizemode\": \"area\", \"sizeref\": 5}, \"mode\": \"markers\", \"name\": \"AA\", \"text\": [\"OGG\", \"SAN\", \"MIA\", \"AUS\"], \"x\": [280.0, 212.0, 345.0, 42.0], \"y\": [986.0, 323.0, 257.0, 237.0], \"type\": \"scatter\"}, {\"marker\": {\"size\": [680.0], \"sizemode\": \"area\", \"sizeref\": 5}, \"mode\": \"markers\", \"name\": \"NW\", \"text\": [\"DEN\"], \"x\": [105.0], \"y\": [358.0], \"type\": \"scatter\"}, {\"marker\": {\"size\": [], \"sizemode\": \"area\", \"sizeref\": 5}, \"mode\": \"markers\", \"name\": \"FL\", \"text\": [], \"x\": [], \"y\": [], \"type\": \"scatter\"}, {\"marker\": {\"size\": [190.0], \"sizemode\": \"area\", \"sizeref\": 5}, \"mode\": \"markers\", \"name\": \"MQ\", \"text\": [\"SHV\"], \"x\": [38.0], \"y\": [572.0], \"type\": \"scatter\"}, {\"marker\": {\"size\": [559.0, 491.0, 695.0], \"sizemode\": \"area\", \"sizeref\": 5}, \"mode\": \"markers\", \"name\": \"9E\", \"text\": [\"MSN\", \"FNT\", \"MSP\"], \"x\": [85.0, 79.0, 102.0], \"y\": [515.0, 262.0, 215.0], \"type\": \"scatter\"}, {\"marker\": {\"size\": [965.0, 965.0, 191.0, 1569.0, 1379.0], \"sizemode\": \"area\", \"sizeref\": 5}, \"mode\": \"markers\", \"name\": \"CO\", \"text\": [\"FLL\", \"IAH\", \"SAT\", \"SAT\", \"LAX\"], \"x\": [153.0, 111.0, 33.0, 180.0, 155.0], \"y\": [264.0, 230.0, 208.0, 199.0, 193.0], \"type\": \"scatter\"}, {\"marker\": {\"size\": [], \"sizemode\": \"area\", \"sizeref\": 5}, \"mode\": \"markers\", \"name\": \"OO\", \"text\": [], \"x\": [], \"y\": [], \"type\": \"scatter\"}, {\"marker\": {\"size\": [595.0, 321.0, 215.0], \"sizemode\": \"area\", \"sizeref\": 5}, \"mode\": \"markers\", \"name\": \"DL\", \"text\": [\"MIA\", \"SDF\", \"SAV\"], \"x\": [84.0, 58.0, 36.0], \"y\": [230.0, 219.0, 207.0], \"type\": \"scatter\"}, {\"marker\": {\"size\": [], \"sizemode\": \"area\", \"sizeref\": 5}, \"mode\": \"markers\", \"name\": \"AS\", \"text\": [], \"x\": [], \"y\": [], \"type\": \"scatter\"}, {\"marker\": {\"size\": [575.0, 481.0], \"sizemode\": \"area\", \"sizeref\": 5}, \"mode\": \"markers\", \"name\": \"US\", \"text\": [\"STL\", \"ABE\"], \"x\": [87.0, 86.0], \"y\": [413.0, 377.0], \"type\": \"scatter\"}, {\"marker\": {\"size\": [2288.0], \"sizemode\": \"area\", \"sizeref\": 5}, \"mode\": \"markers\", \"name\": \"UA\", \"text\": [\"LAX\"], \"x\": [249.0], \"y\": [192.0], \"type\": \"scatter\"}, {\"marker\": {\"size\": [], \"sizemode\": \"area\", \"sizeref\": 5}, \"mode\": \"markers\", \"name\": \"OH\", \"text\": [], \"x\": [], \"y\": [], \"type\": \"scatter\"}, {\"marker\": {\"size\": [], \"sizemode\": \"area\", \"sizeref\": 5}, \"mode\": \"markers\", \"name\": \"XE\", \"text\": [], \"x\": [], \"y\": [], \"type\": \"scatter\"}, {\"marker\": {\"size\": [1476.0], \"sizemode\": \"area\", \"sizeref\": 5}, \"mode\": \"markers\", \"name\": \"F9\", \"text\": [\"DCA\"], \"x\": [204.0], \"y\": [260.0], \"type\": \"scatter\"}, {\"marker\": {\"size\": [229.0], \"sizemode\": \"area\", \"sizeref\": 5}, \"mode\": \"markers\", \"name\": \"YV\", \"text\": [\"LGA\"], \"x\": [53.0], \"y\": [188.0], \"type\": \"scatter\"}, {\"marker\": {\"size\": [781.0, 247.0], \"sizemode\": \"area\", \"sizeref\": 5}, \"mode\": \"markers\", \"name\": \"EV\", \"text\": [\"ICT\", \"PFN\"], \"x\": [96.0, 40.0], \"y\": [280.0, 204.0], \"type\": \"scatter\"}, {\"marker\": {\"size\": [2762.0, 2762.0, 2762.0], \"sizemode\": \"area\", \"sizeref\": 5}, \"mode\": \"markers\", \"name\": \"HA\", \"text\": [\"LAS\", \"LAS\", \"HNL\"], \"x\": [365.0, 373.0, 301.0], \"y\": [261.0, 238.0, 210.0], \"type\": \"scatter\"}, {\"marker\": {\"size\": [1033.0, 944.0], \"sizemode\": \"area\", \"sizeref\": 5}, \"mode\": \"markers\", \"name\": \"B6\", \"text\": [\"ROC\", \"MCO\"], \"x\": [170.0, 108.0], \"y\": [429.0, 265.0], \"type\": \"scatter\"}, {\"marker\": {\"size\": [507.0, 273.0, 758.0, 443.0, 562.0, 239.0, 325.0, 714.0, 347.0, 236.0, 584.0, 562.0], \"sizemode\": \"area\", \"sizeref\": 5}, \"mode\": \"markers\", \"name\": \"WN\", \"text\": [\"SLC\", \"HRL\", \"AMA\", \"BNA\", \"DAL\", \"HOU\", \"PHX\", \"ELP\", \"ELP\", \"LAS\", \"ELP\", \"DAL\"], \"x\": [69.0, 50.0, 121.0, 61.0, 83.0, 37.0, 52.0, 104.0, 61.0, 45.0, 97.0, 97.0], \"y\": [266.0, 263.0, 239.0, 221.0, 214.0, 209.0, 209.0, 199.0, 198.0, 195.0, 187.0, 184.0], \"type\": \"scatter\"}], \"name\": \"4\"}, {\"data\": [{\"marker\": {\"size\": [3784.0, 2504.0, 2556.0, 2342.0, 2175.0, 1829.0, 1086.0], \"sizemode\": \"area\", \"sizeref\": 5}, \"mode\": \"markers\", \"name\": \"AA\", \"text\": [\"HNL\", \"KOA\", \"LAX\", \"MIA\", \"MIA\", \"SJC\", \"EWR\"], \"x\": [396.0, 286.0, 330.0, 327.0, 312.0, 210.0, 210.0], \"y\": [945.0, 815.0, 346.0, 265.0, 209.0, 207.0, 203.0], \"type\": \"scatter\"}, {\"marker\": {\"size\": [], \"sizemode\": \"area\", \"sizeref\": 5}, \"mode\": \"markers\", \"name\": \"NW\", \"text\": [], \"x\": [], \"y\": [], \"type\": \"scatter\"}, {\"marker\": {\"size\": [], \"sizemode\": \"area\", \"sizeref\": 5}, \"mode\": \"markers\", \"name\": \"FL\", \"text\": [], \"x\": [], \"y\": [], \"type\": \"scatter\"}, {\"marker\": {\"size\": [383.0, 187.0, 491.0, 399.0], \"sizemode\": \"area\", \"sizeref\": 5}, \"mode\": \"markers\", \"name\": \"MQ\", \"text\": [\"BTR\", \"BOS\", \"MEM\", \"DCA\"], \"x\": [66.0, 60.0, 88.0, 57.0], \"y\": [403.0, 313.0, 240.0, 234.0], \"type\": \"scatter\"}, {\"marker\": {\"size\": [443.0], \"sizemode\": \"area\", \"sizeref\": 5}, \"mode\": \"markers\", \"name\": \"9E\", \"text\": [\"TYS\"], \"x\": [68.0], \"y\": [221.0], \"type\": \"scatter\"}, {\"marker\": {\"size\": [643.0, 191.0, 964.0, 1605.0, 1235.0], \"sizemode\": \"area\", \"sizeref\": 5}, \"mode\": \"markers\", \"name\": \"CO\", \"text\": [\"MCI\", \"SAT\", \"MIA\", \"DEN\", \"BWI\"], \"x\": [97.0, 38.0, 144.0, 197.0, 187.0], \"y\": [262.0, 250.0, 198.0, 190.0, 184.0], \"type\": \"scatter\"}, {\"marker\": {\"size\": [575.0], \"sizemode\": \"area\", \"sizeref\": 5}, \"mode\": \"markers\", \"name\": \"OO\", \"text\": [\"MFR\"], \"x\": [78.0], \"y\": [329.0], \"type\": \"scatter\"}, {\"marker\": {\"size\": [879.0], \"sizemode\": \"area\", \"sizeref\": 5}, \"mode\": \"markers\", \"name\": \"DL\", \"text\": [\"RSW\"], \"x\": [118.0], \"y\": [270.0], \"type\": \"scatter\"}, {\"marker\": {\"size\": [], \"sizemode\": \"area\", \"sizeref\": 5}, \"mode\": \"markers\", \"name\": \"AS\", \"text\": [], \"x\": [], \"y\": [], \"type\": \"scatter\"}, {\"marker\": {\"size\": [575.0, 508.0], \"sizemode\": \"area\", \"sizeref\": 5}, \"mode\": \"markers\", \"name\": \"US\", \"text\": [\"STL\", \"CLT\"], \"x\": [86.0, 91.0], \"y\": [238.0, 198.0], \"type\": \"scatter\"}, {\"marker\": {\"size\": [], \"sizemode\": \"area\", \"sizeref\": 5}, \"mode\": \"markers\", \"name\": \"UA\", \"text\": [], \"x\": [], \"y\": [], \"type\": \"scatter\"}, {\"marker\": {\"size\": [399.0], \"sizemode\": \"area\", \"sizeref\": 5}, \"mode\": \"markers\", \"name\": \"OH\", \"text\": [\"DCA\"], \"x\": [78.0], \"y\": [196.0], \"type\": \"scatter\"}, {\"marker\": {\"size\": [201.0, 262.0, 748.0, 143.0], \"sizemode\": \"area\", \"sizeref\": 5}, \"mode\": \"markers\", \"name\": \"XE\", \"text\": [\"CRP\", \"MLU\", \"EWR\", \"ALB\"], \"x\": [39.0, 44.0, 120.0, 52.0], \"y\": [275.0, 208.0, 192.0, 185.0], \"type\": \"scatter\"}, {\"marker\": {\"size\": [], \"sizemode\": \"area\", \"sizeref\": 5}, \"mode\": \"markers\", \"name\": \"F9\", \"text\": [], \"x\": [], \"y\": [], \"type\": \"scatter\"}, {\"marker\": {\"size\": [137.0, 419.0, 475.0], \"sizemode\": \"area\", \"sizeref\": 5}, \"mode\": \"markers\", \"name\": \"YV\", \"text\": [\"GRR\", \"IAD\", \"TYS\"], \"x\": [31.0, 74.0, 81.0], \"y\": [357.0, 314.0, 223.0], \"type\": \"scatter\"}, {\"marker\": {\"size\": [784.0, 363.0, 448.0], \"sizemode\": \"area\", \"sizeref\": 5}, \"mode\": \"markers\", \"name\": \"EV\", \"text\": [\"SWF\", \"CRW\", \"MLU\"], \"x\": [111.0, 60.0, 60.0], \"y\": [234.0, 189.0, 186.0], \"type\": \"scatter\"}, {\"marker\": {\"size\": [2409.0], \"sizemode\": \"area\", \"sizeref\": 5}, \"mode\": \"markers\", \"name\": \"HA\", \"text\": [\"HNL\"], \"x\": [280.0], \"y\": [200.0], \"type\": \"scatter\"}, {\"marker\": {\"size\": [474.0], \"sizemode\": \"area\", \"sizeref\": 5}, \"mode\": \"markers\", \"name\": \"B6\", \"text\": [\"RIC\"], \"x\": [64.0], \"y\": [362.0], \"type\": \"scatter\"}, {\"marker\": {\"size\": [810.0, 370.0, 925.0, 447.0, 336.0, 1142.0], \"sizemode\": \"area\", \"sizeref\": 5}, \"mode\": \"markers\", \"name\": \"WN\", \"text\": [\"IAD\", \"BWI\", \"BWI\", \"SAN\", \"BWI\", \"MHT\"], \"x\": [125.0, 57.0, 129.0, 76.0, 63.0, 185.0], \"y\": [363.0, 360.0, 270.0, 219.0, 218.0, 201.0], \"type\": \"scatter\"}], \"name\": \"5\"}, {\"data\": [{\"marker\": {\"size\": [175.0, 920.0, 813.0, 595.0], \"sizemode\": \"area\", \"sizeref\": 5}, \"mode\": \"markers\", \"name\": \"AA\", \"text\": [\"OKC\", \"MIA\", \"DFW\", \"MIA\"], \"x\": [38.0, 109.0, 136.0, 85.0], \"y\": [417.0, 225.0, 214.0, 187.0], \"type\": \"scatter\"}, {\"marker\": {\"size\": [957.0, 627.0, 1124.0], \"sizemode\": \"area\", \"sizeref\": 5}, \"mode\": \"markers\", \"name\": \"NW\", \"text\": [\"MCO\", \"CMH\", \"BOS\"], \"x\": [122.0, 94.0, 177.0], \"y\": [421.0, 210.0, 188.0], \"type\": \"scatter\"}, {\"marker\": {\"size\": [925.0], \"sizemode\": \"area\", \"sizeref\": 5}, \"mode\": \"markers\", \"name\": \"FL\", \"text\": [\"BWI\"], \"x\": [143.0], \"y\": [303.0], \"type\": \"scatter\"}, {\"marker\": {\"size\": [247.0, 599.0], \"sizemode\": \"area\", \"sizeref\": 5}, \"mode\": \"markers\", \"name\": \"MQ\", \"text\": [\"HOU\", \"CLT\"], \"x\": [51.0, 102.0], \"y\": [346.0, 190.0], \"type\": \"scatter\"}, {\"marker\": {\"size\": [536.0], \"sizemode\": \"area\", \"sizeref\": 5}, \"mode\": \"markers\", \"name\": \"9E\", \"text\": [\"DTW\"], \"x\": [67.0], \"y\": [233.0], \"type\": \"scatter\"}, {\"marker\": {\"size\": [2454.0], \"sizemode\": \"area\", \"sizeref\": 5}, \"mode\": \"markers\", \"name\": \"CO\", \"text\": [\"EWR\"], \"x\": [370.0], \"y\": [270.0], \"type\": \"scatter\"}, {\"marker\": {\"size\": [387.0, 200.0, 558.0, 341.0, 421.0, 455.0], \"sizemode\": \"area\", \"sizeref\": 5}, \"mode\": \"markers\", \"name\": \"OO\", \"text\": [\"BIL\", \"EKO\", \"SLC\", \"ATL\", \"PSP\", \"BIL\"], \"x\": [62.0, 41.0, 90.0, 61.0, 80.0, 77.0], \"y\": [291.0, 278.0, 204.0, 194.0, 193.0, 193.0], \"type\": \"scatter\"}, {\"marker\": {\"size\": [689.0, 749.0, 590.0], \"sizemode\": \"area\", \"sizeref\": 5}, \"mode\": \"markers\", \"name\": \"DL\", \"text\": [\"SEA\", \"ROC\", \"LAX\"], \"x\": [89.0, 121.0, 80.0], \"y\": [508.0, 358.0, 242.0], \"type\": \"scatter\"}, {\"marker\": {\"size\": [], \"sizemode\": \"area\", \"sizeref\": 5}, \"mode\": \"markers\", \"name\": \"AS\", \"text\": [], \"x\": [], \"y\": [], \"type\": \"scatter\"}, {\"marker\": {\"size\": [], \"sizemode\": \"area\", \"sizeref\": 5}, \"mode\": \"markers\", \"name\": \"US\", \"text\": [], \"x\": [], \"y\": [], \"type\": \"scatter\"}, {\"marker\": {\"size\": [602.0, 804.0, 967.0, 1452.0, 680.0], \"sizemode\": \"area\", \"sizeref\": 5}, \"mode\": \"markers\", \"name\": \"UA\", \"text\": [\"PHX\", \"DEN\", \"DEN\", \"DEN\", \"DEN\"], \"x\": [76.0, 132.0, 151.0, 155.0, 83.0], \"y\": [399.0, 307.0, 218.0, 201.0, 190.0], \"type\": \"scatter\"}, {\"marker\": {\"size\": [], \"sizemode\": \"area\", \"sizeref\": 5}, \"mode\": \"markers\", \"name\": \"OH\", \"text\": [], \"x\": [], \"y\": [], \"type\": \"scatter\"}, {\"marker\": {\"size\": [288.0, 192.0], \"sizemode\": \"area\", \"sizeref\": 5}, \"mode\": \"markers\", \"name\": \"XE\", \"text\": [\"IAD\", \"SHV\"], \"x\": [50.0, 51.0], \"y\": [263.0, 198.0], \"type\": \"scatter\"}, {\"marker\": {\"size\": [], \"sizemode\": \"area\", \"sizeref\": 5}, \"mode\": \"markers\", \"name\": \"F9\", \"text\": [], \"x\": [], \"y\": [], \"type\": \"scatter\"}, {\"marker\": {\"size\": [1199.0], \"sizemode\": \"area\", \"sizeref\": 5}, \"mode\": \"markers\", \"name\": \"YV\", \"text\": [\"DEN\"], \"x\": [138.0], \"y\": [194.0], \"type\": \"scatter\"}, {\"marker\": {\"size\": [399.0, 852.0, 813.0], \"sizemode\": \"area\", \"sizeref\": 5}, \"mode\": \"markers\", \"name\": \"EV\", \"text\": [\"OAJ\", \"ALB\", \"ATL\"], \"x\": [78.0, 138.0, 125.0], \"y\": [440.0, 376.0, 234.0], \"type\": \"scatter\"}, {\"marker\": {\"size\": [], \"sizemode\": \"area\", \"sizeref\": 5}, \"mode\": \"markers\", \"name\": \"HA\", \"text\": [], \"x\": [], \"y\": [], \"type\": \"scatter\"}, {\"marker\": {\"size\": [187.0], \"sizemode\": \"area\", \"sizeref\": 5}, \"mode\": \"markers\", \"name\": \"B6\", \"text\": [\"JFK\"], \"x\": [38.0], \"y\": [209.0], \"type\": \"scatter\"}, {\"marker\": {\"size\": [794.0], \"sizemode\": \"area\", \"sizeref\": 5}, \"mode\": \"markers\", \"name\": \"WN\", \"text\": [\"DEN\"], \"x\": [102.0], \"y\": [185.0], \"type\": \"scatter\"}], \"name\": \"6\"}, {\"data\": [{\"marker\": {\"size\": [597.0, 3784.0, 802.0, 2342.0], \"sizemode\": \"area\", \"sizeref\": 5}, \"mode\": \"markers\", \"name\": \"AA\", \"text\": [\"BHM\", \"HNL\", \"ORD\", \"LAX\"], \"x\": [109.0, 366.0, 132.0, 226.0], \"y\": [622.0, 237.0, 200.0, 191.0], \"type\": \"scatter\"}, {\"marker\": {\"size\": [1750.0, 1750.0, 930.0], \"sizemode\": \"area\", \"sizeref\": 5}, \"mode\": \"markers\", \"name\": \"NW\", \"text\": [\"LAS\", \"DTW\", \"CLT\"], \"x\": [182.0, 282.0, 144.0], \"y\": [304.0, 300.0, 197.0], \"type\": \"scatter\"}, {\"marker\": {\"size\": [], \"sizemode\": \"area\", \"sizeref\": 5}, \"mode\": \"markers\", \"name\": \"FL\", \"text\": [], \"x\": [], \"y\": [], \"type\": \"scatter\"}, {\"marker\": {\"size\": [282.0, 304.0, 267.0], \"sizemode\": \"area\", \"sizeref\": 5}, \"mode\": \"markers\", \"name\": \"MQ\", \"text\": [\"LBB\", \"DFW\", \"LAX\"], \"x\": [52.0, 41.0, 52.0], \"y\": [228.0, 220.0, 189.0], \"type\": \"scatter\"}, {\"marker\": {\"size\": [207.0, 74.0, 695.0, 750.0, 113.0], \"sizemode\": \"area\", \"sizeref\": 5}, \"mode\": \"markers\", \"name\": \"9E\", \"text\": [\"TVC\", \"DTW\", \"BNA\", \"DTW\", \"DTW\"], \"x\": [41.0, 18.0, 112.0, 91.0, 29.0], \"y\": [353.0, 265.0, 265.0, 264.0, 204.0], \"type\": \"scatter\"}, {\"marker\": {\"size\": [], \"sizemode\": \"area\", \"sizeref\": 5}, \"mode\": \"markers\", \"name\": \"CO\", \"text\": [], \"x\": [], \"y\": [], \"type\": \"scatter\"}, {\"marker\": {\"size\": [260.0, 436.0, 315.0, 1482.0], \"sizemode\": \"area\", \"sizeref\": 5}, \"mode\": \"markers\", \"name\": \"OO\", \"text\": [\"RKS\", \"SLC\", \"LMT\", \"SFO\"], \"x\": [68.0, 59.0, 62.0, 166.0], \"y\": [359.0, 341.0, 265.0, 195.0], \"type\": \"scatter\"}, {\"marker\": {\"size\": [356.0, 2454.0, 756.0], \"sizemode\": \"area\", \"sizeref\": 5}, \"mode\": \"markers\", \"name\": \"DL\", \"text\": [\"RDU\", \"PDX\", \"MCO\"], \"x\": [63.0, 275.0, 108.0], \"y\": [378.0, 289.0, 192.0], \"type\": \"scatter\"}, {\"marker\": {\"size\": [], \"sizemode\": \"area\", \"sizeref\": 5}, \"mode\": \"markers\", \"name\": \"AS\", \"text\": [], \"x\": [], \"y\": [], \"type\": \"scatter\"}, {\"marker\": {\"size\": [2176.0, 1013.0, 2401.0], \"sizemode\": \"area\", \"sizeref\": 5}, \"mode\": \"markers\", \"name\": \"US\", \"text\": [\"PHL\", \"MIA\", \"PHL\"], \"x\": [337.0, 132.0, 374.0], \"y\": [261.0, 223.0, 197.0], \"type\": \"scatter\"}, {\"marker\": {\"size\": [589.0, 337.0, 1005.0], \"sizemode\": \"area\", \"sizeref\": 5}, \"mode\": \"markers\", \"name\": \"UA\", \"text\": [\"DEN\", \"SFO\", \"ORD\"], \"x\": [77.0, 47.0, 138.0], \"y\": [236.0, 213.0, 203.0], \"type\": \"scatter\"}, {\"marker\": {\"size\": [625.0], \"sizemode\": \"area\", \"sizeref\": 5}, \"mode\": \"markers\", \"name\": \"OH\", \"text\": [\"DTW\"], \"x\": [114.0], \"y\": [207.0], \"type\": \"scatter\"}, {\"marker\": {\"size\": [253.0], \"sizemode\": \"area\", \"sizeref\": 5}, \"mode\": \"markers\", \"name\": \"XE\", \"text\": [\"BTR\"], \"x\": [64.0], \"y\": [194.0], \"type\": \"scatter\"}, {\"marker\": {\"size\": [], \"sizemode\": \"area\", \"sizeref\": 5}, \"mode\": \"markers\", \"name\": \"F9\", \"text\": [], \"x\": [], \"y\": [], \"type\": \"scatter\"}, {\"marker\": {\"size\": [1149.0, 509.0, 110.0, 1149.0, 1149.0], \"sizemode\": \"area\", \"sizeref\": 5}, \"mode\": \"markers\", \"name\": \"YV\", \"text\": [\"DSM\", \"SBP\", \"PHX\", \"PHX\", \"PHX\"], \"x\": [203.0, 74.0, 29.0, 130.0, 134.0], \"y\": [324.0, 243.0, 225.0, 220.0, 206.0], \"type\": \"scatter\"}, {\"marker\": {\"size\": [781.0, 366.0, 259.0, 508.0, 443.0, 300.0], \"sizemode\": \"area\", \"sizeref\": 5}, \"mode\": \"markers\", \"name\": \"EV\", \"text\": [\"ICT\", \"DAB\", \"CHS\", \"FWA\", \"MLB\", \"ATL\"], \"x\": [91.0, 64.0, 54.0, 78.0, 67.0, 42.0], \"y\": [330.0, 300.0, 237.0, 235.0, 214.0, 198.0], \"type\": \"scatter\"}, {\"marker\": {\"size\": [], \"sizemode\": \"area\", \"sizeref\": 5}, \"mode\": \"markers\", \"name\": \"HA\", \"text\": [], \"x\": [], \"y\": [], \"type\": \"scatter\"}, {\"marker\": {\"size\": [2446.0, 846.0], \"sizemode\": \"area\", \"sizeref\": 5}, \"mode\": \"markers\", \"name\": \"B6\", \"text\": [\"SAN\", \"LGB\"], \"x\": [266.0, 145.0], \"y\": [406.0, 205.0], \"type\": \"scatter\"}, {\"marker\": {\"size\": [488.0, 335.0, 437.0, 414.0, 417.0, 646.0, 229.0], \"sizemode\": \"area\", \"sizeref\": 5}, \"mode\": \"markers\", \"name\": \"WN\", \"text\": [\"SAN\", \"RNO\", \"MSY\", \"SFO\", \"SAN\", \"PHX\", \"DTW\"], \"x\": [86.0, 52.0, 70.0, 69.0, 74.0, 110.0, 48.0], \"y\": [271.0, 269.0, 251.0, 234.0, 202.0, 198.0, 185.0], \"type\": \"scatter\"}], \"name\": \"7\"}, {\"data\": [{\"marker\": {\"size\": [1437.0, 929.0, 1231.0], \"sizemode\": \"area\", \"sizeref\": 5}, \"mode\": \"markers\", \"name\": \"AA\", \"text\": [\"ORD\", \"DFW\", \"BUR\"], \"x\": [211.0, 104.0, 130.0], \"y\": [300.0, 268.0, 189.0], \"type\": \"scatter\"}, {\"marker\": {\"size\": [393.0, 1426.0], \"sizemode\": \"area\", \"sizeref\": 5}, \"mode\": \"markers\", \"name\": \"NW\", \"text\": [\"MSP\", \"PDX\"], \"x\": [63.0, 166.0], \"y\": [845.0, 364.0], \"type\": \"scatter\"}, {\"marker\": {\"size\": [], \"sizemode\": \"area\", \"sizeref\": 5}, \"mode\": \"markers\", \"name\": \"FL\", \"text\": [], \"x\": [], \"y\": [], \"type\": \"scatter\"}, {\"marker\": {\"size\": [364.0, 158.0], \"sizemode\": \"area\", \"sizeref\": 5}, \"mode\": \"markers\", \"name\": \"MQ\", \"text\": [\"SGF\", \"ABI\"], \"x\": [72.0, 37.0], \"y\": [254.0, 232.0], \"type\": \"scatter\"}, {\"marker\": {\"size\": [258.0, 583.0, 538.0], \"sizemode\": \"area\", \"sizeref\": 5}, \"mode\": \"markers\", \"name\": \"9E\", \"text\": [\"MEM\", \"DTW\", \"OMA\"], \"x\": [53.0, 96.0, 86.0], \"y\": [306.0, 206.0, 184.0], \"type\": \"scatter\"}, {\"marker\": {\"size\": [925.0, 1874.0, 2433.0, 1379.0, 925.0], \"sizemode\": \"area\", \"sizeref\": 5}, \"mode\": \"markers\", \"name\": \"CO\", \"text\": [\"ORD\", \"SEA\", \"PDX\", \"IAH\", \"ORD\"], \"x\": [137.0, 201.0, 298.0, 206.0, 158.0], \"y\": [452.0, 374.0, 340.0, 218.0, 184.0], \"type\": \"scatter\"}, {\"marker\": {\"size\": [589.0, 911.0, 588.0, 1249.0, 130.0, 192.0, 130.0, 911.0, 493.0, 438.0, 1261.0, 738.0, 462.0, 483.0, 911.0, 1013.0, 826.0, 409.0], \"sizemode\": \"area\", \"sizeref\": 5}, \"mode\": \"markers\", \"name\": \"OO\", \"text\": [\"DEN\", \"ORD\", \"ORD\", \"ORD\", \"ORD\", \"RNO\", \"PIA\", \"COS\", \"ABQ\", \"ORD\", \"MEM\", \"ORD\", \"ORD\", \"FSD\", \"COS\", \"BNA\", \"MSN\", \"ORD\"], \"x\": [96.0, 124.0, 96.0, 179.0, 35.0, 47.0, 26.0, 112.0, 83.0, 76.0, 191.0, 103.0, 76.0, 83.0, 104.0, 166.0, 131.0, 71.0], \"y\": [311.0, 283.0, 279.0, 262.0, 251.0, 249.0, 232.0, 229.0, 229.0, 228.0, 216.0, 215.0, 211.0, 208.0, 206.0, 202.0, 189.0, 184.0], \"type\": \"scatter\"}, {\"marker\": {\"size\": [689.0, 270.0, 606.0, 403.0], \"sizemode\": \"area\", \"sizeref\": 5}, \"mode\": \"markers\", \"name\": \"DL\", \"text\": [\"SEA\", \"JAX\", \"ORD\", \"MCO\"], \"x\": [88.0, 58.0, 93.0, 89.0], \"y\": [453.0, 327.0, 228.0, 206.0], \"type\": \"scatter\"}, {\"marker\": {\"size\": [], \"sizemode\": \"area\", \"sizeref\": 5}, \"mode\": \"markers\", \"name\": \"AS\", \"text\": [], \"x\": [], \"y\": [], \"type\": \"scatter\"}, {\"marker\": {\"size\": [651.0, 227.0], \"sizemode\": \"area\", \"sizeref\": 5}, \"mode\": \"markers\", \"name\": \"US\", \"text\": [\"SFO\", \"CLT\"], \"x\": [82.0, 61.0], \"y\": [269.0, 196.0], \"type\": \"scatter\"}, {\"marker\": {\"size\": [2288.0, 867.0, 1781.0], \"sizemode\": \"area\", \"sizeref\": 5}, \"mode\": \"markers\", \"name\": \"UA\", \"text\": [\"IAD\", \"ORD\", \"ORD\"], \"x\": [324.0, 106.0, 241.0], \"y\": [352.0, 315.0, 215.0], \"type\": \"scatter\"}, {\"marker\": {\"size\": [], \"sizemode\": \"area\", \"sizeref\": 5}, \"mode\": \"markers\", \"name\": \"OH\", \"text\": [], \"x\": [], \"y\": [], \"type\": \"scatter\"}, {\"marker\": {\"size\": [1034.0], \"sizemode\": \"area\", \"sizeref\": 5}, \"mode\": \"markers\", \"name\": \"XE\", \"text\": [\"MSP\"], \"x\": [144.0], \"y\": [453.0], \"type\": \"scatter\"}, {\"marker\": {\"size\": [895.0], \"sizemode\": \"area\", \"sizeref\": 5}, \"mode\": \"markers\", \"name\": \"F9\", \"text\": [\"MKE\"], \"x\": [126.0], \"y\": [276.0], \"type\": \"scatter\"}, {\"marker\": {\"size\": [843.0], \"sizemode\": \"area\", \"sizeref\": 5}, \"mode\": \"markers\", \"name\": \"YV\", \"text\": [\"ORD\"], \"x\": [101.0], \"y\": [226.0], \"type\": \"scatter\"}, {\"marker\": {\"size\": [321.0, 321.0, 191.0, 264.0], \"sizemode\": \"area\", \"sizeref\": 5}, \"mode\": \"markers\", \"name\": \"EV\", \"text\": [\"SDF\", \"ATL\", \"ATL\", \"VPS\"], \"x\": [62.0, 59.0, 32.0, 51.0], \"y\": [237.0, 205.0, 194.0, 185.0], \"type\": \"scatter\"}, {\"marker\": {\"size\": [2409.0], \"sizemode\": \"area\", \"sizeref\": 5}, \"mode\": \"markers\", \"name\": \"HA\", \"text\": [\"HNL\"], \"x\": [256.0], \"y\": [191.0], \"type\": \"scatter\"}, {\"marker\": {\"size\": [1735.0, 867.0, 1065.0, 740.0], \"sizemode\": \"area\", \"sizeref\": 5}, \"mode\": \"markers\", \"name\": \"B6\", \"text\": [\"ORD\", \"ORD\", \"FLL\", \"ORD\"], \"x\": [273.0, 102.0, 141.0, 94.0], \"y\": [288.0, 242.0, 216.0, 212.0], \"type\": \"scatter\"}, {\"marker\": {\"size\": [349.0, 1751.0, 405.0, 349.0, 989.0, 2279.0, 159.0, 495.0, 162.0, 349.0, 668.0, 323.0, 405.0, 1751.0, 967.0, 271.0, 680.0, 303.0, 1489.0, 630.0, 423.0, 861.0], \"sizemode\": \"area\", \"sizeref\": 5}, \"mode\": \"markers\", \"name\": \"WN\", \"text\": [\"MSP\", \"MDW\", \"MDW\", \"DEN\", \"MDW\", \"MHT\", \"BWI\", \"SDF\", \"IND\", \"MSP\", \"MDW\", \"SDF\", \"MDW\", \"MDW\", \"MCI\", \"MDW\", \"MSP\", \"HOU\", \"OAK\", \"PDX\", \"MDW\", \"PHL\"], \"x\": [62.0, 278.0, 69.0, 57.0, 130.0, 366.0, 35.0, 67.0, 45.0, 84.0, 90.0, 58.0, 75.0, 269.0, 118.0, 52.0, 106.0, 41.0, 178.0, 78.0, 73.0, 125.0], \"y\": [302.0, 275.0, 232.0, 230.0, 224.0, 210.0, 210.0, 209.0, 207.0, 202.0, 199.0, 199.0, 196.0, 195.0, 195.0, 194.0, 191.0, 190.0, 189.0, 188.0, 187.0, 185.0], \"type\": \"scatter\"}], \"name\": \"8\"}, {\"data\": [{\"marker\": {\"size\": [868.0, 852.0, 1235.0, 719.0, 258.0], \"sizemode\": \"area\", \"sizeref\": 5}, \"mode\": \"markers\", \"name\": \"AA\", \"text\": [\"PHX\", \"MSP\", \"LAX\", \"STL\", \"STL\"], \"x\": [96.0, 129.0, 134.0, 76.0, 51.0], \"y\": [271.0, 246.0, 197.0, 187.0, 183.0], \"type\": \"scatter\"}, {\"marker\": {\"size\": [609.0, 1399.0, 529.0, 980.0, 449.0, 1085.0, 297.0], \"sizemode\": \"area\", \"sizeref\": 5}, \"mode\": \"markers\", \"name\": \"NW\", \"text\": [\"MHT\", \"SEA\", \"ORF\", \"PHL\", \"MSP\", \"DTW\", \"MSP\"], \"x\": [102.0, 164.0, 107.0, 142.0, 67.0, 150.0, 53.0], \"y\": [548.0, 470.0, 337.0, 283.0, 274.0, 197.0, 184.0], \"type\": \"scatter\"}, {\"marker\": {\"size\": [], \"sizemode\": \"area\", \"sizeref\": 5}, \"mode\": \"markers\", \"name\": \"FL\", \"text\": [], \"x\": [], \"y\": [], \"type\": \"scatter\"}, {\"marker\": {\"size\": [304.0, 296.0, 113.0, 135.0, 1118.0, 642.0, 925.0, 837.0, 174.0, 403.0], \"sizemode\": \"area\", \"sizeref\": 5}, \"mode\": \"markers\", \"name\": \"MQ\", \"text\": [\"LIT\", \"CMH\", \"SPS\", \"ORD\", \"ORD\", \"ORD\", \"IAH\", \"MSY\", \"ORD\", \"TLH\"], \"x\": [65.0, 57.0, 28.0, 34.0, 171.0, 83.0, 128.0, 127.0, 32.0, 60.0], \"y\": [714.0, 650.0, 325.0, 241.0, 231.0, 218.0, 207.0, 207.0, 195.0, 194.0], \"type\": \"scatter\"}, {\"marker\": {\"size\": [386.0, 606.0], \"sizemode\": \"area\", \"sizeref\": 5}, \"mode\": \"markers\", \"name\": \"9E\", \"text\": [\"BIS\", \"ORD\"], \"x\": [65.0, 82.0], \"y\": [279.0, 232.0], \"type\": \"scatter\"}, {\"marker\": {\"size\": [200.0], \"sizemode\": \"area\", \"sizeref\": 5}, \"mode\": \"markers\", \"name\": \"CO\", \"text\": [\"BOS\"], \"x\": [54.0], \"y\": [266.0], \"type\": \"scatter\"}, {\"marker\": {\"size\": [230.0, 221.0, 264.0, 318.0, 589.0, 738.0, 895.0], \"sizemode\": \"area\", \"sizeref\": 5}, \"mode\": \"markers\", \"name\": \"OO\", \"text\": [\"CVG\", \"CVG\", \"CVG\", \"CVG\", \"LGB\", \"HPN\", \"DEN\"], \"x\": [47.0, 39.0, 48.0, 55.0, 86.0, 126.0, 106.0], \"y\": [282.0, 276.0, 261.0, 245.0, 225.0, 184.0, 183.0], \"type\": \"scatter\"}, {\"marker\": {\"size\": [391.0, 547.0, 1968.0, 332.0], \"sizemode\": \"area\", \"sizeref\": 5}, \"mode\": \"markers\", \"name\": \"DL\", \"text\": [\"DEN\", \"DCA\", \"SLC\", \"MEM\"], \"x\": [74.0, 102.0, 217.0, 59.0], \"y\": [346.0, 299.0, 212.0, 189.0], \"type\": \"scatter\"}, {\"marker\": {\"size\": [571.0, 95.0], \"sizemode\": \"area\", \"sizeref\": 5}, \"mode\": \"markers\", \"name\": \"AS\", \"text\": [\"JNU\", \"SIT\"], \"x\": [87.0, 25.0], \"y\": [545.0, 533.0], \"type\": \"scatter\"}, {\"marker\": {\"size\": [], \"sizemode\": \"area\", \"sizeref\": 5}, \"mode\": \"markers\", \"name\": \"US\", \"text\": [], \"x\": [], \"y\": [], \"type\": \"scatter\"}, {\"marker\": {\"size\": [2586.0, 1589.0], \"sizemode\": \"area\", \"sizeref\": 5}, \"mode\": \"markers\", \"name\": \"UA\", \"text\": [\"JFK\", \"MSP\"], \"x\": [370.0, 232.0], \"y\": [214.0, 203.0], \"type\": \"scatter\"}, {\"marker\": {\"size\": [1107.0, 340.0, 306.0, 766.0], \"sizemode\": \"area\", \"sizeref\": 5}, \"mode\": \"markers\", \"name\": \"OH\", \"text\": [\"LGA\", \"PIT\", \"DTW\", \"JFK\"], \"x\": [167.0, 41.0, 63.0, 158.0], \"y\": [259.0, 229.0, 202.0, 191.0], \"type\": \"scatter\"}, {\"marker\": {\"size\": [1034.0], \"sizemode\": \"area\", \"sizeref\": 5}, \"mode\": \"markers\", \"name\": \"XE\", \"text\": [\"MSP\"], \"x\": [146.0], \"y\": [265.0], \"type\": \"scatter\"}, {\"marker\": {\"size\": [], \"sizemode\": \"area\", \"sizeref\": 5}, \"mode\": \"markers\", \"name\": \"F9\", \"text\": [], \"x\": [], \"y\": [], \"type\": \"scatter\"}, {\"marker\": {\"size\": [693.0, 137.0, 137.0, 491.0, 296.0, 491.0, 235.0, 491.0], \"sizemode\": \"area\", \"sizeref\": 5}, \"mode\": \"markers\", \"name\": \"YV\", \"text\": [\"ORD\", \"GRR\", \"ORD\", \"MEM\", \"SYR\", \"MEM\", \"ORD\", \"ORD\"], \"x\": [121.0, 34.0, 31.0, 93.0, 57.0, 87.0, 52.0, 82.0], \"y\": [270.0, 221.0, 212.0, 207.0, 203.0, 195.0, 193.0, 188.0], \"type\": \"scatter\"}, {\"marker\": {\"size\": [303.0, 106.0], \"sizemode\": \"area\", \"sizeref\": 5}, \"mode\": \"markers\", \"name\": \"EV\", \"text\": [\"LEX\", \"CHA\"], \"x\": [57.0, 32.0], \"y\": [347.0, 278.0], \"type\": \"scatter\"}, {\"marker\": {\"size\": [], \"sizemode\": \"area\", \"sizeref\": 5}, \"mode\": \"markers\", \"name\": \"HA\", \"text\": [], \"x\": [], \"y\": [], \"type\": \"scatter\"}, {\"marker\": {\"size\": [1041.0, 541.0], \"sizemode\": \"area\", \"sizeref\": 5}, \"mode\": \"markers\", \"name\": \"B6\", \"text\": [\"SRQ\", \"JFK\"], \"x\": [147.0, 113.0], \"y\": [277.0, 193.0], \"type\": \"scatter\"}, {\"marker\": {\"size\": [468.0, 1444.0, 1121.0, 725.0, 1521.0, 759.0, 570.0, 668.0, 402.0, 1521.0, 423.0, 725.0, 577.0, 717.0, 682.0, 307.0, 307.0, 647.0, 1036.0, 632.0, 842.0, 417.0], \"sizemode\": \"area\", \"sizeref\": 5}, \"mode\": \"markers\", \"name\": \"WN\", \"text\": [\"MDW\", \"MDW\", \"MDW\", \"MDW\", \"LAS\", \"HOU\", \"MDW\", \"MDW\", \"MDW\", \"MDW\", \"OMA\", \"MDW\", \"MDW\", \"MDW\", \"BHM\", \"MDW\", \"MDW\", \"SMF\", \"MDW\", \"MDW\", \"BWI\", \"SAN\"], \"x\": [62.0, 238.0, 187.0, 83.0, 174.0, 134.0, 81.0, 78.0, 55.0, 234.0, 95.0, 84.0, 74.0, 78.0, 80.0, 48.0, 49.0, 87.0, 166.0, 80.0, 138.0, 62.0], \"y\": [299.0, 296.0, 291.0, 278.0, 262.0, 259.0, 259.0, 254.0, 253.0, 238.0, 234.0, 228.0, 226.0, 224.0, 219.0, 214.0, 211.0, 210.0, 210.0, 204.0, 191.0, 189.0], \"type\": \"scatter\"}], \"name\": \"9\"}, {\"data\": [{\"marker\": {\"size\": [929.0, 3711.0, 2611.0, 3711.0, 2342.0, 1593.0, 2486.0, 1197.0, 1593.0], \"sizemode\": \"area\", \"sizeref\": 5}, \"mode\": \"markers\", \"name\": \"AA\", \"text\": [\"TPA\", \"DFW\", \"BOS\", \"OGG\", \"LAX\", \"STL\", \"LAX\", \"MIA\", \"LAX\"], \"x\": [150.0, 499.0, 372.0, 388.0, 244.0, 230.0, 338.0, 163.0, 165.0], \"y\": [582.0, 314.0, 245.0, 236.0, 219.0, 211.0, 201.0, 197.0, 194.0], \"type\": \"scatter\"}, {\"marker\": {\"size\": [1979.0, 610.0, 457.0], \"sizemode\": \"area\", \"sizeref\": 5}, \"mode\": \"markers\", \"name\": \"NW\", \"text\": [\"LAX\", \"MEM\", \"DTW\"], \"x\": [207.0, 79.0, 78.0], \"y\": [245.0, 206.0, 186.0], \"type\": \"scatter\"}, {\"marker\": {\"size\": [403.0], \"sizemode\": \"area\", \"sizeref\": 5}, \"mode\": \"markers\", \"name\": \"FL\", \"text\": [\"MCO\"], \"x\": [64.0], \"y\": [184.0], \"type\": \"scatter\"}, {\"marker\": {\"size\": [931.0, 215.0, 109.0, 1021.0, 1021.0, 235.0], \"sizemode\": \"area\", \"sizeref\": 5}, \"mode\": \"markers\", \"name\": \"MQ\", \"text\": [\"GRR\", \"ORD\", \"SAN\", \"IND\", \"MIA\", \"ORD\"], \"x\": [161.0, 43.0, 24.0, 132.0, 150.0, 52.0], \"y\": [596.0, 230.0, 225.0, 213.0, 211.0, 184.0], \"type\": \"scatter\"}, {\"marker\": {\"size\": [], \"sizemode\": \"area\", \"sizeref\": 5}, \"mode\": \"markers\", \"name\": \"9E\", \"text\": [], \"x\": [], \"y\": [], \"type\": \"scatter\"}, {\"marker\": {\"size\": [1076.0], \"sizemode\": \"area\", \"sizeref\": 5}, \"mode\": \"markers\", \"name\": \"CO\", \"text\": [\"DTW\"], \"x\": [164.0], \"y\": [229.0], \"type\": \"scatter\"}, {\"marker\": {\"size\": [109.0, 738.0, 264.0, 250.0, 240.0, 451.0, 451.0, 438.0], \"sizemode\": \"area\", \"sizeref\": 5}, \"mode\": \"markers\", \"name\": \"OO\", \"text\": [\"MSN\", \"HPN\", \"ORD\", \"SFO\", \"LMT\", \"SFO\", \"SFO\", \"ORD\"], \"x\": [26.0, 126.0, 39.0, 53.0, 61.0, 61.0, 61.0, 74.0], \"y\": [488.0, 478.0, 360.0, 237.0, 216.0, 207.0, 193.0, 190.0], \"type\": \"scatter\"}, {\"marker\": {\"size\": [259.0, 406.0, 906.0, 761.0, 1947.0], \"sizemode\": \"area\", \"sizeref\": 5}, \"mode\": \"markers\", \"name\": \"DL\", \"text\": [\"CHS\", \"TPA\", \"MSP\", \"LGA\", \"ATL\"], \"x\": [48.0, 68.0, 123.0, 174.0, 287.0], \"y\": [615.0, 224.0, 207.0, 201.0, 191.0], \"type\": \"scatter\"}, {\"marker\": {\"size\": [], \"sizemode\": \"area\", \"sizeref\": 5}, \"mode\": \"markers\", \"name\": \"AS\", \"text\": [], \"x\": [], \"y\": [], \"type\": \"scatter\"}, {\"marker\": {\"size\": [678.0], \"sizemode\": \"area\", \"sizeref\": 5}, \"mode\": \"markers\", \"name\": \"US\", \"text\": [\"PHL\"], \"x\": [132.0], \"y\": [221.0], \"type\": \"scatter\"}, {\"marker\": {\"size\": [], \"sizemode\": \"area\", \"sizeref\": 5}, \"mode\": \"markers\", \"name\": \"UA\", \"text\": [], \"x\": [], \"y\": [], \"type\": \"scatter\"}, {\"marker\": {\"size\": [], \"sizemode\": \"area\", \"sizeref\": 5}, \"mode\": \"markers\", \"name\": \"OH\", \"text\": [], \"x\": [], \"y\": [], \"type\": \"scatter\"}, {\"marker\": {\"size\": [429.0, 487.0, 214.0], \"sizemode\": \"area\", \"sizeref\": 5}, \"mode\": \"markers\", \"name\": \"XE\", \"text\": [\"GPT\", \"EWR\", \"GRR\"], \"x\": [63.0, 97.0, 39.0], \"y\": [516.0, 253.0, 198.0], \"type\": \"scatter\"}, {\"marker\": {\"size\": [], \"sizemode\": \"area\", \"sizeref\": 5}, \"mode\": \"markers\", \"name\": \"F9\", \"text\": [], \"x\": [], \"y\": [], \"type\": \"scatter\"}, {\"marker\": {\"size\": [], \"sizemode\": \"area\", \"sizeref\": 5}, \"mode\": \"markers\", \"name\": \"YV\", \"text\": [], \"x\": [], \"y\": [], \"type\": \"scatter\"}, {\"marker\": {\"size\": [377.0, 533.0], \"sizemode\": \"area\", \"sizeref\": 5}, \"mode\": \"markers\", \"name\": \"EV\", \"text\": [\"ILM\", \"ATL\"], \"x\": [72.0, 67.0], \"y\": [290.0, 188.0], \"type\": \"scatter\"}, {\"marker\": {\"size\": [102.0], \"sizemode\": \"area\", \"sizeref\": 5}, \"mode\": \"markers\", \"name\": \"HA\", \"text\": [\"LIH\"], \"x\": [19.0], \"y\": [218.0], \"type\": \"scatter\"}, {\"marker\": {\"size\": [], \"sizemode\": \"area\", \"sizeref\": 5}, \"mode\": \"markers\", \"name\": \"B6\", \"text\": [], \"x\": [], \"y\": [], \"type\": \"scatter\"}, {\"marker\": {\"size\": [337.0, 651.0, 338.0], \"sizemode\": \"area\", \"sizeref\": 5}, \"mode\": \"markers\", \"name\": \"WN\", \"text\": [\"SFO\", \"SFO\", \"PHX\"], \"x\": [52.0, 87.0, 56.0], \"y\": [282.0, 190.0, 185.0], \"type\": \"scatter\"}], \"name\": \"10\"}, {\"data\": [{\"marker\": {\"size\": [175.0, 2175.0, 1464.0], \"sizemode\": \"area\", \"sizeref\": 5}, \"mode\": \"markers\", \"name\": \"AA\", \"text\": [\"OKC\", \"MIA\", \"DFW\"], \"x\": [32.0, 303.0, 217.0], \"y\": [286.0, 252.0, 204.0], \"type\": \"scatter\"}, {\"marker\": {\"size\": [], \"sizemode\": \"area\", \"sizeref\": 5}, \"mode\": \"markers\", \"name\": \"NW\", \"text\": [], \"x\": [], \"y\": [], \"type\": \"scatter\"}, {\"marker\": {\"size\": [828.0], \"sizemode\": \"area\", \"sizeref\": 5}, \"mode\": \"markers\", \"name\": \"FL\", \"text\": [\"IND\"], \"x\": [111.0], \"y\": [295.0], \"type\": \"scatter\"}, {\"marker\": {\"size\": [223.0, 522.0], \"sizemode\": \"area\", \"sizeref\": 5}, \"mode\": \"markers\", \"name\": \"MQ\", \"text\": [\"FNT\", \"XNA\"], \"x\": [45.0, 69.0], \"y\": [453.0, 184.0], \"type\": \"scatter\"}, {\"marker\": {\"size\": [312.0, 431.0], \"sizemode\": \"area\", \"sizeref\": 5}, \"mode\": \"markers\", \"name\": \"9E\", \"text\": [\"MSN\", \"DTW\"], \"x\": [45.0, 80.0], \"y\": [305.0, 214.0], \"type\": \"scatter\"}, {\"marker\": {\"size\": [938.0], \"sizemode\": \"area\", \"sizeref\": 5}, \"mode\": \"markers\", \"name\": \"CO\", \"text\": [\"MCO\"], \"x\": [123.0], \"y\": [231.0], \"type\": \"scatter\"}, {\"marker\": {\"size\": [526.0, 751.0, 196.0, 546.0, 436.0], \"sizemode\": \"area\", \"sizeref\": 5}, \"mode\": \"markers\", \"name\": \"OO\", \"text\": [\"RDM\", \"SFO\", \"ORD\", \"SLC\", \"MSO\"], \"x\": [71.0, 85.0, 39.0, 73.0, 62.0], \"y\": [264.0, 253.0, 248.0, 190.0, 190.0], \"type\": \"scatter\"}, {\"marker\": {\"size\": [761.0, 813.0], \"sizemode\": \"area\", \"sizeref\": 5}, \"mode\": \"markers\", \"name\": \"DL\", \"text\": [\"LGA\", \"ATL\"], \"x\": [129.0, 139.0], \"y\": [309.0, 194.0], \"type\": \"scatter\"}, {\"marker\": {\"size\": [1533.0], \"sizemode\": \"area\", \"sizeref\": 5}, \"mode\": \"markers\", \"name\": \"AS\", \"text\": [\"FAI\"], \"x\": [172.0], \"y\": [682.0], \"type\": \"scatter\"}, {\"marker\": {\"size\": [651.0, 650.0], \"sizemode\": \"area\", \"sizeref\": 5}, \"mode\": \"markers\", \"name\": \"US\", \"text\": [\"MSY\", \"CLT\"], \"x\": [78.0, 93.0], \"y\": [487.0, 245.0], \"type\": \"scatter\"}, {\"marker\": {\"size\": [2338.0, 412.0], \"sizemode\": \"area\", \"sizeref\": 5}, \"mode\": \"markers\", \"name\": \"UA\", \"text\": [\"OGG\", \"ORD\"], \"x\": [247.0, 54.0], \"y\": [233.0, 186.0], \"type\": \"scatter\"}, {\"marker\": {\"size\": [288.0, 834.0], \"sizemode\": \"area\", \"sizeref\": 5}, \"mode\": \"markers\", \"name\": \"OH\", \"text\": [\"RIC\", \"LGA\"], \"x\": [79.0, 144.0], \"y\": [206.0, 191.0], \"type\": \"scatter\"}, {\"marker\": {\"size\": [429.0, 748.0, 562.0], \"sizemode\": \"area\", \"sizeref\": 5}, \"mode\": \"markers\", \"name\": \"XE\", \"text\": [\"MAF\", \"EWR\", \"BHM\"], \"x\": [67.0, 161.0, 118.0], \"y\": [439.0, 241.0, 225.0], \"type\": \"scatter\"}, {\"marker\": {\"size\": [], \"sizemode\": \"area\", \"sizeref\": 5}, \"mode\": \"markers\", \"name\": \"F9\", \"text\": [], \"x\": [], \"y\": [], \"type\": \"scatter\"}, {\"marker\": {\"size\": [], \"sizemode\": \"area\", \"sizeref\": 5}, \"mode\": \"markers\", \"name\": \"YV\", \"text\": [], \"x\": [], \"y\": [], \"type\": \"scatter\"}, {\"marker\": {\"size\": [761.0], \"sizemode\": \"area\", \"sizeref\": 5}, \"mode\": \"markers\", \"name\": \"EV\", \"text\": [\"OKC\"], \"x\": [84.0], \"y\": [250.0], \"type\": \"scatter\"}, {\"marker\": {\"size\": [163.0], \"sizemode\": \"area\", \"sizeref\": 5}, \"mode\": \"markers\", \"name\": \"HA\", \"text\": [\"KOA\"], \"x\": [29.0], \"y\": [191.0], \"type\": \"scatter\"}, {\"marker\": {\"size\": [1597.0, 1249.0], \"sizemode\": \"area\", \"sizeref\": 5}, \"mode\": \"markers\", \"name\": \"B6\", \"text\": [\"SJU\", \"BOS\"], \"x\": [246.0, 206.0], \"y\": [234.0, 219.0], \"type\": \"scatter\"}, {\"marker\": {\"size\": [], \"sizemode\": \"area\", \"sizeref\": 5}, \"mode\": \"markers\", \"name\": \"WN\", \"text\": [], \"x\": [], \"y\": [], \"type\": \"scatter\"}], \"name\": \"11\"}, {\"data\": [{\"marker\": {\"size\": [2556.0, 1126.0, 1197.0], \"sizemode\": \"area\", \"sizeref\": 5}, \"mode\": \"markers\", \"name\": \"AA\", \"text\": [\"HNL\", \"PSP\", \"MIA\"], \"x\": [269.0, 137.0, 163.0], \"y\": [288.0, 248.0, 197.0], \"type\": \"scatter\"}, {\"marker\": {\"size\": [288.0, 1589.0], \"sizemode\": \"area\", \"sizeref\": 5}, \"mode\": \"markers\", \"name\": \"NW\", \"text\": [\"GRB\", \"MSP\"], \"x\": [46.0, 235.0], \"y\": [322.0, 187.0], \"type\": \"scatter\"}, {\"marker\": {\"size\": [], \"sizemode\": \"area\", \"sizeref\": 5}, \"mode\": \"markers\", \"name\": \"FL\", \"text\": [], \"x\": [], \"y\": [], \"type\": \"scatter\"}, {\"marker\": {\"size\": [109.0], \"sizemode\": \"area\", \"sizeref\": 5}, \"mode\": \"markers\", \"name\": \"MQ\", \"text\": [\"MSN\"], \"x\": [42.0], \"y\": [393.0], \"type\": \"scatter\"}, {\"marker\": {\"size\": [120.0], \"sizemode\": \"area\", \"sizeref\": 5}, \"mode\": \"markers\", \"name\": \"9E\", \"text\": [\"DTW\"], \"x\": [23.0], \"y\": [270.0], \"type\": \"scatter\"}, {\"marker\": {\"size\": [1208.0, 925.0, 1303.0], \"sizemode\": \"area\", \"sizeref\": 5}, \"mode\": \"markers\", \"name\": \"CO\", \"text\": [\"DCA\", \"ORD\", \"IAH\"], \"x\": [198.0, 146.0, 202.0], \"y\": [698.0, 329.0, 230.0], \"type\": \"scatter\"}, {\"marker\": {\"size\": [191.0, 834.0, 135.0, 550.0, 155.0, 250.0], \"sizemode\": \"area\", \"sizeref\": 5}, \"mode\": \"markers\", \"name\": \"OO\", \"text\": [\"SBP\", \"PDX\", \"SMX\", \"SFO\", \"SBP\", \"SFO\"], \"x\": [68.0, 112.0, 33.0, 81.0, 36.0, 57.0], \"y\": [334.0, 313.0, 300.0, 295.0, 227.0, 187.0], \"type\": \"scatter\"}, {\"marker\": {\"size\": [2248.0, 950.0, 2586.0], \"sizemode\": \"area\", \"sizeref\": 5}, \"mode\": \"markers\", \"name\": \"DL\", \"text\": [\"LAS\", \"MCO\", \"JFK\"], \"x\": [246.0, 122.0, 396.0], \"y\": [296.0, 266.0, 219.0], \"type\": \"scatter\"}, {\"marker\": {\"size\": [679.0, 571.0], \"sizemode\": \"area\", \"sizeref\": 5}, \"mode\": \"markers\", \"name\": \"AS\", \"text\": [\"SFO\", \"ANC\"], \"x\": [96.0, 75.0], \"y\": [303.0, 202.0], \"type\": \"scatter\"}, {\"marker\": {\"size\": [336.0, 2378.0], \"sizemode\": \"area\", \"sizeref\": 5}, \"mode\": \"markers\", \"name\": \"US\", \"text\": [\"RDU\", \"SEA\"], \"x\": [53.0, 252.0], \"y\": [260.0, 231.0], \"type\": \"scatter\"}, {\"marker\": {\"size\": [679.0, 853.0], \"sizemode\": \"area\", \"sizeref\": 5}, \"mode\": \"markers\", \"name\": \"UA\", \"text\": [\"SEA\", \"SAN\"], \"x\": [107.0, 103.0], \"y\": [380.0, 228.0], \"type\": \"scatter\"}, {\"marker\": {\"size\": [533.0], \"sizemode\": \"area\", \"sizeref\": 5}, \"mode\": \"markers\", \"name\": \"OH\", \"text\": [\"ATL\"], \"x\": [79.0], \"y\": [211.0], \"type\": \"scatter\"}, {\"marker\": {\"size\": [469.0], \"sizemode\": \"area\", \"sizeref\": 5}, \"mode\": \"markers\", \"name\": \"XE\", \"text\": [\"MEM\"], \"x\": [97.0], \"y\": [243.0], \"type\": \"scatter\"}, {\"marker\": {\"size\": [], \"sizemode\": \"area\", \"sizeref\": 5}, \"mode\": \"markers\", \"name\": \"F9\", \"text\": [], \"x\": [], \"y\": [], \"type\": \"scatter\"}, {\"marker\": {\"size\": [], \"sizemode\": \"area\", \"sizeref\": 5}, \"mode\": \"markers\", \"name\": \"YV\", \"text\": [], \"x\": [], \"y\": [], \"type\": \"scatter\"}, {\"marker\": {\"size\": [377.0, 363.0, 508.0], \"sizemode\": \"area\", \"sizeref\": 5}, \"mode\": \"markers\", \"name\": \"EV\", \"text\": [\"ILM\", \"CRW\", \"ATL\"], \"x\": [75.0, 72.0, 70.0], \"y\": [232.0, 218.0, 195.0], \"type\": \"scatter\"}, {\"marker\": {\"size\": [], \"sizemode\": \"area\", \"sizeref\": 5}, \"mode\": \"markers\", \"name\": \"HA\", \"text\": [], \"x\": [], \"y\": [], \"type\": \"scatter\"}, {\"marker\": {\"size\": [972.0], \"sizemode\": \"area\", \"sizeref\": 5}, \"mode\": \"markers\", \"name\": \"B6\", \"text\": [\"HPN\"], \"x\": [148.0], \"y\": [183.0], \"type\": \"scatter\"}, {\"marker\": {\"size\": [], \"sizemode\": \"area\", \"sizeref\": 5}, \"mode\": \"markers\", \"name\": \"WN\", \"text\": [], \"x\": [], \"y\": [], \"type\": \"scatter\"}], \"name\": \"12\"}, {\"data\": [{\"marker\": {\"size\": [1158.0, 2342.0, 597.0, 1745.0, 2586.0, 929.0, 1005.0, 964.0], \"sizemode\": \"area\", \"sizeref\": 5}, \"mode\": \"markers\", \"name\": \"AA\", \"text\": [\"RIC\", \"MIA\", \"BHM\", \"ORD\", \"JFK\", \"TPA\", \"JFK\", \"MIA\"], \"x\": [180.0, 321.0, 94.0, 258.0, 392.0, 138.0, 162.0, 141.0], \"y\": [625.0, 580.0, 300.0, 281.0, 242.0, 233.0, 218.0, 199.0], \"type\": \"scatter\"}, {\"marker\": {\"size\": [1300.0, 1307.0, 1300.0, 860.0], \"sizemode\": \"area\", \"sizeref\": 5}, \"mode\": \"markers\", \"name\": \"NW\", \"text\": [\"LAS\", \"TPA\", \"MSP\", \"MEM\"], \"x\": [154.0, 182.0, 186.0, 111.0], \"y\": [908.0, 404.0, 286.0, 204.0], \"type\": \"scatter\"}, {\"marker\": {\"size\": [], \"sizemode\": \"area\", \"sizeref\": 5}, \"mode\": \"markers\", \"name\": \"FL\", \"text\": [], \"x\": [], \"y\": [], \"type\": \"scatter\"}, {\"marker\": {\"size\": [213.0], \"sizemode\": \"area\", \"sizeref\": 5}, \"mode\": \"markers\", \"name\": \"MQ\", \"text\": [\"JFK\"], \"x\": [52.0], \"y\": [188.0], \"type\": \"scatter\"}, {\"marker\": {\"size\": [382.0, 243.0, 689.0], \"sizemode\": \"area\", \"sizeref\": 5}, \"mode\": \"markers\", \"name\": \"9E\", \"text\": [\"ROA\", \"SGF\", \"ATL\"], \"x\": [65.0, 50.0, 107.0], \"y\": [362.0, 314.0, 201.0], \"type\": \"scatter\"}, {\"marker\": {\"size\": [719.0], \"sizemode\": \"area\", \"sizeref\": 5}, \"mode\": \"markers\", \"name\": \"CO\", \"text\": [\"EWR\"], \"x\": [124.0], \"y\": [202.0], \"type\": \"scatter\"}, {\"marker\": {\"size\": [861.0, 142.0, 387.0, 1123.0], \"sizemode\": \"area\", \"sizeref\": 5}, \"mode\": \"markers\", \"name\": \"OO\", \"text\": [\"DEN\", \"HDN\", \"SLC\", \"DEN\"], \"x\": [123.0, 27.0, 66.0, 120.0], \"y\": [306.0, 287.0, 264.0, 244.0], \"type\": \"scatter\"}, {\"marker\": {\"size\": [2421.0, 2994.0, 950.0, 1864.0, 576.0, 1069.0, 761.0, 576.0], \"sizemode\": \"area\", \"sizeref\": 5}, \"mode\": \"markers\", \"name\": \"DL\", \"text\": [\"SEA\", \"SLC\", \"MCO\", \"BWI\", \"BWI\", \"JFK\", \"ATL\", \"ATL\"], \"x\": [250.0, 399.0, 113.0, 292.0, 103.0, 168.0, 94.0, 73.0], \"y\": [355.0, 349.0, 292.0, 222.0, 213.0, 197.0, 192.0, 185.0], \"type\": \"scatter\"}, {\"marker\": {\"size\": [], \"sizemode\": \"area\", \"sizeref\": 5}, \"mode\": \"markers\", \"name\": \"AS\", \"text\": [], \"x\": [], \"y\": [], \"type\": \"scatter\"}, {\"marker\": {\"size\": [2378.0, 1440.0, 1440.0], \"sizemode\": \"area\", \"sizeref\": 5}, \"mode\": \"markers\", \"name\": \"US\", \"text\": [\"SEA\", \"ORD\", \"ORD\"], \"x\": [246.0, 243.0, 221.0], \"y\": [341.0, 295.0, 241.0], \"type\": \"scatter\"}, {\"marker\": {\"size\": [2615.0, 2288.0, 1290.0], \"sizemode\": \"area\", \"sizeref\": 5}, \"mode\": \"markers\", \"name\": \"UA\", \"text\": [\"LAX\", \"IAD\", \"PIT\"], \"x\": [333.0, 343.0, 206.0], \"y\": [197.0, 190.0, 183.0], \"type\": \"scatter\"}, {\"marker\": {\"size\": [507.0, 83.0, 320.0, 507.0, 892.0, 740.0, 508.0], \"sizemode\": \"area\", \"sizeref\": 5}, \"mode\": \"markers\", \"name\": \"OH\", \"text\": [\"CVG\", \"SDF\", \"MEM\", \"PHL\", \"JFK\", \"JFK\", \"DTW\"], \"x\": [83.0, 22.0, 55.0, 103.0, 151.0, 132.0, 85.0], \"y\": [320.0, 257.0, 244.0, 235.0, 233.0, 211.0, 193.0], \"type\": \"scatter\"}, {\"marker\": {\"size\": [1092.0, 1092.0, 487.0, 872.0], \"sizemode\": \"area\", \"sizeref\": 5}, \"mode\": \"markers\", \"name\": \"XE\", \"text\": [\"EWR\", \"EWR\", \"EWR\", \"EWR\"], \"x\": [228.0, 196.0, 92.0, 158.0], \"y\": [289.0, 223.0, 200.0, 195.0], \"type\": \"scatter\"}, {\"marker\": {\"size\": [], \"sizemode\": \"area\", \"sizeref\": 5}, \"mode\": \"markers\", \"name\": \"F9\", \"text\": [], \"x\": [], \"y\": [], \"type\": \"scatter\"}, {\"marker\": {\"size\": [213.0], \"sizemode\": \"area\", \"sizeref\": 5}, \"mode\": \"markers\", \"name\": \"YV\", \"text\": [\"CLT\"], \"x\": [40.0], \"y\": [211.0], \"type\": \"scatter\"}, {\"marker\": {\"size\": [151.0, 147.0, 952.0, 331.0, 321.0, 147.0, 83.0, 83.0, 208.0], \"sizemode\": \"area\", \"sizeref\": 5}, \"mode\": \"markers\", \"name\": \"EV\", \"text\": [\"ATL\", \"MGM\", \"MHT\", \"FAY\", \"ATL\", \"MGM\", \"CSG\", \"ATL\", \"VLD\"], \"x\": [37.0, 34.0, 171.0, 87.0, 61.0, 31.0, 21.0, 30.0, 54.0], \"y\": [338.0, 320.0, 284.0, 256.0, 211.0, 204.0, 203.0, 199.0, 188.0], \"type\": \"scatter\"}, {\"marker\": {\"size\": [], \"sizemode\": \"area\", \"sizeref\": 5}, \"mode\": \"markers\", \"name\": \"HA\", \"text\": [], \"x\": [], \"y\": [], \"type\": \"scatter\"}, {\"marker\": {\"size\": [], \"sizemode\": \"area\", \"sizeref\": 5}, \"mode\": \"markers\", \"name\": \"B6\", \"text\": [], \"x\": [], \"y\": [], \"type\": \"scatter\"}, {\"marker\": {\"size\": [727.0, 666.0], \"sizemode\": \"area\", \"sizeref\": 5}, \"mode\": \"markers\", \"name\": \"WN\", \"text\": [\"SDF\", \"JAN\"], \"x\": [105.0, 86.0], \"y\": [288.0, 194.0], \"type\": \"scatter\"}], \"name\": \"13\"}, {\"data\": [{\"marker\": {\"size\": [920.0, 1217.0, 813.0], \"sizemode\": \"area\", \"sizeref\": 5}, \"mode\": \"markers\", \"name\": \"AA\", \"text\": [\"DCA\", \"BWI\", \"DFW\"], \"x\": [135.0, 187.0, 117.0], \"y\": [299.0, 249.0, 214.0], \"type\": \"scatter\"}, {\"marker\": {\"size\": [405.0, 963.0, 1979.0, 440.0], \"sizemode\": \"area\", \"sizeref\": 5}, \"mode\": \"markers\", \"name\": \"NW\", \"text\": [\"DCA\", \"MEM\", \"DTW\", \"STL\"], \"x\": [77.0, 120.0, 270.0, 62.0], \"y\": [224.0, 207.0, 198.0, 193.0], \"type\": \"scatter\"}, {\"marker\": {\"size\": [860.0, 297.0], \"sizemode\": \"area\", \"sizeref\": 5}, \"mode\": \"markers\", \"name\": \"FL\", \"text\": [\"MKE\", \"MSP\"], \"x\": [92.0, 52.0], \"y\": [228.0, 207.0], \"type\": \"scatter\"}, {\"marker\": {\"size\": [109.0, 177.0, 408.0, 612.0, 213.0, 227.0], \"sizemode\": \"area\", \"sizeref\": 5}, \"mode\": \"markers\", \"name\": \"MQ\", \"text\": [\"MSN\", \"IND\", \"DFW\", \"RDU\", \"CWA\", \"DCA\"], \"x\": [35.0, 44.0, 56.0, 94.0, 49.0, 53.0], \"y\": [277.0, 253.0, 211.0, 210.0, 191.0, 185.0], \"type\": \"scatter\"}, {\"marker\": {\"size\": [189.0, 423.0, 128.0, 128.0, 381.0, 296.0], \"sizemode\": \"area\", \"sizeref\": 5}, \"mode\": \"markers\", \"name\": \"9E\", \"text\": [\"JAN\", \"MEM\", \"DTW\", \"FWA\", \"IND\", \"DTW\"], \"x\": [44.0, 71.0, 66.0, 28.0, 71.0, 46.0], \"y\": [318.0, 272.0, 246.0, 232.0, 228.0, 203.0], \"type\": \"scatter\"}, {\"marker\": {\"size\": [1208.0, 745.0, 1222.0], \"sizemode\": \"area\", \"sizeref\": 5}, \"mode\": \"markers\", \"name\": \"CO\", \"text\": [\"IAH\", \"EWR\", \"IAH\"], \"x\": [131.0, 132.0, 170.0], \"y\": [243.0, 236.0, 189.0], \"type\": \"scatter\"}, {\"marker\": {\"size\": [423.0, 421.0, 589.0], \"sizemode\": \"area\", \"sizeref\": 5}, \"mode\": \"markers\", \"name\": \"OO\", \"text\": [\"LNK\", \"PSP\", \"ATL\"], \"x\": [70.0, 64.0, 92.0], \"y\": [275.0, 214.0, 188.0], \"type\": \"scatter\"}, {\"marker\": {\"size\": [606.0, 445.0, 761.0, 356.0, 227.0, 594.0, 547.0, 425.0], \"sizemode\": \"area\", \"sizeref\": 5}, \"mode\": \"markers\", \"name\": \"DL\", \"text\": [\"ORD\", \"SRQ\", \"LGA\", \"ATL\", \"CLT\", \"ATL\", \"ATL\", \"ATL\"], \"x\": [93.0, 80.0, 122.0, 60.0, 49.0, 81.0, 75.0, 75.0], \"y\": [720.0, 611.0, 287.0, 279.0, 247.0, 236.0, 204.0, 189.0], \"type\": \"scatter\"}, {\"marker\": {\"size\": [978.0], \"sizemode\": \"area\", \"sizeref\": 5}, \"mode\": \"markers\", \"name\": \"AS\", \"text\": [\"SNA\"], \"x\": [166.0], \"y\": [323.0], \"type\": \"scatter\"}, {\"marker\": {\"size\": [338.0], \"sizemode\": \"area\", \"sizeref\": 5}, \"mode\": \"markers\", \"name\": \"US\", \"text\": [\"SNA\"], \"x\": [55.0], \"y\": [223.0], \"type\": \"scatter\"}, {\"marker\": {\"size\": [472.0, 2419.0], \"sizemode\": \"area\", \"sizeref\": 5}, \"mode\": \"markers\", \"name\": \"UA\", \"text\": [\"OMA\", \"SFO\"], \"x\": [77.0, 257.0], \"y\": [333.0, 188.0], \"type\": \"scatter\"}, {\"marker\": {\"size\": [548.0, 1417.0, 399.0], \"sizemode\": \"area\", \"sizeref\": 5}, \"mode\": \"markers\", \"name\": \"OH\", \"text\": [\"BDL\", \"IAH\", \"DCA\"], \"x\": [107.0, 175.0, 70.0], \"y\": [237.0, 226.0, 199.0], \"type\": \"scatter\"}, {\"marker\": {\"size\": [469.0, 878.0, 802.0, 594.0, 446.0, 725.0, 745.0, 487.0, 427.0, 1190.0, 192.0, 984.0], \"sizemode\": \"area\", \"sizeref\": 5}, \"mode\": \"markers\", \"name\": \"XE\", \"text\": [\"MEM\", \"CAE\", \"IAH\", \"GSP\", \"GSO\", \"EWR\", \"ATL\", \"EWR\", \"MOB\", \"IAH\", \"SHV\", \"MKE\"], \"x\": [84.0, 141.0, 98.0, 85.0, 67.0, 137.0, 98.0, 98.0, 75.0, 133.0, 46.0, 162.0], \"y\": [502.0, 370.0, 364.0, 308.0, 247.0, 236.0, 224.0, 217.0, 209.0, 201.0, 194.0, 188.0], \"type\": \"scatter\"}, {\"marker\": {\"size\": [], \"sizemode\": \"area\", \"sizeref\": 5}, \"mode\": \"markers\", \"name\": \"F9\", \"text\": [], \"x\": [], \"y\": [], \"type\": \"scatter\"}, {\"marker\": {\"size\": [], \"sizemode\": \"area\", \"sizeref\": 5}, \"mode\": \"markers\", \"name\": \"YV\", \"text\": [], \"x\": [], \"y\": [], \"type\": \"scatter\"}, {\"marker\": {\"size\": [363.0, 106.0, 143.0, 516.0, 331.0, 303.0, 191.0, 247.0, 215.0, 164.0, 449.0, 377.0, 223.0, 106.0, 761.0, 377.0, 453.0, 508.0, 449.0, 164.0, 508.0, 446.0], \"sizemode\": \"area\", \"sizeref\": 5}, \"mode\": \"markers\", \"name\": \"EV\", \"text\": [\"ATL\", \"CHA\", \"ATL\", \"ORF\", \"ATL\", \"LEX\", \"CAE\", \"PFN\", \"SAV\", \"AVL\", \"BTR\", \"ILM\", \"TLH\", \"ATL\", \"OKC\", \"ILM\", \"LIT\", \"FWA\", \"ATL\", \"AVL\", \"PHF\", \"CMH\"], \"x\": [53.0, 27.0, 29.0, 101.0, 47.0, 56.0, 59.0, 45.0, 61.0, 37.0, 68.0, 69.0, 49.0, 29.0, 102.0, 88.0, 65.0, 89.0, 74.0, 42.0, 93.0, 84.0], \"y\": [278.0, 275.0, 245.0, 226.0, 225.0, 222.0, 210.0, 209.0, 206.0, 202.0, 201.0, 200.0, 200.0, 195.0, 188.0, 188.0, 187.0, 186.0, 186.0, 185.0, 185.0, 183.0], \"type\": \"scatter\"}, {\"marker\": {\"size\": [], \"sizemode\": \"area\", \"sizeref\": 5}, \"mode\": \"markers\", \"name\": \"HA\", \"text\": [], \"x\": [], \"y\": [], \"type\": \"scatter\"}, {\"marker\": {\"size\": [], \"sizemode\": \"area\", \"sizeref\": 5}, \"mode\": \"markers\", \"name\": \"B6\", \"text\": [], \"x\": [], \"y\": [], \"type\": \"scatter\"}, {\"marker\": {\"size\": [611.0, 1040.0, 1844.0, 668.0, 303.0, 162.0, 251.0], \"sizemode\": \"area\", \"sizeref\": 5}, \"mode\": \"markers\", \"name\": \"WN\", \"text\": [\"MDW\", \"SAT\", \"MDW\", \"MDW\", \"HOU\", \"MDW\", \"MDW\"], \"x\": [81.0, 125.0, 267.0, 86.0, 42.0, 32.0, 53.0], \"y\": [253.0, 213.0, 212.0, 200.0, 198.0, 188.0, 183.0], \"type\": \"scatter\"}], \"name\": \"14\"}, {\"data\": [{\"marker\": {\"size\": [1721.0, 1745.0, 1197.0, 1471.0, 920.0, 1593.0, 920.0], \"sizemode\": \"area\", \"sizeref\": 5}, \"mode\": \"markers\", \"name\": \"AA\", \"text\": [\"SEA\", \"LAX\", \"ORD\", \"BDL\", \"DCA\", \"LAX\", \"MIA\"], \"x\": [177.0, 210.0, 151.0, 243.0, 139.0, 189.0, 118.0], \"y\": [264.0, 256.0, 228.0, 227.0, 214.0, 213.0, 196.0], \"type\": \"scatter\"}, {\"marker\": {\"size\": [228.0], \"sizemode\": \"area\", \"sizeref\": 5}, \"mode\": \"markers\", \"name\": \"NW\", \"text\": [\"MSP\"], \"x\": [35.0], \"y\": [210.0], \"type\": \"scatter\"}, {\"marker\": {\"size\": [692.0], \"sizemode\": \"area\", \"sizeref\": 5}, \"mode\": \"markers\", \"name\": \"FL\", \"text\": [\"MCI\"], \"x\": [96.0], \"y\": [361.0], \"type\": \"scatter\"}, {\"marker\": {\"size\": [482.0, 473.0, 247.0], \"sizemode\": \"area\", \"sizeref\": 5}, \"mode\": \"markers\", \"name\": \"MQ\", \"text\": [\"BRO\", \"BUF\", \"HOU\"], \"x\": [74.0, 90.0, 40.0], \"y\": [312.0, 290.0, 193.0], \"type\": \"scatter\"}, {\"marker\": {\"size\": [355.0], \"sizemode\": \"area\", \"sizeref\": 5}, \"mode\": \"markers\", \"name\": \"9E\", \"text\": [\"PNS\"], \"x\": [65.0], \"y\": [395.0], \"type\": \"scatter\"}, {\"marker\": {\"size\": [643.0], \"sizemode\": \"area\", \"sizeref\": 5}, \"mode\": \"markers\", \"name\": \"CO\", \"text\": [\"MCI\"], \"x\": [107.0], \"y\": [298.0], \"type\": \"scatter\"}, {\"marker\": {\"size\": [86.0], \"sizemode\": \"area\", \"sizeref\": 5}, \"mode\": \"markers\", \"name\": \"OO\", \"text\": [\"SMF\"], \"x\": [29.0], \"y\": [286.0], \"type\": \"scatter\"}, {\"marker\": {\"size\": [546.0, 692.0, 906.0, 732.0], \"sizemode\": \"area\", \"sizeref\": 5}, \"mode\": \"markers\", \"name\": \"DL\", \"text\": [\"GEG\", \"MCI\", \"MSP\", \"DFW\"], \"x\": [72.0, 96.0, 107.0, 99.0], \"y\": [674.0, 535.0, 460.0, 323.0], \"type\": \"scatter\"}, {\"marker\": {\"size\": [1216.0], \"sizemode\": \"area\", \"sizeref\": 5}, \"mode\": \"markers\", \"name\": \"AS\", \"text\": [\"TUS\"], \"x\": [172.0], \"y\": [213.0], \"type\": \"scatter\"}, {\"marker\": {\"size\": [1916.0, 468.0, 678.0], \"sizemode\": \"area\", \"sizeref\": 5}, \"mode\": \"markers\", \"name\": \"US\", \"text\": [\"LAS\", \"CLT\", \"PHL\"], \"x\": [220.0, 71.0, 119.0], \"y\": [314.0, 226.0, 191.0], \"type\": \"scatter\"}, {\"marker\": {\"size\": [403.0, 2398.0, 2367.0, 2367.0], \"sizemode\": \"area\", \"sizeref\": 5}, \"mode\": \"markers\", \"name\": \"UA\", \"text\": [\"MCI\", \"SFO\", \"SFO\", \"KOA\"], \"x\": [58.0, 321.0, 304.0, 311.0], \"y\": [416.0, 315.0, 296.0, 265.0], \"type\": \"scatter\"}, {\"marker\": {\"size\": [], \"sizemode\": \"area\", \"sizeref\": 5}, \"mode\": \"markers\", \"name\": \"OH\", \"text\": [], \"x\": [], \"y\": [], \"type\": \"scatter\"}, {\"marker\": {\"size\": [], \"sizemode\": \"area\", \"sizeref\": 5}, \"mode\": \"markers\", \"name\": \"XE\", \"text\": [], \"x\": [], \"y\": [], \"type\": \"scatter\"}, {\"marker\": {\"size\": [], \"sizemode\": \"area\", \"sizeref\": 5}, \"mode\": \"markers\", \"name\": \"F9\", \"text\": [], \"x\": [], \"y\": [], \"type\": \"scatter\"}, {\"marker\": {\"size\": [401.0], \"sizemode\": \"area\", \"sizeref\": 5}, \"mode\": \"markers\", \"name\": \"YV\", \"text\": [\"IAD\"], \"x\": [63.0], \"y\": [246.0], \"type\": \"scatter\"}, {\"marker\": {\"size\": [357.0, 393.0, 164.0], \"sizemode\": \"area\", \"sizeref\": 5}, \"mode\": \"markers\", \"name\": \"EV\", \"text\": [\"ROA\", \"FLL\", \"AVL\"], \"x\": [68.0, 59.0, 36.0], \"y\": [243.0, 202.0, 194.0], \"type\": \"scatter\"}, {\"marker\": {\"size\": [], \"sizemode\": \"area\", \"sizeref\": 5}, \"mode\": \"markers\", \"name\": \"HA\", \"text\": [], \"x\": [], \"y\": [], \"type\": \"scatter\"}, {\"marker\": {\"size\": [728.0, 288.0], \"sizemode\": \"area\", \"sizeref\": 5}, \"mode\": \"markers\", \"name\": \"B6\", \"text\": [\"CLT\", \"RIC\"], \"x\": [87.0, 47.0], \"y\": [309.0, 187.0], \"type\": \"scatter\"}, {\"marker\": {\"size\": [], \"sizemode\": \"area\", \"sizeref\": 5}, \"mode\": \"markers\", \"name\": \"WN\", \"text\": [], \"x\": [], \"y\": [], \"type\": \"scatter\"}], \"name\": \"15\"}, {\"data\": [{\"marker\": {\"size\": [1464.0, 1464.0, 1205.0, 1235.0, 1055.0, 432.0, 432.0], \"sizemode\": \"area\", \"sizeref\": 5}, \"mode\": \"markers\", \"name\": \"AA\", \"text\": [\"DFW\", \"SFO\", \"SNA\", \"LAX\", \"LAS\", \"DFW\", \"MEM\"], \"x\": [196.0, 174.0, 149.0, 156.0, 127.0, 58.0, 64.0], \"y\": [389.0, 370.0, 342.0, 266.0, 218.0, 202.0, 191.0], \"type\": \"scatter\"}, {\"marker\": {\"size\": [1536.0, 1536.0], \"sizemode\": \"area\", \"sizeref\": 5}, \"mode\": \"markers\", \"name\": \"NW\", \"text\": [\"MSP\", \"LAX\"], \"x\": [209.0, 180.0], \"y\": [214.0, 200.0], \"type\": \"scatter\"}, {\"marker\": {\"size\": [483.0], \"sizemode\": \"area\", \"sizeref\": 5}, \"mode\": \"markers\", \"name\": \"FL\", \"text\": [\"STL\"], \"x\": [69.0], \"y\": [601.0], \"type\": \"scatter\"}, {\"marker\": {\"size\": [438.0, 316.0, 399.0, 482.0, 522.0, 364.0], \"sizemode\": \"area\", \"sizeref\": 5}, \"mode\": \"markers\", \"name\": \"MQ\", \"text\": [\"SGF\", \"CLE\", \"DCA\", \"BRO\", \"XNA\", \"SGF\"], \"x\": [66.0, 63.0, 56.0, 66.0, 68.0, 58.0], \"y\": [767.0, 406.0, 365.0, 303.0, 283.0, 185.0], \"type\": \"scatter\"}, {\"marker\": {\"size\": [342.0, 271.0], \"sizemode\": \"area\", \"sizeref\": 5}, \"mode\": \"markers\", \"name\": \"9E\", \"text\": [\"TYS\", \"MEM\"], \"x\": [60.0, 42.0], \"y\": [305.0, 191.0], \"type\": \"scatter\"}, {\"marker\": {\"size\": [1825.0, 2454.0], \"sizemode\": \"area\", \"sizeref\": 5}, \"mode\": \"markers\", \"name\": \"CO\", \"text\": [\"LAS\", \"EWR\"], \"x\": [198.0, 319.0], \"y\": [616.0, 209.0], \"type\": \"scatter\"}, {\"marker\": {\"size\": [631.0, 522.0], \"sizemode\": \"area\", \"sizeref\": 5}, \"mode\": \"markers\", \"name\": \"OO\", \"text\": [\"AVP\", \"SFO\"], \"x\": [115.0, 67.0], \"y\": [428.0, 215.0], \"type\": \"scatter\"}, {\"marker\": {\"size\": [1947.0, 749.0], \"sizemode\": \"area\", \"sizeref\": 5}, \"mode\": \"markers\", \"name\": \"DL\", \"text\": [\"LAX\", \"ROC\"], \"x\": [224.0, 103.0], \"y\": [278.0, 255.0], \"type\": \"scatter\"}, {\"marker\": {\"size\": [183.0], \"sizemode\": \"area\", \"sizeref\": 5}, \"mode\": \"markers\", \"name\": \"AS\", \"text\": [\"OTZ\"], \"x\": [30.0], \"y\": [216.0], \"type\": \"scatter\"}, {\"marker\": {\"size\": [1020.0], \"sizemode\": \"area\", \"sizeref\": 5}, \"mode\": \"markers\", \"name\": \"US\", \"text\": [\"GEG\"], \"x\": [128.0], \"y\": [236.0], \"type\": \"scatter\"}, {\"marker\": {\"size\": [], \"sizemode\": \"area\", \"sizeref\": 5}, \"mode\": \"markers\", \"name\": \"UA\", \"text\": [], \"x\": [], \"y\": [], \"type\": \"scatter\"}, {\"marker\": {\"size\": [], \"sizemode\": \"area\", \"sizeref\": 5}, \"mode\": \"markers\", \"name\": \"OH\", \"text\": [], \"x\": [], \"y\": [], \"type\": \"scatter\"}, {\"marker\": {\"size\": [725.0, 351.0, 929.0], \"sizemode\": \"area\", \"sizeref\": 5}, \"mode\": \"markers\", \"name\": \"XE\", \"text\": [\"MKE\", \"JAN\", \"DAY\"], \"x\": [92.0, 54.0, 143.0], \"y\": [257.0, 228.0, 220.0], \"type\": \"scatter\"}, {\"marker\": {\"size\": [1460.0], \"sizemode\": \"area\", \"sizeref\": 5}, \"mode\": \"markers\", \"name\": \"F9\", \"text\": [\"PHX\"], \"x\": [163.0], \"y\": [212.0], \"type\": \"scatter\"}, {\"marker\": {\"size\": [693.0], \"sizemode\": \"area\", \"sizeref\": 5}, \"mode\": \"markers\", \"name\": \"YV\", \"text\": [\"OKC\"], \"x\": [96.0], \"y\": [333.0], \"type\": \"scatter\"}, {\"marker\": {\"size\": [152.0], \"sizemode\": \"area\", \"sizeref\": 5}, \"mode\": \"markers\", \"name\": \"EV\", \"text\": [\"TYS\"], \"x\": [32.0], \"y\": [187.0], \"type\": \"scatter\"}, {\"marker\": {\"size\": [], \"sizemode\": \"area\", \"sizeref\": 5}, \"mode\": \"markers\", \"name\": \"HA\", \"text\": [], \"x\": [], \"y\": [], \"type\": \"scatter\"}, {\"marker\": {\"size\": [], \"sizemode\": \"area\", \"sizeref\": 5}, \"mode\": \"markers\", \"name\": \"B6\", \"text\": [], \"x\": [], \"y\": [], \"type\": \"scatter\"}, {\"marker\": {\"size\": [], \"sizemode\": \"area\", \"sizeref\": 5}, \"mode\": \"markers\", \"name\": \"WN\", \"text\": [], \"x\": [], \"y\": [], \"type\": \"scatter\"}], \"name\": \"16\"}, {\"data\": [{\"marker\": {\"size\": [1471.0, 2586.0], \"sizemode\": \"area\", \"sizeref\": 5}, \"mode\": \"markers\", \"name\": \"AA\", \"text\": [\"BDL\", \"SFO\"], \"x\": [208.0, 280.0], \"y\": [322.0, 318.0], \"type\": \"scatter\"}, {\"marker\": {\"size\": [223.0, 1536.0], \"sizemode\": \"area\", \"sizeref\": 5}, \"mode\": \"markers\", \"name\": \"NW\", \"text\": [\"FAR\", \"LAX\"], \"x\": [36.0, 191.0], \"y\": [272.0, 205.0], \"type\": \"scatter\"}, {\"marker\": {\"size\": [], \"sizemode\": \"area\", \"sizeref\": 5}, \"mode\": \"markers\", \"name\": \"FL\", \"text\": [], \"x\": [], \"y\": [], \"type\": \"scatter\"}, {\"marker\": {\"size\": [285.0], \"sizemode\": \"area\", \"sizeref\": 5}, \"mode\": \"markers\", \"name\": \"MQ\", \"text\": [\"AEX\"], \"x\": [52.0], \"y\": [357.0], \"type\": \"scatter\"}, {\"marker\": {\"size\": [], \"sizemode\": \"area\", \"sizeref\": 5}, \"mode\": \"markers\", \"name\": \"9E\", \"text\": [], \"x\": [], \"y\": [], \"type\": \"scatter\"}, {\"marker\": {\"size\": [938.0, 305.0, 861.0], \"sizemode\": \"area\", \"sizeref\": 5}, \"mode\": \"markers\", \"name\": \"CO\", \"text\": [\"EWR\", \"IAH\", \"IAH\"], \"x\": [137.0, 50.0, 122.0], \"y\": [325.0, 205.0, 184.0], \"type\": \"scatter\"}, {\"marker\": {\"size\": [], \"sizemode\": \"area\", \"sizeref\": 5}, \"mode\": \"markers\", \"name\": \"OO\", \"text\": [], \"x\": [], \"y\": [], \"type\": \"scatter\"}, {\"marker\": {\"size\": [2586.0, 859.0, 302.0], \"sizemode\": \"area\", \"sizeref\": 5}, \"mode\": \"markers\", \"name\": \"DL\", \"text\": [\"SFO\", \"ATL\", \"MOB\"], \"x\": [279.0, 113.0, 45.0], \"y\": [214.0, 197.0, 186.0], \"type\": \"scatter\"}, {\"marker\": {\"size\": [866.0, 2562.0, 1216.0, 909.0, 909.0], \"sizemode\": \"area\", \"sizeref\": 5}, \"mode\": \"markers\", \"name\": \"AS\", \"text\": [\"LAS\", \"OGG\", \"SEA\", \"SEA\", \"JNU\"], \"x\": [137.0, 265.0, 147.0, 126.0, 131.0], \"y\": [392.0, 328.0, 270.0, 209.0, 189.0], \"type\": \"scatter\"}, {\"marker\": {\"size\": [481.0, 647.0, 1576.0], \"sizemode\": \"area\", \"sizeref\": 5}, \"mode\": \"markers\", \"name\": \"US\", \"text\": [\"ABE\", \"SMF\", \"SJU\"], \"x\": [75.0, 84.0, 215.0], \"y\": [290.0, 217.0, 188.0], \"type\": \"scatter\"}, {\"marker\": {\"size\": [2419.0, 2457.0], \"sizemode\": \"area\", \"sizeref\": 5}, \"mode\": \"markers\", \"name\": \"UA\", \"text\": [\"IAD\", \"BWI\"], \"x\": [332.0, 332.0], \"y\": [249.0, 237.0], \"type\": \"scatter\"}, {\"marker\": {\"size\": [], \"sizemode\": \"area\", \"sizeref\": 5}, \"mode\": \"markers\", \"name\": \"OH\", \"text\": [], \"x\": [], \"y\": [], \"type\": \"scatter\"}, {\"marker\": {\"size\": [725.0], \"sizemode\": \"area\", \"sizeref\": 5}, \"mode\": \"markers\", \"name\": \"XE\", \"text\": [\"MKE\"], \"x\": [89.0], \"y\": [290.0], \"type\": \"scatter\"}, {\"marker\": {\"size\": [], \"sizemode\": \"area\", \"sizeref\": 5}, \"mode\": \"markers\", \"name\": \"F9\", \"text\": [], \"x\": [], \"y\": [], \"type\": \"scatter\"}, {\"marker\": {\"size\": [], \"sizemode\": \"area\", \"sizeref\": 5}, \"mode\": \"markers\", \"name\": \"YV\", \"text\": [], \"x\": [], \"y\": [], \"type\": \"scatter\"}, {\"marker\": {\"size\": [508.0, 302.0, 457.0], \"sizemode\": \"area\", \"sizeref\": 5}, \"mode\": \"markers\", \"name\": \"EV\", \"text\": [\"FWA\", \"MOB\", \"CHO\"], \"x\": [78.0, 45.0, 71.0], \"y\": [300.0, 214.0, 208.0], \"type\": \"scatter\"}, {\"marker\": {\"size\": [], \"sizemode\": \"area\", \"sizeref\": 5}, \"mode\": \"markers\", \"name\": \"HA\", \"text\": [], \"x\": [], \"y\": [], \"type\": \"scatter\"}, {\"marker\": {\"size\": [2569.0, 209.0, 228.0], \"sizemode\": \"area\", \"sizeref\": 5}, \"mode\": \"markers\", \"name\": \"B6\", \"text\": [\"SJC\", \"JFK\", \"JFK\"], \"x\": [295.0, 48.0, 47.0], \"y\": [405.0, 228.0, 186.0], \"type\": \"scatter\"}, {\"marker\": {\"size\": [1524.0, 178.0], \"sizemode\": \"area\", \"sizeref\": 5}, \"mode\": \"markers\", \"name\": \"WN\", \"text\": [\"MKE\", \"FLL\"], \"x\": [208.0, 30.0], \"y\": [383.0, 189.0], \"type\": \"scatter\"}], \"name\": \"17\"}, {\"data\": [{\"marker\": {\"size\": [2398.0, 1372.0, 1242.0, 946.0], \"sizemode\": \"area\", \"sizeref\": 5}, \"mode\": \"markers\", \"name\": \"AA\", \"text\": [\"SFO\", \"DFW\", \"LAX\", \"BWI\"], \"x\": [357.0, 166.0, 148.0, 185.0], \"y\": [487.0, 235.0, 224.0, 213.0], \"type\": \"scatter\"}, {\"marker\": {\"size\": [334.0], \"sizemode\": \"area\", \"sizeref\": 5}, \"mode\": \"markers\", \"name\": \"NW\", \"text\": [\"ORD\"], \"x\": [54.0], \"y\": [382.0], \"type\": \"scatter\"}, {\"marker\": {\"size\": [1747.0, 1524.0, 895.0, 925.0, 906.0], \"sizemode\": \"area\", \"sizeref\": 5}, \"mode\": \"markers\", \"name\": \"FL\", \"text\": [\"LAS\", \"LAS\", \"MKE\", \"FLL\", \"ATL\"], \"x\": [209.0, 190.0, 121.0, 113.0, 116.0], \"y\": [1088.0, 678.0, 276.0, 211.0, 208.0], \"type\": \"scatter\"}, {\"marker\": {\"size\": [304.0, 174.0, 624.0, 1021.0, 209.0], \"sizemode\": \"area\", \"sizeref\": 5}, \"mode\": \"markers\", \"name\": \"MQ\", \"text\": [\"LIT\", \"ORD\", \"DSM\", \"IND\", \"FAT\"], \"x\": [57.0, 31.0, 104.0, 153.0, 49.0], \"y\": [311.0, 278.0, 253.0, 232.0, 201.0], \"type\": \"scatter\"}, {\"marker\": {\"size\": [652.0, 258.0, 231.0], \"sizemode\": \"area\", \"sizeref\": 5}, \"mode\": \"markers\", \"name\": \"9E\", \"text\": [\"MEM\", \"MEM\", \"DTW\"], \"x\": [82.0, 48.0, 45.0], \"y\": [222.0, 217.0, 186.0], \"type\": \"scatter\"}, {\"marker\": {\"size\": [1609.0, 745.0], \"sizemode\": \"area\", \"sizeref\": 5}, \"mode\": \"markers\", \"name\": \"CO\", \"text\": [\"SMF\", \"EWR\"], \"x\": [185.0, 120.0], \"y\": [638.0, 238.0], \"type\": \"scatter\"}, {\"marker\": {\"size\": [412.0, 438.0, 313.0, 129.0, 313.0, 606.0, 925.0], \"sizemode\": \"area\", \"sizeref\": 5}, \"mode\": \"markers\", \"name\": \"OO\", \"text\": [\"SFO\", \"ORD\", \"GCC\", \"PDX\", \"DEN\", \"ORD\", \"ORD\"], \"x\": [110.0, 67.0, 62.0, 39.0, 68.0, 93.0, 127.0], \"y\": [221.0, 216.0, 216.0, 216.0, 204.0, 192.0, 186.0], \"type\": \"scatter\"}, {\"marker\": {\"size\": [665.0, 547.0, 547.0, 547.0, 581.0, 761.0, 756.0], \"sizemode\": \"area\", \"sizeref\": 5}, \"mode\": \"markers\", \"name\": \"DL\", \"text\": [\"PHL\", \"DCA\", \"ATL\", \"DCA\", \"ATL\", \"ATL\", \"MCO\"], \"x\": [104.0, 87.0, 70.0, 93.0, 88.0, 92.0, 94.0], \"y\": [479.0, 390.0, 350.0, 189.0, 189.0, 186.0, 186.0], \"type\": \"scatter\"}, {\"marker\": {\"size\": [954.0], \"sizemode\": \"area\", \"sizeref\": 5}, \"mode\": \"markers\", \"name\": \"AS\", \"text\": [\"LAX\"], \"x\": [141.0], \"y\": [226.0], \"type\": \"scatter\"}, {\"marker\": {\"size\": [1013.0, 329.0], \"sizemode\": \"area\", \"sizeref\": 5}, \"mode\": \"markers\", \"name\": \"US\", \"text\": [\"MIA\", \"CLT\"], \"x\": [126.0, 57.0], \"y\": [246.0, 206.0], \"type\": \"scatter\"}, {\"marker\": {\"size\": [1012.0, 1726.0, 2288.0, 1721.0, 589.0, 967.0], \"sizemode\": \"area\", \"sizeref\": 5}, \"mode\": \"markers\", \"name\": \"UA\", \"text\": [\"ORD\", \"SNA\", \"IAD\", \"SEA\", \"ORD\", \"SFO\"], \"x\": [130.0, 214.0, 285.0, 206.0, 86.0, 117.0], \"y\": [314.0, 259.0, 239.0, 218.0, 203.0, 190.0], \"type\": \"scatter\"}, {\"marker\": {\"size\": [812.0, 411.0], \"sizemode\": \"area\", \"sizeref\": 5}, \"mode\": \"markers\", \"name\": \"OH\", \"text\": [\"DFW\", \"DCA\"], \"x\": [88.0, 71.0], \"y\": [583.0, 301.0], \"type\": \"scatter\"}, {\"marker\": {\"size\": [], \"sizemode\": \"area\", \"sizeref\": 5}, \"mode\": \"markers\", \"name\": \"XE\", \"text\": [], \"x\": [], \"y\": [], \"type\": \"scatter\"}, {\"marker\": {\"size\": [], \"sizemode\": \"area\", \"sizeref\": 5}, \"mode\": \"markers\", \"name\": \"F9\", \"text\": [], \"x\": [], \"y\": [], \"type\": \"scatter\"}, {\"marker\": {\"size\": [462.0, 344.0, 130.0], \"sizemode\": \"area\", \"sizeref\": 5}, \"mode\": \"markers\", \"name\": \"YV\", \"text\": [\"FSD\", \"ORD\", \"RDU\"], \"x\": [74.0, 57.0, 40.0], \"y\": [249.0, 212.0, 184.0], \"type\": \"scatter\"}, {\"marker\": {\"size\": [306.0, 481.0, 143.0, 191.0, 247.0, 247.0, 554.0, 449.0, 449.0, 433.0, 306.0, 554.0, 191.0, 669.0, 152.0, 106.0, 191.0, 528.0, 273.0, 449.0, 147.0, 453.0, 389.0, 321.0, 247.0, 674.0, 303.0, 321.0, 302.0, 453.0, 526.0, 143.0, 191.0, 448.0, 526.0, 147.0, 147.0, 302.0, 317.0, 247.0], \"sizemode\": \"area\", \"sizeref\": 5}, \"mode\": \"markers\", \"name\": \"EV\", \"text\": [\"GSO\", \"RIC\", \"ATL\", \"ATL\", \"PFN\", \"ATL\", \"CLE\", \"BTR\", \"BTR\", \"ATL\", \"GSO\", \"ATL\", \"CAE\", \"MKE\", \"TYS\", \"ATL\", \"ATL\", \"CAK\", \"ATL\", \"ATL\", \"MGM\", \"LIT\", \"LYH\", \"SDF\", \"ATL\", \"ATL\", \"LEX\", \"ATL\", \"MOB\", \"ATL\", \"PIT\", \"ATL\", \"CAE\", \"MLU\", \"ATL\", \"ATL\", \"MGM\", \"MOB\", \"MYR\", \"PFN\"], \"x\": [54.0, 90.0, 44.0, 32.0, 48.0, 45.0, 102.0, 61.0, 63.0, 60.0, 67.0, 73.0, 53.0, 102.0, 43.0, 23.0, 37.0, 99.0, 39.0, 71.0, 32.0, 66.0, 78.0, 81.0, 46.0, 104.0, 63.0, 49.0, 52.0, 71.0, 94.0, 31.0, 56.0, 63.0, 66.0, 30.0, 31.0, 44.0, 63.0, 60.0], \"y\": [351.0, 335.0, 335.0, 332.0, 322.0, 314.0, 307.0, 298.0, 294.0, 286.0, 285.0, 283.0, 269.0, 268.0, 267.0, 264.0, 251.0, 245.0, 244.0, 238.0, 233.0, 232.0, 231.0, 229.0, 226.0, 226.0, 222.0, 216.0, 205.0, 204.0, 202.0, 200.0, 199.0, 197.0, 194.0, 191.0, 191.0, 189.0, 185.0, 183.0], \"type\": \"scatter\"}, {\"marker\": {\"size\": [102.0], \"sizemode\": \"area\", \"sizeref\": 5}, \"mode\": \"markers\", \"name\": \"HA\", \"text\": [\"LIH\"], \"x\": [23.0], \"y\": [212.0], \"type\": \"scatter\"}, {\"marker\": {\"size\": [846.0, 1576.0, 1121.0, 228.0, 324.0], \"sizemode\": \"area\", \"sizeref\": 5}, \"mode\": \"markers\", \"name\": \"B6\", \"text\": [\"LGB\", \"BQN\", \"MCO\", \"IAD\", \"LGB\"], \"x\": [123.0, 220.0, 133.0, 48.0, 53.0], \"y\": [262.0, 258.0, 225.0, 198.0, 189.0], \"type\": \"scatter\"}, {\"marker\": {\"size\": [328.0, 377.0, 580.0, 1137.0, 737.0, 588.0], \"sizemode\": \"area\", \"sizeref\": 5}, \"mode\": \"markers\", \"name\": \"WN\", \"text\": [\"BWI\", \"BWI\", \"ABQ\", \"PVD\", \"BWI\", \"BNA\"], \"x\": [47.0, 57.0, 77.0, 202.0, 107.0, 86.0], \"y\": [341.0, 286.0, 225.0, 224.0, 219.0, 206.0], \"type\": \"scatter\"}], \"name\": \"18\"}, {\"data\": [{\"marker\": {\"size\": [1972.0, 597.0, 2175.0, 1464.0, 193.0, 193.0], \"sizemode\": \"area\", \"sizeref\": 5}, \"mode\": \"markers\", \"name\": \"AA\", \"text\": [\"PHX\", \"BHM\", \"MIA\", \"DFW\", \"MCO\", \"MIA\"], \"x\": [219.0, 94.0, 299.0, 189.0, 38.0, 37.0], \"y\": [1278.0, 1271.0, 242.0, 240.0, 188.0, 184.0], \"type\": \"scatter\"}, {\"marker\": {\"size\": [2518.0], \"sizemode\": \"area\", \"sizeref\": 5}, \"mode\": \"markers\", \"name\": \"NW\", \"text\": [\"MSP\"], \"x\": [333.0], \"y\": [193.0], \"type\": \"scatter\"}, {\"marker\": {\"size\": [], \"sizemode\": \"area\", \"sizeref\": 5}, \"mode\": \"markers\", \"name\": \"FL\", \"text\": [], \"x\": [], \"y\": [], \"type\": \"scatter\"}, {\"marker\": {\"size\": [], \"sizemode\": \"area\", \"sizeref\": 5}, \"mode\": \"markers\", \"name\": \"MQ\", \"text\": [], \"x\": [], \"y\": [], \"type\": \"scatter\"}, {\"marker\": {\"size\": [120.0], \"sizemode\": \"area\", \"sizeref\": 5}, \"mode\": \"markers\", \"name\": \"9E\", \"text\": [\"DTW\"], \"x\": [33.0], \"y\": [188.0], \"type\": \"scatter\"}, {\"marker\": {\"size\": [1222.0, 1086.0, 861.0, 927.0, 1303.0, 1024.0, 2454.0, 1449.0, 1449.0, 965.0], \"sizemode\": \"area\", \"sizeref\": 5}, \"mode\": \"markers\", \"name\": \"CO\", \"text\": [\"LAS\", \"EWR\", \"IAH\", \"CLE\", \"SAN\", \"EWR\", \"EWR\", \"SEA\", \"ANC\", \"IAH\"], \"x\": [148.0, 184.0, 123.0, 136.0, 166.0, 160.0, 312.0, 194.0, 181.0, 113.0], \"y\": [808.0, 261.0, 260.0, 258.0, 223.0, 218.0, 215.0, 212.0, 193.0, 186.0], \"type\": \"scatter\"}, {\"marker\": {\"size\": [911.0, 997.0, 501.0, 554.0, 129.0], \"sizemode\": \"area\", \"sizeref\": 5}, \"mode\": \"markers\", \"name\": \"OO\", \"text\": [\"COS\", \"EUG\", \"FAT\", \"CLE\", \"SEA\"], \"x\": [128.0, 117.0, 77.0, 89.0, 35.0], \"y\": [584.0, 513.0, 298.0, 234.0, 200.0], \"type\": \"scatter\"}, {\"marker\": {\"size\": [879.0, 422.0, 515.0, 366.0, 1887.0], \"sizemode\": \"area\", \"sizeref\": 5}, \"mode\": \"markers\", \"name\": \"DL\", \"text\": [\"CVG\", \"RNO\", \"RSW\", \"DAB\", \"TPA\"], \"x\": [133.0, 132.0, 89.0, 59.0, 264.0], \"y\": [413.0, 263.0, 218.0, 212.0, 187.0], \"type\": \"scatter\"}, {\"marker\": {\"size\": [], \"sizemode\": \"area\", \"sizeref\": 5}, \"mode\": \"markers\", \"name\": \"AS\", \"text\": [], \"x\": [], \"y\": [], \"type\": \"scatter\"}, {\"marker\": {\"size\": [], \"sizemode\": \"area\", \"sizeref\": 5}, \"mode\": \"markers\", \"name\": \"US\", \"text\": [], \"x\": [], \"y\": [], \"type\": \"scatter\"}, {\"marker\": {\"size\": [2556.0, 1721.0], \"sizemode\": \"area\", \"sizeref\": 5}, \"mode\": \"markers\", \"name\": \"UA\", \"text\": [\"LAX\", \"ORD\"], \"x\": [334.0, 250.0], \"y\": [304.0, 203.0], \"type\": \"scatter\"}, {\"marker\": {\"size\": [651.0, 306.0, 95.0], \"sizemode\": \"area\", \"sizeref\": 5}, \"mode\": \"markers\", \"name\": \"OH\", \"text\": [\"DTW\", \"GSO\", \"CLE\"], \"x\": [95.0, 61.0, 27.0], \"y\": [286.0, 215.0, 188.0], \"type\": \"scatter\"}, {\"marker\": {\"size\": [1201.0], \"sizemode\": \"area\", \"sizeref\": 5}, \"mode\": \"markers\", \"name\": \"XE\", \"text\": [\"CLE\"], \"x\": [162.0], \"y\": [222.0], \"type\": \"scatter\"}, {\"marker\": {\"size\": [], \"sizemode\": \"area\", \"sizeref\": 5}, \"mode\": \"markers\", \"name\": \"F9\", \"text\": [], \"x\": [], \"y\": [], \"type\": \"scatter\"}, {\"marker\": {\"size\": [163.0, 163.0, 351.0, 577.0, 174.0, 174.0], \"sizemode\": \"area\", \"sizeref\": 5}, \"mode\": \"markers\", \"name\": \"YV\", \"text\": [\"HNL\", \"KOA\", \"DRO\", \"ORD\", \"ORD\", \"GRB\"], \"x\": [28.0, 28.0, 76.0, 78.0, 32.0, 39.0], \"y\": [450.0, 445.0, 273.0, 266.0, 217.0, 212.0], \"type\": \"scatter\"}, {\"marker\": {\"size\": [331.0, 508.0, 164.0], \"sizemode\": \"area\", \"sizeref\": 5}, \"mode\": \"markers\", \"name\": \"EV\", \"text\": [\"FAY\", \"FWA\", \"AVL\"], \"x\": [68.0, 90.0, 39.0], \"y\": [298.0, 276.0, 228.0], \"type\": \"scatter\"}, {\"marker\": {\"size\": [], \"sizemode\": \"area\", \"sizeref\": 5}, \"mode\": \"markers\", \"name\": \"HA\", \"text\": [], \"x\": [], \"y\": [], \"type\": \"scatter\"}, {\"marker\": {\"size\": [2465.0, 1597.0, 2586.0], \"sizemode\": \"area\", \"sizeref\": 5}, \"mode\": \"markers\", \"name\": \"B6\", \"text\": [\"BUR\", \"SJU\", \"SFO\"], \"x\": [294.0, 259.0, 301.0], \"y\": [255.0, 241.0, 198.0], \"type\": \"scatter\"}, {\"marker\": {\"size\": [1910.0, 133.0, 989.0, 267.0], \"sizemode\": \"area\", \"sizeref\": 5}, \"mode\": \"markers\", \"name\": \"WN\", \"text\": [\"PIT\", \"RSW\", \"MCO\", \"PHL\"], \"x\": [248.0, 30.0, 141.0, 65.0], \"y\": [198.0, 192.0, 188.0, 187.0], \"type\": \"scatter\"}], \"name\": \"19\"}, {\"data\": [{\"marker\": {\"size\": [551.0, 1249.0, 1213.0, 1571.0, 2288.0, 719.0, 1045.0, 762.0, 595.0, 1197.0, 1097.0, 861.0, 595.0, 1438.0], \"sizemode\": \"area\", \"sizeref\": 5}, \"mode\": \"markers\", \"name\": \"AA\", \"text\": [\"ELP\", \"SLC\", \"ORF\", \"SJU\", \"LAX\", \"EWR\", \"SJU\", \"DFW\", \"MIA\", \"MIA\", \"MIA\", \"DFW\", \"MIA\", \"SJC\"], \"x\": [77.0, 151.0, 168.0, 206.0, 251.0, 115.0, 142.0, 103.0, 85.0, 175.0, 136.0, 122.0, 90.0, 173.0], \"y\": [575.0, 508.0, 473.0, 456.0, 378.0, 317.0, 296.0, 294.0, 280.0, 259.0, 205.0, 204.0, 202.0, 187.0], \"type\": \"scatter\"}, {\"marker\": {\"size\": [386.0, 991.0, 1127.0], \"sizemode\": \"area\", \"sizeref\": 5}, \"mode\": \"markers\", \"name\": \"NW\", \"text\": [\"BIS\", \"SLC\", \"DTW\"], \"x\": [57.0, 121.0, 150.0], \"y\": [429.0, 283.0, 203.0], \"type\": \"scatter\"}, {\"marker\": {\"size\": [508.0, 828.0, 930.0, 665.0, 738.0, 581.0, 576.0, 634.0, 842.0], \"sizemode\": \"area\", \"sizeref\": 5}, \"mode\": \"markers\", \"name\": \"FL\", \"text\": [\"PHF\", \"IND\", \"RSW\", \"ATL\", \"MKE\", \"ATL\", \"ATL\", \"MKE\", \"BWI\"], \"x\": [79.0, 103.0, 122.0, 92.0, 100.0, 81.0, 81.0, 86.0, 121.0], \"y\": [372.0, 339.0, 331.0, 289.0, 250.0, 211.0, 203.0, 192.0, 184.0], \"type\": \"scatter\"}, {\"marker\": {\"size\": [213.0, 122.0, 399.0, 826.0, 235.0, 650.0, 122.0], \"sizemode\": \"area\", \"sizeref\": 5}, \"mode\": \"markers\", \"name\": \"MQ\", \"text\": [\"DCA\", \"AZO\", \"DCA\", \"RIC\", \"ORD\", \"MIA\", \"AZO\"], \"x\": [48.0, 33.0, 67.0, 142.0, 40.0, 96.0, 29.0], \"y\": [337.0, 327.0, 257.0, 245.0, 223.0, 210.0, 198.0], \"type\": \"scatter\"}, {\"marker\": {\"size\": [545.0, 197.0], \"sizemode\": \"area\", \"sizeref\": 5}, \"mode\": \"markers\", \"name\": \"9E\", \"text\": [\"MSP\", \"FSD\"], \"x\": [75.0, 40.0], \"y\": [219.0, 210.0], \"type\": \"scatter\"}, {\"marker\": {\"size\": [1379.0, 1379.0, 404.0, 1825.0, 1825.0, 1597.0, 927.0, 1086.0, 1400.0], \"sizemode\": \"area\", \"sizeref\": 5}, \"mode\": \"markers\", \"name\": \"CO\", \"text\": [\"IAH\", \"LAX\", \"CLE\", \"PDX\", \"IAH\", \"BOS\", \"CLE\", \"EWR\", \"EWR\"], \"x\": [185.0, 147.0, 69.0, 219.0, 241.0, 209.0, 130.0, 163.0, 196.0], \"y\": [337.0, 322.0, 317.0, 295.0, 293.0, 255.0, 248.0, 246.0, 213.0], \"type\": \"scatter\"}, {\"marker\": {\"size\": [725.0, 690.0, 1195.0, 436.0, 1195.0, 200.0, 235.0], \"sizemode\": \"area\", \"sizeref\": 5}, \"mode\": \"markers\", \"name\": \"OO\", \"text\": [\"EWR\", \"PHL\", \"SLC\", \"MSO\", \"SLC\", \"EKO\", \"DTW\"], \"x\": [108.0, 103.0, 143.0, 64.0, 141.0, 48.0, 49.0], \"y\": [269.0, 266.0, 226.0, 210.0, 199.0, 192.0, 188.0], \"type\": \"scatter\"}, {\"marker\": {\"size\": [445.0], \"sizemode\": \"area\", \"sizeref\": 5}, \"mode\": \"markers\", \"name\": \"DL\", \"text\": [\"SRQ\"], \"x\": [81.0], \"y\": [256.0], \"type\": \"scatter\"}, {\"marker\": {\"size\": [160.0], \"sizemode\": \"area\", \"sizeref\": 5}, \"mode\": \"markers\", \"name\": \"AS\", \"text\": [\"CDV\"], \"x\": [38.0], \"y\": [192.0], \"type\": \"scatter\"}, {\"marker\": {\"size\": [290.0, 742.0, 267.0, 1576.0, 4678.0, 413.0, 1774.0], \"sizemode\": \"area\", \"sizeref\": 5}, \"mode\": \"markers\", \"name\": \"US\", \"text\": [\"PHL\", \"JAX\", \"PIT\", \"SJU\", \"CLT\", \"CLT\", \"CLT\"], \"x\": [51.0, 98.0, 42.0, 226.0, 636.0, 57.0, 244.0], \"y\": [339.0, 292.0, 253.0, 218.0, 198.0, 188.0, 186.0], \"type\": \"scatter\"}, {\"marker\": {\"size\": [1846.0, 910.0, 4184.0, 4184.0, 1062.0, 1452.0, 867.0, 1781.0, 589.0, 849.0, 1745.0], \"sizemode\": \"area\", \"sizeref\": 5}, \"mode\": \"markers\", \"name\": \"UA\", \"text\": [\"ORD\", \"DEN\", \"OGG\", \"ORD\", \"MSY\", \"DEN\", \"ORD\", \"ORD\", \"ORD\", \"ORD\", \"ORD\"], \"x\": [258.0, 132.0, 451.0, 531.0, 147.0, 166.0, 115.0, 244.0, 76.0, 108.0, 241.0], \"y\": [303.0, 274.0, 270.0, 266.0, 252.0, 227.0, 204.0, 197.0, 194.0, 187.0, 186.0], \"type\": \"scatter\"}, {\"marker\": {\"size\": [696.0, 696.0, 445.0, 821.0, 445.0], \"sizemode\": \"area\", \"sizeref\": 5}, \"mode\": \"markers\", \"name\": \"OH\", \"text\": [\"ATL\", \"HOU\", \"SRQ\", \"ATL\", \"ATL\"], \"x\": [103.0, 94.0, 71.0, 131.0, 53.0], \"y\": [215.0, 203.0, 196.0, 195.0, 190.0], \"type\": \"scatter\"}, {\"marker\": {\"size\": [753.0, 622.0, 1157.0, 446.0], \"sizemode\": \"area\", \"sizeref\": 5}, \"mode\": \"markers\", \"name\": \"XE\", \"text\": [\"JAX\", \"MSP\", \"IAH\", \"EWR\"], \"x\": [106.0, 85.0, 146.0, 68.0], \"y\": [385.0, 255.0, 214.0, 185.0], \"type\": \"scatter\"}, {\"marker\": {\"size\": [], \"sizemode\": \"area\", \"sizeref\": 5}, \"mode\": \"markers\", \"name\": \"F9\", \"text\": [], \"x\": [], \"y\": [], \"type\": \"scatter\"}, {\"marker\": {\"size\": [598.0], \"sizemode\": \"area\", \"sizeref\": 5}, \"mode\": \"markers\", \"name\": \"YV\", \"text\": [\"MRY\"], \"x\": [80.0], \"y\": [308.0], \"type\": \"scatter\"}, {\"marker\": {\"size\": [134.0, 152.0], \"sizemode\": \"area\", \"sizeref\": 5}, \"mode\": \"markers\", \"name\": \"EV\", \"text\": [\"ATL\", \"TYS\"], \"x\": [29.0, 33.0], \"y\": [237.0, 215.0], \"type\": \"scatter\"}, {\"marker\": {\"size\": [100.0], \"sizemode\": \"area\", \"sizeref\": 5}, \"mode\": \"markers\", \"name\": \"HA\", \"text\": [\"OGG\"], \"x\": [19.0], \"y\": [227.0], \"type\": \"scatter\"}, {\"marker\": {\"size\": [740.0, 1249.0, 1068.0, 1028.0, 1028.0, 264.0, 264.0, 938.0, 1028.0, 1069.0, 829.0, 944.0, 1074.0, 2381.0, 1053.0, 1069.0, 267.0, 1065.0, 1121.0, 267.0, 938.0, 541.0, 1011.0, 1005.0, 2693.0, 1005.0, 1098.0, 2576.0, 1428.0, 1428.0, 301.0, 301.0], \"sizemode\": \"area\", \"sizeref\": 5}, \"mode\": \"markers\", \"name\": \"B6\", \"text\": [\"ORD\", \"RSW\", \"EWR\", \"PBI\", \"PBI\", \"JFK\", \"ROC\", \"MCO\", \"JFK\", \"FLL\", \"JAX\", \"JFK\", \"RSW\", \"BOS\", \"MCO\", \"JFK\", \"JFK\", \"EWR\", \"BOS\", \"BTV\", \"EWR\", \"JFK\", \"MCO\", \"TPA\", \"OAK\", \"JFK\", \"FLL\", \"JFK\", \"HOU\", \"JFK\", \"JFK\", \"BUF\"], \"x\": [101.0, 150.0, 152.0, 117.0, 128.0, 49.0, 55.0, 112.0, 156.0, 131.0, 98.0, 136.0, 129.0, 319.0, 126.0, 169.0, 46.0, 158.0, 175.0, 56.0, 130.0, 82.0, 127.0, 118.0, 302.0, 140.0, 135.0, 357.0, 168.0, 197.0, 59.0, 60.0], \"y\": [337.0, 295.0, 278.0, 276.0, 273.0, 269.0, 264.0, 260.0, 259.0, 258.0, 251.0, 249.0, 238.0, 227.0, 221.0, 221.0, 220.0, 217.0, 215.0, 215.0, 214.0, 208.0, 205.0, 204.0, 201.0, 198.0, 194.0, 194.0, 193.0, 193.0, 192.0, 190.0], \"type\": \"scatter\"}, {\"marker\": {\"size\": [756.0, 495.0, 842.0, 336.0, 588.0, 611.0, 370.0, 1797.0, 1137.0, 937.0, 1521.0, 668.0, 377.0, 967.0, 210.0, 861.0, 395.0, 550.0, 328.0, 370.0, 437.0, 992.0, 328.0, 342.0, 967.0, 737.0, 787.0, 423.0, 238.0, 288.0, 283.0, 377.0, 405.0, 251.0, 742.0, 925.0, 668.0, 1557.0, 813.0, 612.0, 377.0, 861.0, 862.0, 737.0, 220.0, 668.0, 1050.0, 290.0, 967.0, 328.0, 668.0, 283.0, 159.0, 328.0, 443.0, 336.0, 283.0], \"sizemode\": \"area\", \"sizeref\": 5}, \"mode\": \"markers\", \"name\": \"WN\", \"text\": [\"BNA\", \"BWI\", \"BWI\", \"PHL\", \"BWI\", \"BWI\", \"BWI\", \"BNA\", \"PVD\", \"MDW\", \"MDW\", \"PHL\", \"BWI\", \"MCI\", \"BWI\", \"BOS\", \"MDW\", \"MCO\", \"BWI\", \"BWI\", \"MSY\", \"PHL\", \"PVD\", \"STL\", \"BWI\", \"BWI\", \"BWI\", \"OMA\", \"PHL\", \"BWI\", \"BWI\", \"BWI\", \"MDW\", \"MDW\", \"PHL\", \"FLL\", \"MDW\", \"PHL\", \"STL\", \"BNA\", \"BWI\", \"PHL\", \"DEN\", \"BWI\", \"BWI\", \"MDW\", \"BDL\", \"PHL\", \"MCI\", \"PVD\", \"MDW\", \"BDL\", \"BWI\", \"BWI\", \"RDU\", \"BWI\", \"BWI\"], \"x\": [104.0, 88.0, 137.0, 59.0, 89.0, 98.0, 59.0, 257.0, 190.0, 120.0, 216.0, 97.0, 60.0, 123.0, 38.0, 126.0, 52.0, 95.0, 53.0, 59.0, 65.0, 156.0, 63.0, 59.0, 149.0, 117.0, 122.0, 63.0, 43.0, 48.0, 50.0, 59.0, 65.0, 45.0, 115.0, 127.0, 126.0, 219.0, 109.0, 76.0, 63.0, 137.0, 136.0, 113.0, 44.0, 84.0, 167.0, 53.0, 122.0, 65.0, 91.0, 51.0, 30.0, 51.0, 78.0, 59.0, 53.0], \"y\": [324.0, 277.0, 277.0, 264.0, 260.0, 259.0, 258.0, 256.0, 251.0, 251.0, 251.0, 246.0, 243.0, 237.0, 236.0, 235.0, 235.0, 232.0, 232.0, 229.0, 228.0, 226.0, 224.0, 223.0, 223.0, 220.0, 217.0, 216.0, 216.0, 211.0, 211.0, 210.0, 207.0, 207.0, 204.0, 203.0, 200.0, 199.0, 199.0, 197.0, 195.0, 195.0, 194.0, 193.0, 193.0, 193.0, 192.0, 189.0, 189.0, 188.0, 188.0, 188.0, 188.0, 187.0, 186.0, 185.0, 183.0], \"type\": \"scatter\"}], \"name\": \"20\"}, {\"data\": [{\"marker\": {\"size\": [740.0, 2585.0, 2446.0], \"sizemode\": \"area\", \"sizeref\": 5}, \"mode\": \"markers\", \"name\": \"AA\", \"text\": [\"JFK\", \"MIA\", \"JFK\"], \"x\": [121.0, 352.0, 351.0], \"y\": [309.0, 215.0, 208.0], \"type\": \"scatter\"}, {\"marker\": {\"size\": [508.0, 501.0, 1011.0, 1087.0, 1979.0, 1127.0, 349.0, 2603.0, 1035.0], \"sizemode\": \"area\", \"sizeref\": 5}, \"mode\": \"markers\", \"name\": \"NW\", \"text\": [\"JFK\", \"DTW\", \"TPA\", \"PBI\", \"LAX\", \"DTW\", \"MDW\", \"PDX\", \"PBI\"], \"x\": [100.0, 67.0, 128.0, 155.0, 216.0, 149.0, 66.0, 333.0, 128.0], \"y\": [813.0, 455.0, 388.0, 341.0, 259.0, 216.0, 195.0, 187.0, 184.0], \"type\": \"scatter\"}, {\"marker\": {\"size\": [1756.0, 634.0, 930.0, 1035.0, 761.0, 828.0], \"sizemode\": \"area\", \"sizeref\": 5}, \"mode\": \"markers\", \"name\": \"FL\", \"text\": [\"MKE\", \"DCA\", \"CMH\", \"MDW\", \"LGA\", \"MCO\"], \"x\": [257.0, 104.0, 136.0, 132.0, 115.0, 119.0], \"y\": [330.0, 291.0, 269.0, 268.0, 253.0, 251.0], \"type\": \"scatter\"}, {\"marker\": {\"size\": [308.0, 227.0, 308.0, 235.0], \"sizemode\": \"area\", \"sizeref\": 5}, \"mode\": \"markers\", \"name\": \"MQ\", \"text\": [\"SJC\", \"RDU\", \"LAX\", \"DTW\"], \"x\": [52.0, 38.0, 52.0, 54.0], \"y\": [313.0, 304.0, 294.0, 213.0], \"type\": \"scatter\"}, {\"marker\": {\"size\": [749.0, 207.0, 297.0], \"sizemode\": \"area\", \"sizeref\": 5}, \"mode\": \"markers\", \"name\": \"9E\", \"text\": [\"ROC\", \"TVC\", \"MEM\"], \"x\": [99.0, 37.0, 49.0], \"y\": [525.0, 221.0, 198.0], \"type\": \"scatter\"}, {\"marker\": {\"size\": [1874.0, 1347.0], \"sizemode\": \"area\", \"sizeref\": 5}, \"mode\": \"markers\", \"name\": \"CO\", \"text\": [\"IAH\", \"IAH\"], \"x\": [252.0, 207.0], \"y\": [215.0, 190.0], \"type\": \"scatter\"}, {\"marker\": {\"size\": [501.0, 649.0, 329.0, 86.0, 200.0, 329.0, 326.0, 751.0, 86.0, 751.0, 329.0, 462.0, 86.0], \"sizemode\": \"area\", \"sizeref\": 5}, \"mode\": \"markers\", \"name\": \"OO\", \"text\": [\"FAT\", \"BOI\", \"MFR\", \"SMF\", \"SLC\", \"MFR\", \"SFO\", \"TUS\", \"SFO\", \"SFO\", \"SFO\", \"SFO\", \"SFO\"], \"x\": [69.0, 79.0, 74.0, 32.0, 44.0, 72.0, 51.0, 129.0, 24.0, 92.0, 58.0, 73.0, 22.0], \"y\": [350.0, 323.0, 297.0, 270.0, 268.0, 261.0, 254.0, 225.0, 224.0, 218.0, 196.0, 184.0, 184.0], \"type\": \"scatter\"}, {\"marker\": {\"size\": [481.0, 859.0, 2217.0, 2105.0], \"sizemode\": \"area\", \"sizeref\": 5}, \"mode\": \"markers\", \"name\": \"DL\", \"text\": [\"RIC\", \"BDL\", \"MCO\", \"BOS\"], \"x\": [78.0, 118.0, 331.0, 300.0], \"y\": [523.0, 364.0, 292.0, 252.0], \"type\": \"scatter\"}, {\"marker\": {\"size\": [], \"sizemode\": \"area\", \"sizeref\": 5}, \"mode\": \"markers\", \"name\": \"AS\", \"text\": [], \"x\": [], \"y\": [], \"type\": \"scatter\"}, {\"marker\": {\"size\": [599.0, 290.0, 2378.0, 992.0, 980.0, 1557.0, 2176.0, 920.0, 678.0, 1774.0, 634.0, 448.0, 602.0, 130.0, 468.0, 920.0, 2378.0, 1576.0, 678.0, 1302.0, 861.0, 336.0, 665.0], \"sizemode\": \"area\", \"sizeref\": 5}, \"mode\": \"markers\", \"name\": \"US\", \"text\": [\"ORD\", \"PHL\", \"SEA\", \"PHL\", \"MSP\", \"PHL\", \"LAS\", \"PHL\", \"ORD\", \"CLT\", \"JAX\", \"PHL\", \"PHX\", \"RDU\", \"MCO\", \"TPA\", \"PHL\", \"SJU\", \"ORD\", \"DFW\", \"PHL\", \"RDU\", \"ATL\"], \"x\": [74.0, 46.0, 258.0, 139.0, 113.0, 268.0, 234.0, 137.0, 88.0, 260.0, 88.0, 73.0, 75.0, 32.0, 81.0, 115.0, 321.0, 217.0, 83.0, 176.0, 123.0, 58.0, 121.0], \"y\": [642.0, 342.0, 324.0, 312.0, 286.0, 260.0, 234.0, 230.0, 230.0, 229.0, 228.0, 228.0, 227.0, 217.0, 216.0, 211.0, 204.0, 202.0, 198.0, 198.0, 193.0, 191.0, 187.0], \"type\": \"scatter\"}, {\"marker\": {\"size\": [1726.0, 413.0, 224.0, 337.0], \"sizemode\": \"area\", \"sizeref\": 5}, \"mode\": \"markers\", \"name\": \"UA\", \"text\": [\"ORD\", \"IAD\", \"RDU\", \"SFO\"], \"x\": [252.0, 65.0, 39.0, 54.0], \"y\": [306.0, 236.0, 191.0, 189.0], \"type\": \"scatter\"}, {\"marker\": {\"size\": [485.0, 431.0, 166.0, 166.0, 1107.0, 750.0, 411.0, 1417.0, 651.0, 860.0], \"sizemode\": \"area\", \"sizeref\": 5}, \"mode\": \"markers\", \"name\": \"OH\", \"text\": [\"CVG\", \"RDU\", \"DAY\", \"DTW\", \"MCI\", \"BGR\", \"CVG\", \"JFK\", \"OMA\", \"DCA\"], \"x\": [59.0, 83.0, 60.0, 36.0, 125.0, 170.0, 59.0, 207.0, 87.0, 140.0], \"y\": [330.0, 323.0, 280.0, 253.0, 246.0, 242.0, 227.0, 204.0, 201.0, 196.0], \"type\": \"scatter\"}, {\"marker\": {\"size\": [199.0, 719.0, 301.0, 251.0, 143.0, 282.0, 1133.0], \"sizemode\": \"area\", \"sizeref\": 5}, \"mode\": \"markers\", \"name\": \"XE\", \"text\": [\"DCA\", \"ORD\", \"RAP\", \"DEN\", \"EWR\", \"EWR\", \"EWR\"], \"x\": [46.0, 93.0, 50.0, 45.0, 35.0, 50.0, 183.0], \"y\": [280.0, 270.0, 238.0, 218.0, 198.0, 192.0, 190.0], \"type\": \"scatter\"}, {\"marker\": {\"size\": [1524.0], \"sizemode\": \"area\", \"sizeref\": 5}, \"mode\": \"markers\", \"name\": \"F9\", \"text\": [\"MKE\"], \"x\": [222.0], \"y\": [468.0], \"type\": \"scatter\"}, {\"marker\": {\"size\": [321.0, 236.0, 284.0, 236.0, 351.0, 351.0], \"sizemode\": \"area\", \"sizeref\": 5}, \"mode\": \"markers\", \"name\": \"YV\", \"text\": [\"IAD\", \"LAS\", \"BUF\", \"LAX\", \"PHX\", \"DRO\"], \"x\": [52.0, 48.0, 44.0, 41.0, 77.0, 88.0], \"y\": [327.0, 292.0, 289.0, 279.0, 202.0, 189.0], \"type\": \"scatter\"}, {\"marker\": {\"size\": [646.0, 363.0, 208.0, 317.0, 152.0], \"sizemode\": \"area\", \"sizeref\": 5}, \"mode\": \"markers\", \"name\": \"EV\", \"text\": [\"EYW\", \"CRW\", \"ATL\", \"MYR\", \"ATL\"], \"x\": [97.0, 57.0, 34.0, 57.0, 28.0], \"y\": [267.0, 238.0, 214.0, 199.0, 184.0], \"type\": \"scatter\"}, {\"marker\": {\"size\": [], \"sizemode\": \"area\", \"sizeref\": 5}, \"mode\": \"markers\", \"name\": \"HA\", \"text\": [], \"x\": [], \"y\": [], \"type\": \"scatter\"}, {\"marker\": {\"size\": [1121.0, 1121.0, 1024.0, 1068.0, 1024.0, 1069.0, 1005.0, 1028.0, 950.0, 1035.0, 2408.0, 938.0, 1024.0, 944.0, 1674.0, 1674.0, 2576.0], \"sizemode\": \"area\", \"sizeref\": 5}, \"mode\": \"markers\", \"name\": \"B6\", \"text\": [\"MCO\", \"BOS\", \"EWR\", \"RSW\", \"EWR\", \"JFK\", \"TPA\", \"PBI\", \"LGA\", \"PBI\", \"IAD\", \"EWR\", \"PBI\", \"MCO\", \"BOS\", \"SJU\", \"OAK\"], \"x\": [137.0, 159.0, 151.0, 135.0, 141.0, 159.0, 121.0, 120.0, 144.0, 124.0, 335.0, 130.0, 146.0, 110.0, 211.0, 222.0, 297.0], \"y\": [389.0, 389.0, 379.0, 354.0, 251.0, 249.0, 240.0, 228.0, 227.0, 225.0, 221.0, 219.0, 218.0, 208.0, 206.0, 201.0, 183.0], \"type\": \"scatter\"}, {\"marker\": {\"size\": [862.0, 1363.0, 414.0, 377.0, 1235.0], \"sizemode\": \"area\", \"sizeref\": 5}, \"mode\": \"markers\", \"name\": \"WN\", \"text\": [\"DEN\", \"LAX\", \"SFO\", \"BWI\", \"HOU\"], \"x\": [129.0, 158.0, 58.0, 63.0, 192.0], \"y\": [232.0, 221.0, 214.0, 197.0, 196.0], \"type\": \"scatter\"}], \"name\": \"21\"}, {\"data\": [{\"marker\": {\"size\": [1431.0, 2586.0, 1235.0, 1013.0, 1013.0, 2398.0, 2398.0, 1086.0], \"sizemode\": \"area\", \"sizeref\": 5}, \"mode\": \"markers\", \"name\": \"AA\", \"text\": [\"SMF\", \"JFK\", \"DFW\", \"MIA\", \"PHL\", \"HNL\", \"SFO\", \"EWR\"], \"x\": [174.0, 321.0, 170.0, 125.0, 137.0, 299.0, 291.0, 141.0], \"y\": [746.0, 305.0, 261.0, 257.0, 241.0, 220.0, 209.0, 203.0], \"type\": \"scatter\"}, {\"marker\": {\"size\": [1589.0, 860.0, 297.0, 963.0, 1979.0, 614.0, 991.0, 1307.0, 1310.0], \"sizemode\": \"area\", \"sizeref\": 5}, \"mode\": \"markers\", \"name\": \"NW\", \"text\": [\"MSP\", \"MIA\", \"MSP\", \"MEM\", \"DTW\", \"DTW\", \"SLC\", \"TPA\", \"MCO\"], \"x\": [210.0, 128.0, 48.0, 122.0, 266.0, 76.0, 123.0, 173.0, 177.0], \"y\": [563.0, 434.0, 261.0, 241.0, 221.0, 221.0, 196.0, 187.0, 184.0], \"type\": \"scatter\"}, {\"marker\": {\"size\": [545.0], \"sizemode\": \"area\", \"sizeref\": 5}, \"mode\": \"markers\", \"name\": \"FL\", \"text\": [\"PBI\"], \"x\": [80.0], \"y\": [245.0], \"type\": \"scatter\"}, {\"marker\": {\"size\": [522.0, 264.0, 303.0, 588.0, 316.0, 693.0, 1118.0, 158.0, 268.0, 522.0, 438.0, 286.0, 296.0, 316.0, 223.0, 299.0], \"sizemode\": \"area\", \"sizeref\": 5}, \"mode\": \"markers\", \"name\": \"MQ\", \"text\": [\"ORD\", \"ORD\", \"ORD\", \"ORD\", \"ORD\", \"ORD\", \"ABQ\", \"ABI\", \"ORD\", \"ORD\", \"ORD\", \"SDF\", \"ORD\", \"ORD\", \"ORD\", \"ORD\"], \"x\": [85.0, 42.0, 48.0, 96.0, 47.0, 109.0, 151.0, 48.0, 50.0, 86.0, 73.0, 64.0, 47.0, 43.0, 35.0, 60.0], \"y\": [393.0, 345.0, 333.0, 299.0, 294.0, 270.0, 269.0, 258.0, 231.0, 223.0, 218.0, 213.0, 205.0, 190.0, 190.0, 184.0], \"type\": \"scatter\"}, {\"marker\": {\"size\": [508.0], \"sizemode\": \"area\", \"sizeref\": 5}, \"mode\": \"markers\", \"name\": \"9E\", \"text\": [\"GSP\"], \"x\": [81.0], \"y\": [186.0], \"type\": \"scatter\"}, {\"marker\": {\"size\": [861.0, 1091.0, 1091.0], \"sizemode\": \"area\", \"sizeref\": 5}, \"mode\": \"markers\", \"name\": \"CO\", \"text\": [\"DEN\", \"CLE\", \"IAH\"], \"x\": [120.0, 152.0, 134.0], \"y\": [357.0, 350.0, 347.0], \"type\": \"scatter\"}, {\"marker\": {\"size\": [174.0, 616.0, 588.0, 416.0, 387.0, 588.0, 391.0, 67.0, 438.0, 261.0, 677.0, 536.0, 416.0, 839.0, 637.0, 839.0], \"sizemode\": \"area\", \"sizeref\": 5}, \"mode\": \"markers\", \"name\": \"OO\", \"text\": [\"ORD\", \"XNA\", \"ORD\", \"ORD\", \"BIL\", \"ICT\", \"DEN\", \"ORD\", \"ORD\", \"RKS\", \"LAX\", \"ORD\", \"ORD\", \"OMA\", \"DEN\", \"SLC\"], \"x\": [30.0, 98.0, 94.0, 68.0, 70.0, 78.0, 54.0, 27.0, 66.0, 57.0, 80.0, 70.0, 59.0, 124.0, 82.0, 117.0], \"y\": [239.0, 237.0, 227.0, 224.0, 223.0, 220.0, 212.0, 200.0, 200.0, 198.0, 192.0, 190.0, 187.0, 187.0, 184.0, 183.0], \"type\": \"scatter\"}, {\"marker\": {\"size\": [1173.0, 1180.0, 1180.0], \"sizemode\": \"area\", \"sizeref\": 5}, \"mode\": \"markers\", \"name\": \"DL\", \"text\": [\"FLL\", \"BDL\", \"RSW\"], \"x\": [138.0, 169.0, 145.0], \"y\": [273.0, 193.0, 189.0], \"type\": \"scatter\"}, {\"marker\": {\"size\": [], \"sizemode\": \"area\", \"sizeref\": 5}, \"mode\": \"markers\", \"name\": \"AS\", \"text\": [], \"x\": [], \"y\": [], \"type\": \"scatter\"}, {\"marker\": {\"size\": [2125.0, 599.0, 1557.0, 678.0], \"sizemode\": \"area\", \"sizeref\": 5}, \"mode\": \"markers\", \"name\": \"US\", \"text\": [\"LAX\", \"ORD\", \"DEN\", \"ORD\"], \"x\": [231.0, 79.0, 189.0, 93.0], \"y\": [307.0, 241.0, 232.0, 184.0], \"type\": \"scatter\"}, {\"marker\": {\"size\": [2419.0, 1440.0, 1721.0, 334.0, 412.0, 472.0, 612.0, 2288.0], \"sizemode\": \"area\", \"sizeref\": 5}, \"mode\": \"markers\", \"name\": \"UA\", \"text\": [\"IAD\", \"PHX\", \"ORD\", \"ORD\", \"PIT\", \"OMA\", \"ORD\", \"LAX\"], \"x\": [311.0, 166.0, 229.0, 64.0, 85.0, 71.0, 75.0, 243.0], \"y\": [403.0, 378.0, 268.0, 224.0, 216.0, 215.0, 205.0, 190.0], \"type\": \"scatter\"}, {\"marker\": {\"size\": [589.0, 98.0], \"sizemode\": \"area\", \"sizeref\": 5}, \"mode\": \"markers\", \"name\": \"OH\", \"text\": [\"CVG\", \"CVG\"], \"x\": [90.0, 25.0], \"y\": [234.0, 228.0], \"type\": \"scatter\"}, {\"marker\": {\"size\": [278.0, 475.0, 487.0, 719.0, 199.0, 199.0, 409.0, 1117.0], \"sizemode\": \"area\", \"sizeref\": 5}, \"mode\": \"markers\", \"name\": \"XE\", \"text\": [\"RIC\", \"ORD\", \"EWR\", \"EWR\", \"EWR\", \"EWR\", \"ORD\", \"PIT\"], \"x\": [56.0, 65.0, 90.0, 125.0, 39.0, 43.0, 62.0, 173.0], \"y\": [312.0, 290.0, 289.0, 289.0, 230.0, 227.0, 209.0, 186.0], \"type\": \"scatter\"}, {\"marker\": {\"size\": [1460.0], \"sizemode\": \"area\", \"sizeref\": 5}, \"mode\": \"markers\", \"name\": \"F9\", \"text\": [\"PHX\"], \"x\": [165.0], \"y\": [185.0], \"type\": \"scatter\"}, {\"marker\": {\"size\": [261.0, 351.0, 351.0, 1263.0, 551.0, 296.0, 196.0, 316.0, 185.0, 978.0], \"sizemode\": \"area\", \"sizeref\": 5}, \"mode\": \"markers\", \"name\": \"YV\", \"text\": [\"PSP\", \"DRO\", \"PHX\", \"PHX\", \"COS\", \"SYR\", \"ORD\", \"ORD\", \"CLT\", \"ORD\"], \"x\": [43.0, 65.0, 50.0, 153.0, 87.0, 48.0, 40.0, 47.0, 32.0, 138.0], \"y\": [313.0, 312.0, 302.0, 301.0, 290.0, 246.0, 212.0, 210.0, 193.0, 183.0], \"type\": \"scatter\"}, {\"marker\": {\"size\": [], \"sizemode\": \"area\", \"sizeref\": 5}, \"mode\": \"markers\", \"name\": \"EV\", \"text\": [], \"x\": [], \"y\": [], \"type\": \"scatter\"}, {\"marker\": {\"size\": [], \"sizemode\": \"area\", \"sizeref\": 5}, \"mode\": \"markers\", \"name\": \"HA\", \"text\": [], \"x\": [], \"y\": [], \"type\": \"scatter\"}, {\"marker\": {\"size\": [846.0], \"sizemode\": \"area\", \"sizeref\": 5}, \"mode\": \"markers\", \"name\": \"B6\", \"text\": [\"LGB\"], \"x\": [144.0], \"y\": [234.0], \"type\": \"scatter\"}, {\"marker\": {\"size\": [397.0, 281.0, 281.0, 888.0], \"sizemode\": \"area\", \"sizeref\": 5}, \"mode\": \"markers\", \"name\": \"WN\", \"text\": [\"LAS\", \"BUF\", \"BWI\", \"JAN\"], \"x\": [69.0, 45.0, 49.0, 116.0], \"y\": [211.0, 211.0, 210.0, 192.0], \"type\": \"scatter\"}], \"name\": \"22\"}, {\"data\": [{\"marker\": {\"size\": [2586.0, 1235.0, 733.0, 1235.0], \"sizemode\": \"area\", \"sizeref\": 5}, \"mode\": \"markers\", \"name\": \"AA\", \"text\": [\"JFK\", \"DFW\", \"LGA\", \"LAX\"], \"x\": [337.0, 161.0, 121.0, 145.0], \"y\": [298.0, 199.0, 196.0, 185.0], \"type\": \"scatter\"}, {\"marker\": {\"size\": [1034.0, 1307.0], \"sizemode\": \"area\", \"sizeref\": 5}, \"mode\": \"markers\", \"name\": \"NW\", \"text\": [\"IAH\", \"TPA\"], \"x\": [137.0, 175.0], \"y\": [503.0, 201.0], \"type\": \"scatter\"}, {\"marker\": {\"size\": [1756.0], \"sizemode\": \"area\", \"sizeref\": 5}, \"mode\": \"markers\", \"name\": \"FL\", \"text\": [\"MKE\"], \"x\": [240.0], \"y\": [311.0], \"type\": \"scatter\"}, {\"marker\": {\"size\": [911.0, 134.0, 647.0, 223.0, 286.0, 134.0, 264.0, 948.0, 116.0, 139.0, 922.0, 109.0, 122.0, 693.0, 215.0], \"sizemode\": \"area\", \"sizeref\": 5}, \"mode\": \"markers\", \"name\": \"MQ\", \"text\": [\"MIA\", \"MQT\", \"ORD\", \"FNT\", \"SDF\", \"GRB\", \"CVG\", \"CVG\", \"ORD\", \"MLI\", \"CAE\", \"ORD\", \"AZO\", \"OKC\", \"LSE\"], \"x\": [132.0, 30.0, 87.0, 45.0, 54.0, 24.0, 43.0, 140.0, 27.0, 27.0, 150.0, 41.0, 48.0, 99.0, 47.0], \"y\": [404.0, 324.0, 301.0, 285.0, 269.0, 263.0, 255.0, 238.0, 235.0, 223.0, 222.0, 213.0, 210.0, 192.0, 191.0], \"type\": \"scatter\"}, {\"marker\": {\"size\": [157.0, 469.0], \"sizemode\": \"area\", \"sizeref\": 5}, \"mode\": \"markers\", \"name\": \"9E\", \"text\": [\"SBN\", \"MEM\"], \"x\": [28.0, 78.0], \"y\": [365.0, 187.0], \"type\": \"scatter\"}, {\"marker\": {\"size\": [861.0, 861.0, 719.0], \"sizemode\": \"area\", \"sizeref\": 5}, \"mode\": \"markers\", \"name\": \"CO\", \"text\": [\"DEN\", \"IAH\", \"ORD\"], \"x\": [117.0, 127.0, 99.0], \"y\": [405.0, 270.0, 186.0], \"type\": \"scatter\"}, {\"marker\": {\"size\": [463.0, 462.0, 423.0, 753.0, 423.0, 776.0, 794.0, 349.0, 793.0, 679.0, 419.0, 1024.0, 692.0, 175.0, 125.0, 251.0, 423.0, 850.0, 125.0, 196.0, 174.0, 1013.0, 1069.0, 594.0, 416.0, 624.0, 557.0, 313.0, 563.0, 174.0, 1236.0, 916.0, 391.0, 391.0, 491.0, 109.0, 563.0, 525.0, 911.0, 826.0, 1041.0, 130.0], \"sizemode\": \"area\", \"sizeref\": 5}, \"mode\": \"markers\", \"name\": \"OO\", \"text\": [\"GTF\", \"FSD\", \"LNK\", \"DEN\", \"DEN\", \"PSP\", \"DEN\", \"DEN\", \"DEN\", \"DEN\", \"DEN\", \"DEN\", \"CID\", \"SLC\", \"DEN\", \"DEN\", \"DEN\", \"DEN\", \"ASE\", \"ORD\", \"ORD\", \"ASE\", \"DEN\", \"DEN\", \"ORD\", \"DEN\", \"ORD\", \"GCC\", \"DEN\", \"ORD\", \"ORD\", \"DEN\", \"DEN\", \"DEN\", \"ORD\", \"LAX\", \"DEN\", \"DEN\", \"ORD\", \"MSN\", \"ORD\", \"ORD\"], \"x\": [74.0, 72.0, 76.0, 116.0, 62.0, 114.0, 113.0, 48.0, 106.0, 110.0, 57.0, 155.0, 115.0, 49.0, 26.0, 46.0, 62.0, 114.0, 30.0, 44.0, 27.0, 139.0, 128.0, 90.0, 61.0, 93.0, 95.0, 87.0, 69.0, 41.0, 172.0, 122.0, 64.0, 60.0, 85.0, 30.0, 78.0, 80.0, 130.0, 127.0, 165.0, 32.0], \"y\": [730.0, 368.0, 345.0, 343.0, 334.0, 303.0, 292.0, 292.0, 284.0, 283.0, 277.0, 270.0, 263.0, 259.0, 251.0, 246.0, 239.0, 239.0, 235.0, 233.0, 232.0, 230.0, 227.0, 225.0, 222.0, 220.0, 219.0, 216.0, 210.0, 209.0, 207.0, 203.0, 199.0, 199.0, 199.0, 198.0, 193.0, 192.0, 192.0, 188.0, 186.0, 185.0], \"type\": \"scatter\"}, {\"marker\": {\"size\": [745.0, 187.0, 761.0, 1050.0, 760.0, 1185.0], \"sizemode\": \"area\", \"sizeref\": 5}, \"mode\": \"markers\", \"name\": \"DL\", \"text\": [\"EWR\", \"BOS\", \"LGA\", \"MCO\", \"JFK\", \"COS\"], \"x\": [109.0, 40.0, 112.0, 138.0, 107.0, 139.0], \"y\": [457.0, 373.0, 285.0, 234.0, 234.0, 193.0], \"type\": \"scatter\"}, {\"marker\": {\"size\": [], \"sizemode\": \"area\", \"sizeref\": 5}, \"mode\": \"markers\", \"name\": \"AS\", \"text\": [], \"x\": [], \"y\": [], \"type\": \"scatter\"}, {\"marker\": {\"size\": [2521.0], \"sizemode\": \"area\", \"sizeref\": 5}, \"mode\": \"markers\", \"name\": \"US\", \"text\": [\"SFO\"], \"x\": [291.0], \"y\": [265.0], \"type\": \"scatter\"}, {\"marker\": {\"size\": [853.0, 846.0, 1491.0, 602.0, 967.0, 783.0, 142.0, 888.0, 2556.0, 629.0, 641.0, 948.0, 236.0], \"sizemode\": \"area\", \"sizeref\": 5}, \"mode\": \"markers\", \"name\": \"UA\", \"text\": [\"SAN\", \"DEN\", \"DEN\", \"DEN\", \"DEN\", \"ORD\", \"DEN\", \"DEN\", \"LAX\", \"DEN\", \"DEN\", \"DEN\", \"LAX\"], \"x\": [114.0, 110.0, 170.0, 83.0, 133.0, 96.0, 31.0, 112.0, 321.0, 87.0, 93.0, 131.0, 43.0], \"y\": [413.0, 285.0, 278.0, 240.0, 233.0, 216.0, 214.0, 213.0, 212.0, 202.0, 196.0, 193.0, 187.0], \"type\": \"scatter\"}, {\"marker\": {\"size\": [740.0, 94.0, 1417.0, 145.0, 445.0, 541.0, 213.0, 229.0], \"sizemode\": \"area\", \"sizeref\": 5}, \"mode\": \"markers\", \"name\": \"OH\", \"text\": [\"JFK\", \"PHL\", \"JFK\", \"JFK\", \"SRQ\", \"CLT\", \"DCA\", \"DTW\"], \"x\": [125.0, 40.0, 235.0, 29.0, 74.0, 77.0, 55.0, 43.0], \"y\": [257.0, 251.0, 209.0, 205.0, 200.0, 200.0, 190.0, 184.0], \"type\": \"scatter\"}, {\"marker\": {\"size\": [72.0, 719.0], \"sizemode\": \"area\", \"sizeref\": 5}, \"mode\": \"markers\", \"name\": \"XE\", \"text\": [\"DEN\", \"EWR\"], \"x\": [21.0, 124.0], \"y\": [304.0, 186.0], \"type\": \"scatter\"}, {\"marker\": {\"size\": [967.0, 967.0, 629.0, 1199.0], \"sizemode\": \"area\", \"sizeref\": 5}, \"mode\": \"markers\", \"name\": \"F9\", \"text\": [\"SFO\", \"DEN\", \"DEN\", \"DEN\"], \"x\": [150.0, 125.0, 82.0, 142.0], \"y\": [307.0, 268.0, 220.0, 184.0], \"type\": \"scatter\"}, {\"marker\": {\"size\": [693.0, 177.0, 595.0, 109.0, 177.0, 599.0, 102.0, 595.0, 163.0], \"sizemode\": \"area\", \"sizeref\": 5}, \"mode\": \"markers\", \"name\": \"YV\", \"text\": [\"ORD\", \"IND\", \"IAD\", \"ORD\", \"ORD\", \"ORD\", \"LIH\", \"HSV\", \"HNL\"], \"x\": [115.0, 55.0, 94.0, 33.0, 35.0, 82.0, 22.0, 84.0, 24.0], \"y\": [271.0, 228.0, 201.0, 198.0, 195.0, 191.0, 188.0, 187.0, 185.0], \"type\": \"scatter\"}, {\"marker\": {\"size\": [852.0, 317.0, 551.0], \"sizemode\": \"area\", \"sizeref\": 5}, \"mode\": \"markers\", \"name\": \"EV\", \"text\": [\"ALB\", \"MYR\", \"ATL\"], \"x\": [138.0, 54.0, 93.0], \"y\": [409.0, 212.0, 200.0], \"type\": \"scatter\"}, {\"marker\": {\"size\": [], \"sizemode\": \"area\", \"sizeref\": 5}, \"mode\": \"markers\", \"name\": \"HA\", \"text\": [], \"x\": [], \"y\": [], \"type\": \"scatter\"}, {\"marker\": {\"size\": [867.0, 740.0, 1735.0], \"sizemode\": \"area\", \"sizeref\": 5}, \"mode\": \"markers\", \"name\": \"B6\", \"text\": [\"ORD\", \"JFK\", \"ORD\"], \"x\": [110.0, 130.0, 222.0], \"y\": [240.0, 229.0, 205.0], \"type\": \"scatter\"}, {\"marker\": {\"size\": [223.0, 655.0, 680.0], \"sizemode\": \"area\", \"sizeref\": 5}, \"mode\": \"markers\", \"name\": \"WN\", \"text\": [\"ABQ\", \"MCO\", \"MSP\"], \"x\": [33.0, 88.0, 109.0], \"y\": [250.0, 239.0, 191.0], \"type\": \"scatter\"}], \"name\": \"23\"}, {\"data\": [{\"marker\": {\"size\": [597.0, 2556.0, 1235.0, 1205.0, 2556.0, 193.0, 193.0], \"sizemode\": \"area\", \"sizeref\": 5}, \"mode\": \"markers\", \"name\": \"AA\", \"text\": [\"BHM\", \"LAX\", \"LAX\", \"DFW\", \"LAX\", \"MIA\", \"MCO\"], \"x\": [93.0, 328.0, 188.0, 177.0, 325.0, 39.0, 38.0], \"y\": [468.0, 272.0, 254.0, 239.0, 214.0, 202.0, 201.0], \"type\": \"scatter\"}, {\"marker\": {\"size\": [1426.0, 1076.0, 987.0], \"sizemode\": \"area\", \"sizeref\": 5}, \"mode\": \"markers\", \"name\": \"NW\", \"text\": [\"PDX\", \"IAH\", \"DFW\"], \"x\": [172.0, 121.0, 123.0], \"y\": [682.0, 680.0, 197.0], \"type\": \"scatter\"}, {\"marker\": {\"size\": [], \"sizemode\": \"area\", \"sizeref\": 5}, \"mode\": \"markers\", \"name\": \"FL\", \"text\": [], \"x\": [], \"y\": [], \"type\": \"scatter\"}, {\"marker\": {\"size\": [785.0, 361.0, 296.0, 109.0, 157.0, 607.0, 236.0, 383.0], \"sizemode\": \"area\", \"sizeref\": 5}, \"mode\": \"markers\", \"name\": \"MQ\", \"text\": [\"LEX\", \"CMH\", \"CMH\", \"MSN\", \"FWA\", \"SYR\", \"MQT\", \"BTR\"], \"x\": [130.0, 56.0, 50.0, 30.0, 28.0, 110.0, 43.0, 81.0], \"y\": [1019.0, 470.0, 423.0, 405.0, 324.0, 257.0, 218.0, 186.0], \"type\": \"scatter\"}, {\"marker\": {\"size\": [], \"sizemode\": \"area\", \"sizeref\": 5}, \"mode\": \"markers\", \"name\": \"9E\", \"text\": [], \"x\": [], \"y\": [], \"type\": \"scatter\"}, {\"marker\": {\"size\": [1091.0], \"sizemode\": \"area\", \"sizeref\": 5}, \"mode\": \"markers\", \"name\": \"CO\", \"text\": [\"IAH\"], \"x\": [125.0], \"y\": [238.0], \"type\": \"scatter\"}, {\"marker\": {\"size\": [826.0, 1235.0, 776.0, 911.0, 1211.0, 313.0, 753.0, 588.0, 770.0, 793.0, 125.0, 130.0, 737.0], \"sizemode\": \"area\", \"sizeref\": 5}, \"mode\": \"markers\", \"name\": \"OO\", \"text\": [\"DEN\", \"DFW\", \"PSP\", \"COS\", \"SAT\", \"DEN\", \"FCA\", \"ICT\", \"DEN\", \"DEN\", \"ASE\", \"PIA\", \"LAX\"], \"x\": [106.0, 179.0, 98.0, 119.0, 168.0, 84.0, 92.0, 76.0, 112.0, 116.0, 31.0, 27.0, 97.0], \"y\": [418.0, 406.0, 379.0, 312.0, 301.0, 297.0, 284.0, 279.0, 273.0, 257.0, 206.0, 204.0, 188.0], \"type\": \"scatter\"}, {\"marker\": {\"size\": [732.0, 481.0], \"sizemode\": \"area\", \"sizeref\": 5}, \"mode\": \"markers\", \"name\": \"DL\", \"text\": [\"DFW\", \"RIC\"], \"x\": [86.0, 88.0], \"y\": [449.0, 265.0], \"type\": \"scatter\"}, {\"marker\": {\"size\": [], \"sizemode\": \"area\", \"sizeref\": 5}, \"mode\": \"markers\", \"name\": \"AS\", \"text\": [], \"x\": [], \"y\": [], \"type\": \"scatter\"}, {\"marker\": {\"size\": [], \"sizemode\": \"area\", \"sizeref\": 5}, \"mode\": \"markers\", \"name\": \"US\", \"text\": [], \"x\": [], \"y\": [], \"type\": \"scatter\"}, {\"marker\": {\"size\": [639.0, 794.0], \"sizemode\": \"area\", \"sizeref\": 5}, \"mode\": \"markers\", \"name\": \"UA\", \"text\": [\"DEN\", \"SAT\"], \"x\": [85.0, 119.0], \"y\": [212.0, 200.0], \"type\": \"scatter\"}, {\"marker\": {\"size\": [166.0, 651.0], \"sizemode\": \"area\", \"sizeref\": 5}, \"mode\": \"markers\", \"name\": \"OH\", \"text\": [\"DTW\", \"OMA\"], \"x\": [43.0, 105.0], \"y\": [419.0, 274.0], \"type\": \"scatter\"}, {\"marker\": {\"size\": [489.0, 489.0, 780.0, 301.0], \"sizemode\": \"area\", \"sizeref\": 5}, \"mode\": \"markers\", \"name\": \"XE\", \"text\": [\"PNS\", \"IAH\", \"RAP\", \"DEN\"], \"x\": [81.0, 66.0, 117.0, 50.0], \"y\": [243.0, 221.0, 201.0, 190.0], \"type\": \"scatter\"}, {\"marker\": {\"size\": [680.0], \"sizemode\": \"area\", \"sizeref\": 5}, \"mode\": \"markers\", \"name\": \"F9\", \"text\": [\"DEN\"], \"x\": [95.0], \"y\": [374.0], \"type\": \"scatter\"}, {\"marker\": {\"size\": [872.0], \"sizemode\": \"area\", \"sizeref\": 5}, \"mode\": \"markers\", \"name\": \"YV\", \"text\": [\"PHX\"], \"x\": [101.0], \"y\": [194.0], \"type\": \"scatter\"}, {\"marker\": {\"size\": [780.0], \"sizemode\": \"area\", \"sizeref\": 5}, \"mode\": \"markers\", \"name\": \"EV\", \"text\": [\"HPN\"], \"x\": [119.0], \"y\": [285.0], \"type\": \"scatter\"}, {\"marker\": {\"size\": [], \"sizemode\": \"area\", \"sizeref\": 5}, \"mode\": \"markers\", \"name\": \"HA\", \"text\": [], \"x\": [], \"y\": [], \"type\": \"scatter\"}, {\"marker\": {\"size\": [301.0, 1226.0, 993.0], \"sizemode\": \"area\", \"sizeref\": 5}, \"mode\": \"markers\", \"name\": \"B6\", \"text\": [\"BUF\", \"AUS\", \"MCO\"], \"x\": [60.0, 185.0, 154.0], \"y\": [296.0, 251.0, 237.0], \"type\": \"scatter\"}, {\"marker\": {\"size\": [], \"sizemode\": \"area\", \"sizeref\": 5}, \"mode\": \"markers\", \"name\": \"WN\", \"text\": [], \"x\": [], \"y\": [], \"type\": \"scatter\"}], \"name\": \"24\"}, {\"data\": [{\"marker\": {\"size\": [733.0, 1562.0, 719.0, 2585.0, 1616.0, 597.0, 1562.0, 641.0, 1438.0, 2175.0, 1345.0, 2175.0, 1438.0, 1055.0, 1440.0, 448.0], \"sizemode\": \"area\", \"sizeref\": 5}, \"mode\": \"markers\", \"name\": \"AA\", \"text\": [\"SDF\", \"DFW\", \"EWR\", \"MIA\", \"DFW\", \"BHM\", \"BOS\", \"DEN\", \"DFW\", \"LAS\", \"DFW\", \"LAS\", \"SJC\", \"DFW\", \"PHX\", \"MSY\"], \"x\": [123.0, 174.0, 118.0, 349.0, 212.0, 115.0, 224.0, 81.0, 206.0, 223.0, 201.0, 230.0, 175.0, 157.0, 176.0, 75.0], \"y\": [522.0, 296.0, 278.0, 251.0, 240.0, 233.0, 231.0, 214.0, 211.0, 205.0, 203.0, 203.0, 202.0, 199.0, 187.0, 186.0], \"type\": \"scatter\"}, {\"marker\": {\"size\": [408.0, 231.0], \"sizemode\": \"area\", \"sizeref\": 5}, \"mode\": \"markers\", \"name\": \"NW\", \"text\": [\"BWI\", \"IND\"], \"x\": [68.0, 41.0], \"y\": [909.0, 325.0], \"type\": \"scatter\"}, {\"marker\": {\"size\": [], \"sizemode\": \"area\", \"sizeref\": 5}, \"mode\": \"markers\", \"name\": \"FL\", \"text\": [], \"x\": [], \"y\": [], \"type\": \"scatter\"}, {\"marker\": {\"size\": [394.0, 1021.0, 140.0, 685.0, 812.0, 158.0, 772.0, 304.0], \"sizemode\": \"area\", \"sizeref\": 5}, \"mode\": \"markers\", \"name\": \"MQ\", \"text\": [\"LRD\", \"CLE\", \"GGG\", \"CID\", \"CVG\", \"ABI\", \"TYS\", \"LIT\"], \"x\": [54.0, 154.0, 31.0, 118.0, 140.0, 31.0, 140.0, 62.0], \"y\": [827.0, 340.0, 307.0, 273.0, 214.0, 210.0, 207.0, 191.0], \"type\": \"scatter\"}, {\"marker\": {\"size\": [668.0, 280.0, 453.0], \"sizemode\": \"area\", \"sizeref\": 5}, \"mode\": \"markers\", \"name\": \"9E\", \"text\": [\"PWM\", \"MEM\", \"MEM\"], \"x\": [97.0, 47.0, 84.0], \"y\": [546.0, 233.0, 200.0], \"type\": \"scatter\"}, {\"marker\": {\"size\": [2161.0], \"sizemode\": \"area\", \"sizeref\": 5}, \"mode\": \"markers\", \"name\": \"CO\", \"text\": [\"SFO\"], \"x\": [260.0], \"y\": [416.0], \"type\": \"scatter\"}, {\"marker\": {\"size\": [264.0, 116.0, 925.0, 588.0, 157.0, 472.0], \"sizemode\": \"area\", \"sizeref\": 5}, \"mode\": \"markers\", \"name\": \"OO\", \"text\": [\"ORD\", \"RDM\", \"ORD\", \"ORD\", \"ORD\", \"DEN\"], \"x\": [49.0, 30.0, 143.0, 83.0, 35.0, 69.0], \"y\": [514.0, 282.0, 227.0, 204.0, 188.0, 186.0], \"type\": \"scatter\"}, {\"marker\": {\"size\": [732.0], \"sizemode\": \"area\", \"sizeref\": 5}, \"mode\": \"markers\", \"name\": \"DL\", \"text\": [\"DFW\"], \"x\": [91.0], \"y\": [228.0], \"type\": \"scatter\"}, {\"marker\": {\"size\": [], \"sizemode\": \"area\", \"sizeref\": 5}, \"mode\": \"markers\", \"name\": \"AS\", \"text\": [], \"x\": [], \"y\": [], \"type\": \"scatter\"}, {\"marker\": {\"size\": [2176.0, 868.0], \"sizemode\": \"area\", \"sizeref\": 5}, \"mode\": \"markers\", \"name\": \"US\", \"text\": [\"PHL\", \"DFW\"], \"x\": [265.0, 137.0], \"y\": [221.0, 198.0], \"type\": \"scatter\"}, {\"marker\": {\"size\": [2338.0, 2338.0, 337.0, 533.0, 679.0], \"sizemode\": \"area\", \"sizeref\": 5}, \"mode\": \"markers\", \"name\": \"UA\", \"text\": [\"SFO\", \"OGG\", \"LAX\", \"MCI\", \"SEA\"], \"x\": [335.0, 240.0, 52.0, 82.0, 100.0], \"y\": [306.0, 254.0, 244.0, 205.0, 202.0], \"type\": \"scatter\"}, {\"marker\": {\"size\": [229.0], \"sizemode\": \"area\", \"sizeref\": 5}, \"mode\": \"markers\", \"name\": \"OH\", \"text\": [\"DTW\"], \"x\": [55.0], \"y\": [185.0], \"type\": \"scatter\"}, {\"marker\": {\"size\": [], \"sizemode\": \"area\", \"sizeref\": 5}, \"mode\": \"markers\", \"name\": \"XE\", \"text\": [], \"x\": [], \"y\": [], \"type\": \"scatter\"}, {\"marker\": {\"size\": [641.0, 629.0], \"sizemode\": \"area\", \"sizeref\": 5}, \"mode\": \"markers\", \"name\": \"F9\", \"text\": [\"DFW\", \"DEN\"], \"x\": [98.0, 86.0], \"y\": [276.0, 258.0], \"type\": \"scatter\"}, {\"marker\": {\"size\": [512.0, 1263.0, 512.0, 226.0, 213.0, 109.0], \"sizemode\": \"area\", \"sizeref\": 5}, \"mode\": \"markers\", \"name\": \"YV\", \"text\": [\"MEM\", \"MEM\", \"CLT\", \"SNA\", \"SAV\", \"ORD\"], \"x\": [76.0, 208.0, 82.0, 44.0, 80.0, 30.0], \"y\": [298.0, 263.0, 263.0, 242.0, 217.0, 186.0], \"type\": \"scatter\"}, {\"marker\": {\"size\": [563.0, 528.0, 136.0], \"sizemode\": \"area\", \"sizeref\": 5}, \"mode\": \"markers\", \"name\": \"EV\", \"text\": [\"SGF\", \"CAK\", \"FWA\"], \"x\": [80.0, 89.0, 30.0], \"y\": [368.0, 364.0, 224.0], \"type\": \"scatter\"}, {\"marker\": {\"size\": [], \"sizemode\": \"area\", \"sizeref\": 5}, \"mode\": \"markers\", \"name\": \"HA\", \"text\": [], \"x\": [], \"y\": [], \"type\": \"scatter\"}, {\"marker\": {\"size\": [187.0], \"sizemode\": \"area\", \"sizeref\": 5}, \"mode\": \"markers\", \"name\": \"B6\", \"text\": [\"BOS\"], \"x\": [52.0], \"y\": [438.0], \"type\": \"scatter\"}, {\"marker\": {\"size\": [833.0, 920.0, 462.0], \"sizemode\": \"area\", \"sizeref\": 5}, \"mode\": \"markers\", \"name\": \"WN\", \"text\": [\"OKC\", \"PHL\", \"STL\"], \"x\": [126.0, 144.0, 73.0], \"y\": [190.0, 188.0, 187.0], \"type\": \"scatter\"}], \"name\": \"25\"}, {\"data\": [{\"marker\": {\"size\": [1120.0, 861.0, 2446.0, 2446.0, 448.0, 237.0, 1258.0, 1660.0, 837.0, 700.0, 1107.0, 700.0, 1721.0, 719.0, 1440.0, 2342.0, 1236.0, 1235.0, 2585.0], \"sizemode\": \"area\", \"sizeref\": 5}, \"mode\": \"markers\", \"name\": \"AA\", \"text\": [\"RSW\", \"DAY\", \"SAN\", \"JFK\", \"DFW\", \"TUL\", \"MIA\", \"SEA\", \"MSY\", \"MIA\", \"MIA\", \"RDU\", \"ORD\", \"ORD\", \"PHX\", \"MIA\", \"ORD\", \"DFW\", \"MIA\"], \"x\": [151.0, 142.0, 303.0, 309.0, 61.0, 48.0, 162.0, 209.0, 104.0, 97.0, 127.0, 99.0, 215.0, 93.0, 185.0, 317.0, 162.0, 177.0, 339.0], \"y\": [852.0, 489.0, 339.0, 324.0, 253.0, 245.0, 240.0, 236.0, 231.0, 227.0, 226.0, 225.0, 225.0, 215.0, 204.0, 191.0, 191.0, 190.0, 188.0], \"type\": \"scatter\"}, {\"marker\": {\"size\": [1979.0, 651.0, 386.0], \"sizemode\": \"area\", \"sizeref\": 5}, \"mode\": \"markers\", \"name\": \"NW\", \"text\": [\"DTW\", \"DTW\", \"MSP\"], \"x\": [252.0, 96.0, 56.0], \"y\": [703.0, 679.0, 259.0], \"type\": \"scatter\"}, {\"marker\": {\"size\": [425.0, 895.0, 445.0, 641.0], \"sizemode\": \"area\", \"sizeref\": 5}, \"mode\": \"markers\", \"name\": \"FL\", \"text\": [\"MSY\", \"MKE\", \"SRQ\", \"MKE\"], \"x\": [61.0, 128.0, 78.0, 93.0], \"y\": [412.0, 371.0, 242.0, 228.0], \"type\": \"scatter\"}, {\"marker\": {\"size\": [281.0, 296.0, 738.0, 309.0, 282.0, 316.0, 1213.0, 673.0, 647.0, 772.0, 622.0, 1213.0, 130.0], \"sizemode\": \"area\", \"sizeref\": 5}, \"mode\": \"markers\", \"name\": \"MQ\", \"text\": [\"XNA\", \"ORD\", \"ORD\", \"MAF\", \"LBB\", \"ORD\", \"ORF\", \"DFW\", \"ORD\", \"GJT\", \"ORD\", \"DFW\", \"ORD\"], \"x\": [52.0, 47.0, 107.0, 49.0, 48.0, 45.0, 196.0, 89.0, 95.0, 102.0, 87.0, 135.0, 31.0], \"y\": [454.0, 383.0, 288.0, 266.0, 257.0, 223.0, 222.0, 204.0, 201.0, 201.0, 185.0, 184.0, 183.0], \"type\": \"scatter\"}, {\"marker\": {\"size\": [541.0, 749.0], \"sizemode\": \"area\", \"sizeref\": 5}, \"mode\": \"markers\", \"name\": \"9E\", \"text\": [\"DLH\", \"ROC\"], \"x\": [85.0, 111.0], \"y\": [312.0, 213.0], \"type\": \"scatter\"}, {\"marker\": {\"size\": [925.0, 1024.0, 3904.0, 853.0, 853.0, 2433.0], \"sizemode\": \"area\", \"sizeref\": 5}, \"mode\": \"markers\", \"name\": \"CO\", \"text\": [\"ORD\", \"PBI\", \"HNL\", \"IAH\", \"MCO\", \"SNA\"], \"x\": [133.0, 151.0, 390.0, 95.0, 125.0, 274.0], \"y\": [417.0, 317.0, 237.0, 228.0, 208.0, 190.0], \"type\": \"scatter\"}, {\"marker\": {\"size\": [109.0, 431.0, 1187.0, 563.0, 125.0, 563.0, 174.0, 130.0, 925.0, 964.0, 264.0, 72.0, 599.0, 391.0, 221.0, 1156.0, 1013.0, 313.0, 397.0, 692.0, 751.0, 196.0], \"sizemode\": \"area\", \"sizeref\": 5}, \"mode\": \"markers\", \"name\": \"OO\", \"text\": [\"ORD\", \"PIT\", \"OKC\", \"ELP\", \"ASE\", \"DEN\", \"ORD\", \"PIA\", \"ORD\", \"MFR\", \"CVG\", \"DEN\", \"SFO\", \"DEN\", \"CVG\", \"SLC\", \"ASE\", \"GCC\", \"ORD\", \"CID\", \"DEN\", \"CID\"], \"x\": [33.0, 65.0, 164.0, 86.0, 28.0, 79.0, 34.0, 43.0, 130.0, 127.0, 54.0, 16.0, 80.0, 63.0, 34.0, 149.0, 132.0, 73.0, 58.0, 102.0, 100.0, 40.0], \"y\": [557.0, 510.0, 372.0, 322.0, 308.0, 301.0, 295.0, 293.0, 276.0, 263.0, 255.0, 239.0, 231.0, 227.0, 222.0, 214.0, 203.0, 202.0, 194.0, 191.0, 190.0, 185.0], \"type\": \"scatter\"}, {\"marker\": {\"size\": [1199.0, 533.0, 745.0, 761.0], \"sizemode\": \"area\", \"sizeref\": 5}, \"mode\": \"markers\", \"name\": \"DL\", \"text\": [\"DEN\", \"IAD\", \"EWR\", \"LGA\"], \"x\": [141.0, 82.0, 120.0, 121.0], \"y\": [584.0, 461.0, 195.0, 184.0], \"type\": \"scatter\"}, {\"marker\": {\"size\": [], \"sizemode\": \"area\", \"sizeref\": 5}, \"mode\": \"markers\", \"name\": \"AS\", \"text\": [], \"x\": [], \"y\": [], \"type\": \"scatter\"}, {\"marker\": {\"size\": [4678.0, 4678.0, 1337.0], \"sizemode\": \"area\", \"sizeref\": 5}, \"mode\": \"markers\", \"name\": \"US\", \"text\": [\"CLT\", \"HNL\", \"CLT\"], \"x\": [621.0, 489.0, 184.0], \"y\": [339.0, 250.0, 200.0], \"type\": \"scatter\"}, {\"marker\": {\"size\": [802.0, 612.0, 403.0, 954.0, 837.0, 472.0, 235.0, 473.0, 1846.0, 528.0, 867.0, 622.0, 888.0, 1545.0, 412.0, 1506.0, 137.0], \"sizemode\": \"area\", \"sizeref\": 5}, \"mode\": \"markers\", \"name\": \"UA\", \"text\": [\"DFW\", \"ORD\", \"ORD\", \"MSY\", \"ORD\", \"OMA\", \"ORD\", \"ORD\", \"ORD\", \"ORD\", \"ORD\", \"ORD\", \"ORD\", \"DEN\", \"ORD\", \"DEN\", \"ORD\"], \"x\": [99.0, 86.0, 62.0, 107.0, 115.0, 67.0, 48.0, 61.0, 217.0, 66.0, 116.0, 92.0, 119.0, 174.0, 56.0, 169.0, 32.0], \"y\": [598.0, 369.0, 327.0, 312.0, 304.0, 301.0, 252.0, 249.0, 220.0, 220.0, 213.0, 203.0, 201.0, 196.0, 194.0, 190.0, 185.0], \"type\": \"scatter\"}, {\"marker\": {\"size\": [306.0], \"sizemode\": \"area\", \"sizeref\": 5}, \"mode\": \"markers\", \"name\": \"OH\", \"text\": [\"GSO\"], \"x\": [54.0], \"y\": [198.0], \"type\": \"scatter\"}, {\"marker\": {\"size\": [773.0, 1069.0, 487.0, 169.0, 266.0, 282.0, 209.0, 143.0, 529.0], \"sizemode\": \"area\", \"sizeref\": 5}, \"mode\": \"markers\", \"name\": \"XE\", \"text\": [\"SAV\", \"EWR\", \"EWR\", \"EWR\", \"EWR\", \"EWR\", \"EWR\", \"EWR\", \"EWR\"], \"x\": [155.0, 170.0, 77.0, 35.0, 46.0, 44.0, 37.0, 34.0, 86.0], \"y\": [321.0, 292.0, 289.0, 233.0, 223.0, 208.0, 198.0, 196.0, 185.0], \"type\": \"scatter\"}, {\"marker\": {\"size\": [649.0], \"sizemode\": \"area\", \"sizeref\": 5}, \"mode\": \"markers\", \"name\": \"F9\", \"text\": [\"BOI\"], \"x\": [85.0], \"y\": [544.0], \"type\": \"scatter\"}, {\"marker\": {\"size\": [666.0, 1136.0, 72.0, 462.0, 72.0, 483.0, 1136.0], \"sizemode\": \"area\", \"sizeref\": 5}, \"mode\": \"markers\", \"name\": \"YV\", \"text\": [\"ORD\", \"OKC\", \"DEN\", \"ORD\", \"COS\", \"FSD\", \"IAD\"], \"x\": [97.0, 124.0, 23.0, 71.0, 19.0, 71.0, 167.0], \"y\": [379.0, 335.0, 303.0, 299.0, 272.0, 218.0, 192.0], \"type\": \"scatter\"}, {\"marker\": {\"size\": [], \"sizemode\": \"area\", \"sizeref\": 5}, \"mode\": \"markers\", \"name\": \"EV\", \"text\": [], \"x\": [], \"y\": [], \"type\": \"scatter\"}, {\"marker\": {\"size\": [], \"sizemode\": \"area\", \"sizeref\": 5}, \"mode\": \"markers\", \"name\": \"HA\", \"text\": [], \"x\": [], \"y\": [], \"type\": \"scatter\"}, {\"marker\": {\"size\": [740.0, 944.0, 944.0, 228.0, 187.0, 1182.0, 1074.0, 1028.0, 740.0, 274.0, 209.0, 944.0, 264.0, 267.0, 944.0, 1069.0], \"sizemode\": \"area\", \"sizeref\": 5}, \"mode\": \"markers\", \"name\": \"B6\", \"text\": [\"ORD\", \"JFK\", \"JFK\", \"JFK\", \"JFK\", \"JFK\", \"JFK\", \"JFK\", \"JFK\", \"JFK\", \"JFK\", \"MCO\", \"JFK\", \"JFK\", \"JFK\", \"JFK\"], \"x\": [97.0, 140.0, 149.0, 46.0, 40.0, 189.0, 168.0, 155.0, 114.0, 41.0, 43.0, 111.0, 44.0, 40.0, 152.0, 159.0], \"y\": [414.0, 313.0, 312.0, 293.0, 284.0, 267.0, 262.0, 225.0, 221.0, 220.0, 213.0, 193.0, 190.0, 189.0, 189.0, 185.0], \"type\": \"scatter\"}, {\"marker\": {\"size\": [478.0, 323.0, 391.0, 861.0, 861.0, 254.0, 842.0], \"sizemode\": \"area\", \"sizeref\": 5}, \"mode\": \"markers\", \"name\": \"WN\", \"text\": [\"BHM\", \"SDF\", \"DEN\", \"PHL\", \"PHL\", \"SDF\", \"TPA\"], \"x\": [66.0, 53.0, 61.0, 136.0, 142.0, 47.0, 101.0], \"y\": [248.0, 246.0, 226.0, 212.0, 198.0, 197.0, 193.0], \"type\": \"scatter\"}], \"name\": \"26\"}, {\"data\": [{\"marker\": {\"size\": [1846.0, 1745.0, 1652.0, 1189.0, 920.0, 2475.0, 867.0, 919.0, 175.0, 867.0], \"sizemode\": \"area\", \"sizeref\": 5}, \"mode\": \"markers\", \"name\": \"AA\", \"text\": [\"SFO\", \"ORD\", \"PSP\", \"ONT\", \"MIA\", \"JFK\", \"ORD\", \"JAX\", \"OKC\", \"BOS\"], \"x\": [216.0, 220.0, 208.0, 136.0, 126.0, 313.0, 105.0, 143.0, 36.0, 127.0], \"y\": [547.0, 428.0, 301.0, 284.0, 269.0, 251.0, 244.0, 238.0, 198.0, 191.0], \"type\": \"scatter\"}, {\"marker\": {\"size\": [1085.0, 1085.0, 656.0, 610.0, 1124.0, 528.0, 683.0], \"sizemode\": \"area\", \"sizeref\": 5}, \"mode\": \"markers\", \"name\": \"NW\", \"text\": [\"RSW\", \"RSW\", \"MEM\", \"DTW\", \"BOS\", \"DTW\", \"MEM\"], \"x\": [145.0, 138.0, 84.0, 88.0, 151.0, 81.0, 81.0], \"y\": [1096.0, 954.0, 699.0, 229.0, 215.0, 188.0, 185.0], \"type\": \"scatter\"}, {\"marker\": {\"size\": [515.0, 930.0], \"sizemode\": \"area\", \"sizeref\": 5}, \"mode\": \"markers\", \"name\": \"FL\", \"text\": [\"RSW\", \"CMH\"], \"x\": [86.0, 136.0], \"y\": [708.0, 331.0], \"type\": \"scatter\"}, {\"marker\": {\"size\": [622.0, 299.0, 135.0, 130.0, 1118.0, 174.0, 309.0, 185.0, 177.0, 116.0, 268.0, 624.0, 673.0], \"sizemode\": \"area\", \"sizeref\": 5}, \"mode\": \"markers\", \"name\": \"MQ\", \"text\": [\"MGM\", \"DSM\", \"CMI\", \"PIA\", \"ORD\", \"GRB\", \"MAF\", \"BOS\", \"ORD\", \"BMI\", \"ORD\", \"DSM\", \"PIA\"], \"x\": [104.0, 54.0, 42.0, 35.0, 143.0, 42.0, 46.0, 43.0, 33.0, 32.0, 44.0, 97.0, 106.0], \"y\": [476.0, 364.0, 298.0, 278.0, 271.0, 248.0, 233.0, 218.0, 217.0, 212.0, 211.0, 206.0, 186.0], \"type\": \"scatter\"}, {\"marker\": {\"size\": [432.0, 296.0, 207.0, 652.0], \"sizemode\": \"area\", \"sizeref\": 5}, \"mode\": \"markers\", \"name\": \"9E\", \"text\": [\"OKC\", \"DTW\", \"TVC\", \"MEM\"], \"x\": [63.0, 46.0, 39.0, 83.0], \"y\": [923.0, 644.0, 194.0, 189.0], \"type\": \"scatter\"}, {\"marker\": {\"size\": [1222.0, 1379.0, 986.0, 895.0], \"sizemode\": \"area\", \"sizeref\": 5}, \"mode\": \"markers\", \"name\": \"CO\", \"text\": [\"LAS\", \"LAX\", \"CMH\", \"CLE\"], \"x\": [143.0, 149.0, 150.0, 129.0], \"y\": [207.0, 205.0, 201.0, 193.0], \"type\": \"scatter\"}, {\"marker\": {\"size\": [397.0, 397.0, 552.0, 599.0, 1041.0, 317.0, 326.0, 403.0, 205.0, 1013.0, 1499.0, 363.0, 599.0, 1013.0, 585.0], \"sizemode\": \"area\", \"sizeref\": 5}, \"mode\": \"markers\", \"name\": \"OO\", \"text\": [\"DLH\", \"ORD\", \"ORD\", \"SLC\", \"SAT\", \"STL\", \"SFO\", \"ORD\", \"JAC\", \"ASE\", \"SFO\", \"SFO\", \"SFO\", \"ORD\", \"TUL\"], \"x\": [64.0, 63.0, 70.0, 93.0, 145.0, 50.0, 51.0, 63.0, 36.0, 152.0, 179.0, 58.0, 78.0, 136.0, 91.0], \"y\": [500.0, 484.0, 302.0, 275.0, 270.0, 219.0, 209.0, 206.0, 200.0, 199.0, 196.0, 190.0, 190.0, 187.0, 186.0], \"type\": \"scatter\"}, {\"marker\": {\"size\": [732.0, 788.0, 761.0], \"sizemode\": \"area\", \"sizeref\": 5}, \"mode\": \"markers\", \"name\": \"DL\", \"text\": [\"DFW\", \"MSP\", \"LGA\"], \"x\": [100.0, 100.0, 122.0], \"y\": [498.0, 411.0, 185.0], \"type\": \"scatter\"}, {\"marker\": {\"size\": [], \"sizemode\": \"area\", \"sizeref\": 5}, \"mode\": \"markers\", \"name\": \"AS\", \"text\": [], \"x\": [], \"y\": [], \"type\": \"scatter\"}, {\"marker\": {\"size\": [], \"sizemode\": \"area\", \"sizeref\": 5}, \"mode\": \"markers\", \"name\": \"US\", \"text\": [], \"x\": [], \"y\": [], \"type\": \"scatter\"}, {\"marker\": {\"size\": [1545.0, 2504.0, 1440.0, 528.0, 337.0, 2504.0], \"sizemode\": \"area\", \"sizeref\": 5}, \"mode\": \"markers\", \"name\": \"UA\", \"text\": [\"MCO\", \"LAX\", \"ORD\", \"ROC\", \"SFO\", \"KOA\"], \"x\": [212.0, 324.0, 176.0, 80.0, 54.0, 281.0], \"y\": [233.0, 228.0, 200.0, 194.0, 190.0, 188.0], \"type\": \"scatter\"}, {\"marker\": {\"size\": [390.0, 1107.0], \"sizemode\": \"area\", \"sizeref\": 5}, \"mode\": \"markers\", \"name\": \"OH\", \"text\": [\"CVG\", \"MCI\"], \"x\": [62.0, 131.0], \"y\": [231.0, 208.0], \"type\": \"scatter\"}, {\"marker\": {\"size\": [668.0, 519.0, 438.0, 308.0, 838.0, 192.0, 487.0], \"sizemode\": \"area\", \"sizeref\": 5}, \"mode\": \"markers\", \"name\": \"XE\", \"text\": [\"STL\", \"AMA\", \"XNA\", \"BRO\", \"GSP\", \"IAH\", \"DTW\"], \"x\": [108.0, 71.0, 75.0, 47.0, 148.0, 32.0, 73.0], \"y\": [456.0, 295.0, 268.0, 216.0, 198.0, 196.0, 183.0], \"type\": \"scatter\"}, {\"marker\": {\"size\": [], \"sizemode\": \"area\", \"sizeref\": 5}, \"mode\": \"markers\", \"name\": \"F9\", \"text\": [], \"x\": [], \"y\": [], \"type\": \"scatter\"}, {\"marker\": {\"size\": [666.0, 179.0, 978.0, 666.0, 843.0, 775.0, 666.0, 235.0, 826.0, 515.0, 717.0, 599.0, 773.0, 344.0, 693.0, 693.0, 599.0], \"sizemode\": \"area\", \"sizeref\": 5}, \"mode\": \"markers\", \"name\": \"YV\", \"text\": [\"CAE\", \"ORD\", \"ORD\", \"ORD\", \"ORD\", \"AUS\", \"ORD\", \"DTW\", \"DEN\", \"SAV\", \"ORF\", \"ORD\", \"ORD\", \"CAK\", \"OKC\", \"ORD\", \"ORD\"], \"x\": [99.0, 38.0, 134.0, 88.0, 105.0, 110.0, 89.0, 47.0, 108.0, 75.0, 109.0, 82.0, 95.0, 66.0, 108.0, 98.0, 76.0], \"y\": [345.0, 285.0, 273.0, 266.0, 263.0, 262.0, 261.0, 255.0, 224.0, 223.0, 219.0, 210.0, 207.0, 202.0, 191.0, 189.0, 189.0], \"type\": \"scatter\"}, {\"marker\": {\"size\": [852.0, 528.0, 508.0, 528.0, 781.0], \"sizemode\": \"area\", \"sizeref\": 5}, \"mode\": \"markers\", \"name\": \"EV\", \"text\": [\"ALB\", \"CAK\", \"ATL\", \"ATL\", \"ATL\"], \"x\": [149.0, 80.0, 77.0, 68.0, 113.0], \"y\": [452.0, 347.0, 284.0, 256.0, 243.0], \"type\": \"scatter\"}, {\"marker\": {\"size\": [2677.0], \"sizemode\": \"area\", \"sizeref\": 5}, \"mode\": \"markers\", \"name\": \"HA\", \"text\": [\"SEA\"], \"x\": [333.0], \"y\": [298.0], \"type\": \"scatter\"}, {\"marker\": {\"size\": [938.0, 938.0, 631.0, 1011.0], \"sizemode\": \"area\", \"sizeref\": 5}, \"mode\": \"markers\", \"name\": \"B6\", \"text\": [\"EWR\", \"MCO\", \"FLL\", \"MCO\"], \"x\": [147.0, 119.0, 97.0, 116.0], \"y\": [258.0, 257.0, 253.0, 248.0], \"type\": \"scatter\"}, {\"marker\": {\"size\": [], \"sizemode\": \"area\", \"sizeref\": 5}, \"mode\": \"markers\", \"name\": \"WN\", \"text\": [], \"x\": [], \"y\": [], \"type\": \"scatter\"}], \"name\": \"27\"}, {\"data\": [{\"marker\": {\"size\": [1162.0, 732.0, 1045.0, 720.0, 1235.0, 748.0, 748.0, 247.0], \"sizemode\": \"area\", \"sizeref\": 5}, \"mode\": \"markers\", \"name\": \"AA\", \"text\": [\"JAC\", \"ATL\", \"MIA\", \"EGE\", \"DFW\", \"EGE\", \"LAX\", \"SAT\"], \"x\": [140.0, 116.0, 123.0, 101.0, 165.0, 106.0, 101.0, 43.0], \"y\": [439.0, 343.0, 297.0, 280.0, 238.0, 229.0, 205.0, 201.0], \"type\": \"scatter\"}, {\"marker\": {\"size\": [1034.0, 1127.0], \"sizemode\": \"area\", \"sizeref\": 5}, \"mode\": \"markers\", \"name\": \"NW\", \"text\": [\"IAH\", \"DTW\"], \"x\": [137.0, 146.0], \"y\": [489.0, 226.0], \"type\": \"scatter\"}, {\"marker\": {\"size\": [432.0, 1182.0], \"sizemode\": \"area\", \"sizeref\": 5}, \"mode\": \"markers\", \"name\": \"FL\", \"text\": [\"DAY\", \"FLL\"], \"x\": [63.0, 174.0], \"y\": [355.0, 198.0], \"type\": \"scatter\"}, {\"marker\": {\"size\": [693.0, 859.0, 130.0, 281.0, 282.0], \"sizemode\": \"area\", \"sizeref\": 5}, \"mode\": \"markers\", \"name\": \"MQ\", \"text\": [\"OKC\", \"DFW\", \"PIA\", \"DFW\", \"LBB\"], \"x\": [96.0, 104.0, 39.0, 41.0, 45.0], \"y\": [310.0, 241.0, 227.0, 210.0, 200.0], \"type\": \"scatter\"}, {\"marker\": {\"size\": [353.0, 417.0], \"sizemode\": \"area\", \"sizeref\": 5}, \"mode\": \"markers\", \"name\": \"9E\", \"text\": [\"DTW\", \"MEM\"], \"x\": [52.0, 59.0], \"y\": [205.0, 184.0], \"type\": \"scatter\"}, {\"marker\": {\"size\": [], \"sizemode\": \"area\", \"sizeref\": 5}, \"mode\": \"markers\", \"name\": \"CO\", \"text\": [], \"x\": [], \"y\": [], \"type\": \"scatter\"}, {\"marker\": {\"size\": [397.0, 192.0, 403.0, 1187.0], \"sizemode\": \"area\", \"sizeref\": 5}, \"mode\": \"markers\", \"name\": \"OO\", \"text\": [\"DLH\", \"SFO\", \"MCI\", \"OKC\"], \"x\": [64.0, 35.0, 72.0, 170.0], \"y\": [254.0, 203.0, 186.0, 186.0], \"type\": \"scatter\"}, {\"marker\": {\"size\": [732.0, 813.0], \"sizemode\": \"area\", \"sizeref\": 5}, \"mode\": \"markers\", \"name\": \"DL\", \"text\": [\"DFW\", \"AUS\"], \"x\": [89.0, 101.0], \"y\": [526.0, 249.0], \"type\": \"scatter\"}, {\"marker\": {\"size\": [933.0, 1476.0, 569.0, 95.0], \"sizemode\": \"area\", \"sizeref\": 5}, \"mode\": \"markers\", \"name\": \"AS\", \"text\": [\"SAN\", \"AUS\", \"SJC\", \"JNU\"], \"x\": [131.0, 212.0, 90.0, 22.0], \"y\": [261.0, 258.0, 239.0, 202.0], \"type\": \"scatter\"}, {\"marker\": {\"size\": [], \"sizemode\": \"area\", \"sizeref\": 5}, \"mode\": \"markers\", \"name\": \"US\", \"text\": [], \"x\": [], \"y\": [], \"type\": \"scatter\"}, {\"marker\": {\"size\": [550.0, 846.0, 1012.0], \"sizemode\": \"area\", \"sizeref\": 5}, \"mode\": \"markers\", \"name\": \"UA\", \"text\": [\"PDX\", \"SNA\", \"ORD\"], \"x\": [71.0, 104.0, 117.0], \"y\": [584.0, 296.0, 193.0], \"type\": \"scatter\"}, {\"marker\": {\"size\": [382.0, 585.0, 752.0, 184.0, 445.0, 98.0, 229.0, 145.0, 414.0], \"sizemode\": \"area\", \"sizeref\": 5}, \"mode\": \"markers\", \"name\": \"OH\", \"text\": [\"JFK\", \"LGA\", \"BOS\", \"BWI\", \"ATL\", \"CVG\", \"DTW\", \"JFK\", \"DCA\"], \"x\": [75.0, 94.0, 129.0, 55.0, 64.0, 34.0, 46.0, 25.0, 78.0], \"y\": [264.0, 255.0, 255.0, 255.0, 230.0, 206.0, 201.0, 200.0, 186.0], \"type\": \"scatter\"}, {\"marker\": {\"size\": [871.0, 197.0, 251.0, 644.0, 689.0, 878.0, 1008.0], \"sizemode\": \"area\", \"sizeref\": 5}, \"mode\": \"markers\", \"name\": \"XE\", \"text\": [\"CVG\", \"MTJ\", \"DEN\", \"EWR\", \"IAH\", \"CAE\", \"MSP\"], \"x\": [133.0, 34.0, 39.0, 104.0, 89.0, 148.0, 124.0], \"y\": [368.0, 282.0, 276.0, 239.0, 233.0, 230.0, 228.0], \"type\": \"scatter\"}, {\"marker\": {\"size\": [], \"sizemode\": \"area\", \"sizeref\": 5}, \"mode\": \"markers\", \"name\": \"F9\", \"text\": [], \"x\": [], \"y\": [], \"type\": \"scatter\"}, {\"marker\": {\"size\": [224.0, 160.0, 160.0, 551.0, 160.0, 160.0, 196.0, 401.0, 160.0], \"sizemode\": \"area\", \"sizeref\": 5}, \"mode\": \"markers\", \"name\": \"YV\", \"text\": [\"TVC\", \"ORD\", \"ATW\", \"COS\", \"ORD\", \"ATW\", \"CID\", \"IAD\", \"YUM\"], \"x\": [44.0, 36.0, 33.0, 98.0, 39.0, 36.0, 40.0, 60.0, 29.0], \"y\": [463.0, 245.0, 244.0, 241.0, 239.0, 219.0, 216.0, 202.0, 189.0], \"type\": \"scatter\"}, {\"marker\": {\"size\": [533.0], \"sizemode\": \"area\", \"sizeref\": 5}, \"mode\": \"markers\", \"name\": \"EV\", \"text\": [\"BMI\"], \"x\": [74.0], \"y\": [426.0], \"type\": \"scatter\"}, {\"marker\": {\"size\": [], \"sizemode\": \"area\", \"sizeref\": 5}, \"mode\": \"markers\", \"name\": \"HA\", \"text\": [], \"x\": [], \"y\": [], \"type\": \"scatter\"}, {\"marker\": {\"size\": [1597.0, 740.0, 846.0, 740.0], \"sizemode\": \"area\", \"sizeref\": 5}, \"mode\": \"markers\", \"name\": \"B6\", \"text\": [\"SJU\", \"ORD\", \"LGB\", \"ORD\"], \"x\": [214.0, 107.0, 120.0, 97.0], \"y\": [302.0, 284.0, 229.0, 208.0], \"type\": \"scatter\"}, {\"marker\": {\"size\": [281.0, 883.0, 1050.0, 587.0, 1111.0], \"sizemode\": \"area\", \"sizeref\": 5}, \"mode\": \"markers\", \"name\": \"WN\", \"text\": [\"BUF\", \"BWI\", \"BDL\", \"TPA\", \"BDL\"], \"x\": [47.0, 122.0, 157.0, 85.0, 159.0], \"y\": [271.0, 269.0, 217.0, 208.0, 208.0], \"type\": \"scatter\"}], \"name\": \"28\"}, {\"data\": [{\"marker\": {\"size\": [], \"sizemode\": \"area\", \"sizeref\": 5}, \"mode\": \"markers\", \"name\": \"AA\", \"text\": [], \"x\": [], \"y\": [], \"type\": \"scatter\"}, {\"marker\": {\"size\": [288.0, 957.0, 393.0, 235.0, 2603.0], \"sizemode\": \"area\", \"sizeref\": 5}, \"mode\": \"markers\", \"name\": \"NW\", \"text\": [\"GRB\", \"MCO\", \"MCI\", \"ORD\", \"PDX\"], \"x\": [45.0, 123.0, 60.0, 47.0, 373.0], \"y\": [546.0, 284.0, 281.0, 211.0, 187.0], \"type\": \"scatter\"}, {\"marker\": {\"size\": [], \"sizemode\": \"area\", \"sizeref\": 5}, \"mode\": \"markers\", \"name\": \"FL\", \"text\": [], \"x\": [], \"y\": [], \"type\": \"scatter\"}, {\"marker\": {\"size\": [626.0, 308.0, 181.0, 812.0], \"sizemode\": \"area\", \"sizeref\": 5}, \"mode\": \"markers\", \"name\": \"MQ\", \"text\": [\"DFW\", \"SJC\", \"DFW\", \"DFW\"], \"x\": [85.0, 50.0, 29.0, 100.0], \"y\": [240.0, 202.0, 186.0, 185.0], \"type\": \"scatter\"}, {\"marker\": {\"size\": [314.0], \"sizemode\": \"area\", \"sizeref\": 5}, \"mode\": \"markers\", \"name\": \"9E\", \"text\": [\"BMI\"], \"x\": [67.0], \"y\": [224.0], \"type\": \"scatter\"}, {\"marker\": {\"size\": [1379.0], \"sizemode\": \"area\", \"sizeref\": 5}, \"mode\": \"markers\", \"name\": \"CO\", \"text\": [\"IAH\"], \"x\": [195.0], \"y\": [187.0], \"type\": \"scatter\"}, {\"marker\": {\"size\": [826.0, 150.0, 964.0, 161.0, 422.0, 563.0, 525.0, 223.0, 601.0], \"sizemode\": \"area\", \"sizeref\": 5}, \"mode\": \"markers\", \"name\": \"OO\", \"text\": [\"MSN\", \"SLC\", \"MFR\", \"SLC\", \"SLC\", \"DEN\", \"DEN\", \"SLC\", \"SLC\"], \"x\": [124.0, 42.0, 119.0, 36.0, 68.0, 85.0, 70.0, 50.0, 77.0], \"y\": [507.0, 315.0, 264.0, 246.0, 218.0, 217.0, 203.0, 202.0, 201.0], \"type\": \"scatter\"}, {\"marker\": {\"size\": [516.0, 594.0, 2504.0, 595.0, 446.0], \"sizemode\": \"area\", \"sizeref\": 5}, \"mode\": \"markers\", \"name\": \"DL\", \"text\": [\"ORF\", \"DTW\", \"LAX\", \"ATL\", \"CMH\"], \"x\": [89.0, 99.0, 328.0, 94.0, 68.0], \"y\": [559.0, 468.0, 205.0, 191.0, 189.0], \"type\": \"scatter\"}, {\"marker\": {\"size\": [], \"sizemode\": \"area\", \"sizeref\": 5}, \"mode\": \"markers\", \"name\": \"AS\", \"text\": [], \"x\": [], \"y\": [], \"type\": \"scatter\"}, {\"marker\": {\"size\": [1276.0], \"sizemode\": \"area\", \"sizeref\": 5}, \"mode\": \"markers\", \"name\": \"US\", \"text\": [\"PHX\"], \"x\": [153.0], \"y\": [302.0], \"type\": \"scatter\"}, {\"marker\": {\"size\": [2398.0, 2398.0, 719.0], \"sizemode\": \"area\", \"sizeref\": 5}, \"mode\": \"markers\", \"name\": \"UA\", \"text\": [\"HNL\", \"SFO\", \"EWR\"], \"x\": [282.0, 326.0, 116.0], \"y\": [535.0, 396.0, 296.0], \"type\": \"scatter\"}, {\"marker\": {\"size\": [740.0, 213.0, 740.0, 750.0, 213.0], \"sizemode\": \"area\", \"sizeref\": 5}, \"mode\": \"markers\", \"name\": \"OH\", \"text\": [\"ORD\", \"DCA\", \"JFK\", \"BGR\", \"JFK\"], \"x\": [109.0, 48.0, 129.0, 124.0, 46.0], \"y\": [344.0, 311.0, 248.0, 220.0, 189.0], \"type\": \"scatter\"}, {\"marker\": {\"size\": [569.0, 748.0, 657.0, 427.0, 562.0, 209.0, 772.0], \"sizemode\": \"area\", \"sizeref\": 5}, \"mode\": \"markers\", \"name\": \"XE\", \"text\": [\"EWR\", \"EWR\", \"BNA\", \"MOB\", \"BHM\", \"EWR\", \"IAH\"], \"x\": [101.0, 119.0, 112.0, 69.0, 100.0, 43.0, 86.0], \"y\": [370.0, 346.0, 296.0, 222.0, 221.0, 219.0, 192.0], \"type\": \"scatter\"}, {\"marker\": {\"size\": [], \"sizemode\": \"area\", \"sizeref\": 5}, \"mode\": \"markers\", \"name\": \"F9\", \"text\": [], \"x\": [], \"y\": [], \"type\": \"scatter\"}, {\"marker\": {\"size\": [455.0, 872.0, 455.0], \"sizemode\": \"area\", \"sizeref\": 5}, \"mode\": \"markers\", \"name\": \"YV\", \"text\": [\"PHX\", \"AUS\", \"SBA\"], \"x\": [117.0, 132.0, 93.0], \"y\": [284.0, 281.0, 257.0], \"type\": \"scatter\"}, {\"marker\": {\"size\": [303.0], \"sizemode\": \"area\", \"sizeref\": 5}, \"mode\": \"markers\", \"name\": \"EV\", \"text\": [\"LEX\"], \"x\": [50.0], \"y\": [208.0], \"type\": \"scatter\"}, {\"marker\": {\"size\": [], \"sizemode\": \"area\", \"sizeref\": 5}, \"mode\": \"markers\", \"name\": \"HA\", \"text\": [], \"x\": [], \"y\": [], \"type\": \"scatter\"}, {\"marker\": {\"size\": [1074.0, 340.0, 829.0, 938.0], \"sizemode\": \"area\", \"sizeref\": 5}, \"mode\": \"markers\", \"name\": \"B6\", \"text\": [\"JFK\", \"PIT\", \"JFK\", \"EWR\"], \"x\": [157.0, 64.0, 121.0, 128.0], \"y\": [225.0, 217.0, 200.0, 184.0], \"type\": \"scatter\"}, {\"marker\": {\"size\": [689.0, 507.0, 861.0, 347.0, 861.0, 276.0], \"sizemode\": \"area\", \"sizeref\": 5}, \"mode\": \"markers\", \"name\": \"WN\", \"text\": [\"SLC\", \"PHX\", \"BOS\", \"ELP\", \"BOS\", \"HRL\"], \"x\": [99.0, 80.0, 135.0, 59.0, 137.0, 43.0], \"y\": [268.0, 253.0, 249.0, 247.0, 218.0, 196.0], \"type\": \"scatter\"}], \"name\": \"29\"}, {\"data\": [{\"marker\": {\"size\": [1012.0, 2342.0, 403.0, 867.0], \"sizemode\": \"area\", \"sizeref\": 5}, \"mode\": \"markers\", \"name\": \"AA\", \"text\": [\"TPA\", \"LAX\", \"MCI\", \"BOS\"], \"x\": [129.0, 251.0, 62.0, 138.0], \"y\": [762.0, 311.0, 300.0, 215.0], \"type\": \"scatter\"}, {\"marker\": {\"size\": [1023.0, 501.0, 405.0, 4502.0], \"sizemode\": \"area\", \"sizeref\": 5}, \"mode\": \"markers\", \"name\": \"NW\", \"text\": [\"SRQ\", \"RDU\", \"DCA\", \"ATL\"], \"x\": [133.0, 93.0, 74.0, 614.0], \"y\": [941.0, 599.0, 456.0, 440.0], \"type\": \"scatter\"}, {\"marker\": {\"size\": [406.0], \"sizemode\": \"area\", \"sizeref\": 5}, \"mode\": \"markers\", \"name\": \"FL\", \"text\": [\"DAY\"], \"x\": [61.0], \"y\": [269.0], \"type\": \"scatter\"}, {\"marker\": {\"size\": [522.0], \"sizemode\": \"area\", \"sizeref\": 5}, \"mode\": \"markers\", \"name\": \"MQ\", \"text\": [\"XNA\"], \"x\": [78.0], \"y\": [430.0], \"type\": \"scatter\"}, {\"marker\": {\"size\": [790.0, 668.0], \"sizemode\": \"area\", \"sizeref\": 5}, \"mode\": \"markers\", \"name\": \"9E\", \"text\": [\"TUL\", \"PWM\"], \"x\": [108.0, 105.0], \"y\": [397.0, 184.0], \"type\": \"scatter\"}, {\"marker\": {\"size\": [861.0, 1608.0, 1201.0, 1400.0, 1608.0, 1201.0, 1585.0], \"sizemode\": \"area\", \"sizeref\": 5}, \"mode\": \"markers\", \"name\": \"CO\", \"text\": [\"DEN\", \"SJU\", \"CLE\", \"IAH\", \"SJU\", \"DEN\", \"BQN\"], \"x\": [119.0, 230.0, 169.0, 163.0, 233.0, 141.0, 226.0], \"y\": [525.0, 499.0, 325.0, 297.0, 294.0, 281.0, 189.0], \"type\": \"scatter\"}, {\"marker\": {\"size\": [212.0, 423.0, 72.0, 174.0, 349.0, 431.0], \"sizemode\": \"area\", \"sizeref\": 5}, \"mode\": \"markers\", \"name\": \"OO\", \"text\": [\"GJT\", \"DEN\", \"COS\", \"ORD\", \"ABQ\", \"PIT\"], \"x\": [39.0, 57.0, 27.0, 34.0, 51.0, 74.0], \"y\": [321.0, 290.0, 275.0, 254.0, 218.0, 214.0], \"type\": \"scatter\"}, {\"marker\": {\"size\": [406.0, 1599.0, 1449.0], \"sizemode\": \"area\", \"sizeref\": 5}, \"mode\": \"markers\", \"name\": \"DL\", \"text\": [\"TPA\", \"STT\", \"SLC\"], \"x\": [62.0, 220.0, 173.0], \"y\": [552.0, 303.0, 205.0], \"type\": \"scatter\"}, {\"marker\": {\"size\": [2311.0], \"sizemode\": \"area\", \"sizeref\": 5}, \"mode\": \"markers\", \"name\": \"AS\", \"text\": [\"DCA\"], \"x\": [320.0], \"y\": [431.0], \"type\": \"scatter\"}, {\"marker\": {\"size\": [], \"sizemode\": \"area\", \"sizeref\": 5}, \"mode\": \"markers\", \"name\": \"US\", \"text\": [], \"x\": [], \"y\": [], \"type\": \"scatter\"}, {\"marker\": {\"size\": [888.0, 967.0, 2704.0], \"sizemode\": \"area\", \"sizeref\": 5}, \"mode\": \"markers\", \"name\": \"UA\", \"text\": [\"DEN\", \"DEN\", \"BOS\"], \"x\": [109.0, 150.0, 355.0], \"y\": [200.0, 187.0, 183.0], \"type\": \"scatter\"}, {\"marker\": {\"size\": [223.0, 692.0, 445.0, 1113.0], \"sizemode\": \"area\", \"sizeref\": 5}, \"mode\": \"markers\", \"name\": \"OH\", \"text\": [\"TLH\", \"ATL\", \"SRQ\", \"MCI\"], \"x\": [43.0, 111.0, 69.0, 132.0], \"y\": [238.0, 224.0, 201.0, 183.0], \"type\": \"scatter\"}, {\"marker\": {\"size\": [562.0, 817.0, 253.0], \"sizemode\": \"area\", \"sizeref\": 5}, \"mode\": \"markers\", \"name\": \"XE\", \"text\": [\"BHM\", \"JAX\", \"IAH\"], \"x\": [92.0, 145.0, 37.0], \"y\": [540.0, 329.0, 205.0], \"type\": \"scatter\"}, {\"marker\": {\"size\": [], \"sizemode\": \"area\", \"sizeref\": 5}, \"mode\": \"markers\", \"name\": \"F9\", \"text\": [], \"x\": [], \"y\": [], \"type\": \"scatter\"}, {\"marker\": {\"size\": [109.0, 666.0], \"sizemode\": \"area\", \"sizeref\": 5}, \"mode\": \"markers\", \"name\": \"YV\", \"text\": [\"MSN\", \"ORD\"], \"x\": [38.0, 96.0], \"y\": [329.0, 198.0], \"type\": \"scatter\"}, {\"marker\": {\"size\": [146.0], \"sizemode\": \"area\", \"sizeref\": 5}, \"mode\": \"markers\", \"name\": \"EV\", \"text\": [\"ABY\"], \"x\": [32.0], \"y\": [205.0], \"type\": \"scatter\"}, {\"marker\": {\"size\": [2762.0, 2762.0], \"sizemode\": \"area\", \"sizeref\": 5}, \"mode\": \"markers\", \"name\": \"HA\", \"text\": [\"LAS\", \"HNL\"], \"x\": [377.0, 311.0], \"y\": [442.0, 408.0], \"type\": \"scatter\"}, {\"marker\": {\"size\": [1189.0, 2153.0, 944.0, 1076.0, 944.0], \"sizemode\": \"area\", \"sizeref\": 5}, \"mode\": \"markers\", \"name\": \"B6\", \"text\": [\"MCO\", \"PHX\", \"MCO\", \"LGA\", \"MCO\"], \"x\": [139.0, 249.0, 116.0, 160.0, 125.0], \"y\": [283.0, 272.0, 262.0, 242.0, 235.0], \"type\": \"scatter\"}, {\"marker\": {\"size\": [181.0], \"sizemode\": \"area\", \"sizeref\": 5}, \"mode\": \"markers\", \"name\": \"WN\", \"text\": [\"OKC\"], \"x\": [39.0], \"y\": [201.0], \"type\": \"scatter\"}], \"name\": \"30\"}, {\"data\": [{\"marker\": {\"size\": [2486.0, 583.0, 919.0, 1464.0, 1389.0, 1045.0, 1440.0], \"sizemode\": \"area\", \"sizeref\": 5}, \"mode\": \"markers\", \"name\": \"AA\", \"text\": [\"OGG\", \"OMA\", \"JAX\", \"SFO\", \"LGA\", \"MIA\", \"ORD\"], \"x\": [271.0, 95.0, 145.0, 168.0, 210.0, 116.0, 194.0], \"y\": [619.0, 334.0, 318.0, 257.0, 243.0, 230.0, 229.0], \"type\": \"scatter\"}, {\"marker\": {\"size\": [405.0, 627.0], \"sizemode\": \"area\", \"sizeref\": 5}, \"mode\": \"markers\", \"name\": \"NW\", \"text\": [\"DCA\", \"MSP\"], \"x\": [73.0, 89.0], \"y\": [278.0, 238.0], \"type\": \"scatter\"}, {\"marker\": {\"size\": [], \"sizemode\": \"area\", \"sizeref\": 5}, \"mode\": \"markers\", \"name\": \"FL\", \"text\": [], \"x\": [], \"y\": [], \"type\": \"scatter\"}, {\"marker\": {\"size\": [164.0, 174.0, 685.0, 304.0, 738.0, 647.0, 303.0], \"sizemode\": \"area\", \"sizeref\": 5}, \"mode\": \"markers\", \"name\": \"MQ\", \"text\": [\"CLL\", \"GRB\", \"DFW\", \"LIT\", \"HPN\", \"ORD\", \"ORD\"], \"x\": [34.0, 42.0, 94.0, 62.0, 123.0, 89.0, 45.0], \"y\": [361.0, 269.0, 259.0, 208.0, 201.0, 193.0, 191.0], \"type\": \"scatter\"}, {\"marker\": {\"size\": [332.0], \"sizemode\": \"area\", \"sizeref\": 5}, \"mode\": \"markers\", \"name\": \"9E\", \"text\": [\"MEM\"], \"x\": [50.0], \"y\": [201.0], \"type\": \"scatter\"}, {\"marker\": {\"size\": [1597.0, 1608.0, 2401.0], \"sizemode\": \"area\", \"sizeref\": 5}, \"mode\": \"markers\", \"name\": \"CO\", \"text\": [\"BOS\", \"SJU\", \"EWR\"], \"x\": [263.0, 230.0, 348.0], \"y\": [368.0, 237.0, 228.0], \"type\": \"scatter\"}, {\"marker\": {\"size\": [1186.0, 637.0, 463.0, 463.0, 313.0, 716.0], \"sizemode\": \"area\", \"sizeref\": 5}, \"mode\": \"markers\", \"name\": \"OO\", \"text\": [\"BZN\", \"SGF\", \"GTF\", \"SLC\", \"GCC\", \"ORD\"], \"x\": [138.0, 101.0, 66.0, 72.0, 57.0, 109.0], \"y\": [291.0, 253.0, 220.0, 214.0, 212.0, 196.0], \"type\": \"scatter\"}, {\"marker\": {\"size\": [756.0, 756.0, 1090.0, 1076.0, 1449.0, 946.0, 2475.0], \"sizemode\": \"area\", \"sizeref\": 5}, \"mode\": \"markers\", \"name\": \"DL\", \"text\": [\"CVG\", \"MCO\", \"MIA\", \"FLL\", \"SLC\", \"BOS\", \"LAX\"], \"x\": [106.0, 106.0, 133.0, 137.0, 172.0, 153.0, 284.0], \"y\": [517.0, 494.0, 225.0, 221.0, 217.0, 194.0, 186.0], \"type\": \"scatter\"}, {\"marker\": {\"size\": [2496.0], \"sizemode\": \"area\", \"sizeref\": 5}, \"mode\": \"markers\", \"name\": \"AS\", \"text\": [\"BOS\"], \"x\": [335.0], \"y\": [330.0], \"type\": \"scatter\"}, {\"marker\": {\"size\": [2378.0, 665.0, 920.0, 665.0], \"sizemode\": \"area\", \"sizeref\": 5}, \"mode\": \"markers\", \"name\": \"US\", \"text\": [\"SEA\", \"PHL\", \"TPA\", \"PHL\"], \"x\": [285.0, 131.0, 103.0, 121.0], \"y\": [238.0, 215.0, 202.0, 186.0], \"type\": \"scatter\"}, {\"marker\": {\"size\": [142.0, 1721.0, 2457.0, 1452.0], \"sizemode\": \"area\", \"sizeref\": 5}, \"mode\": \"markers\", \"name\": \"UA\", \"text\": [\"HDN\", \"SEA\", \"BWI\", \"DEN\"], \"x\": [29.0, 194.0, 334.0, 158.0], \"y\": [524.0, 331.0, 239.0, 191.0], \"type\": \"scatter\"}, {\"marker\": {\"size\": [187.0, 209.0, 651.0, 187.0, 1391.0], \"sizemode\": \"area\", \"sizeref\": 5}, \"mode\": \"markers\", \"name\": \"OH\", \"text\": [\"JFK\", \"JFK\", \"DTW\", \"BOS\", \"DFW\"], \"x\": [37.0, 45.0, 121.0, 47.0, 185.0], \"y\": [287.0, 276.0, 267.0, 246.0, 225.0], \"type\": \"scatter\"}, {\"marker\": {\"size\": [1215.0, 194.0, 209.0, 984.0, 542.0, 748.0], \"sizemode\": \"area\", \"sizeref\": 5}, \"mode\": \"markers\", \"name\": \"XE\", \"text\": [\"TUL\", \"SYR\", \"EWR\", \"IAH\", \"ICT\", \"EWR\"], \"x\": [125.0, 40.0, 40.0, 118.0, 81.0, 136.0], \"y\": [552.0, 263.0, 252.0, 201.0, 190.0, 188.0], \"type\": \"scatter\"}, {\"marker\": {\"size\": [], \"sizemode\": \"area\", \"sizeref\": 5}, \"mode\": \"markers\", \"name\": \"F9\", \"text\": [], \"x\": [], \"y\": [], \"type\": \"scatter\"}, {\"marker\": {\"size\": [717.0, 717.0], \"sizemode\": \"area\", \"sizeref\": 5}, \"mode\": \"markers\", \"name\": \"YV\", \"text\": [\"ORD\", \"ORF\"], \"x\": [101.0, 117.0], \"y\": [216.0, 208.0], \"type\": \"scatter\"}, {\"marker\": {\"size\": [], \"sizemode\": \"area\", \"sizeref\": 5}, \"mode\": \"markers\", \"name\": \"EV\", \"text\": [], \"x\": [], \"y\": [], \"type\": \"scatter\"}, {\"marker\": {\"size\": [], \"sizemode\": \"area\", \"sizeref\": 5}, \"mode\": \"markers\", \"name\": \"HA\", \"text\": [], \"x\": [], \"y\": [], \"type\": \"scatter\"}, {\"marker\": {\"size\": [1674.0, 1028.0, 950.0], \"sizemode\": \"area\", \"sizeref\": 5}, \"mode\": \"markers\", \"name\": \"B6\", \"text\": [\"SJU\", \"JFK\", \"MCO\"], \"x\": [225.0, 165.0, 112.0], \"y\": [209.0, 202.0, 187.0], \"type\": \"scatter\"}, {\"marker\": {\"size\": [1054.0, 670.0, 989.0, 861.0, 544.0], \"sizemode\": \"area\", \"sizeref\": 5}, \"mode\": \"markers\", \"name\": \"WN\", \"text\": [\"TPA\", \"BNA\", \"MCO\", \"BOS\", \"MDW\"], \"x\": [135.0, 122.0, 139.0, 139.0, 79.0], \"y\": [279.0, 260.0, 216.0, 201.0, 189.0], \"type\": \"scatter\"}], \"name\": \"31\"}]);\n",
       "                        }).then(function(){\n",
       "                            \n",
       "var gd = document.getElementById('7b7cf0c8-577f-4f95-b610-8d1ade74baa8');\n",
       "var x = new MutationObserver(function (mutations, observer) {{\n",
       "        var display = window.getComputedStyle(gd).display;\n",
       "        if (!display || display === 'none') {{\n",
       "            console.log([gd, 'removed!']);\n",
       "            Plotly.purge(gd);\n",
       "            observer.disconnect();\n",
       "        }}\n",
       "}});\n",
       "\n",
       "// Listen for the removal of the full notebook cells\n",
       "var notebookContainer = gd.closest('#notebook-container');\n",
       "if (notebookContainer) {{\n",
       "    x.observe(notebookContainer, {childList: true});\n",
       "}}\n",
       "\n",
       "// Listen for the clearing of the current output cell\n",
       "var outputEl = gd.closest('.output');\n",
       "if (outputEl) {{\n",
       "    x.observe(outputEl, {childList: true});\n",
       "}}\n",
       "\n",
       "                        })                };                });            </script>        </div>"
      ]
     },
     "metadata": {},
     "output_type": "display_data"
    }
   ],
   "source": [
    "import plotly.graph_objects as go\n",
    "import pandas as pd\n",
    "\n",
    "\n",
    "dataset = pd.read_csv(\"./Flights dataset.csv\")\n",
    "dataset = dataset[dataset['CARRIER_DELAY']> 1]\n",
    "dataset.sort_values(by = 'ARR_DELAY', ascending = False, inplace = True)\n",
    "dataset = dataset.head(2000)\n",
    "\n",
    "#ordered dates of December from 1st to 31st \n",
    "days = [\"1\", \"2\", \"3\", \"4\", \"5\", \"6\", \"7\", \"8\", \"9\", \n",
    "        \"10\",\"11\", \"12\", \"13\", \"14\", \"15\", \"16\", \"17\", \"18\", \"19\", \n",
    "        \"20\",\"21\", \"22\", \"23\", \"24\", \"25\", \"26\", \"27\", \"28\", \"29\",\n",
    "        \"30\",\"31\"]\n",
    "\n",
    "# make list of carriers\n",
    "carriers = []\n",
    "for carrier in dataset[\"CARRIER\"]:\n",
    "    if carrier not in carriers:\n",
    "        carriers.append(carrier)\n",
    "        \n",
    "# set up the layout of the figure\n",
    "fig_dict = {\n",
    "    \"data\": [],\n",
    "    \"layout\": {},\n",
    "    \"frames\": []\n",
    "}\n",
    "\n",
    "# layout {} section set ups \n",
    "fig_dict[\"layout\"][\"xaxis\"] = {\"range\": [1.1, 2.9], \"title\": \"Time of flight (min)\", \"type\": \"log\"}\n",
    "fig_dict[\"layout\"][\"yaxis\"] = {\"range\": [2.2, 3.3], \"title\": \"Arrive delay time(min)\", \"type\": \"log\"}\n",
    "fig_dict[\"layout\"][\"hovermode\"] = \"closest\"\n",
    "fig_dict[\"layout\"][\"updatemenus\"] = [\n",
    "    {\n",
    "        \"buttons\": [\n",
    "            {\n",
    "                \"args\": [None, {\"frame\": {\"duration\": 2000, \"redraw\": False},#data moving speed\n",
    "                                \"fromcurrent\": True, \"transition\": {\"duration\": 1200,\n",
    "                                                                    \"easing\": \"quadratic-in-out\"}}],\n",
    "                \"label\": \"Play\",\n",
    "                \"method\": \"animate\"\n",
    "            },\n",
    "            {\n",
    "                \"args\": [[None], {\"frame\": {\"duration\": 0, \"redraw\": False},\n",
    "                                  \"mode\": \"immediate\",\n",
    "                                  \"transition\": {\"duration\": 0}}],\n",
    "                \"label\": \"Pause\",\n",
    "                \"method\": \"animate\"\n",
    "            }\n",
    "        ],\n",
    "        \"direction\": \"left\",\n",
    "        \"pad\": {\"r\": 10, \"t\": 87},\n",
    "        \"showactive\": False,\n",
    "        \"type\": \"buttons\",\n",
    "        \"x\": 0.1,\n",
    "        \"xanchor\": \"right\",\n",
    "        \"y\": 0,\n",
    "        \"yanchor\": \"top\"\n",
    "    }\n",
    "]\n",
    "\n",
    "sliders_dict = {\n",
    "    \"active\": 0,\n",
    "    \"yanchor\": \"top\",\n",
    "    \"xanchor\": \"left\",\n",
    "    \"currentvalue\": {\n",
    "        \"font\": {\"size\": 20},\n",
    "        \"prefix\": \"Date of December:\",\n",
    "        \"visible\": True,\n",
    "        \"xanchor\": \"right\"\n",
    "    },\n",
    "    #slider moving speed\n",
    "    \"transition\": {\"duration\": 1200, \"easing\": \"cubic-in-out\"},\n",
    "    \"pad\": {\"b\": 10, \"t\": 50},\n",
    "    \"len\": 0.9,\n",
    "    \"x\": 0.1,\n",
    "    \"y\": 0,\n",
    "    \"steps\": []\n",
    "}\n",
    "\n",
    "# data [] section set ups\n",
    "day = 1 # start from Dec 1st, each date will be dealed with following steps\n",
    "for carrier in carriers:\n",
    "    dataset_by_day = dataset[dataset[\"DAY_OF_MONTH\"] == day]\n",
    "    dataset_by_day_and_carr = dataset_by_day[dataset_by_day[\"CARRIER\"] == carrier]\n",
    "\n",
    "    data_dict = {\n",
    "        \"x\": list(dataset_by_day_and_carr[\"AIR_TIME\"]),\n",
    "        \"y\": list(dataset_by_day_and_carr[\"ARR_DELAY\"]),\n",
    "        \"mode\": \"markers\",\n",
    "        \"text\": list(dataset_by_day_and_carr[\"ORIGIN\"]),\n",
    "        \"marker\": {\n",
    "            \"sizemode\": \"area\",\n",
    "            \"sizeref\": 5,\n",
    "            \"size\": list(dataset_by_day_and_carr[\"DISTANCE\"])},\n",
    "        \"name\": carrier\n",
    "    }\n",
    "    fig_dict[\"data\"].append(data_dict)\n",
    "\n",
    "# frame [] section set ups \n",
    "for day in days: # add date into the new dataframe from Dec.1st to 31st\n",
    "    frame = {\"data\": [], \"name\": str(day)}\n",
    "    for carrier in carriers:\n",
    "        dataset_by_day = dataset[dataset[\"DAY_OF_MONTH\"] == int(day)]\n",
    "        dataset_by_day_and_carr = dataset_by_day[dataset_by_day[\"CARRIER\"] == carrier]\n",
    "\n",
    "        data_dict = {\n",
    "            \"x\": list(dataset_by_day_and_carr[\"AIR_TIME\"]),\n",
    "            \"y\": list(dataset_by_day_and_carr[\"ARR_DELAY\"]),\n",
    "            \"mode\": \"markers\",\n",
    "            \"text\": list(dataset_by_day_and_carr[\"ORIGIN\"]),\n",
    "            \"marker\": {\n",
    "                \"sizemode\": \"area\",\n",
    "                \"sizeref\": 5,\n",
    "                \"size\": list(dataset_by_day_and_carr[\"DISTANCE\"])},\n",
    "            \"name\": carrier\n",
    "        }\n",
    "        frame[\"data\"].append(data_dict)\n",
    "\n",
    "    fig_dict[\"frames\"].append(frame)\n",
    "    slider_step = {\"args\": [\n",
    "        [day],#transition duration speed set up here \n",
    "        {\"frame\": {\"duration\": 1200, \"redraw\": False},\n",
    "         \"mode\": \"immediate\",\n",
    "         \"transition\": {\"duration\": 1200}}\n",
    "    ],\n",
    "        \"label\": day,\n",
    "        \"method\": \"animate\"}\n",
    "    sliders_dict[\"steps\"].append(slider_step)\n",
    "\n",
    "#combine the layout{} section with animation sliders \n",
    "fig_dict[\"layout\"][\"sliders\"] = [sliders_dict]\n",
    "\n",
    "fig = go.Figure(fig_dict)\n",
    "\n",
    "#update new layout with title\n",
    "fig.update_layout(\n",
    "    title={\n",
    "        'text': \"Top 2000 Arrive Delayed Flights Causing by Carrier in Decmber 2009\",\n",
    "        'y':0.9,\n",
    "        'x':0.5,\n",
    "        'xanchor': 'center',\n",
    "        'yanchor': 'top'})\n",
    "\n",
    "fig.show()"
   ]
  },
  {
   "cell_type": "code",
   "execution_count": null,
   "metadata": {},
   "outputs": [],
   "source": []
  }
 ],
 "metadata": {
  "kernelspec": {
   "display_name": "Python 3",
   "language": "python",
   "name": "python3"
  },
  "language_info": {
   "codemirror_mode": {
    "name": "ipython",
    "version": 3
   },
   "file_extension": ".py",
   "mimetype": "text/x-python",
   "name": "python",
   "nbconvert_exporter": "python",
   "pygments_lexer": "ipython3",
   "version": "3.8.5"
  }
 },
 "nbformat": 4,
 "nbformat_minor": 4
}
