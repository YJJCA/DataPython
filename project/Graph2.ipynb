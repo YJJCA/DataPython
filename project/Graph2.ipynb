{
 "cells": [
  {
   "cell_type": "code",
   "execution_count": 149,
   "metadata": {},
   "outputs": [],
   "source": [
    "import datetime\n",
    "import numpy as np\n",
    "import pandas as pd\n",
    "import plotly.graph_objects as go\n",
    "from ipywidgets import widgets\n",
    "import heapq"
   ]
  },
  {
   "cell_type": "code",
   "execution_count": 150,
   "metadata": {},
   "outputs": [],
   "source": [
    "df1 = pd.read_csv( 'human_development.csv')\n",
    "df2 = pd.read_csv( 'gender_development.csv')"
   ]
  },
  {
   "cell_type": "code",
   "execution_count": 151,
   "metadata": {},
   "outputs": [],
   "source": [
    "df1.drop(df1.tail(7).index,inplace=True)\n",
    "Country_head = df1['Country'].head(10)\n",
    "Country_tail = df1['Country'].tail(10)"
   ]
  },
  {
   "cell_type": "code",
   "execution_count": 152,
   "metadata": {},
   "outputs": [
    {
     "name": "stdout",
     "output_type": "stream",
     "text": [
      "0           Norway\n",
      "1        Australia\n",
      "2      Switzerland\n",
      "3          Denmark\n",
      "4      Netherlands\n",
      "5          Germany\n",
      "6          Ireland\n",
      "7    United States\n",
      "8           Canada\n",
      "9      New Zealand\n",
      "Name: Country, dtype: object\n"
     ]
    }
   ],
   "source": [
    "print(Country_head)"
   ]
  },
  {
   "cell_type": "code",
   "execution_count": 153,
   "metadata": {},
   "outputs": [
    {
     "name": "stderr",
     "output_type": "stream",
     "text": [
      "<ipython-input-153-cc4f5a06ebca>:10: SettingWithCopyWarning:\n",
      "\n",
      "\n",
      "A value is trying to be set on a copy of a slice from a DataFrame.\n",
      "Try using .loc[row_indexer,col_indexer] = value instead\n",
      "\n",
      "See the caveats in the documentation: https://pandas.pydata.org/pandas-docs/stable/user_guide/indexing.html#returning-a-view-versus-a-copy\n",
      "\n",
      "<ipython-input-153-cc4f5a06ebca>:13: SettingWithCopyWarning:\n",
      "\n",
      "\n",
      "A value is trying to be set on a copy of a slice from a DataFrame.\n",
      "Try using .loc[row_indexer,col_indexer] = value instead\n",
      "\n",
      "See the caveats in the documentation: https://pandas.pydata.org/pandas-docs/stable/user_guide/indexing.html#returning-a-view-versus-a-copy\n",
      "\n"
     ]
    }
   ],
   "source": [
    "mask=pd.DataFrame()\n",
    "for i in Country_head:\n",
    "    mask=mask.append(df2[df2['Country']==i],ignore_index=True)\n",
    "\n",
    "mask2=pd.DataFrame()\n",
    "for i in Country_tail:\n",
    "    mask2=mask2.append(df2[df2['Country']==i],ignore_index=True)    \n",
    "    \n",
    "Expectancy=mask[['Country','Life Expectancy at Birth (Female)','Life Expectancy at Birth (Male)']]\n",
    "Expectancy['Sequence']='TOP10'\n",
    "\n",
    "Expectancy2=mask2[['Country','Life Expectancy at Birth (Female)','Life Expectancy at Birth (Male)']]\n",
    "Expectancy2['Sequence']='BOTTOM10'\n",
    "result=Expectancy.append(Expectancy2)"
   ]
  },
  {
   "cell_type": "code",
   "execution_count": 154,
   "metadata": {},
   "outputs": [],
   "source": [
    "Rank = widgets.Dropdown(\n",
    "    options=list(result['Sequence'].unique()),\n",
    "    value='TOP10',\n",
    "    description='Rank',\n",
    ")"
   ]
  },
  {
   "cell_type": "code",
   "execution_count": 155,
   "metadata": {},
   "outputs": [],
   "source": [
    "trace1 = go.Scatter(x=result['Country'],y=result['Life Expectancy at Birth (Female)'], name='Life Expectancy at Birth (Female)')\n",
    "\n",
    "trace2 = go.Scatter(x=result['Country'],y=result['Life Expectancy at Birth (Male)'], name='Life Expectancy at Birth (Male)')\n",
    "g = go.FigureWidget(data=[trace1, trace2],\n",
    "                    layout=go.Layout(\n",
    "                        title=dict(\n",
    "                        text='Life Expectancy at Birth with Different Countries',\n",
    "                        x=0.435,\n",
    "                        y=0.85,    \n",
    "                        xanchor='center',\n",
    "                        yanchor='top'\n",
    "                        ),\n",
    "                        barmode='overlay'\n",
    "                    ))"
   ]
  },
  {
   "cell_type": "code",
   "execution_count": 156,
   "metadata": {},
   "outputs": [],
   "source": [
    "def validate():\n",
    "    if Rank.value in result['Sequence'].unique():\n",
    "        return True\n",
    "    else:\n",
    "        return False\n",
    "\n",
    "\n",
    "def response(change):\n",
    "    if validate():\n",
    "            filter_list = [i for i in result['Sequence'] == Rank.value]\n",
    "            temp_df = result[filter_list]\n",
    "#         with g.batch_update():\n",
    "            g.data[0].x = temp_df['Country']\n",
    "            g.data[0].y = temp_df['Life Expectancy at Birth (Female)']\n",
    "            g.data[1].x = temp_df['Country']\n",
    "            g.data[1].y = temp_df['Life Expectancy at Birth (Male)']\n",
    "            g.layout.xaxis.title = 'Country'\n",
    "            g.layout.yaxis.title = 'Life Expectancy at Birth'\n",
    "\n",
    "Rank.observe(response, names=\"value\")"
   ]
  },
  {
   "cell_type": "code",
   "execution_count": 157,
   "metadata": {
    "scrolled": true
   },
   "outputs": [
    {
     "data": {
      "application/vnd.jupyter.widget-view+json": {
       "model_id": "527c3e2aca9244b7b5b95fcd6d17756d",
       "version_major": 2,
       "version_minor": 0
      },
      "text/plain": [
       "VBox(children=(HBox(children=(Dropdown(description='Rank', options=('TOP10', 'BOTTOM10'), value='TOP10'),)), F…"
      ]
     },
     "metadata": {},
     "output_type": "display_data"
    }
   ],
   "source": [
    "container = widgets.HBox([Rank])\n",
    "widgets.VBox([container,\n",
    "              g])"
   ]
  },
  {
   "cell_type": "code",
   "execution_count": null,
   "metadata": {},
   "outputs": [],
   "source": []
  }
 ],
 "metadata": {
  "kernelspec": {
   "display_name": "Python 3",
   "language": "python",
   "name": "python3"
  },
  "language_info": {
   "codemirror_mode": {
    "name": "ipython",
    "version": 3
   },
   "file_extension": ".py",
   "mimetype": "text/x-python",
   "name": "python",
   "nbconvert_exporter": "python",
   "pygments_lexer": "ipython3",
   "version": "3.8.5"
  }
 },
 "nbformat": 4,
 "nbformat_minor": 4
}
