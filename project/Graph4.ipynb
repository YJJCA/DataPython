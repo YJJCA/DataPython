{
 "cells": [
  {
   "cell_type": "code",
   "execution_count": 2,
   "metadata": {},
   "outputs": [
    {
     "data": {
      "application/vnd.plotly.v1+json": {
       "config": {
        "plotlyServerURL": "https://plot.ly"
       },
       "data": [
        {
         "dimensions": [
          {
           "label": "HIDI Range",
           "values": [
            "Top50",
            "Top50",
            "Top50",
            "Top50",
            "Top50",
            "Top50",
            "Top50",
            "Top50",
            "Top50",
            "Top50",
            "Top50",
            "Top50",
            "Top50",
            "Top50",
            "Top50",
            "Top50",
            "Top50",
            "Top50",
            "Top50",
            "Top50",
            "Top50",
            "Top50",
            "Top50",
            "Top50",
            "Top50",
            "Top50",
            "Top50",
            "Top50",
            "Top50",
            "Top50",
            "Top50",
            "Top50",
            "Top50",
            "Top50",
            "Top50",
            "Top50",
            "Top50",
            "Top50",
            "Top50",
            "Top50",
            "50~100",
            "50~100",
            "50~100",
            "50~100",
            "50~100",
            "50~100",
            "50~100",
            "50~100",
            "50~100",
            "50~100",
            "50~100",
            "50~100",
            "50~100",
            "50~100",
            "50~100",
            "50~100",
            "50~100",
            "50~100",
            "50~100",
            "50~100",
            "50~100",
            "50~100",
            "50~100",
            "50~100",
            "50~100",
            "50~100",
            "50~100",
            "50~100",
            "50~100",
            "50~100",
            "50~100",
            "50~100",
            "50~100",
            "50~100",
            "50~last",
            "50~last",
            "50~last",
            "50~last",
            "50~last",
            "50~last",
            "50~last",
            "50~last",
            "50~last",
            "50~last",
            "50~last",
            "50~last",
            "50~last",
            "50~last",
            "50~last",
            "50~last",
            "50~last",
            "50~last",
            "50~last",
            "50~last",
            "50~last",
            "50~last",
            "50~last",
            "50~last",
            "50~last",
            "50~last",
            "50~last",
            "50~last",
            "50~last",
            "50~last",
            "50~last",
            "50~last",
            "50~last",
            "50~last",
            "50~last",
            "50~last",
            "50~last",
            "50~last",
            "50~last",
            "50~last",
            "50~last",
            "50~last",
            "50~last",
            "50~last",
            "50~last",
            "50~last",
            "50~last",
            "50~last",
            "50~last",
            "50~last",
            "50~last",
            "50~last",
            "50~last",
            "50~last",
            "50~last",
            "50~last",
            "50~last",
            "50~last",
            "50~last",
            "50~last",
            "50~last",
            "50~last",
            "50~last",
            "50~last",
            "50~last",
            "50~last",
            "50~last"
           ]
          },
          {
           "label": "Inequality in Education Range",
           "values": [
            "less than 20",
            "less than 20",
            "less than 20",
            "less than 20",
            "less than 20",
            "less than 20",
            "less than 20",
            "less than 20",
            "less than 20",
            "less than 20",
            "less than 20",
            "less than 20",
            "20~40",
            "less than 20",
            "less than 20",
            "less than 20",
            "less than 20",
            "less than 20",
            "less than 20",
            "less than 20",
            "less than 20",
            "less than 20",
            "less than 20",
            "less than 20",
            "less than 20",
            "less than 20",
            "less than 20",
            "less than 20",
            "less than 20",
            "less than 20",
            "less than 20",
            "less than 20",
            "less than 20",
            "less than 20",
            "less than 20",
            "less than 20",
            "less than 20",
            "less than 20",
            "less than 20",
            "less than 20",
            "less than 20",
            "less than 20",
            "less than 20",
            "less than 20",
            "less than 20",
            "less than 20",
            "less than 20",
            "less than 20",
            "less than 20",
            "less than 20",
            "20~40",
            "less than 20",
            "20~40",
            "less than 20",
            "less than 20",
            "less than 20",
            "less than 20",
            "20~40",
            "less than 20",
            "less than 20",
            "less than 20",
            "less than 20",
            "less than 20",
            "20~40",
            "less than 20",
            "less than 20",
            "less than 20",
            "20~40",
            "less than 20",
            "less than 20",
            "less than 20",
            "20~40",
            "20~40",
            "less than 20",
            "less than 20",
            "20~40",
            "less than 20",
            "20~40",
            "20~40",
            "less than 20",
            "40~50",
            "20~40",
            "20~40",
            "less than 20",
            "less than 20",
            "less than 20",
            "20~40",
            "less than 20",
            "less than 20",
            "20~40",
            "less than 20",
            "20~40",
            "less than 20",
            "20~40",
            "40~50",
            "20~40",
            "20~40",
            "less than 20",
            "40~50",
            "20~40",
            "40~50",
            "20~40",
            "20~40",
            "20~40",
            "20~40",
            "20~40",
            "20~40",
            "20~40",
            "20~40",
            "40~50",
            "40~50",
            "less than 20",
            "20~40",
            "20~40",
            "20~40",
            "less than 20",
            "40~50",
            "less than 20",
            "40~50",
            "20~40",
            "20~40",
            "20~40",
            "20~40",
            "20~40",
            "40~50",
            "40~50",
            "40~50",
            "40~50",
            "40~50",
            "20~40",
            "40~50",
            "20~40",
            "40~50",
            "40~50",
            "20~40",
            "40~50",
            "20~40",
            "20~40",
            "40~50",
            "20~40",
            "20~40"
           ]
          },
          {
           "label": "Secondary Education (Female)",
           "values": [
            "60~100",
            "60~100",
            "60~100",
            "60~100",
            "60~100",
            "60~100",
            "60~100",
            "60~100",
            "60~100",
            "60~100",
            "60~100",
            "60~100",
            "60~100",
            "60~100",
            "60~100",
            "60~100",
            "60~100",
            "60~100",
            "60~100",
            "60~100",
            "60~100",
            "60~100",
            "60~100",
            "60~100",
            "40~60",
            "60~100",
            "60~100",
            "60~100",
            "60~100",
            "60~100",
            "60~100",
            "40~60",
            "60~100",
            "40~60",
            "60~100",
            "60~100",
            "60~100",
            "60~100",
            "60~100",
            "60~100",
            "60~100",
            "40~60",
            "60~100",
            "60~100",
            "60~100",
            "40~60",
            "40~60",
            "40~60",
            "40~60",
            "60~100",
            "40~60",
            "40~60",
            "60~100",
            "40~60",
            "less than 40",
            "60~100",
            "40~60",
            "40~60",
            "60~100",
            "60~100",
            "60~100",
            "40~60",
            "60~100",
            "40~60",
            "60~100",
            "60~100",
            "40~60",
            "40~60",
            "60~100",
            "60~100",
            "less than 40",
            "less than 40",
            "40~60",
            "60~100",
            "60~100",
            "40~60",
            "40~60",
            "less than 40",
            "60~100",
            "60~100",
            "40~60",
            "40~60",
            "less than 40",
            "less than 40",
            "40~60",
            "60~100",
            "less than 40",
            "60~100",
            "40~60",
            "40~60",
            "60~100",
            "less than 40",
            "60~100",
            "less than 40",
            "less than 40",
            "less than 40",
            "less than 40",
            "60~100",
            "less than 40",
            "less than 40",
            "less than 40",
            "less than 40",
            "less than 40",
            "less than 40",
            "40~60",
            "less than 40",
            "less than 40",
            "less than 40",
            "less than 40",
            "less than 40",
            "less than 40",
            "less than 40",
            "less than 40",
            "less than 40",
            "less than 40",
            "40~60",
            "less than 40",
            "less than 40",
            "less than 40",
            "less than 40",
            "less than 40",
            "less than 40",
            "less than 40",
            "less than 40",
            "less than 40",
            "less than 40",
            "less than 40",
            "less than 40",
            "less than 40",
            "less than 40",
            "less than 40",
            "less than 40",
            "less than 40",
            "less than 40",
            "less than 40",
            "less than 40",
            "less than 40",
            "less than 40",
            "less than 40",
            "less than 40",
            "less than 40"
           ]
          },
          {
           "label": "Secondary Education (Male)",
           "values": [
            "60~100",
            "60~100",
            "60~100",
            "60~100",
            "60~100",
            "60~100",
            "60~100",
            "60~100",
            "60~100",
            "60~100",
            "60~100",
            "60~100",
            "60~100",
            "60~100",
            "60~100",
            "60~100",
            "60~100",
            "60~100",
            "60~100",
            "60~100",
            "60~100",
            "60~100",
            "60~100",
            "60~100",
            "60~100",
            "60~100",
            "60~100",
            "60~100",
            "60~100",
            "60~100",
            "60~100",
            "40~60",
            "60~100",
            "40~60",
            "60~100",
            "60~100",
            "60~100",
            "60~100",
            "60~100",
            "60~100",
            "60~100",
            "40~60",
            "60~100",
            "60~100",
            "60~100",
            "40~60",
            "40~60",
            "60~100",
            "60~100",
            "60~100",
            "40~60",
            "40~60",
            "60~100",
            "40~60",
            "40~60",
            "60~100",
            "60~100",
            "40~60",
            "60~100",
            "60~100",
            "60~100",
            "40~60",
            "60~100",
            "60~100",
            "60~100",
            "60~100",
            "60~100",
            "less than 40",
            "60~100",
            "60~100",
            "40~60",
            "40~60",
            "40~60",
            "60~100",
            "60~100",
            "40~60",
            "40~60",
            "less than 40",
            "60~100",
            "60~100",
            "60~100",
            "less than 40",
            "40~60",
            "40~60",
            "40~60",
            "60~100",
            "40~60",
            "60~100",
            "60~100",
            "40~60",
            "60~100",
            "40~60",
            "40~60",
            "less than 40",
            "less than 40",
            "less than 40",
            "less than 40",
            "60~100",
            "40~60",
            "less than 40",
            "less than 40",
            "40~60",
            "40~60",
            "40~60",
            "60~100",
            "less than 40",
            "40~60",
            "less than 40",
            "less than 40",
            "less than 40",
            "40~60",
            "less than 40",
            "less than 40",
            "less than 40",
            "less than 40",
            "60~100",
            "less than 40",
            "less than 40",
            "less than 40",
            "less than 40",
            "40~60",
            "less than 40",
            "less than 40",
            "less than 40",
            "less than 40",
            "less than 40",
            "less than 40",
            "less than 40",
            "less than 40",
            "less than 40",
            "less than 40",
            "less than 40",
            "less than 40",
            "less than 40",
            "less than 40",
            "less than 40",
            "less than 40",
            "less than 40",
            "less than 40",
            "less than 40",
            "less than 40"
           ]
          }
         ],
         "domain": {
          "x": [
           0,
           1
          ],
          "y": [
           0,
           1
          ]
         },
         "line": {
          "color": [
           1,
           2,
           3,
           4,
           5,
           6,
           6,
           8,
           9,
           14,
           14,
           16,
           17,
           18,
           19,
           20,
           21,
           22,
           23,
           24,
           25,
           26,
           27,
           28,
           29,
           30,
           32,
           35,
           36,
           37,
           37,
           40,
           42,
           43,
           44,
           46,
           47,
           49,
           50,
           50,
           52,
           52,
           56,
           57,
           59,
           60,
           63,
           64,
           66,
           67,
           67,
           69,
           69,
           71,
           72,
           73,
           74,
           75,
           76,
           78,
           80,
           81,
           81,
           84,
           85,
           85,
           85,
           88,
           90,
           90,
           93,
           96,
           97,
           99,
           101,
           101,
           103,
           104,
           106,
           107,
           108,
           110,
           110,
           112,
           113,
           115,
           116,
           116,
           116,
           119,
           120,
           121,
           124,
           125,
           126,
           126,
           128,
           129,
           130,
           131,
           132,
           134,
           136,
           139,
           140,
           141,
           142,
           143,
           145,
           145,
           147,
           148,
           150,
           151,
           153,
           155,
           156,
           158,
           160,
           161,
           162,
           163,
           163,
           163,
           166,
           167,
           170,
           171,
           172,
           173,
           174,
           176,
           177,
           179,
           180,
           181,
           183,
           184,
           185,
           187,
           188
          ],
          "coloraxis": "coloraxis"
         },
         "name": "",
         "type": "parcats"
        }
       ],
       "layout": {
        "coloraxis": {
         "colorbar": {
          "title": {
           "text": "IHDI Rank"
          }
         },
         "colorscale": [
          [
           0,
           "#000004"
          ],
          [
           0.1111111111111111,
           "#1b0c41"
          ],
          [
           0.2222222222222222,
           "#4a0c6b"
          ],
          [
           0.3333333333333333,
           "#781c6d"
          ],
          [
           0.4444444444444444,
           "#a52c60"
          ],
          [
           0.5555555555555556,
           "#cf4446"
          ],
          [
           0.6666666666666666,
           "#ed6925"
          ],
          [
           0.7777777777777778,
           "#fb9b06"
          ],
          [
           0.8888888888888888,
           "#f7d13d"
          ],
          [
           1,
           "#fcffa4"
          ]
         ]
        },
        "legend": {
         "tracegroupgap": 0
        },
        "margin": {
         "t": 60
        },
        "template": {
         "data": {
          "bar": [
           {
            "error_x": {
             "color": "#2a3f5f"
            },
            "error_y": {
             "color": "#2a3f5f"
            },
            "marker": {
             "line": {
              "color": "#E5ECF6",
              "width": 0.5
             }
            },
            "type": "bar"
           }
          ],
          "barpolar": [
           {
            "marker": {
             "line": {
              "color": "#E5ECF6",
              "width": 0.5
             }
            },
            "type": "barpolar"
           }
          ],
          "carpet": [
           {
            "aaxis": {
             "endlinecolor": "#2a3f5f",
             "gridcolor": "white",
             "linecolor": "white",
             "minorgridcolor": "white",
             "startlinecolor": "#2a3f5f"
            },
            "baxis": {
             "endlinecolor": "#2a3f5f",
             "gridcolor": "white",
             "linecolor": "white",
             "minorgridcolor": "white",
             "startlinecolor": "#2a3f5f"
            },
            "type": "carpet"
           }
          ],
          "choropleth": [
           {
            "colorbar": {
             "outlinewidth": 0,
             "ticks": ""
            },
            "type": "choropleth"
           }
          ],
          "contour": [
           {
            "colorbar": {
             "outlinewidth": 0,
             "ticks": ""
            },
            "colorscale": [
             [
              0,
              "#0d0887"
             ],
             [
              0.1111111111111111,
              "#46039f"
             ],
             [
              0.2222222222222222,
              "#7201a8"
             ],
             [
              0.3333333333333333,
              "#9c179e"
             ],
             [
              0.4444444444444444,
              "#bd3786"
             ],
             [
              0.5555555555555556,
              "#d8576b"
             ],
             [
              0.6666666666666666,
              "#ed7953"
             ],
             [
              0.7777777777777778,
              "#fb9f3a"
             ],
             [
              0.8888888888888888,
              "#fdca26"
             ],
             [
              1,
              "#f0f921"
             ]
            ],
            "type": "contour"
           }
          ],
          "contourcarpet": [
           {
            "colorbar": {
             "outlinewidth": 0,
             "ticks": ""
            },
            "type": "contourcarpet"
           }
          ],
          "heatmap": [
           {
            "colorbar": {
             "outlinewidth": 0,
             "ticks": ""
            },
            "colorscale": [
             [
              0,
              "#0d0887"
             ],
             [
              0.1111111111111111,
              "#46039f"
             ],
             [
              0.2222222222222222,
              "#7201a8"
             ],
             [
              0.3333333333333333,
              "#9c179e"
             ],
             [
              0.4444444444444444,
              "#bd3786"
             ],
             [
              0.5555555555555556,
              "#d8576b"
             ],
             [
              0.6666666666666666,
              "#ed7953"
             ],
             [
              0.7777777777777778,
              "#fb9f3a"
             ],
             [
              0.8888888888888888,
              "#fdca26"
             ],
             [
              1,
              "#f0f921"
             ]
            ],
            "type": "heatmap"
           }
          ],
          "heatmapgl": [
           {
            "colorbar": {
             "outlinewidth": 0,
             "ticks": ""
            },
            "colorscale": [
             [
              0,
              "#0d0887"
             ],
             [
              0.1111111111111111,
              "#46039f"
             ],
             [
              0.2222222222222222,
              "#7201a8"
             ],
             [
              0.3333333333333333,
              "#9c179e"
             ],
             [
              0.4444444444444444,
              "#bd3786"
             ],
             [
              0.5555555555555556,
              "#d8576b"
             ],
             [
              0.6666666666666666,
              "#ed7953"
             ],
             [
              0.7777777777777778,
              "#fb9f3a"
             ],
             [
              0.8888888888888888,
              "#fdca26"
             ],
             [
              1,
              "#f0f921"
             ]
            ],
            "type": "heatmapgl"
           }
          ],
          "histogram": [
           {
            "marker": {
             "colorbar": {
              "outlinewidth": 0,
              "ticks": ""
             }
            },
            "type": "histogram"
           }
          ],
          "histogram2d": [
           {
            "colorbar": {
             "outlinewidth": 0,
             "ticks": ""
            },
            "colorscale": [
             [
              0,
              "#0d0887"
             ],
             [
              0.1111111111111111,
              "#46039f"
             ],
             [
              0.2222222222222222,
              "#7201a8"
             ],
             [
              0.3333333333333333,
              "#9c179e"
             ],
             [
              0.4444444444444444,
              "#bd3786"
             ],
             [
              0.5555555555555556,
              "#d8576b"
             ],
             [
              0.6666666666666666,
              "#ed7953"
             ],
             [
              0.7777777777777778,
              "#fb9f3a"
             ],
             [
              0.8888888888888888,
              "#fdca26"
             ],
             [
              1,
              "#f0f921"
             ]
            ],
            "type": "histogram2d"
           }
          ],
          "histogram2dcontour": [
           {
            "colorbar": {
             "outlinewidth": 0,
             "ticks": ""
            },
            "colorscale": [
             [
              0,
              "#0d0887"
             ],
             [
              0.1111111111111111,
              "#46039f"
             ],
             [
              0.2222222222222222,
              "#7201a8"
             ],
             [
              0.3333333333333333,
              "#9c179e"
             ],
             [
              0.4444444444444444,
              "#bd3786"
             ],
             [
              0.5555555555555556,
              "#d8576b"
             ],
             [
              0.6666666666666666,
              "#ed7953"
             ],
             [
              0.7777777777777778,
              "#fb9f3a"
             ],
             [
              0.8888888888888888,
              "#fdca26"
             ],
             [
              1,
              "#f0f921"
             ]
            ],
            "type": "histogram2dcontour"
           }
          ],
          "mesh3d": [
           {
            "colorbar": {
             "outlinewidth": 0,
             "ticks": ""
            },
            "type": "mesh3d"
           }
          ],
          "parcoords": [
           {
            "line": {
             "colorbar": {
              "outlinewidth": 0,
              "ticks": ""
             }
            },
            "type": "parcoords"
           }
          ],
          "pie": [
           {
            "automargin": true,
            "type": "pie"
           }
          ],
          "scatter": [
           {
            "marker": {
             "colorbar": {
              "outlinewidth": 0,
              "ticks": ""
             }
            },
            "type": "scatter"
           }
          ],
          "scatter3d": [
           {
            "line": {
             "colorbar": {
              "outlinewidth": 0,
              "ticks": ""
             }
            },
            "marker": {
             "colorbar": {
              "outlinewidth": 0,
              "ticks": ""
             }
            },
            "type": "scatter3d"
           }
          ],
          "scattercarpet": [
           {
            "marker": {
             "colorbar": {
              "outlinewidth": 0,
              "ticks": ""
             }
            },
            "type": "scattercarpet"
           }
          ],
          "scattergeo": [
           {
            "marker": {
             "colorbar": {
              "outlinewidth": 0,
              "ticks": ""
             }
            },
            "type": "scattergeo"
           }
          ],
          "scattergl": [
           {
            "marker": {
             "colorbar": {
              "outlinewidth": 0,
              "ticks": ""
             }
            },
            "type": "scattergl"
           }
          ],
          "scattermapbox": [
           {
            "marker": {
             "colorbar": {
              "outlinewidth": 0,
              "ticks": ""
             }
            },
            "type": "scattermapbox"
           }
          ],
          "scatterpolar": [
           {
            "marker": {
             "colorbar": {
              "outlinewidth": 0,
              "ticks": ""
             }
            },
            "type": "scatterpolar"
           }
          ],
          "scatterpolargl": [
           {
            "marker": {
             "colorbar": {
              "outlinewidth": 0,
              "ticks": ""
             }
            },
            "type": "scatterpolargl"
           }
          ],
          "scatterternary": [
           {
            "marker": {
             "colorbar": {
              "outlinewidth": 0,
              "ticks": ""
             }
            },
            "type": "scatterternary"
           }
          ],
          "surface": [
           {
            "colorbar": {
             "outlinewidth": 0,
             "ticks": ""
            },
            "colorscale": [
             [
              0,
              "#0d0887"
             ],
             [
              0.1111111111111111,
              "#46039f"
             ],
             [
              0.2222222222222222,
              "#7201a8"
             ],
             [
              0.3333333333333333,
              "#9c179e"
             ],
             [
              0.4444444444444444,
              "#bd3786"
             ],
             [
              0.5555555555555556,
              "#d8576b"
             ],
             [
              0.6666666666666666,
              "#ed7953"
             ],
             [
              0.7777777777777778,
              "#fb9f3a"
             ],
             [
              0.8888888888888888,
              "#fdca26"
             ],
             [
              1,
              "#f0f921"
             ]
            ],
            "type": "surface"
           }
          ],
          "table": [
           {
            "cells": {
             "fill": {
              "color": "#EBF0F8"
             },
             "line": {
              "color": "white"
             }
            },
            "header": {
             "fill": {
              "color": "#C8D4E3"
             },
             "line": {
              "color": "white"
             }
            },
            "type": "table"
           }
          ]
         },
         "layout": {
          "annotationdefaults": {
           "arrowcolor": "#2a3f5f",
           "arrowhead": 0,
           "arrowwidth": 1
          },
          "coloraxis": {
           "colorbar": {
            "outlinewidth": 0,
            "ticks": ""
           }
          },
          "colorscale": {
           "diverging": [
            [
             0,
             "#8e0152"
            ],
            [
             0.1,
             "#c51b7d"
            ],
            [
             0.2,
             "#de77ae"
            ],
            [
             0.3,
             "#f1b6da"
            ],
            [
             0.4,
             "#fde0ef"
            ],
            [
             0.5,
             "#f7f7f7"
            ],
            [
             0.6,
             "#e6f5d0"
            ],
            [
             0.7,
             "#b8e186"
            ],
            [
             0.8,
             "#7fbc41"
            ],
            [
             0.9,
             "#4d9221"
            ],
            [
             1,
             "#276419"
            ]
           ],
           "sequential": [
            [
             0,
             "#0d0887"
            ],
            [
             0.1111111111111111,
             "#46039f"
            ],
            [
             0.2222222222222222,
             "#7201a8"
            ],
            [
             0.3333333333333333,
             "#9c179e"
            ],
            [
             0.4444444444444444,
             "#bd3786"
            ],
            [
             0.5555555555555556,
             "#d8576b"
            ],
            [
             0.6666666666666666,
             "#ed7953"
            ],
            [
             0.7777777777777778,
             "#fb9f3a"
            ],
            [
             0.8888888888888888,
             "#fdca26"
            ],
            [
             1,
             "#f0f921"
            ]
           ],
           "sequentialminus": [
            [
             0,
             "#0d0887"
            ],
            [
             0.1111111111111111,
             "#46039f"
            ],
            [
             0.2222222222222222,
             "#7201a8"
            ],
            [
             0.3333333333333333,
             "#9c179e"
            ],
            [
             0.4444444444444444,
             "#bd3786"
            ],
            [
             0.5555555555555556,
             "#d8576b"
            ],
            [
             0.6666666666666666,
             "#ed7953"
            ],
            [
             0.7777777777777778,
             "#fb9f3a"
            ],
            [
             0.8888888888888888,
             "#fdca26"
            ],
            [
             1,
             "#f0f921"
            ]
           ]
          },
          "colorway": [
           "#636efa",
           "#EF553B",
           "#00cc96",
           "#ab63fa",
           "#FFA15A",
           "#19d3f3",
           "#FF6692",
           "#B6E880",
           "#FF97FF",
           "#FECB52"
          ],
          "font": {
           "color": "#2a3f5f"
          },
          "geo": {
           "bgcolor": "white",
           "lakecolor": "white",
           "landcolor": "#E5ECF6",
           "showlakes": true,
           "showland": true,
           "subunitcolor": "white"
          },
          "hoverlabel": {
           "align": "left"
          },
          "hovermode": "closest",
          "mapbox": {
           "style": "light"
          },
          "paper_bgcolor": "white",
          "plot_bgcolor": "#E5ECF6",
          "polar": {
           "angularaxis": {
            "gridcolor": "white",
            "linecolor": "white",
            "ticks": ""
           },
           "bgcolor": "#E5ECF6",
           "radialaxis": {
            "gridcolor": "white",
            "linecolor": "white",
            "ticks": ""
           }
          },
          "scene": {
           "xaxis": {
            "backgroundcolor": "#E5ECF6",
            "gridcolor": "white",
            "gridwidth": 2,
            "linecolor": "white",
            "showbackground": true,
            "ticks": "",
            "zerolinecolor": "white"
           },
           "yaxis": {
            "backgroundcolor": "#E5ECF6",
            "gridcolor": "white",
            "gridwidth": 2,
            "linecolor": "white",
            "showbackground": true,
            "ticks": "",
            "zerolinecolor": "white"
           },
           "zaxis": {
            "backgroundcolor": "#E5ECF6",
            "gridcolor": "white",
            "gridwidth": 2,
            "linecolor": "white",
            "showbackground": true,
            "ticks": "",
            "zerolinecolor": "white"
           }
          },
          "shapedefaults": {
           "line": {
            "color": "#2a3f5f"
           }
          },
          "ternary": {
           "aaxis": {
            "gridcolor": "white",
            "linecolor": "white",
            "ticks": ""
           },
           "baxis": {
            "gridcolor": "white",
            "linecolor": "white",
            "ticks": ""
           },
           "bgcolor": "#E5ECF6",
           "caxis": {
            "gridcolor": "white",
            "linecolor": "white",
            "ticks": ""
           }
          },
          "title": {
           "x": 0.05
          },
          "xaxis": {
           "automargin": true,
           "gridcolor": "white",
           "linecolor": "white",
           "ticks": "",
           "title": {
            "standoff": 15
           },
           "zerolinecolor": "white",
           "zerolinewidth": 2
          },
          "yaxis": {
           "automargin": true,
           "gridcolor": "white",
           "linecolor": "white",
           "ticks": "",
           "title": {
            "standoff": 15
           },
           "zerolinecolor": "white",
           "zerolinewidth": 2
          }
         }
        }
       }
      },
      "text/html": [
       "<div>                            <div id=\"499e2cc7-c78e-4b18-bb1c-35769e03a624\" class=\"plotly-graph-div\" style=\"height:525px; width:100%;\"></div>            <script type=\"text/javascript\">                require([\"plotly\"], function(Plotly) {                    window.PLOTLYENV=window.PLOTLYENV || {};                                    if (document.getElementById(\"499e2cc7-c78e-4b18-bb1c-35769e03a624\")) {                    Plotly.newPlot(                        \"499e2cc7-c78e-4b18-bb1c-35769e03a624\",                        [{\"dimensions\": [{\"label\": \"HIDI Range\", \"values\": [\"Top50\", \"Top50\", \"Top50\", \"Top50\", \"Top50\", \"Top50\", \"Top50\", \"Top50\", \"Top50\", \"Top50\", \"Top50\", \"Top50\", \"Top50\", \"Top50\", \"Top50\", \"Top50\", \"Top50\", \"Top50\", \"Top50\", \"Top50\", \"Top50\", \"Top50\", \"Top50\", \"Top50\", \"Top50\", \"Top50\", \"Top50\", \"Top50\", \"Top50\", \"Top50\", \"Top50\", \"Top50\", \"Top50\", \"Top50\", \"Top50\", \"Top50\", \"Top50\", \"Top50\", \"Top50\", \"Top50\", \"50~100\", \"50~100\", \"50~100\", \"50~100\", \"50~100\", \"50~100\", \"50~100\", \"50~100\", \"50~100\", \"50~100\", \"50~100\", \"50~100\", \"50~100\", \"50~100\", \"50~100\", \"50~100\", \"50~100\", \"50~100\", \"50~100\", \"50~100\", \"50~100\", \"50~100\", \"50~100\", \"50~100\", \"50~100\", \"50~100\", \"50~100\", \"50~100\", \"50~100\", \"50~100\", \"50~100\", \"50~100\", \"50~100\", \"50~100\", \"50~last\", \"50~last\", \"50~last\", \"50~last\", \"50~last\", \"50~last\", \"50~last\", \"50~last\", \"50~last\", \"50~last\", \"50~last\", \"50~last\", \"50~last\", \"50~last\", \"50~last\", \"50~last\", \"50~last\", \"50~last\", \"50~last\", \"50~last\", \"50~last\", \"50~last\", \"50~last\", \"50~last\", \"50~last\", \"50~last\", \"50~last\", \"50~last\", \"50~last\", \"50~last\", \"50~last\", \"50~last\", \"50~last\", \"50~last\", \"50~last\", \"50~last\", \"50~last\", \"50~last\", \"50~last\", \"50~last\", \"50~last\", \"50~last\", \"50~last\", \"50~last\", \"50~last\", \"50~last\", \"50~last\", \"50~last\", \"50~last\", \"50~last\", \"50~last\", \"50~last\", \"50~last\", \"50~last\", \"50~last\", \"50~last\", \"50~last\", \"50~last\", \"50~last\", \"50~last\", \"50~last\", \"50~last\", \"50~last\", \"50~last\", \"50~last\", \"50~last\", \"50~last\"]}, {\"label\": \"Inequality in Education Range\", \"values\": [\"less than 20\", \"less than 20\", \"less than 20\", \"less than 20\", \"less than 20\", \"less than 20\", \"less than 20\", \"less than 20\", \"less than 20\", \"less than 20\", \"less than 20\", \"less than 20\", \"20~40\", \"less than 20\", \"less than 20\", \"less than 20\", \"less than 20\", \"less than 20\", \"less than 20\", \"less than 20\", \"less than 20\", \"less than 20\", \"less than 20\", \"less than 20\", \"less than 20\", \"less than 20\", \"less than 20\", \"less than 20\", \"less than 20\", \"less than 20\", \"less than 20\", \"less than 20\", \"less than 20\", \"less than 20\", \"less than 20\", \"less than 20\", \"less than 20\", \"less than 20\", \"less than 20\", \"less than 20\", \"less than 20\", \"less than 20\", \"less than 20\", \"less than 20\", \"less than 20\", \"less than 20\", \"less than 20\", \"less than 20\", \"less than 20\", \"less than 20\", \"20~40\", \"less than 20\", \"20~40\", \"less than 20\", \"less than 20\", \"less than 20\", \"less than 20\", \"20~40\", \"less than 20\", \"less than 20\", \"less than 20\", \"less than 20\", \"less than 20\", \"20~40\", \"less than 20\", \"less than 20\", \"less than 20\", \"20~40\", \"less than 20\", \"less than 20\", \"less than 20\", \"20~40\", \"20~40\", \"less than 20\", \"less than 20\", \"20~40\", \"less than 20\", \"20~40\", \"20~40\", \"less than 20\", \"40~50\", \"20~40\", \"20~40\", \"less than 20\", \"less than 20\", \"less than 20\", \"20~40\", \"less than 20\", \"less than 20\", \"20~40\", \"less than 20\", \"20~40\", \"less than 20\", \"20~40\", \"40~50\", \"20~40\", \"20~40\", \"less than 20\", \"40~50\", \"20~40\", \"40~50\", \"20~40\", \"20~40\", \"20~40\", \"20~40\", \"20~40\", \"20~40\", \"20~40\", \"20~40\", \"40~50\", \"40~50\", \"less than 20\", \"20~40\", \"20~40\", \"20~40\", \"less than 20\", \"40~50\", \"less than 20\", \"40~50\", \"20~40\", \"20~40\", \"20~40\", \"20~40\", \"20~40\", \"40~50\", \"40~50\", \"40~50\", \"40~50\", \"40~50\", \"20~40\", \"40~50\", \"20~40\", \"40~50\", \"40~50\", \"20~40\", \"40~50\", \"20~40\", \"20~40\", \"40~50\", \"20~40\", \"20~40\"]}, {\"label\": \"Secondary Education (Female)\", \"values\": [\"60~100\", \"60~100\", \"60~100\", \"60~100\", \"60~100\", \"60~100\", \"60~100\", \"60~100\", \"60~100\", \"60~100\", \"60~100\", \"60~100\", \"60~100\", \"60~100\", \"60~100\", \"60~100\", \"60~100\", \"60~100\", \"60~100\", \"60~100\", \"60~100\", \"60~100\", \"60~100\", \"60~100\", \"40~60\", \"60~100\", \"60~100\", \"60~100\", \"60~100\", \"60~100\", \"60~100\", \"40~60\", \"60~100\", \"40~60\", \"60~100\", \"60~100\", \"60~100\", \"60~100\", \"60~100\", \"60~100\", \"60~100\", \"40~60\", \"60~100\", \"60~100\", \"60~100\", \"40~60\", \"40~60\", \"40~60\", \"40~60\", \"60~100\", \"40~60\", \"40~60\", \"60~100\", \"40~60\", \"less than 40\", \"60~100\", \"40~60\", \"40~60\", \"60~100\", \"60~100\", \"60~100\", \"40~60\", \"60~100\", \"40~60\", \"60~100\", \"60~100\", \"40~60\", \"40~60\", \"60~100\", \"60~100\", \"less than 40\", \"less than 40\", \"40~60\", \"60~100\", \"60~100\", \"40~60\", \"40~60\", \"less than 40\", \"60~100\", \"60~100\", \"40~60\", \"40~60\", \"less than 40\", \"less than 40\", \"40~60\", \"60~100\", \"less than 40\", \"60~100\", \"40~60\", \"40~60\", \"60~100\", \"less than 40\", \"60~100\", \"less than 40\", \"less than 40\", \"less than 40\", \"less than 40\", \"60~100\", \"less than 40\", \"less than 40\", \"less than 40\", \"less than 40\", \"less than 40\", \"less than 40\", \"40~60\", \"less than 40\", \"less than 40\", \"less than 40\", \"less than 40\", \"less than 40\", \"less than 40\", \"less than 40\", \"less than 40\", \"less than 40\", \"less than 40\", \"40~60\", \"less than 40\", \"less than 40\", \"less than 40\", \"less than 40\", \"less than 40\", \"less than 40\", \"less than 40\", \"less than 40\", \"less than 40\", \"less than 40\", \"less than 40\", \"less than 40\", \"less than 40\", \"less than 40\", \"less than 40\", \"less than 40\", \"less than 40\", \"less than 40\", \"less than 40\", \"less than 40\", \"less than 40\", \"less than 40\", \"less than 40\", \"less than 40\", \"less than 40\"]}, {\"label\": \"Secondary Education (Male)\", \"values\": [\"60~100\", \"60~100\", \"60~100\", \"60~100\", \"60~100\", \"60~100\", \"60~100\", \"60~100\", \"60~100\", \"60~100\", \"60~100\", \"60~100\", \"60~100\", \"60~100\", \"60~100\", \"60~100\", \"60~100\", \"60~100\", \"60~100\", \"60~100\", \"60~100\", \"60~100\", \"60~100\", \"60~100\", \"60~100\", \"60~100\", \"60~100\", \"60~100\", \"60~100\", \"60~100\", \"60~100\", \"40~60\", \"60~100\", \"40~60\", \"60~100\", \"60~100\", \"60~100\", \"60~100\", \"60~100\", \"60~100\", \"60~100\", \"40~60\", \"60~100\", \"60~100\", \"60~100\", \"40~60\", \"40~60\", \"60~100\", \"60~100\", \"60~100\", \"40~60\", \"40~60\", \"60~100\", \"40~60\", \"40~60\", \"60~100\", \"60~100\", \"40~60\", \"60~100\", \"60~100\", \"60~100\", \"40~60\", \"60~100\", \"60~100\", \"60~100\", \"60~100\", \"60~100\", \"less than 40\", \"60~100\", \"60~100\", \"40~60\", \"40~60\", \"40~60\", \"60~100\", \"60~100\", \"40~60\", \"40~60\", \"less than 40\", \"60~100\", \"60~100\", \"60~100\", \"less than 40\", \"40~60\", \"40~60\", \"40~60\", \"60~100\", \"40~60\", \"60~100\", \"60~100\", \"40~60\", \"60~100\", \"40~60\", \"40~60\", \"less than 40\", \"less than 40\", \"less than 40\", \"less than 40\", \"60~100\", \"40~60\", \"less than 40\", \"less than 40\", \"40~60\", \"40~60\", \"40~60\", \"60~100\", \"less than 40\", \"40~60\", \"less than 40\", \"less than 40\", \"less than 40\", \"40~60\", \"less than 40\", \"less than 40\", \"less than 40\", \"less than 40\", \"60~100\", \"less than 40\", \"less than 40\", \"less than 40\", \"less than 40\", \"40~60\", \"less than 40\", \"less than 40\", \"less than 40\", \"less than 40\", \"less than 40\", \"less than 40\", \"less than 40\", \"less than 40\", \"less than 40\", \"less than 40\", \"less than 40\", \"less than 40\", \"less than 40\", \"less than 40\", \"less than 40\", \"less than 40\", \"less than 40\", \"less than 40\", \"less than 40\", \"less than 40\"]}], \"domain\": {\"x\": [0.0, 1.0], \"y\": [0.0, 1.0]}, \"line\": {\"color\": [1.0, 2.0, 3.0, 4.0, 5.0, 6.0, 6.0, 8.0, 9.0, 14.0, 14.0, 16.0, 17.0, 18.0, 19.0, 20.0, 21.0, 22.0, 23.0, 24.0, 25.0, 26.0, 27.0, 28.0, 29.0, 30.0, 32.0, 35.0, 36.0, 37.0, 37.0, 40.0, 42.0, 43.0, 44.0, 46.0, 47.0, 49.0, 50.0, 50.0, 52.0, 52.0, 56.0, 57.0, 59.0, 60.0, 63.0, 64.0, 66.0, 67.0, 67.0, 69.0, 69.0, 71.0, 72.0, 73.0, 74.0, 75.0, 76.0, 78.0, 80.0, 81.0, 81.0, 84.0, 85.0, 85.0, 85.0, 88.0, 90.0, 90.0, 93.0, 96.0, 97.0, 99.0, 101.0, 101.0, 103.0, 104.0, 106.0, 107.0, 108.0, 110.0, 110.0, 112.0, 113.0, 115.0, 116.0, 116.0, 116.0, 119.0, 120.0, 121.0, 124.0, 125.0, 126.0, 126.0, 128.0, 129.0, 130.0, 131.0, 132.0, 134.0, 136.0, 139.0, 140.0, 141.0, 142.0, 143.0, 145.0, 145.0, 147.0, 148.0, 150.0, 151.0, 153.0, 155.0, 156.0, 158.0, 160.0, 161.0, 162.0, 163.0, 163.0, 163.0, 166.0, 167.0, 170.0, 171.0, 172.0, 173.0, 174.0, 176.0, 177.0, 179.0, 180.0, 181.0, 183.0, 184.0, 185.0, 187.0, 188.0], \"coloraxis\": \"coloraxis\"}, \"name\": \"\", \"type\": \"parcats\"}],                        {\"coloraxis\": {\"colorbar\": {\"title\": {\"text\": \"IHDI Rank\"}}, \"colorscale\": [[0.0, \"#000004\"], [0.1111111111111111, \"#1b0c41\"], [0.2222222222222222, \"#4a0c6b\"], [0.3333333333333333, \"#781c6d\"], [0.4444444444444444, \"#a52c60\"], [0.5555555555555556, \"#cf4446\"], [0.6666666666666666, \"#ed6925\"], [0.7777777777777778, \"#fb9b06\"], [0.8888888888888888, \"#f7d13d\"], [1.0, \"#fcffa4\"]]}, \"legend\": {\"tracegroupgap\": 0}, \"margin\": {\"t\": 60}, \"template\": {\"data\": {\"bar\": [{\"error_x\": {\"color\": \"#2a3f5f\"}, \"error_y\": {\"color\": \"#2a3f5f\"}, \"marker\": {\"line\": {\"color\": \"#E5ECF6\", \"width\": 0.5}}, \"type\": \"bar\"}], \"barpolar\": [{\"marker\": {\"line\": {\"color\": \"#E5ECF6\", \"width\": 0.5}}, \"type\": \"barpolar\"}], \"carpet\": [{\"aaxis\": {\"endlinecolor\": \"#2a3f5f\", \"gridcolor\": \"white\", \"linecolor\": \"white\", \"minorgridcolor\": \"white\", \"startlinecolor\": \"#2a3f5f\"}, \"baxis\": {\"endlinecolor\": \"#2a3f5f\", \"gridcolor\": \"white\", \"linecolor\": \"white\", \"minorgridcolor\": \"white\", \"startlinecolor\": \"#2a3f5f\"}, \"type\": \"carpet\"}], \"choropleth\": [{\"colorbar\": {\"outlinewidth\": 0, \"ticks\": \"\"}, \"type\": \"choropleth\"}], \"contour\": [{\"colorbar\": {\"outlinewidth\": 0, \"ticks\": \"\"}, \"colorscale\": [[0.0, \"#0d0887\"], [0.1111111111111111, \"#46039f\"], [0.2222222222222222, \"#7201a8\"], [0.3333333333333333, \"#9c179e\"], [0.4444444444444444, \"#bd3786\"], [0.5555555555555556, \"#d8576b\"], [0.6666666666666666, \"#ed7953\"], [0.7777777777777778, \"#fb9f3a\"], [0.8888888888888888, \"#fdca26\"], [1.0, \"#f0f921\"]], \"type\": \"contour\"}], \"contourcarpet\": [{\"colorbar\": {\"outlinewidth\": 0, \"ticks\": \"\"}, \"type\": \"contourcarpet\"}], \"heatmap\": [{\"colorbar\": {\"outlinewidth\": 0, \"ticks\": \"\"}, \"colorscale\": [[0.0, \"#0d0887\"], [0.1111111111111111, \"#46039f\"], [0.2222222222222222, \"#7201a8\"], [0.3333333333333333, \"#9c179e\"], [0.4444444444444444, \"#bd3786\"], [0.5555555555555556, \"#d8576b\"], [0.6666666666666666, \"#ed7953\"], [0.7777777777777778, \"#fb9f3a\"], [0.8888888888888888, \"#fdca26\"], [1.0, \"#f0f921\"]], \"type\": \"heatmap\"}], \"heatmapgl\": [{\"colorbar\": {\"outlinewidth\": 0, \"ticks\": \"\"}, \"colorscale\": [[0.0, \"#0d0887\"], [0.1111111111111111, \"#46039f\"], [0.2222222222222222, \"#7201a8\"], [0.3333333333333333, \"#9c179e\"], [0.4444444444444444, \"#bd3786\"], [0.5555555555555556, \"#d8576b\"], [0.6666666666666666, \"#ed7953\"], [0.7777777777777778, \"#fb9f3a\"], [0.8888888888888888, \"#fdca26\"], [1.0, \"#f0f921\"]], \"type\": \"heatmapgl\"}], \"histogram\": [{\"marker\": {\"colorbar\": {\"outlinewidth\": 0, \"ticks\": \"\"}}, \"type\": \"histogram\"}], \"histogram2d\": [{\"colorbar\": {\"outlinewidth\": 0, \"ticks\": \"\"}, \"colorscale\": [[0.0, \"#0d0887\"], [0.1111111111111111, \"#46039f\"], [0.2222222222222222, \"#7201a8\"], [0.3333333333333333, \"#9c179e\"], [0.4444444444444444, \"#bd3786\"], [0.5555555555555556, \"#d8576b\"], [0.6666666666666666, \"#ed7953\"], [0.7777777777777778, \"#fb9f3a\"], [0.8888888888888888, \"#fdca26\"], [1.0, \"#f0f921\"]], \"type\": \"histogram2d\"}], \"histogram2dcontour\": [{\"colorbar\": {\"outlinewidth\": 0, \"ticks\": \"\"}, \"colorscale\": [[0.0, \"#0d0887\"], [0.1111111111111111, \"#46039f\"], [0.2222222222222222, \"#7201a8\"], [0.3333333333333333, \"#9c179e\"], [0.4444444444444444, \"#bd3786\"], [0.5555555555555556, \"#d8576b\"], [0.6666666666666666, \"#ed7953\"], [0.7777777777777778, \"#fb9f3a\"], [0.8888888888888888, \"#fdca26\"], [1.0, \"#f0f921\"]], \"type\": \"histogram2dcontour\"}], \"mesh3d\": [{\"colorbar\": {\"outlinewidth\": 0, \"ticks\": \"\"}, \"type\": \"mesh3d\"}], \"parcoords\": [{\"line\": {\"colorbar\": {\"outlinewidth\": 0, \"ticks\": \"\"}}, \"type\": \"parcoords\"}], \"pie\": [{\"automargin\": true, \"type\": \"pie\"}], \"scatter\": [{\"marker\": {\"colorbar\": {\"outlinewidth\": 0, \"ticks\": \"\"}}, \"type\": \"scatter\"}], \"scatter3d\": [{\"line\": {\"colorbar\": {\"outlinewidth\": 0, \"ticks\": \"\"}}, \"marker\": {\"colorbar\": {\"outlinewidth\": 0, \"ticks\": \"\"}}, \"type\": \"scatter3d\"}], \"scattercarpet\": [{\"marker\": {\"colorbar\": {\"outlinewidth\": 0, \"ticks\": \"\"}}, \"type\": \"scattercarpet\"}], \"scattergeo\": [{\"marker\": {\"colorbar\": {\"outlinewidth\": 0, \"ticks\": \"\"}}, \"type\": \"scattergeo\"}], \"scattergl\": [{\"marker\": {\"colorbar\": {\"outlinewidth\": 0, \"ticks\": \"\"}}, \"type\": \"scattergl\"}], \"scattermapbox\": [{\"marker\": {\"colorbar\": {\"outlinewidth\": 0, \"ticks\": \"\"}}, \"type\": \"scattermapbox\"}], \"scatterpolar\": [{\"marker\": {\"colorbar\": {\"outlinewidth\": 0, \"ticks\": \"\"}}, \"type\": \"scatterpolar\"}], \"scatterpolargl\": [{\"marker\": {\"colorbar\": {\"outlinewidth\": 0, \"ticks\": \"\"}}, \"type\": \"scatterpolargl\"}], \"scatterternary\": [{\"marker\": {\"colorbar\": {\"outlinewidth\": 0, \"ticks\": \"\"}}, \"type\": \"scatterternary\"}], \"surface\": [{\"colorbar\": {\"outlinewidth\": 0, \"ticks\": \"\"}, \"colorscale\": [[0.0, \"#0d0887\"], [0.1111111111111111, \"#46039f\"], [0.2222222222222222, \"#7201a8\"], [0.3333333333333333, \"#9c179e\"], [0.4444444444444444, \"#bd3786\"], [0.5555555555555556, \"#d8576b\"], [0.6666666666666666, \"#ed7953\"], [0.7777777777777778, \"#fb9f3a\"], [0.8888888888888888, \"#fdca26\"], [1.0, \"#f0f921\"]], \"type\": \"surface\"}], \"table\": [{\"cells\": {\"fill\": {\"color\": \"#EBF0F8\"}, \"line\": {\"color\": \"white\"}}, \"header\": {\"fill\": {\"color\": \"#C8D4E3\"}, \"line\": {\"color\": \"white\"}}, \"type\": \"table\"}]}, \"layout\": {\"annotationdefaults\": {\"arrowcolor\": \"#2a3f5f\", \"arrowhead\": 0, \"arrowwidth\": 1}, \"coloraxis\": {\"colorbar\": {\"outlinewidth\": 0, \"ticks\": \"\"}}, \"colorscale\": {\"diverging\": [[0, \"#8e0152\"], [0.1, \"#c51b7d\"], [0.2, \"#de77ae\"], [0.3, \"#f1b6da\"], [0.4, \"#fde0ef\"], [0.5, \"#f7f7f7\"], [0.6, \"#e6f5d0\"], [0.7, \"#b8e186\"], [0.8, \"#7fbc41\"], [0.9, \"#4d9221\"], [1, \"#276419\"]], \"sequential\": [[0.0, \"#0d0887\"], [0.1111111111111111, \"#46039f\"], [0.2222222222222222, \"#7201a8\"], [0.3333333333333333, \"#9c179e\"], [0.4444444444444444, \"#bd3786\"], [0.5555555555555556, \"#d8576b\"], [0.6666666666666666, \"#ed7953\"], [0.7777777777777778, \"#fb9f3a\"], [0.8888888888888888, \"#fdca26\"], [1.0, \"#f0f921\"]], \"sequentialminus\": [[0.0, \"#0d0887\"], [0.1111111111111111, \"#46039f\"], [0.2222222222222222, \"#7201a8\"], [0.3333333333333333, \"#9c179e\"], [0.4444444444444444, \"#bd3786\"], [0.5555555555555556, \"#d8576b\"], [0.6666666666666666, \"#ed7953\"], [0.7777777777777778, \"#fb9f3a\"], [0.8888888888888888, \"#fdca26\"], [1.0, \"#f0f921\"]]}, \"colorway\": [\"#636efa\", \"#EF553B\", \"#00cc96\", \"#ab63fa\", \"#FFA15A\", \"#19d3f3\", \"#FF6692\", \"#B6E880\", \"#FF97FF\", \"#FECB52\"], \"font\": {\"color\": \"#2a3f5f\"}, \"geo\": {\"bgcolor\": \"white\", \"lakecolor\": \"white\", \"landcolor\": \"#E5ECF6\", \"showlakes\": true, \"showland\": true, \"subunitcolor\": \"white\"}, \"hoverlabel\": {\"align\": \"left\"}, \"hovermode\": \"closest\", \"mapbox\": {\"style\": \"light\"}, \"paper_bgcolor\": \"white\", \"plot_bgcolor\": \"#E5ECF6\", \"polar\": {\"angularaxis\": {\"gridcolor\": \"white\", \"linecolor\": \"white\", \"ticks\": \"\"}, \"bgcolor\": \"#E5ECF6\", \"radialaxis\": {\"gridcolor\": \"white\", \"linecolor\": \"white\", \"ticks\": \"\"}}, \"scene\": {\"xaxis\": {\"backgroundcolor\": \"#E5ECF6\", \"gridcolor\": \"white\", \"gridwidth\": 2, \"linecolor\": \"white\", \"showbackground\": true, \"ticks\": \"\", \"zerolinecolor\": \"white\"}, \"yaxis\": {\"backgroundcolor\": \"#E5ECF6\", \"gridcolor\": \"white\", \"gridwidth\": 2, \"linecolor\": \"white\", \"showbackground\": true, \"ticks\": \"\", \"zerolinecolor\": \"white\"}, \"zaxis\": {\"backgroundcolor\": \"#E5ECF6\", \"gridcolor\": \"white\", \"gridwidth\": 2, \"linecolor\": \"white\", \"showbackground\": true, \"ticks\": \"\", \"zerolinecolor\": \"white\"}}, \"shapedefaults\": {\"line\": {\"color\": \"#2a3f5f\"}}, \"ternary\": {\"aaxis\": {\"gridcolor\": \"white\", \"linecolor\": \"white\", \"ticks\": \"\"}, \"baxis\": {\"gridcolor\": \"white\", \"linecolor\": \"white\", \"ticks\": \"\"}, \"bgcolor\": \"#E5ECF6\", \"caxis\": {\"gridcolor\": \"white\", \"linecolor\": \"white\", \"ticks\": \"\"}}, \"title\": {\"x\": 0.05}, \"xaxis\": {\"automargin\": true, \"gridcolor\": \"white\", \"linecolor\": \"white\", \"ticks\": \"\", \"title\": {\"standoff\": 15}, \"zerolinecolor\": \"white\", \"zerolinewidth\": 2}, \"yaxis\": {\"automargin\": true, \"gridcolor\": \"white\", \"linecolor\": \"white\", \"ticks\": \"\", \"title\": {\"standoff\": 15}, \"zerolinecolor\": \"white\", \"zerolinewidth\": 2}}}},                        {\"responsive\": true}                    ).then(function(){\n",
       "                            \n",
       "var gd = document.getElementById('499e2cc7-c78e-4b18-bb1c-35769e03a624');\n",
       "var x = new MutationObserver(function (mutations, observer) {{\n",
       "        var display = window.getComputedStyle(gd).display;\n",
       "        if (!display || display === 'none') {{\n",
       "            console.log([gd, 'removed!']);\n",
       "            Plotly.purge(gd);\n",
       "            observer.disconnect();\n",
       "        }}\n",
       "}});\n",
       "\n",
       "// Listen for the removal of the full notebook cells\n",
       "var notebookContainer = gd.closest('#notebook-container');\n",
       "if (notebookContainer) {{\n",
       "    x.observe(notebookContainer, {childList: true});\n",
       "}}\n",
       "\n",
       "// Listen for the clearing of the current output cell\n",
       "var outputEl = gd.closest('.output');\n",
       "if (outputEl) {{\n",
       "    x.observe(outputEl, {childList: true});\n",
       "}}\n",
       "\n",
       "                        })                };                });            </script>        </div>"
      ]
     },
     "metadata": {},
     "output_type": "display_data"
    }
   ],
   "source": [
    "#!/usr/bin/env python3\n",
    "# -*- coding: utf-8 -*-\n",
    "\n",
    "import plotly.express as px\n",
    "\n",
    "\n",
    "from plotly.subplots import make_subplots\n",
    "\n",
    "import numpy as np\n",
    "\n",
    "import pandas as pd\n",
    "#get the data from the inequality_adjusted.csv and gender_inequality.csv\n",
    "hidi = pd.read_csv('inequality_adjusted.csv')\n",
    "gii = pd.read_csv('gender_inequality.csv')\n",
    "\n",
    "#get the attribute we need for datasets\n",
    "hidi = hidi[['IHDI Rank','Country','Inequality in Education']]\n",
    "gii = gii[['GII Rank','Country','Population with Secondary Education (Female)','Population with Secondary Education (Male)']]\n",
    "#clean the data\n",
    "hidi = hidi.where(hidi !='..').dropna()\n",
    "gii = gii.where(gii !='..').dropna()\n",
    "#combine the data to create the final data we need \n",
    "combine = pd.merge(hidi, gii, on='Country')\n",
    "traindata =np.array(combine.drop(labels='Country',axis =1),dtype=np.float)\n",
    "combine = pd.DataFrame(traindata)\n",
    "combine = combine.rename(columns={0:'IHDI Rank',1:'Inequality in Education',2:'GII Rank',3:'Population with Secondary Education (Female)',4:'Population with Secondary Education (Male)'})\n",
    "#crea\n",
    "combine['HIDI Range'] = combine['IHDI Rank'].apply(lambda x: 'Top50' if x<=50 else '50~100' if x<=100 else '50~last')\n",
    "combine['Inequality in Education Range']=combine['Inequality in Education'].apply(lambda x: 'less than 20' if x<=20 else '20~40' if x<=40 else '40~50')\n",
    "combine['Population with Secondary Education (Female) Range']=combine['Population with Secondary Education (Female)'].apply(lambda x: 'less than 40' if x<=40 else '40~60' if x<=60 else '60~100')\n",
    "combine['Population with Secondary Education (Male) Range']=combine['Population with Secondary Education (Male)'].apply(lambda x: 'less than 40' if x<=40 else '40~60' if x<=60 else '60~100')\n",
    "\n",
    "\n",
    "df = combine\n",
    "fig = px.parallel_categories(df, dimensions=['HIDI Range', 'Inequality in Education Range', 'Population with Secondary Education (Female) Range','Population with Secondary Education (Male) Range'],color=\"IHDI Rank\", color_continuous_scale=px.colors.sequential.Inferno,\n",
    "                labels={'HIDI Range':'HIDI Range', 'Inequality in Education Range':'Inequality in Education Range', 'Population with Secondary Education (Female) Range':'Secondary Education (Female)','Population with Secondary Education (Male) Range':'Secondary Education (Male)'})\n",
    "\n",
    "\n",
    "\n",
    "fig.show()"
   ]
  },
  {
   "cell_type": "code",
   "execution_count": null,
   "metadata": {},
   "outputs": [],
   "source": []
  },
  {
   "cell_type": "code",
   "execution_count": null,
   "metadata": {},
   "outputs": [],
   "source": []
  }
 ],
 "metadata": {
  "kernelspec": {
   "display_name": "Python 3",
   "language": "python",
   "name": "python3"
  },
  "language_info": {
   "codemirror_mode": {
    "name": "ipython",
    "version": 3
   },
   "file_extension": ".py",
   "mimetype": "text/x-python",
   "name": "python",
   "nbconvert_exporter": "python",
   "pygments_lexer": "ipython3",
   "version": "3.8.5"
  }
 },
 "nbformat": 4,
 "nbformat_minor": 4
}
